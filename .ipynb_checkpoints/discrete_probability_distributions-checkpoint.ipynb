{
 "cells": [
  {
   "cell_type": "code",
   "execution_count": 112,
   "metadata": {},
   "outputs": [],
   "source": [
    "import altair as alt\n",
    "import numpy as np\n",
    "import pandas as pd\n",
    "import random"
   ]
  },
  {
   "cell_type": "code",
   "execution_count": 113,
   "metadata": {},
   "outputs": [
    {
     "data": {
      "text/plain": [
       "ThemeRegistry.enable('simple_theme')"
      ]
     },
     "execution_count": 113,
     "metadata": {},
     "output_type": "execute_result"
    }
   ],
   "source": [
    "# define the theme by returning the dictionary of configurations\n",
    "def simple_theme():\n",
    "    return {\n",
    "        'config': {\n",
    "            'mark': {\n",
    "                'color': 'black'\n",
    "            },\n",
    "          'axis': {\n",
    "            'labelFontWeight' : 'bold'\n",
    "          },\n",
    "          'axisX': {\n",
    "            'grid': False\n",
    "          }\n",
    "        }\n",
    "    }\n",
    "# register the custom theme under a chosen name\n",
    "alt.themes.register('simple_theme', simple_theme)\n",
    "# enable the newly registered theme\n",
    "alt.themes.enable('simple_theme')"
   ]
  },
  {
   "cell_type": "markdown",
   "metadata": {},
   "source": [
    "### Exercise 1.\n",
    "Modify the program CoinTosses to toss a coin n times and print out after every 100 tosses the proportion of heads minus 1/2. Do these numbers appear to approach 0 as n increases? Modify the program again to print out, every 100 times, both of the following quantities: the proportion of heads minus 1/2, and the number of heads minus half the number of tosses. Do these numbers appear to approach 0 as n increases?"
   ]
  },
  {
   "cell_type": "code",
   "execution_count": 114,
   "metadata": {
    "pycharm": {
     "is_executing": false
    }
   },
   "outputs": [],
   "source": [
    "def coin_tosses(n):\n",
    "    \"\"\"\n",
    "    :param n: number of tosses\n",
    "    :return: \n",
    "    \"\"\"\n",
    "    num_heads = 0\n",
    "    dev_prop_heads = np.empty(shape=1)\n",
    "    dev_num_heads = np.empty(shape=1)\n",
    "    record_interval = 100\n",
    "    for toss in range(1, n + 1):\n",
    "      if random.randint(0, 1) == 1:\n",
    "        num_heads += 1\n",
    "      # every 100 tosses, record value\n",
    "      if toss % record_interval == 0:\n",
    "        dev_prop_heads = np.append(dev_prop_heads, (num_heads / toss) - 0.5)\n",
    "        dev_num_heads = np.append(dev_num_heads, num_heads - (0.5 * toss))\n",
    "    return pd.DataFrame({'tosses': range(0, n + 1, record_interval),\n",
    "                         'dev_prop_heads': dev_prop_heads,\n",
    "                         'dev_num_heads': dev_num_heads})"
   ]
  },
  {
   "cell_type": "code",
   "execution_count": 115,
   "metadata": {
    "collapsed": false,
    "jupyter": {
     "outputs_hidden": false
    },
    "pycharm": {
     "is_executing": false,
     "name": "#%%\n"
    }
   },
   "outputs": [],
   "source": [
    "df_tosses = coin_tosses(400000)"
   ]
  },
  {
   "cell_type": "code",
   "execution_count": 116,
   "metadata": {},
   "outputs": [
    {
     "data": {
      "application/vnd.vegalite.v3+json": {
       "$schema": "https://vega.github.io/schema/vega-lite/v3.3.0.json",
       "config": {
        "axis": {
         "labelFontWeight": "bold"
        },
        "axisX": {
         "grid": false
        },
        "mark": {
         "color": "black"
        }
       },
       "data": {
        "name": "data-d9f0de312c103a4d41c4b15a15b20423"
       },
       "datasets": {
        "data-d9f0de312c103a4d41c4b15a15b20423": [
         {
          "dev_num_heads": 1.5e-323,
          "dev_prop_heads": 0,
          "tosses": 0
         },
         {
          "dev_num_heads": 4,
          "dev_prop_heads": 0.040000000000000036,
          "tosses": 100
         },
         {
          "dev_num_heads": 9,
          "dev_prop_heads": 0.04500000000000004,
          "tosses": 200
         },
         {
          "dev_num_heads": 9,
          "dev_prop_heads": 0.030000000000000027,
          "tosses": 300
         },
         {
          "dev_num_heads": 11,
          "dev_prop_heads": 0.02749999999999997,
          "tosses": 400
         },
         {
          "dev_num_heads": 13,
          "dev_prop_heads": 0.026000000000000023,
          "tosses": 500
         },
         {
          "dev_num_heads": 12,
          "dev_prop_heads": 0.020000000000000018,
          "tosses": 600
         },
         {
          "dev_num_heads": 12,
          "dev_prop_heads": 0.017142857142857126,
          "tosses": 700
         },
         {
          "dev_num_heads": 3,
          "dev_prop_heads": 0.003750000000000031,
          "tosses": 800
         },
         {
          "dev_num_heads": 3,
          "dev_prop_heads": 0.0033333333333332993,
          "tosses": 900
         },
         {
          "dev_num_heads": -6,
          "dev_prop_heads": -0.006000000000000005,
          "tosses": 1000
         },
         {
          "dev_num_heads": 6,
          "dev_prop_heads": 0.00545454545454549,
          "tosses": 1100
         },
         {
          "dev_num_heads": 2,
          "dev_prop_heads": 0.0016666666666667052,
          "tosses": 1200
         },
         {
          "dev_num_heads": 1,
          "dev_prop_heads": 0.0007692307692307443,
          "tosses": 1300
         },
         {
          "dev_num_heads": -2,
          "dev_prop_heads": -0.0014285714285714457,
          "tosses": 1400
         },
         {
          "dev_num_heads": -1,
          "dev_prop_heads": -0.0006666666666666488,
          "tosses": 1500
         },
         {
          "dev_num_heads": 2,
          "dev_prop_heads": 0.0012499999999999734,
          "tosses": 1600
         },
         {
          "dev_num_heads": 5,
          "dev_prop_heads": 0.002941176470588225,
          "tosses": 1700
         },
         {
          "dev_num_heads": 2,
          "dev_prop_heads": 0.0011111111111110628,
          "tosses": 1800
         },
         {
          "dev_num_heads": -1,
          "dev_prop_heads": -0.000526315789473708,
          "tosses": 1900
         },
         {
          "dev_num_heads": -2,
          "dev_prop_heads": -0.0010000000000000009,
          "tosses": 2000
         },
         {
          "dev_num_heads": -1,
          "dev_prop_heads": -0.0004761904761904634,
          "tosses": 2100
         },
         {
          "dev_num_heads": -6,
          "dev_prop_heads": -0.002727272727272745,
          "tosses": 2200
         },
         {
          "dev_num_heads": -8,
          "dev_prop_heads": -0.0034782608695652084,
          "tosses": 2300
         },
         {
          "dev_num_heads": -3,
          "dev_prop_heads": -0.0012499999999999734,
          "tosses": 2400
         },
         {
          "dev_num_heads": -3,
          "dev_prop_heads": -0.0011999999999999789,
          "tosses": 2500
         },
         {
          "dev_num_heads": -2,
          "dev_prop_heads": -0.0007692307692307443,
          "tosses": 2600
         },
         {
          "dev_num_heads": -6,
          "dev_prop_heads": -0.0022222222222222365,
          "tosses": 2700
         },
         {
          "dev_num_heads": -12,
          "dev_prop_heads": -0.004285714285714282,
          "tosses": 2800
         },
         {
          "dev_num_heads": -12,
          "dev_prop_heads": -0.004137931034482734,
          "tosses": 2900
         },
         {
          "dev_num_heads": -14,
          "dev_prop_heads": -0.004666666666666652,
          "tosses": 3000
         },
         {
          "dev_num_heads": -23,
          "dev_prop_heads": -0.007419354838709702,
          "tosses": 3100
         },
         {
          "dev_num_heads": -17,
          "dev_prop_heads": -0.005312499999999998,
          "tosses": 3200
         },
         {
          "dev_num_heads": -20,
          "dev_prop_heads": -0.006060606060606044,
          "tosses": 3300
         },
         {
          "dev_num_heads": -16,
          "dev_prop_heads": -0.004705882352941171,
          "tosses": 3400
         },
         {
          "dev_num_heads": -12,
          "dev_prop_heads": -0.0034285714285714475,
          "tosses": 3500
         },
         {
          "dev_num_heads": -19,
          "dev_prop_heads": -0.00527777777777777,
          "tosses": 3600
         },
         {
          "dev_num_heads": -20,
          "dev_prop_heads": -0.005405405405405406,
          "tosses": 3700
         },
         {
          "dev_num_heads": -19,
          "dev_prop_heads": -0.0050000000000000044,
          "tosses": 3800
         },
         {
          "dev_num_heads": -13,
          "dev_prop_heads": -0.003333333333333355,
          "tosses": 3900
         },
         {
          "dev_num_heads": -14,
          "dev_prop_heads": -0.003500000000000003,
          "tosses": 4000
         },
         {
          "dev_num_heads": -20,
          "dev_prop_heads": -0.004878048780487809,
          "tosses": 4100
         },
         {
          "dev_num_heads": -28,
          "dev_prop_heads": -0.006666666666666654,
          "tosses": 4200
         },
         {
          "dev_num_heads": -32,
          "dev_prop_heads": -0.007441860465116301,
          "tosses": 4300
         },
         {
          "dev_num_heads": -32,
          "dev_prop_heads": -0.007272727272727264,
          "tosses": 4400
         },
         {
          "dev_num_heads": -24,
          "dev_prop_heads": -0.005333333333333357,
          "tosses": 4500
         },
         {
          "dev_num_heads": -28,
          "dev_prop_heads": -0.006086956521739129,
          "tosses": 4600
         },
         {
          "dev_num_heads": -24,
          "dev_prop_heads": -0.0051063829787234005,
          "tosses": 4700
         },
         {
          "dev_num_heads": -19,
          "dev_prop_heads": -0.0039583333333333415,
          "tosses": 4800
         },
         {
          "dev_num_heads": -21,
          "dev_prop_heads": -0.004285714285714282,
          "tosses": 4900
         },
         {
          "dev_num_heads": -9,
          "dev_prop_heads": -0.0018000000000000238,
          "tosses": 5000
         },
         {
          "dev_num_heads": -13,
          "dev_prop_heads": -0.0025490196078431504,
          "tosses": 5100
         },
         {
          "dev_num_heads": -15,
          "dev_prop_heads": -0.0028846153846153744,
          "tosses": 5200
         },
         {
          "dev_num_heads": -12,
          "dev_prop_heads": -0.002264150943396215,
          "tosses": 5300
         },
         {
          "dev_num_heads": -10,
          "dev_prop_heads": -0.0018518518518518268,
          "tosses": 5400
         },
         {
          "dev_num_heads": -8,
          "dev_prop_heads": -0.0014545454545454306,
          "tosses": 5500
         },
         {
          "dev_num_heads": -9,
          "dev_prop_heads": -0.0016071428571428625,
          "tosses": 5600
         },
         {
          "dev_num_heads": -7,
          "dev_prop_heads": -0.001228070175438578,
          "tosses": 5700
         },
         {
          "dev_num_heads": -1,
          "dev_prop_heads": -0.00017241379310345417,
          "tosses": 5800
         },
         {
          "dev_num_heads": 2,
          "dev_prop_heads": 0.0003389830508474523,
          "tosses": 5900
         },
         {
          "dev_num_heads": 1,
          "dev_prop_heads": 0.0001666666666666483,
          "tosses": 6000
         },
         {
          "dev_num_heads": 0,
          "dev_prop_heads": 0,
          "tosses": 6100
         },
         {
          "dev_num_heads": -10,
          "dev_prop_heads": -0.001612903225806428,
          "tosses": 6200
         },
         {
          "dev_num_heads": -9,
          "dev_prop_heads": -0.0014285714285714457,
          "tosses": 6300
         },
         {
          "dev_num_heads": -10,
          "dev_prop_heads": -0.0015625000000000222,
          "tosses": 6400
         },
         {
          "dev_num_heads": -10,
          "dev_prop_heads": -0.001538461538461544,
          "tosses": 6500
         },
         {
          "dev_num_heads": -7,
          "dev_prop_heads": -0.0010606060606060397,
          "tosses": 6600
         },
         {
          "dev_num_heads": -3,
          "dev_prop_heads": -0.0004477611940298387,
          "tosses": 6700
         },
         {
          "dev_num_heads": -7,
          "dev_prop_heads": -0.0010294117647058898,
          "tosses": 6800
         },
         {
          "dev_num_heads": -7,
          "dev_prop_heads": -0.0010144927536231974,
          "tosses": 6900
         },
         {
          "dev_num_heads": -4,
          "dev_prop_heads": -0.0005714285714285561,
          "tosses": 7000
         },
         {
          "dev_num_heads": -1,
          "dev_prop_heads": -0.00014084507042255723,
          "tosses": 7100
         },
         {
          "dev_num_heads": -3,
          "dev_prop_heads": -0.0004166666666666763,
          "tosses": 7200
         },
         {
          "dev_num_heads": 1,
          "dev_prop_heads": 0.0001369863013698236,
          "tosses": 7300
         },
         {
          "dev_num_heads": -2,
          "dev_prop_heads": -0.0002702702702702675,
          "tosses": 7400
         },
         {
          "dev_num_heads": -6,
          "dev_prop_heads": -0.0008000000000000229,
          "tosses": 7500
         },
         {
          "dev_num_heads": -3,
          "dev_prop_heads": -0.00039473684210528104,
          "tosses": 7600
         },
         {
          "dev_num_heads": -1,
          "dev_prop_heads": -0.00012987012987014657,
          "tosses": 7700
         },
         {
          "dev_num_heads": 6,
          "dev_prop_heads": 0.0007692307692307443,
          "tosses": 7800
         },
         {
          "dev_num_heads": 0,
          "dev_prop_heads": 0,
          "tosses": 7900
         },
         {
          "dev_num_heads": 1,
          "dev_prop_heads": 0.00012500000000004174,
          "tosses": 8000
         },
         {
          "dev_num_heads": -3,
          "dev_prop_heads": -0.00037037037037035425,
          "tosses": 8100
         },
         {
          "dev_num_heads": 4,
          "dev_prop_heads": 0.0004878048780487809,
          "tosses": 8200
         },
         {
          "dev_num_heads": 0,
          "dev_prop_heads": 0,
          "tosses": 8300
         },
         {
          "dev_num_heads": -1,
          "dev_prop_heads": -0.00011904761904762973,
          "tosses": 8400
         },
         {
          "dev_num_heads": -5,
          "dev_prop_heads": -0.0005882352941176672,
          "tosses": 8500
         },
         {
          "dev_num_heads": -4,
          "dev_prop_heads": -0.00046511627906975495,
          "tosses": 8600
         },
         {
          "dev_num_heads": -7,
          "dev_prop_heads": -0.0008045977011494343,
          "tosses": 8700
         },
         {
          "dev_num_heads": -8,
          "dev_prop_heads": -0.0009090909090909149,
          "tosses": 8800
         },
         {
          "dev_num_heads": -6,
          "dev_prop_heads": -0.0006741573033707815,
          "tosses": 8900
         },
         {
          "dev_num_heads": 0,
          "dev_prop_heads": 0,
          "tosses": 9000
         },
         {
          "dev_num_heads": -1,
          "dev_prop_heads": -0.0001098901098900984,
          "tosses": 9100
         },
         {
          "dev_num_heads": -1,
          "dev_prop_heads": -0.00010869565217391797,
          "tosses": 9200
         },
         {
          "dev_num_heads": -1,
          "dev_prop_heads": -0.00010752688172044333,
          "tosses": 9300
         },
         {
          "dev_num_heads": -4,
          "dev_prop_heads": -0.00042553191489363984,
          "tosses": 9400
         },
         {
          "dev_num_heads": 1,
          "dev_prop_heads": 0.0001052631578947194,
          "tosses": 9500
         },
         {
          "dev_num_heads": 0,
          "dev_prop_heads": 0,
          "tosses": 9600
         },
         {
          "dev_num_heads": -1,
          "dev_prop_heads": -0.00010309278350517648,
          "tosses": 9700
         },
         {
          "dev_num_heads": -5,
          "dev_prop_heads": -0.0005102040816326592,
          "tosses": 9800
         },
         {
          "dev_num_heads": -10,
          "dev_prop_heads": -0.0010101010101010166,
          "tosses": 9900
         },
         {
          "dev_num_heads": -9,
          "dev_prop_heads": -0.0009000000000000119,
          "tosses": 10000
         },
         {
          "dev_num_heads": -10,
          "dev_prop_heads": -0.000990099009900991,
          "tosses": 10100
         },
         {
          "dev_num_heads": -13,
          "dev_prop_heads": -0.0012745098039215752,
          "tosses": 10200
         },
         {
          "dev_num_heads": -10,
          "dev_prop_heads": -0.0009708737864077555,
          "tosses": 10300
         },
         {
          "dev_num_heads": -9,
          "dev_prop_heads": -0.0008653846153846012,
          "tosses": 10400
         },
         {
          "dev_num_heads": -11,
          "dev_prop_heads": -0.001047619047619075,
          "tosses": 10500
         },
         {
          "dev_num_heads": -10,
          "dev_prop_heads": -0.0009433962264150941,
          "tosses": 10600
         },
         {
          "dev_num_heads": -2,
          "dev_prop_heads": -0.00018691588785046953,
          "tosses": 10700
         },
         {
          "dev_num_heads": 1,
          "dev_prop_heads": 9.259259259264407e-05,
          "tosses": 10800
         },
         {
          "dev_num_heads": -6,
          "dev_prop_heads": -0.0005504587155963359,
          "tosses": 10900
         },
         {
          "dev_num_heads": 1,
          "dev_prop_heads": 9.090909090914145e-05,
          "tosses": 11000
         },
         {
          "dev_num_heads": 2,
          "dev_prop_heads": 0.00018018018018017834,
          "tosses": 11100
         },
         {
          "dev_num_heads": 5,
          "dev_prop_heads": 0.00044642857142862535,
          "tosses": 11200
         },
         {
          "dev_num_heads": -4,
          "dev_prop_heads": -0.0003539823008849585,
          "tosses": 11300
         },
         {
          "dev_num_heads": -5,
          "dev_prop_heads": -0.00043859649122807154,
          "tosses": 11400
         },
         {
          "dev_num_heads": 1,
          "dev_prop_heads": 8.695652173917878e-05,
          "tosses": 11500
         },
         {
          "dev_num_heads": 0,
          "dev_prop_heads": 0,
          "tosses": 11600
         },
         {
          "dev_num_heads": 4,
          "dev_prop_heads": 0.00034188034188031846,
          "tosses": 11700
         },
         {
          "dev_num_heads": 2,
          "dev_prop_heads": 0.00016949152542378165,
          "tosses": 11800
         },
         {
          "dev_num_heads": -3,
          "dev_prop_heads": -0.00025210084033611135,
          "tosses": 11900
         },
         {
          "dev_num_heads": 4,
          "dev_prop_heads": 0.0003333333333332966,
          "tosses": 12000
         },
         {
          "dev_num_heads": 13,
          "dev_prop_heads": 0.0010743801652892682,
          "tosses": 12100
         },
         {
          "dev_num_heads": 11,
          "dev_prop_heads": 0.0009016393442623505,
          "tosses": 12200
         },
         {
          "dev_num_heads": 3,
          "dev_prop_heads": 0.00024390243902439046,
          "tosses": 12300
         },
         {
          "dev_num_heads": 11,
          "dev_prop_heads": 0.0008870967741935187,
          "tosses": 12400
         },
         {
          "dev_num_heads": 3,
          "dev_prop_heads": 0.00024000000000001798,
          "tosses": 12500
         },
         {
          "dev_num_heads": 3,
          "dev_prop_heads": 0.00023809523809525945,
          "tosses": 12600
         },
         {
          "dev_num_heads": 0,
          "dev_prop_heads": 0,
          "tosses": 12700
         },
         {
          "dev_num_heads": 2,
          "dev_prop_heads": 0.00015624999999996891,
          "tosses": 12800
         },
         {
          "dev_num_heads": 11,
          "dev_prop_heads": 0.0008527131782946062,
          "tosses": 12900
         },
         {
          "dev_num_heads": 18,
          "dev_prop_heads": 0.0013846153846154285,
          "tosses": 13000
         },
         {
          "dev_num_heads": 19,
          "dev_prop_heads": 0.0014503816793892677,
          "tosses": 13100
         },
         {
          "dev_num_heads": 22,
          "dev_prop_heads": 0.0016666666666667052,
          "tosses": 13200
         },
         {
          "dev_num_heads": 27,
          "dev_prop_heads": 0.0020300751879699375,
          "tosses": 13300
         },
         {
          "dev_num_heads": 25,
          "dev_prop_heads": 0.001865671641791078,
          "tosses": 13400
         },
         {
          "dev_num_heads": 15,
          "dev_prop_heads": 0.0011111111111110628,
          "tosses": 13500
         },
         {
          "dev_num_heads": 16,
          "dev_prop_heads": 0.0011764705882353343,
          "tosses": 13600
         },
         {
          "dev_num_heads": 17,
          "dev_prop_heads": 0.0012408759124087343,
          "tosses": 13700
         },
         {
          "dev_num_heads": 12,
          "dev_prop_heads": 0.0008695652173913437,
          "tosses": 13800
         },
         {
          "dev_num_heads": 15,
          "dev_prop_heads": 0.0010791366906475197,
          "tosses": 13900
         },
         {
          "dev_num_heads": 18,
          "dev_prop_heads": 0.0012857142857143344,
          "tosses": 14000
         },
         {
          "dev_num_heads": 14,
          "dev_prop_heads": 0.0009929078014184745,
          "tosses": 14100
         },
         {
          "dev_num_heads": 13,
          "dev_prop_heads": 0.000915492957746511,
          "tosses": 14200
         },
         {
          "dev_num_heads": 12,
          "dev_prop_heads": 0.0008391608391608019,
          "tosses": 14300
         },
         {
          "dev_num_heads": 10,
          "dev_prop_heads": 0.000694444444444442,
          "tosses": 14400
         },
         {
          "dev_num_heads": 7,
          "dev_prop_heads": 0.0004827586206896939,
          "tosses": 14500
         },
         {
          "dev_num_heads": 11,
          "dev_prop_heads": 0.0007534246575342518,
          "tosses": 14600
         },
         {
          "dev_num_heads": 7,
          "dev_prop_heads": 0.0004761904761905189,
          "tosses": 14700
         },
         {
          "dev_num_heads": 4,
          "dev_prop_heads": 0.0002702702702702675,
          "tosses": 14800
         },
         {
          "dev_num_heads": -4,
          "dev_prop_heads": -0.00026845637583894355,
          "tosses": 14900
         },
         {
          "dev_num_heads": 4,
          "dev_prop_heads": 0.0002666666666666373,
          "tosses": 15000
         },
         {
          "dev_num_heads": 3,
          "dev_prop_heads": 0.0001986754966887272,
          "tosses": 15100
         },
         {
          "dev_num_heads": 6,
          "dev_prop_heads": 0.00039473684210522553,
          "tosses": 15200
         },
         {
          "dev_num_heads": 12,
          "dev_prop_heads": 0.0007843137254901489,
          "tosses": 15300
         },
         {
          "dev_num_heads": 9,
          "dev_prop_heads": 0.0005844155844155763,
          "tosses": 15400
         },
         {
          "dev_num_heads": 19,
          "dev_prop_heads": 0.0012258064516128542,
          "tosses": 15500
         },
         {
          "dev_num_heads": 15,
          "dev_prop_heads": 0.0009615384615384581,
          "tosses": 15600
         },
         {
          "dev_num_heads": 11,
          "dev_prop_heads": 0.0007006369426751924,
          "tosses": 15700
         },
         {
          "dev_num_heads": 13,
          "dev_prop_heads": 0.0008227848101265423,
          "tosses": 15800
         },
         {
          "dev_num_heads": 7,
          "dev_prop_heads": 0.00044025157232707723,
          "tosses": 15900
         },
         {
          "dev_num_heads": -3,
          "dev_prop_heads": -0.0001875000000000071,
          "tosses": 16000
         },
         {
          "dev_num_heads": -2,
          "dev_prop_heads": -0.0001242236024844856,
          "tosses": 16100
         },
         {
          "dev_num_heads": -9,
          "dev_prop_heads": -0.0005555555555555314,
          "tosses": 16200
         },
         {
          "dev_num_heads": -9,
          "dev_prop_heads": -0.0005521472392637783,
          "tosses": 16300
         },
         {
          "dev_num_heads": -17,
          "dev_prop_heads": -0.0010365853658536595,
          "tosses": 16400
         },
         {
          "dev_num_heads": -16,
          "dev_prop_heads": -0.0009696969696969537,
          "tosses": 16500
         },
         {
          "dev_num_heads": -8,
          "dev_prop_heads": -0.00048192771084337727,
          "tosses": 16600
         },
         {
          "dev_num_heads": -11,
          "dev_prop_heads": -0.0006586826347305119,
          "tosses": 16700
         },
         {
          "dev_num_heads": -15,
          "dev_prop_heads": -0.0008928571428571397,
          "tosses": 16800
         },
         {
          "dev_num_heads": -22,
          "dev_prop_heads": -0.0013017751479290074,
          "tosses": 16900
         },
         {
          "dev_num_heads": -29,
          "dev_prop_heads": -0.0017058823529411682,
          "tosses": 17000
         },
         {
          "dev_num_heads": -32,
          "dev_prop_heads": -0.001871345029239746,
          "tosses": 17100
         },
         {
          "dev_num_heads": -29,
          "dev_prop_heads": -0.0016860465116279033,
          "tosses": 17200
         },
         {
          "dev_num_heads": -31,
          "dev_prop_heads": -0.0017919075144508523,
          "tosses": 17300
         },
         {
          "dev_num_heads": -36,
          "dev_prop_heads": -0.0020689655172413945,
          "tosses": 17400
         },
         {
          "dev_num_heads": -36,
          "dev_prop_heads": -0.0020571428571428685,
          "tosses": 17500
         },
         {
          "dev_num_heads": -41,
          "dev_prop_heads": -0.0023295454545454453,
          "tosses": 17600
         },
         {
          "dev_num_heads": -47,
          "dev_prop_heads": -0.0026553672316383947,
          "tosses": 17700
         },
         {
          "dev_num_heads": -42,
          "dev_prop_heads": -0.002359550561797763,
          "tosses": 17800
         },
         {
          "dev_num_heads": -42,
          "dev_prop_heads": -0.002346368715083813,
          "tosses": 17900
         },
         {
          "dev_num_heads": -53,
          "dev_prop_heads": -0.0029444444444444717,
          "tosses": 18000
         },
         {
          "dev_num_heads": -56,
          "dev_prop_heads": -0.0030939226519337004,
          "tosses": 18100
         },
         {
          "dev_num_heads": -64,
          "dev_prop_heads": -0.0035164835164835373,
          "tosses": 18200
         },
         {
          "dev_num_heads": -73,
          "dev_prop_heads": -0.003989071038251357,
          "tosses": 18300
         },
         {
          "dev_num_heads": -63,
          "dev_prop_heads": -0.003423913043478277,
          "tosses": 18400
         },
         {
          "dev_num_heads": -66,
          "dev_prop_heads": -0.0035675675675675422,
          "tosses": 18500
         },
         {
          "dev_num_heads": -75,
          "dev_prop_heads": -0.0040322580645161255,
          "tosses": 18600
         },
         {
          "dev_num_heads": -69,
          "dev_prop_heads": -0.003689839572192488,
          "tosses": 18700
         },
         {
          "dev_num_heads": -64,
          "dev_prop_heads": -0.003404255319148952,
          "tosses": 18800
         },
         {
          "dev_num_heads": -72,
          "dev_prop_heads": -0.003809523809523818,
          "tosses": 18900
         },
         {
          "dev_num_heads": -72,
          "dev_prop_heads": -0.0037894736842105092,
          "tosses": 19000
         },
         {
          "dev_num_heads": -56,
          "dev_prop_heads": -0.0029319371727748456,
          "tosses": 19100
         },
         {
          "dev_num_heads": -57,
          "dev_prop_heads": -0.00296875000000002,
          "tosses": 19200
         },
         {
          "dev_num_heads": -49,
          "dev_prop_heads": -0.0025388601036269165,
          "tosses": 19300
         },
         {
          "dev_num_heads": -53,
          "dev_prop_heads": -0.0027319587628866215,
          "tosses": 19400
         },
         {
          "dev_num_heads": -56,
          "dev_prop_heads": -0.002871794871794897,
          "tosses": 19500
         },
         {
          "dev_num_heads": -63,
          "dev_prop_heads": -0.003214285714285725,
          "tosses": 19600
         },
         {
          "dev_num_heads": -70,
          "dev_prop_heads": -0.0035532994923858086,
          "tosses": 19700
         },
         {
          "dev_num_heads": -65,
          "dev_prop_heads": -0.003282828282828276,
          "tosses": 19800
         },
         {
          "dev_num_heads": -62,
          "dev_prop_heads": -0.0031155778894472186,
          "tosses": 19900
         },
         {
          "dev_num_heads": -62,
          "dev_prop_heads": -0.0030999999999999917,
          "tosses": 20000
         },
         {
          "dev_num_heads": -56,
          "dev_prop_heads": -0.002786069651741274,
          "tosses": 20100
         },
         {
          "dev_num_heads": -70,
          "dev_prop_heads": -0.0034653465346534684,
          "tosses": 20200
         },
         {
          "dev_num_heads": -72,
          "dev_prop_heads": -0.0035467980295566526,
          "tosses": 20300
         },
         {
          "dev_num_heads": -62,
          "dev_prop_heads": -0.003039215686274521,
          "tosses": 20400
         },
         {
          "dev_num_heads": -67,
          "dev_prop_heads": -0.003268292682926832,
          "tosses": 20500
         },
         {
          "dev_num_heads": -68,
          "dev_prop_heads": -0.0033009708737863908,
          "tosses": 20600
         },
         {
          "dev_num_heads": -66,
          "dev_prop_heads": -0.0031884057971014457,
          "tosses": 20700
         },
         {
          "dev_num_heads": -66,
          "dev_prop_heads": -0.003173076923076945,
          "tosses": 20800
         },
         {
          "dev_num_heads": -79,
          "dev_prop_heads": -0.0037799043062201054,
          "tosses": 20900
         },
         {
          "dev_num_heads": -78,
          "dev_prop_heads": -0.0037142857142857255,
          "tosses": 21000
         },
         {
          "dev_num_heads": -72,
          "dev_prop_heads": -0.0034123222748815296,
          "tosses": 21100
         },
         {
          "dev_num_heads": -66,
          "dev_prop_heads": -0.003113207547169816,
          "tosses": 21200
         },
         {
          "dev_num_heads": -67,
          "dev_prop_heads": -0.0031455399061032785,
          "tosses": 21300
         },
         {
          "dev_num_heads": -66,
          "dev_prop_heads": -0.0030841121495326917,
          "tosses": 21400
         },
         {
          "dev_num_heads": -72,
          "dev_prop_heads": -0.0033488372093023466,
          "tosses": 21500
         },
         {
          "dev_num_heads": -77,
          "dev_prop_heads": -0.0035648148148147984,
          "tosses": 21600
         },
         {
          "dev_num_heads": -77,
          "dev_prop_heads": -0.003548387096774186,
          "tosses": 21700
         },
         {
          "dev_num_heads": -76,
          "dev_prop_heads": -0.0034862385321101086,
          "tosses": 21800
         },
         {
          "dev_num_heads": -74,
          "dev_prop_heads": -0.003378995433789944,
          "tosses": 21900
         },
         {
          "dev_num_heads": -68,
          "dev_prop_heads": -0.0030909090909090886,
          "tosses": 22000
         },
         {
          "dev_num_heads": -69,
          "dev_prop_heads": -0.0031221719457013575,
          "tosses": 22100
         },
         {
          "dev_num_heads": -68,
          "dev_prop_heads": -0.0030630630630630873,
          "tosses": 22200
         },
         {
          "dev_num_heads": -79,
          "dev_prop_heads": -0.0035426008968609812,
          "tosses": 22300
         },
         {
          "dev_num_heads": -76,
          "dev_prop_heads": -0.003392857142857142,
          "tosses": 22400
         },
         {
          "dev_num_heads": -80,
          "dev_prop_heads": -0.003555555555555534,
          "tosses": 22500
         },
         {
          "dev_num_heads": -84,
          "dev_prop_heads": -0.0037168141592920367,
          "tosses": 22600
         },
         {
          "dev_num_heads": -87,
          "dev_prop_heads": -0.0038325991189427366,
          "tosses": 22700
         },
         {
          "dev_num_heads": -84,
          "dev_prop_heads": -0.00368421052631579,
          "tosses": 22800
         },
         {
          "dev_num_heads": -91,
          "dev_prop_heads": -0.003973799126637534,
          "tosses": 22900
         },
         {
          "dev_num_heads": -91,
          "dev_prop_heads": -0.003956521739130414,
          "tosses": 23000
         },
         {
          "dev_num_heads": -79,
          "dev_prop_heads": -0.003419913419913434,
          "tosses": 23100
         },
         {
          "dev_num_heads": -72,
          "dev_prop_heads": -0.003103448275862064,
          "tosses": 23200
         },
         {
          "dev_num_heads": -75,
          "dev_prop_heads": -0.0032188841201716833,
          "tosses": 23300
         },
         {
          "dev_num_heads": -80,
          "dev_prop_heads": -0.0034188034188034067,
          "tosses": 23400
         },
         {
          "dev_num_heads": -71,
          "dev_prop_heads": -0.003021276595744693,
          "tosses": 23500
         },
         {
          "dev_num_heads": -73,
          "dev_prop_heads": -0.0030932203389830715,
          "tosses": 23600
         },
         {
          "dev_num_heads": -73,
          "dev_prop_heads": -0.003080168776371295,
          "tosses": 23700
         },
         {
          "dev_num_heads": -74,
          "dev_prop_heads": -0.0031092436974790028,
          "tosses": 23800
         },
         {
          "dev_num_heads": -75,
          "dev_prop_heads": -0.0031380753138075534,
          "tosses": 23900
         },
         {
          "dev_num_heads": -78,
          "dev_prop_heads": -0.003249999999999975,
          "tosses": 24000
         },
         {
          "dev_num_heads": -75,
          "dev_prop_heads": -0.003112033195020736,
          "tosses": 24100
         },
         {
          "dev_num_heads": -71,
          "dev_prop_heads": -0.0029338842975206725,
          "tosses": 24200
         },
         {
          "dev_num_heads": -68,
          "dev_prop_heads": -0.0027983539094650345,
          "tosses": 24300
         },
         {
          "dev_num_heads": -63,
          "dev_prop_heads": -0.0025819672131147664,
          "tosses": 24400
         },
         {
          "dev_num_heads": -70,
          "dev_prop_heads": -0.002857142857142836,
          "tosses": 24500
         },
         {
          "dev_num_heads": -68,
          "dev_prop_heads": -0.0027642276422764067,
          "tosses": 24600
         },
         {
          "dev_num_heads": -73,
          "dev_prop_heads": -0.0029554655870445146,
          "tosses": 24700
         },
         {
          "dev_num_heads": -77,
          "dev_prop_heads": -0.0031048387096774266,
          "tosses": 24800
         },
         {
          "dev_num_heads": -76,
          "dev_prop_heads": -0.0030522088353413523,
          "tosses": 24900
         },
         {
          "dev_num_heads": -69,
          "dev_prop_heads": -0.0027599999999999847,
          "tosses": 25000
         },
         {
          "dev_num_heads": -71,
          "dev_prop_heads": -0.0028286852589641254,
          "tosses": 25100
         },
         {
          "dev_num_heads": -67,
          "dev_prop_heads": -0.002658730158730138,
          "tosses": 25200
         },
         {
          "dev_num_heads": -72,
          "dev_prop_heads": -0.002845849802371514,
          "tosses": 25300
         },
         {
          "dev_num_heads": -70,
          "dev_prop_heads": -0.002755905511811041,
          "tosses": 25400
         },
         {
          "dev_num_heads": -76,
          "dev_prop_heads": -0.0029803921568627434,
          "tosses": 25500
         },
         {
          "dev_num_heads": -74,
          "dev_prop_heads": -0.00289062499999998,
          "tosses": 25600
         },
         {
          "dev_num_heads": -73,
          "dev_prop_heads": -0.00284046692607004,
          "tosses": 25700
         },
         {
          "dev_num_heads": -70,
          "dev_prop_heads": -0.002713178294573626,
          "tosses": 25800
         },
         {
          "dev_num_heads": -68,
          "dev_prop_heads": -0.0026254826254826225,
          "tosses": 25900
         },
         {
          "dev_num_heads": -65,
          "dev_prop_heads": -0.0025000000000000022,
          "tosses": 26000
         },
         {
          "dev_num_heads": -55,
          "dev_prop_heads": -0.0021072796934865634,
          "tosses": 26100
         },
         {
          "dev_num_heads": -51,
          "dev_prop_heads": -0.0019465648854961604,
          "tosses": 26200
         },
         {
          "dev_num_heads": -56,
          "dev_prop_heads": -0.002129277566539911,
          "tosses": 26300
         },
         {
          "dev_num_heads": -65,
          "dev_prop_heads": -0.0024621212121211933,
          "tosses": 26400
         },
         {
          "dev_num_heads": -68,
          "dev_prop_heads": -0.0025660377358490694,
          "tosses": 26500
         },
         {
          "dev_num_heads": -69,
          "dev_prop_heads": -0.0025939849624060374,
          "tosses": 26600
         },
         {
          "dev_num_heads": -72,
          "dev_prop_heads": -0.002696629213483126,
          "tosses": 26700
         },
         {
          "dev_num_heads": -72,
          "dev_prop_heads": -0.002686567164179088,
          "tosses": 26800
         },
         {
          "dev_num_heads": -80,
          "dev_prop_heads": -0.0029739776951672736,
          "tosses": 26900
         },
         {
          "dev_num_heads": -80,
          "dev_prop_heads": -0.002962962962962945,
          "tosses": 27000
         },
         {
          "dev_num_heads": -80,
          "dev_prop_heads": -0.0029520295202952185,
          "tosses": 27100
         },
         {
          "dev_num_heads": -77,
          "dev_prop_heads": -0.0028308823529411553,
          "tosses": 27200
         },
         {
          "dev_num_heads": -75,
          "dev_prop_heads": -0.0027472527472527375,
          "tosses": 27300
         },
         {
          "dev_num_heads": -79,
          "dev_prop_heads": -0.0028832116788320983,
          "tosses": 27400
         },
         {
          "dev_num_heads": -77,
          "dev_prop_heads": -0.0028000000000000247,
          "tosses": 27500
         },
         {
          "dev_num_heads": -70,
          "dev_prop_heads": -0.0025362318840579934,
          "tosses": 27600
         },
         {
          "dev_num_heads": -73,
          "dev_prop_heads": -0.0026353790613718453,
          "tosses": 27700
         },
         {
          "dev_num_heads": -78,
          "dev_prop_heads": -0.0028057553956834513,
          "tosses": 27800
         },
         {
          "dev_num_heads": -72,
          "dev_prop_heads": -0.002580645161290307,
          "tosses": 27900
         },
         {
          "dev_num_heads": -70,
          "dev_prop_heads": -0.0025000000000000022,
          "tosses": 28000
         },
         {
          "dev_num_heads": -74,
          "dev_prop_heads": -0.002633451957295363,
          "tosses": 28100
         },
         {
          "dev_num_heads": -67,
          "dev_prop_heads": -0.002375886524822679,
          "tosses": 28200
         },
         {
          "dev_num_heads": -63,
          "dev_prop_heads": -0.002226148409893991,
          "tosses": 28300
         },
         {
          "dev_num_heads": -67,
          "dev_prop_heads": -0.002359154929577445,
          "tosses": 28400
         },
         {
          "dev_num_heads": -66,
          "dev_prop_heads": -0.0023157894736842155,
          "tosses": 28500
         },
         {
          "dev_num_heads": -57,
          "dev_prop_heads": -0.001993006993006974,
          "tosses": 28600
         },
         {
          "dev_num_heads": -61,
          "dev_prop_heads": -0.0021254355400696645,
          "tosses": 28700
         },
         {
          "dev_num_heads": -56,
          "dev_prop_heads": -0.0019444444444444708,
          "tosses": 28800
         },
         {
          "dev_num_heads": -58,
          "dev_prop_heads": -0.002006920415224933,
          "tosses": 28900
         },
         {
          "dev_num_heads": -57,
          "dev_prop_heads": -0.001965517241379333,
          "tosses": 29000
         },
         {
          "dev_num_heads": -53,
          "dev_prop_heads": -0.0018213058419244144,
          "tosses": 29100
         },
         {
          "dev_num_heads": -58,
          "dev_prop_heads": -0.001986301369862997,
          "tosses": 29200
         },
         {
          "dev_num_heads": -54,
          "dev_prop_heads": -0.0018430034129692796,
          "tosses": 29300
         },
         {
          "dev_num_heads": -58,
          "dev_prop_heads": -0.001972789115646245,
          "tosses": 29400
         },
         {
          "dev_num_heads": -67,
          "dev_prop_heads": -0.0022711864406779747,
          "tosses": 29500
         },
         {
          "dev_num_heads": -67,
          "dev_prop_heads": -0.0022635135135135043,
          "tosses": 29600
         },
         {
          "dev_num_heads": -66,
          "dev_prop_heads": -0.0022222222222222365,
          "tosses": 29700
         },
         {
          "dev_num_heads": -74,
          "dev_prop_heads": -0.002483221476510089,
          "tosses": 29800
         },
         {
          "dev_num_heads": -71,
          "dev_prop_heads": -0.002374581939799336,
          "tosses": 29900
         },
         {
          "dev_num_heads": -70,
          "dev_prop_heads": -0.002333333333333354,
          "tosses": 30000
         },
         {
          "dev_num_heads": -71,
          "dev_prop_heads": -0.0023588039867109556,
          "tosses": 30100
         },
         {
          "dev_num_heads": -71,
          "dev_prop_heads": -0.002350993377483457,
          "tosses": 30200
         },
         {
          "dev_num_heads": -68,
          "dev_prop_heads": -0.0022442244224422647,
          "tosses": 30300
         },
         {
          "dev_num_heads": -66,
          "dev_prop_heads": -0.0021710526315789624,
          "tosses": 30400
         },
         {
          "dev_num_heads": -67,
          "dev_prop_heads": -0.0021967213114754136,
          "tosses": 30500
         },
         {
          "dev_num_heads": -56,
          "dev_prop_heads": -0.0018300653594771066,
          "tosses": 30600
         },
         {
          "dev_num_heads": -54,
          "dev_prop_heads": -0.0017589576547231145,
          "tosses": 30700
         },
         {
          "dev_num_heads": -60,
          "dev_prop_heads": -0.001948051948051921,
          "tosses": 30800
         },
         {
          "dev_num_heads": -49,
          "dev_prop_heads": -0.0015857605177993506,
          "tosses": 30900
         },
         {
          "dev_num_heads": -42,
          "dev_prop_heads": -0.0013548387096773973,
          "tosses": 31000
         },
         {
          "dev_num_heads": -46,
          "dev_prop_heads": -0.001479099678456608,
          "tosses": 31100
         },
         {
          "dev_num_heads": -49,
          "dev_prop_heads": -0.0015705128205128482,
          "tosses": 31200
         },
         {
          "dev_num_heads": -38,
          "dev_prop_heads": -0.0012140575079871985,
          "tosses": 31300
         },
         {
          "dev_num_heads": -31,
          "dev_prop_heads": -0.0009872611464968317,
          "tosses": 31400
         },
         {
          "dev_num_heads": -35,
          "dev_prop_heads": -0.0011111111111111183,
          "tosses": 31500
         },
         {
          "dev_num_heads": -30,
          "dev_prop_heads": -0.0009493670886076,
          "tosses": 31600
         },
         {
          "dev_num_heads": -24,
          "dev_prop_heads": -0.0007570977917981114,
          "tosses": 31700
         },
         {
          "dev_num_heads": -26,
          "dev_prop_heads": -0.0008176100628931038,
          "tosses": 31800
         },
         {
          "dev_num_heads": -27,
          "dev_prop_heads": -0.0008463949843260377,
          "tosses": 31900
         },
         {
          "dev_num_heads": -25,
          "dev_prop_heads": -0.0007812500000000111,
          "tosses": 32000
         },
         {
          "dev_num_heads": -22,
          "dev_prop_heads": -0.0006853582554517401,
          "tosses": 32100
         },
         {
          "dev_num_heads": -24,
          "dev_prop_heads": -0.0007453416149068581,
          "tosses": 32200
         },
         {
          "dev_num_heads": -19,
          "dev_prop_heads": -0.0005882352941176672,
          "tosses": 32300
         },
         {
          "dev_num_heads": -18,
          "dev_prop_heads": -0.0005555555555555314,
          "tosses": 32400
         },
         {
          "dev_num_heads": -13,
          "dev_prop_heads": -0.00040000000000001146,
          "tosses": 32500
         },
         {
          "dev_num_heads": -8,
          "dev_prop_heads": -0.00024539877300611135,
          "tosses": 32600
         },
         {
          "dev_num_heads": -7,
          "dev_prop_heads": -0.00021406727828748862,
          "tosses": 32700
         },
         {
          "dev_num_heads": -8,
          "dev_prop_heads": -0.00024390243902439046,
          "tosses": 32800
         },
         {
          "dev_num_heads": -14,
          "dev_prop_heads": -0.00042553191489363984,
          "tosses": 32900
         },
         {
          "dev_num_heads": -20,
          "dev_prop_heads": -0.00060606060606061,
          "tosses": 33000
         },
         {
          "dev_num_heads": -26,
          "dev_prop_heads": -0.0007854984894259953,
          "tosses": 33100
         },
         {
          "dev_num_heads": -30,
          "dev_prop_heads": -0.0009036144578313254,
          "tosses": 33200
         },
         {
          "dev_num_heads": -22,
          "dev_prop_heads": -0.0006606606606606724,
          "tosses": 33300
         },
         {
          "dev_num_heads": -20,
          "dev_prop_heads": -0.0005988023952095967,
          "tosses": 33400
         },
         {
          "dev_num_heads": -15,
          "dev_prop_heads": -0.0004477611940298387,
          "tosses": 33500
         },
         {
          "dev_num_heads": -13,
          "dev_prop_heads": -0.00038690476190478273,
          "tosses": 33600
         },
         {
          "dev_num_heads": -16,
          "dev_prop_heads": -0.00047477744807122857,
          "tosses": 33700
         },
         {
          "dev_num_heads": -20,
          "dev_prop_heads": -0.0005917159763313418,
          "tosses": 33800
         },
         {
          "dev_num_heads": -27,
          "dev_prop_heads": -0.0007964601769911428,
          "tosses": 33900
         },
         {
          "dev_num_heads": -27,
          "dev_prop_heads": -0.000794117647058834,
          "tosses": 34000
         },
         {
          "dev_num_heads": -26,
          "dev_prop_heads": -0.0007624633431084771,
          "tosses": 34100
         },
         {
          "dev_num_heads": -26,
          "dev_prop_heads": -0.0007602339181286277,
          "tosses": 34200
         },
         {
          "dev_num_heads": -23,
          "dev_prop_heads": -0.0006705539358600743,
          "tosses": 34300
         },
         {
          "dev_num_heads": -24,
          "dev_prop_heads": -0.0006976744186046324,
          "tosses": 34400
         },
         {
          "dev_num_heads": -19,
          "dev_prop_heads": -0.0005507246376811326,
          "tosses": 34500
         },
         {
          "dev_num_heads": -21,
          "dev_prop_heads": -0.0006069364161849777,
          "tosses": 34600
         },
         {
          "dev_num_heads": -26,
          "dev_prop_heads": -0.0007492795389049123,
          "tosses": 34700
         },
         {
          "dev_num_heads": -24,
          "dev_prop_heads": -0.0006896551724138167,
          "tosses": 34800
         },
         {
          "dev_num_heads": -19,
          "dev_prop_heads": -0.0005444126074498623,
          "tosses": 34900
         },
         {
          "dev_num_heads": -20,
          "dev_prop_heads": -0.0005714285714285561,
          "tosses": 35000
         },
         {
          "dev_num_heads": -18,
          "dev_prop_heads": -0.0005128205128205332,
          "tosses": 35100
         },
         {
          "dev_num_heads": -17,
          "dev_prop_heads": -0.0004829545454545503,
          "tosses": 35200
         },
         {
          "dev_num_heads": -19,
          "dev_prop_heads": -0.0005382436260623069,
          "tosses": 35300
         },
         {
          "dev_num_heads": -19,
          "dev_prop_heads": -0.0005367231638417902,
          "tosses": 35400
         },
         {
          "dev_num_heads": -20,
          "dev_prop_heads": -0.0005633802816901179,
          "tosses": 35500
         },
         {
          "dev_num_heads": -14,
          "dev_prop_heads": -0.0003932584269663031,
          "tosses": 35600
         },
         {
          "dev_num_heads": -10,
          "dev_prop_heads": -0.0002801120448179262,
          "tosses": 35700
         },
         {
          "dev_num_heads": -11,
          "dev_prop_heads": -0.0003072625698323783,
          "tosses": 35800
         },
         {
          "dev_num_heads": 0,
          "dev_prop_heads": 0,
          "tosses": 35900
         },
         {
          "dev_num_heads": 6,
          "dev_prop_heads": 0.0001666666666666483,
          "tosses": 36000
         },
         {
          "dev_num_heads": 5,
          "dev_prop_heads": 0.0001385041551246191,
          "tosses": 36100
         },
         {
          "dev_num_heads": 16,
          "dev_prop_heads": 0.00044198895027625085,
          "tosses": 36200
         },
         {
          "dev_num_heads": 17,
          "dev_prop_heads": 0.0004683195592286582,
          "tosses": 36300
         },
         {
          "dev_num_heads": 20,
          "dev_prop_heads": 0.0005494505494505475,
          "tosses": 36400
         },
         {
          "dev_num_heads": 22,
          "dev_prop_heads": 0.0006027397260274237,
          "tosses": 36500
         },
         {
          "dev_num_heads": 18,
          "dev_prop_heads": 0.0004918032786884741,
          "tosses": 36600
         },
         {
          "dev_num_heads": 25,
          "dev_prop_heads": 0.0006811989100817817,
          "tosses": 36700
         },
         {
          "dev_num_heads": 27,
          "dev_prop_heads": 0.0007336956521739602,
          "tosses": 36800
         },
         {
          "dev_num_heads": 32,
          "dev_prop_heads": 0.0008672086720866723,
          "tosses": 36900
         },
         {
          "dev_num_heads": 29,
          "dev_prop_heads": 0.0007837837837837425,
          "tosses": 37000
         },
         {
          "dev_num_heads": 34,
          "dev_prop_heads": 0.0009164420485174851,
          "tosses": 37100
         },
         {
          "dev_num_heads": 39,
          "dev_prop_heads": 0.0010483870967742392,
          "tosses": 37200
         },
         {
          "dev_num_heads": 41,
          "dev_prop_heads": 0.0010991957104558026,
          "tosses": 37300
         },
         {
          "dev_num_heads": 46,
          "dev_prop_heads": 0.0012299465240641627,
          "tosses": 37400
         },
         {
          "dev_num_heads": 44,
          "dev_prop_heads": 0.0011733333333333595,
          "tosses": 37500
         },
         {
          "dev_num_heads": 41,
          "dev_prop_heads": 0.0010904255319148515,
          "tosses": 37600
         },
         {
          "dev_num_heads": 35,
          "dev_prop_heads": 0.0009283819628647105,
          "tosses": 37700
         },
         {
          "dev_num_heads": 42,
          "dev_prop_heads": 0.0011111111111110628,
          "tosses": 37800
         },
         {
          "dev_num_heads": 34,
          "dev_prop_heads": 0.0008970976253298568,
          "tosses": 37900
         },
         {
          "dev_num_heads": 35,
          "dev_prop_heads": 0.0009210526315789336,
          "tosses": 38000
         },
         {
          "dev_num_heads": 36,
          "dev_prop_heads": 0.0009448818897638267,
          "tosses": 38100
         },
         {
          "dev_num_heads": 36,
          "dev_prop_heads": 0.0009424083769633551,
          "tosses": 38200
         },
         {
          "dev_num_heads": 40,
          "dev_prop_heads": 0.001044386422976551,
          "tosses": 38300
         },
         {
          "dev_num_heads": 49,
          "dev_prop_heads": 0.0012760416666666163,
          "tosses": 38400
         },
         {
          "dev_num_heads": 43,
          "dev_prop_heads": 0.0011168831168830717,
          "tosses": 38500
         },
         {
          "dev_num_heads": 51,
          "dev_prop_heads": 0.0013212435233160846,
          "tosses": 38600
         },
         {
          "dev_num_heads": 53,
          "dev_prop_heads": 0.0013695090439276303,
          "tosses": 38700
         },
         {
          "dev_num_heads": 52,
          "dev_prop_heads": 0.0013402061855669611,
          "tosses": 38800
         },
         {
          "dev_num_heads": 51,
          "dev_prop_heads": 0.0013110539845758717,
          "tosses": 38900
         },
         {
          "dev_num_heads": 47,
          "dev_prop_heads": 0.001205128205128192,
          "tosses": 39000
         },
         {
          "dev_num_heads": 41,
          "dev_prop_heads": 0.001048593350383653,
          "tosses": 39100
         },
         {
          "dev_num_heads": 39,
          "dev_prop_heads": 0.000994897959183727,
          "tosses": 39200
         },
         {
          "dev_num_heads": 43,
          "dev_prop_heads": 0.0010941475826972136,
          "tosses": 39300
         },
         {
          "dev_num_heads": 37,
          "dev_prop_heads": 0.0009390862944161915,
          "tosses": 39400
         },
         {
          "dev_num_heads": 35,
          "dev_prop_heads": 0.0008860759493670711,
          "tosses": 39500
         },
         {
          "dev_num_heads": 34,
          "dev_prop_heads": 0.0008585858585858919,
          "tosses": 39600
         },
         {
          "dev_num_heads": 39,
          "dev_prop_heads": 0.0009823677581863866,
          "tosses": 39700
         },
         {
          "dev_num_heads": 36,
          "dev_prop_heads": 0.0009045226130652839,
          "tosses": 39800
         },
         {
          "dev_num_heads": 35,
          "dev_prop_heads": 0.0008771929824561431,
          "tosses": 39900
         },
         {
          "dev_num_heads": 34,
          "dev_prop_heads": 0.0008500000000000174,
          "tosses": 40000
         },
         {
          "dev_num_heads": 27,
          "dev_prop_heads": 0.0006733167082294544,
          "tosses": 40100
         },
         {
          "dev_num_heads": 26,
          "dev_prop_heads": 0.000646766169154267,
          "tosses": 40200
         },
         {
          "dev_num_heads": 34,
          "dev_prop_heads": 0.0008436724565756837,
          "tosses": 40300
         },
         {
          "dev_num_heads": 35,
          "dev_prop_heads": 0.0008663366336633116,
          "tosses": 40400
         },
         {
          "dev_num_heads": 32,
          "dev_prop_heads": 0.0007901234567900817,
          "tosses": 40500
         },
         {
          "dev_num_heads": 25,
          "dev_prop_heads": 0.0006157635467980427,
          "tosses": 40600
         },
         {
          "dev_num_heads": 19,
          "dev_prop_heads": 0.00046683046683049234,
          "tosses": 40700
         },
         {
          "dev_num_heads": 18,
          "dev_prop_heads": 0.00044117647058827814,
          "tosses": 40800
         },
         {
          "dev_num_heads": 12,
          "dev_prop_heads": 0.00029339853300736074,
          "tosses": 40900
         },
         {
          "dev_num_heads": 4,
          "dev_prop_heads": 9.756097560975618e-05,
          "tosses": 41000
         },
         {
          "dev_num_heads": 4,
          "dev_prop_heads": 9.732360097325365e-05,
          "tosses": 41100
         },
         {
          "dev_num_heads": 9,
          "dev_prop_heads": 0.00021844660194170196,
          "tosses": 41200
         },
         {
          "dev_num_heads": 9,
          "dev_prop_heads": 0.00021791767554479868,
          "tosses": 41300
         },
         {
          "dev_num_heads": 6,
          "dev_prop_heads": 0.00014492753623185362,
          "tosses": 41400
         },
         {
          "dev_num_heads": 6,
          "dev_prop_heads": 0.00014457831325298542,
          "tosses": 41500
         },
         {
          "dev_num_heads": 9,
          "dev_prop_heads": 0.00021634615384613642,
          "tosses": 41600
         },
         {
          "dev_num_heads": 15,
          "dev_prop_heads": 0.0003597122302158029,
          "tosses": 41700
         },
         {
          "dev_num_heads": 22,
          "dev_prop_heads": 0.000526315789473708,
          "tosses": 41800
         },
         {
          "dev_num_heads": 26,
          "dev_prop_heads": 0.0006205250596659218,
          "tosses": 41900
         },
         {
          "dev_num_heads": 21,
          "dev_prop_heads": 0.0004999999999999449,
          "tosses": 42000
         },
         {
          "dev_num_heads": 21,
          "dev_prop_heads": 0.0004988123515439202,
          "tosses": 42100
         },
         {
          "dev_num_heads": 27,
          "dev_prop_heads": 0.000639810426540266,
          "tosses": 42200
         },
         {
          "dev_num_heads": 35,
          "dev_prop_heads": 0.0008274231678486732,
          "tosses": 42300
         },
         {
          "dev_num_heads": 40,
          "dev_prop_heads": 0.0009433962264151496,
          "tosses": 42400
         },
         {
          "dev_num_heads": 45,
          "dev_prop_heads": 0.0010588235294117787,
          "tosses": 42500
         },
         {
          "dev_num_heads": 43,
          "dev_prop_heads": 0.0010093896713615491,
          "tosses": 42600
         },
         {
          "dev_num_heads": 36,
          "dev_prop_heads": 0.0008430913348945746,
          "tosses": 42700
         },
         {
          "dev_num_heads": 23,
          "dev_prop_heads": 0.0005373831775701277,
          "tosses": 42800
         },
         {
          "dev_num_heads": 17,
          "dev_prop_heads": 0.00039627039627043725,
          "tosses": 42900
         },
         {
          "dev_num_heads": 15,
          "dev_prop_heads": 0.00034883720930234396,
          "tosses": 43000
         },
         {
          "dev_num_heads": 12,
          "dev_prop_heads": 0.00027842227378194195,
          "tosses": 43100
         },
         {
          "dev_num_heads": 17,
          "dev_prop_heads": 0.000393518518518543,
          "tosses": 43200
         },
         {
          "dev_num_heads": 14,
          "dev_prop_heads": 0.00032332563510395484,
          "tosses": 43300
         },
         {
          "dev_num_heads": 12,
          "dev_prop_heads": 0.00027649769585258444,
          "tosses": 43400
         },
         {
          "dev_num_heads": 13,
          "dev_prop_heads": 0.0002988505747126835,
          "tosses": 43500
         },
         {
          "dev_num_heads": 12,
          "dev_prop_heads": 0.0002752293577981124,
          "tosses": 43600
         },
         {
          "dev_num_heads": 19,
          "dev_prop_heads": 0.00043478260869567187,
          "tosses": 43700
         },
         {
          "dev_num_heads": 13,
          "dev_prop_heads": 0.00029680365296802513,
          "tosses": 43800
         },
         {
          "dev_num_heads": 21,
          "dev_prop_heads": 0.0004783599088837853,
          "tosses": 43900
         },
         {
          "dev_num_heads": 26,
          "dev_prop_heads": 0.0005909090909090864,
          "tosses": 44000
         },
         {
          "dev_num_heads": 26,
          "dev_prop_heads": 0.0005895691609977272,
          "tosses": 44100
         },
         {
          "dev_num_heads": 21,
          "dev_prop_heads": 0.0004751131221719662,
          "tosses": 44200
         },
         {
          "dev_num_heads": 15,
          "dev_prop_heads": 0.0003386004514672747,
          "tosses": 44300
         },
         {
          "dev_num_heads": 19,
          "dev_prop_heads": 0.0004279279279278958,
          "tosses": 44400
         },
         {
          "dev_num_heads": 28,
          "dev_prop_heads": 0.0006292134831460405,
          "tosses": 44500
         },
         {
          "dev_num_heads": 30,
          "dev_prop_heads": 0.0006726457399103269,
          "tosses": 44600
         },
         {
          "dev_num_heads": 30,
          "dev_prop_heads": 0.0006711409395973034,
          "tosses": 44700
         },
         {
          "dev_num_heads": 25,
          "dev_prop_heads": 0.0005580357142856984,
          "tosses": 44800
         },
         {
          "dev_num_heads": 33,
          "dev_prop_heads": 0.000734966592427666,
          "tosses": 44900
         },
         {
          "dev_num_heads": 45,
          "dev_prop_heads": 0.0010000000000000009,
          "tosses": 45000
         },
         {
          "dev_num_heads": 40,
          "dev_prop_heads": 0.0008869179600886623,
          "tosses": 45100
         },
         {
          "dev_num_heads": 39,
          "dev_prop_heads": 0.000862831858407076,
          "tosses": 45200
         },
         {
          "dev_num_heads": 35,
          "dev_prop_heads": 0.0007726269315673218,
          "tosses": 45300
         },
         {
          "dev_num_heads": 43,
          "dev_prop_heads": 0.0009471365638766827,
          "tosses": 45400
         },
         {
          "dev_num_heads": 43,
          "dev_prop_heads": 0.0009450549450549239,
          "tosses": 45500
         },
         {
          "dev_num_heads": 48,
          "dev_prop_heads": 0.001052631578947416,
          "tosses": 45600
         },
         {
          "dev_num_heads": 45,
          "dev_prop_heads": 0.0009846827133479508,
          "tosses": 45700
         },
         {
          "dev_num_heads": 43,
          "dev_prop_heads": 0.000938864628820979,
          "tosses": 45800
         },
         {
          "dev_num_heads": 38,
          "dev_prop_heads": 0.0008278867102397003,
          "tosses": 45900
         },
         {
          "dev_num_heads": 39,
          "dev_prop_heads": 0.000847826086956549,
          "tosses": 46000
         },
         {
          "dev_num_heads": 38,
          "dev_prop_heads": 0.0008242950108460212,
          "tosses": 46100
         },
         {
          "dev_num_heads": 43,
          "dev_prop_heads": 0.0009307359307358931,
          "tosses": 46200
         },
         {
          "dev_num_heads": 40,
          "dev_prop_heads": 0.0008639308855291628,
          "tosses": 46300
         },
         {
          "dev_num_heads": 40,
          "dev_prop_heads": 0.0008620689655172153,
          "tosses": 46400
         },
         {
          "dev_num_heads": 51,
          "dev_prop_heads": 0.0010967741935483666,
          "tosses": 46500
         },
         {
          "dev_num_heads": 55,
          "dev_prop_heads": 0.0011802575107295876,
          "tosses": 46600
         },
         {
          "dev_num_heads": 60,
          "dev_prop_heads": 0.0012847965738758127,
          "tosses": 46700
         },
         {
          "dev_num_heads": 55,
          "dev_prop_heads": 0.001175213675213671,
          "tosses": 46800
         },
         {
          "dev_num_heads": 57,
          "dev_prop_heads": 0.0012153518123667606,
          "tosses": 46900
         },
         {
          "dev_num_heads": 53,
          "dev_prop_heads": 0.0011276595744680318,
          "tosses": 47000
         },
         {
          "dev_num_heads": 53,
          "dev_prop_heads": 0.0011252653927813494,
          "tosses": 47100
         },
         {
          "dev_num_heads": 43,
          "dev_prop_heads": 0.0009110169491525211,
          "tosses": 47200
         },
         {
          "dev_num_heads": 45,
          "dev_prop_heads": 0.0009513742071881603,
          "tosses": 47300
         },
         {
          "dev_num_heads": 36,
          "dev_prop_heads": 0.0007594936708861244,
          "tosses": 47400
         },
         {
          "dev_num_heads": 33,
          "dev_prop_heads": 0.0006947368421053035,
          "tosses": 47500
         },
         {
          "dev_num_heads": 33,
          "dev_prop_heads": 0.0006932773109243895,
          "tosses": 47600
         },
         {
          "dev_num_heads": 29,
          "dev_prop_heads": 0.0006079664570231014,
          "tosses": 47700
         },
         {
          "dev_num_heads": 34,
          "dev_prop_heads": 0.0007112970711297129,
          "tosses": 47800
         },
         {
          "dev_num_heads": 29,
          "dev_prop_heads": 0.0006054279749477809,
          "tosses": 47900
         },
         {
          "dev_num_heads": 28,
          "dev_prop_heads": 0.0005833333333333801,
          "tosses": 48000
         },
         {
          "dev_num_heads": 28,
          "dev_prop_heads": 0.0005821205821205933,
          "tosses": 48100
         },
         {
          "dev_num_heads": 35,
          "dev_prop_heads": 0.0007261410788381717,
          "tosses": 48200
         },
         {
          "dev_num_heads": 30,
          "dev_prop_heads": 0.0006211180124223725,
          "tosses": 48300
         },
         {
          "dev_num_heads": 34,
          "dev_prop_heads": 0.0007024793388429318,
          "tosses": 48400
         },
         {
          "dev_num_heads": 36,
          "dev_prop_heads": 0.0007422680412371152,
          "tosses": 48500
         },
         {
          "dev_num_heads": 37,
          "dev_prop_heads": 0.0007613168724279751,
          "tosses": 48600
         },
         {
          "dev_num_heads": 44,
          "dev_prop_heads": 0.0009034907597536002,
          "tosses": 48700
         },
         {
          "dev_num_heads": 40,
          "dev_prop_heads": 0.0008196721311475308,
          "tosses": 48800
         },
         {
          "dev_num_heads": 31,
          "dev_prop_heads": 0.0006339468302658524,
          "tosses": 48900
         },
         {
          "dev_num_heads": 33,
          "dev_prop_heads": 0.0006734693877551434,
          "tosses": 49000
         },
         {
          "dev_num_heads": 37,
          "dev_prop_heads": 0.0007535641547861127,
          "tosses": 49100
         },
         {
          "dev_num_heads": 29,
          "dev_prop_heads": 0.0005894308943089621,
          "tosses": 49200
         },
         {
          "dev_num_heads": 28,
          "dev_prop_heads": 0.0005679513184584373,
          "tosses": 49300
         },
         {
          "dev_num_heads": 25,
          "dev_prop_heads": 0.0005060728744938903,
          "tosses": 49400
         },
         {
          "dev_num_heads": 26,
          "dev_prop_heads": 0.0005252525252524842,
          "tosses": 49500
         },
         {
          "dev_num_heads": 31,
          "dev_prop_heads": 0.0006249999999999867,
          "tosses": 49600
         },
         {
          "dev_num_heads": 25,
          "dev_prop_heads": 0.0005030181086519425,
          "tosses": 49700
         },
         {
          "dev_num_heads": 36,
          "dev_prop_heads": 0.0007228915662650381,
          "tosses": 49800
         },
         {
          "dev_num_heads": 33,
          "dev_prop_heads": 0.0006613226452906185,
          "tosses": 49900
         },
         {
          "dev_num_heads": 26,
          "dev_prop_heads": 0.0005199999999999649,
          "tosses": 50000
         },
         {
          "dev_num_heads": 21,
          "dev_prop_heads": 0.00041916167664668436,
          "tosses": 50100
         },
         {
          "dev_num_heads": 31,
          "dev_prop_heads": 0.0006175298804781404,
          "tosses": 50200
         },
         {
          "dev_num_heads": 33,
          "dev_prop_heads": 0.0006560636182902924,
          "tosses": 50300
         },
         {
          "dev_num_heads": 36,
          "dev_prop_heads": 0.0007142857142856673,
          "tosses": 50400
         },
         {
          "dev_num_heads": 33,
          "dev_prop_heads": 0.000653465346534654,
          "tosses": 50500
         },
         {
          "dev_num_heads": 33,
          "dev_prop_heads": 0.0006521739130435078,
          "tosses": 50600
         },
         {
          "dev_num_heads": 43,
          "dev_prop_heads": 0.0008481262327416639,
          "tosses": 50700
         },
         {
          "dev_num_heads": 47,
          "dev_prop_heads": 0.0009251968503937169,
          "tosses": 50800
         },
         {
          "dev_num_heads": 45,
          "dev_prop_heads": 0.0008840864440078366,
          "tosses": 50900
         },
         {
          "dev_num_heads": 37,
          "dev_prop_heads": 0.0007254901960784821,
          "tosses": 51000
         },
         {
          "dev_num_heads": 36,
          "dev_prop_heads": 0.0007045009784736322,
          "tosses": 51100
         },
         {
          "dev_num_heads": 27,
          "dev_prop_heads": 0.0005273437499999645,
          "tosses": 51200
         },
         {
          "dev_num_heads": 26,
          "dev_prop_heads": 0.0005068226120857888,
          "tosses": 51300
         },
         {
          "dev_num_heads": 24,
          "dev_prop_heads": 0.00046692607003895326,
          "tosses": 51400
         },
         {
          "dev_num_heads": 19,
          "dev_prop_heads": 0.00036893203883492376,
          "tosses": 51500
         },
         {
          "dev_num_heads": 17,
          "dev_prop_heads": 0.0003294573643410903,
          "tosses": 51600
         },
         {
          "dev_num_heads": 9,
          "dev_prop_heads": 0.00017408123791107233,
          "tosses": 51700
         },
         {
          "dev_num_heads": 1,
          "dev_prop_heads": 1.9305019305027038e-05,
          "tosses": 51800
         },
         {
          "dev_num_heads": -2,
          "dev_prop_heads": -3.853564547207089e-05,
          "tosses": 51900
         },
         {
          "dev_num_heads": -7,
          "dev_prop_heads": -0.00013461538461539968,
          "tosses": 52000
         },
         {
          "dev_num_heads": -4,
          "dev_prop_heads": -7.677543186179747e-05,
          "tosses": 52100
         },
         {
          "dev_num_heads": -7,
          "dev_prop_heads": -0.0001340996168582298,
          "tosses": 52200
         },
         {
          "dev_num_heads": -1,
          "dev_prop_heads": -1.9120458891019876e-05,
          "tosses": 52300
         },
         {
          "dev_num_heads": 3,
          "dev_prop_heads": 5.725190839689365e-05,
          "tosses": 52400
         },
         {
          "dev_num_heads": 3,
          "dev_prop_heads": 5.714285714286671e-05,
          "tosses": 52500
         },
         {
          "dev_num_heads": 3,
          "dev_prop_heads": 5.7034220532270474e-05,
          "tosses": 52600
         },
         {
          "dev_num_heads": 5,
          "dev_prop_heads": 9.487666034158071e-05,
          "tosses": 52700
         },
         {
          "dev_num_heads": 5,
          "dev_prop_heads": 9.469696969699459e-05,
          "tosses": 52800
         },
         {
          "dev_num_heads": -5,
          "dev_prop_heads": -9.45179584120881e-05,
          "tosses": 52900
         },
         {
          "dev_num_heads": 2,
          "dev_prop_heads": 3.773584905664151e-05,
          "tosses": 53000
         },
         {
          "dev_num_heads": 6,
          "dev_prop_heads": 0.00011299435028244709,
          "tosses": 53100
         },
         {
          "dev_num_heads": 12,
          "dev_prop_heads": 0.00022556390977446217,
          "tosses": 53200
         },
         {
          "dev_num_heads": 11,
          "dev_prop_heads": 0.00020637898686681755,
          "tosses": 53300
         },
         {
          "dev_num_heads": 18,
          "dev_prop_heads": 0.0003370786516854185,
          "tosses": 53400
         },
         {
          "dev_num_heads": 22,
          "dev_prop_heads": 0.00041121495327101076,
          "tosses": 53500
         },
         {
          "dev_num_heads": 18,
          "dev_prop_heads": 0.00033582089552242067,
          "tosses": 53600
         },
         {
          "dev_num_heads": 22,
          "dev_prop_heads": 0.0004096834264432081,
          "tosses": 53700
         },
         {
          "dev_num_heads": 19,
          "dev_prop_heads": 0.0003531598513011325,
          "tosses": 53800
         },
         {
          "dev_num_heads": 15,
          "dev_prop_heads": 0.0002782931354360363,
          "tosses": 53900
         },
         {
          "dev_num_heads": 12,
          "dev_prop_heads": 0.00022222222222223476,
          "tosses": 54000
         },
         {
          "dev_num_heads": 2,
          "dev_prop_heads": 3.6968576709761614e-05,
          "tosses": 54100
         },
         {
          "dev_num_heads": -4,
          "dev_prop_heads": -7.380073800739018e-05,
          "tosses": 54200
         },
         {
          "dev_num_heads": -3,
          "dev_prop_heads": -5.5248618784531356e-05,
          "tosses": 54300
         },
         {
          "dev_num_heads": 2,
          "dev_prop_heads": 3.6764705882319504e-05,
          "tosses": 54400
         },
         {
          "dev_num_heads": 3,
          "dev_prop_heads": 5.5045871559578075e-05,
          "tosses": 54500
         },
         {
          "dev_num_heads": 7,
          "dev_prop_heads": 0.00012820512820510555,
          "tosses": 54600
         },
         {
          "dev_num_heads": 15,
          "dev_prop_heads": 0.0002742230347348995,
          "tosses": 54700
         },
         {
          "dev_num_heads": 13,
          "dev_prop_heads": 0.00023722627737221558,
          "tosses": 54800
         },
         {
          "dev_num_heads": 17,
          "dev_prop_heads": 0.00030965391621129434,
          "tosses": 54900
         },
         {
          "dev_num_heads": 16,
          "dev_prop_heads": 0.00029090909090911943,
          "tosses": 55000
         },
         {
          "dev_num_heads": 7,
          "dev_prop_heads": 0.0001270417422867265,
          "tosses": 55100
         },
         {
          "dev_num_heads": 16,
          "dev_prop_heads": 0.00028985507246381825,
          "tosses": 55200
         },
         {
          "dev_num_heads": 17,
          "dev_prop_heads": 0.0003074141048824419,
          "tosses": 55300
         },
         {
          "dev_num_heads": 20,
          "dev_prop_heads": 0.0003610108303249149,
          "tosses": 55400
         },
         {
          "dev_num_heads": 19,
          "dev_prop_heads": 0.00034234234234231664,
          "tosses": 55500
         },
         {
          "dev_num_heads": 14,
          "dev_prop_heads": 0.00025179856115109533,
          "tosses": 55600
         },
         {
          "dev_num_heads": 21,
          "dev_prop_heads": 0.000377019748653451,
          "tosses": 55700
         },
         {
          "dev_num_heads": 18,
          "dev_prop_heads": 0.00032258064516133,
          "tosses": 55800
         },
         {
          "dev_num_heads": 16,
          "dev_prop_heads": 0.0002862254025044475,
          "tosses": 55900
         },
         {
          "dev_num_heads": 16,
          "dev_prop_heads": 0.00028571428571433355,
          "tosses": 56000
         },
         {
          "dev_num_heads": 20,
          "dev_prop_heads": 0.00035650623885918886,
          "tosses": 56100
         },
         {
          "dev_num_heads": 13,
          "dev_prop_heads": 0.0002313167259786475,
          "tosses": 56200
         },
         {
          "dev_num_heads": 11,
          "dev_prop_heads": 0.0001953818827709064,
          "tosses": 56300
         },
         {
          "dev_num_heads": 8,
          "dev_prop_heads": 0.00014184397163119478,
          "tosses": 56400
         },
         {
          "dev_num_heads": 8,
          "dev_prop_heads": 0.0001415929203539834,
          "tosses": 56500
         },
         {
          "dev_num_heads": 7,
          "dev_prop_heads": 0.00012367491166076494,
          "tosses": 56600
         },
         {
          "dev_num_heads": 8,
          "dev_prop_heads": 0.0001410934744268122,
          "tosses": 56700
         },
         {
          "dev_num_heads": 5,
          "dev_prop_heads": 8.802816901409827e-05,
          "tosses": 56800
         },
         {
          "dev_num_heads": 4,
          "dev_prop_heads": 7.029876977149296e-05,
          "tosses": 56900
         },
         {
          "dev_num_heads": -3,
          "dev_prop_heads": -5.26315789473597e-05,
          "tosses": 57000
         },
         {
          "dev_num_heads": 12,
          "dev_prop_heads": 0.00021015761821363554,
          "tosses": 57100
         },
         {
          "dev_num_heads": 17,
          "dev_prop_heads": 0.0002972027972028002,
          "tosses": 57200
         },
         {
          "dev_num_heads": 12,
          "dev_prop_heads": 0.00020942408376967148,
          "tosses": 57300
         },
         {
          "dev_num_heads": 8,
          "dev_prop_heads": 0.00013937282229969927,
          "tosses": 57400
         },
         {
          "dev_num_heads": 9,
          "dev_prop_heads": 0.00015652173913038858,
          "tosses": 57500
         },
         {
          "dev_num_heads": 11,
          "dev_prop_heads": 0.00019097222222219656,
          "tosses": 57600
         },
         {
          "dev_num_heads": 13,
          "dev_prop_heads": 0.00022530329289427442,
          "tosses": 57700
         },
         {
          "dev_num_heads": 17,
          "dev_prop_heads": 0.0002941176470587781,
          "tosses": 57800
         },
         {
          "dev_num_heads": 10,
          "dev_prop_heads": 0.00017271157167531026,
          "tosses": 57900
         },
         {
          "dev_num_heads": 10,
          "dev_prop_heads": 0.00017241379310339866,
          "tosses": 58000
         },
         {
          "dev_num_heads": 14,
          "dev_prop_heads": 0.0002409638554217164,
          "tosses": 58100
         },
         {
          "dev_num_heads": 9,
          "dev_prop_heads": 0.0001546391752577092,
          "tosses": 58200
         },
         {
          "dev_num_heads": 0,
          "dev_prop_heads": 0,
          "tosses": 58300
         },
         {
          "dev_num_heads": 3,
          "dev_prop_heads": 5.136986301368385e-05,
          "tosses": 58400
         },
         {
          "dev_num_heads": -3,
          "dev_prop_heads": -5.1282051282075525e-05,
          "tosses": 58500
         },
         {
          "dev_num_heads": 5,
          "dev_prop_heads": 8.532423208196249e-05,
          "tosses": 58600
         },
         {
          "dev_num_heads": 4,
          "dev_prop_heads": 6.814310051106443e-05,
          "tosses": 58700
         },
         {
          "dev_num_heads": -10,
          "dev_prop_heads": -0.0001700680272108679,
          "tosses": 58800
         },
         {
          "dev_num_heads": -12,
          "dev_prop_heads": -0.00020373514431237805,
          "tosses": 58900
         },
         {
          "dev_num_heads": -12,
          "dev_prop_heads": -0.00020338983050849357,
          "tosses": 59000
         },
         {
          "dev_num_heads": -16,
          "dev_prop_heads": -0.0002707275803722764,
          "tosses": 59100
         },
         {
          "dev_num_heads": -12,
          "dev_prop_heads": -0.0002027027027027284,
          "tosses": 59200
         },
         {
          "dev_num_heads": -3,
          "dev_prop_heads": -5.0590219224266875e-05,
          "tosses": 59300
         },
         {
          "dev_num_heads": -5,
          "dev_prop_heads": -8.417508417507547e-05,
          "tosses": 59400
         },
         {
          "dev_num_heads": -1,
          "dev_prop_heads": -1.6806722689055587e-05,
          "tosses": 59500
         },
         {
          "dev_num_heads": -7,
          "dev_prop_heads": -0.00011744966442950311,
          "tosses": 59600
         },
         {
          "dev_num_heads": 1,
          "dev_prop_heads": 1.6750418760480557e-05,
          "tosses": 59700
         },
         {
          "dev_num_heads": -5,
          "dev_prop_heads": -8.361204013379586e-05,
          "tosses": 59800
         },
         {
          "dev_num_heads": -9,
          "dev_prop_heads": -0.0001502504173622743,
          "tosses": 59900
         },
         {
          "dev_num_heads": -8,
          "dev_prop_heads": -0.00013333333333331865,
          "tosses": 60000
         },
         {
          "dev_num_heads": -3,
          "dev_prop_heads": -4.991680532445697e-05,
          "tosses": 60100
         },
         {
          "dev_num_heads": -1,
          "dev_prop_heads": -1.6611295681090432e-05,
          "tosses": 60200
         },
         {
          "dev_num_heads": -2,
          "dev_prop_heads": -3.316749585408063e-05,
          "tosses": 60300
         },
         {
          "dev_num_heads": -3,
          "dev_prop_heads": -4.96688741721818e-05,
          "tosses": 60400
         },
         {
          "dev_num_heads": -2,
          "dev_prop_heads": -3.305785123969285e-05,
          "tosses": 60500
         },
         {
          "dev_num_heads": -3,
          "dev_prop_heads": -4.950495049504955e-05,
          "tosses": 60600
         },
         {
          "dev_num_heads": -1,
          "dev_prop_heads": -1.6474464579918635e-05,
          "tosses": 60700
         },
         {
          "dev_num_heads": 4,
          "dev_prop_heads": 6.578947368418575e-05,
          "tosses": 60800
         },
         {
          "dev_num_heads": 6,
          "dev_prop_heads": 9.852216748773568e-05,
          "tosses": 60900
         },
         {
          "dev_num_heads": 10,
          "dev_prop_heads": 0.00016393442622952836,
          "tosses": 61000
         },
         {
          "dev_num_heads": 6,
          "dev_prop_heads": 9.819967266777585e-05,
          "tosses": 61100
         },
         {
          "dev_num_heads": 4,
          "dev_prop_heads": 6.535947712416057e-05,
          "tosses": 61200
         },
         {
          "dev_num_heads": 7,
          "dev_prop_heads": 0.00011419249592170555,
          "tosses": 61300
         },
         {
          "dev_num_heads": 12,
          "dev_prop_heads": 0.0001954397394137164,
          "tosses": 61400
         },
         {
          "dev_num_heads": 21,
          "dev_prop_heads": 0.00034146341463414664,
          "tosses": 61500
         },
         {
          "dev_num_heads": 29,
          "dev_prop_heads": 0.000470779220779205,
          "tosses": 61600
         },
         {
          "dev_num_heads": 32,
          "dev_prop_heads": 0.0005186385737439014,
          "tosses": 61700
         },
         {
          "dev_num_heads": 27,
          "dev_prop_heads": 0.00043689320388351494,
          "tosses": 61800
         },
         {
          "dev_num_heads": 23,
          "dev_prop_heads": 0.0003715670436187368,
          "tosses": 61900
         },
         {
          "dev_num_heads": 23,
          "dev_prop_heads": 0.00037096774193545734,
          "tosses": 62000
         },
         {
          "dev_num_heads": 20,
          "dev_prop_heads": 0.00032206119162636604,
          "tosses": 62100
         },
         {
          "dev_num_heads": 17,
          "dev_prop_heads": 0.0002733118971061099,
          "tosses": 62200
         },
         {
          "dev_num_heads": 25,
          "dev_prop_heads": 0.00040128410914930246,
          "tosses": 62300
         },
         {
          "dev_num_heads": 25,
          "dev_prop_heads": 0.00040064102564107973,
          "tosses": 62400
         },
         {
          "dev_num_heads": 25,
          "dev_prop_heads": 0.00039999999999995595,
          "tosses": 62500
         },
         {
          "dev_num_heads": 27,
          "dev_prop_heads": 0.00043130990415340964,
          "tosses": 62600
         },
         {
          "dev_num_heads": 25,
          "dev_prop_heads": 0.0003987240829346206,
          "tosses": 62700
         },
         {
          "dev_num_heads": 25,
          "dev_prop_heads": 0.00039808917197448057,
          "tosses": 62800
         },
         {
          "dev_num_heads": 27,
          "dev_prop_heads": 0.00042925278219396734,
          "tosses": 62900
         },
         {
          "dev_num_heads": 20,
          "dev_prop_heads": 0.0003174603174602719,
          "tosses": 63000
         },
         {
          "dev_num_heads": 14,
          "dev_prop_heads": 0.00022187004754359307,
          "tosses": 63100
         },
         {
          "dev_num_heads": 17,
          "dev_prop_heads": 0.00026898734177216443,
          "tosses": 63200
         },
         {
          "dev_num_heads": 16,
          "dev_prop_heads": 0.0002527646129542038,
          "tosses": 63300
         },
         {
          "dev_num_heads": 11,
          "dev_prop_heads": 0.00017350157728701632,
          "tosses": 63400
         },
         {
          "dev_num_heads": 13,
          "dev_prop_heads": 0.00020472440944885317,
          "tosses": 63500
         },
         {
          "dev_num_heads": 15,
          "dev_prop_heads": 0.0002358490566037874,
          "tosses": 63600
         },
         {
          "dev_num_heads": 19,
          "dev_prop_heads": 0.00029827315541597343,
          "tosses": 63700
         },
         {
          "dev_num_heads": 22,
          "dev_prop_heads": 0.00034482758620690834,
          "tosses": 63800
         },
         {
          "dev_num_heads": 18,
          "dev_prop_heads": 0.00028169014084511446,
          "tosses": 63900
         },
         {
          "dev_num_heads": 17,
          "dev_prop_heads": 0.0002656250000000471,
          "tosses": 64000
         },
         {
          "dev_num_heads": 11,
          "dev_prop_heads": 0.00017160686427453165,
          "tosses": 64100
         },
         {
          "dev_num_heads": 16,
          "dev_prop_heads": 0.00024922118380066305,
          "tosses": 64200
         },
         {
          "dev_num_heads": 10,
          "dev_prop_heads": 0.00015552099533433505,
          "tosses": 64300
         },
         {
          "dev_num_heads": 12,
          "dev_prop_heads": 0.00018633540372670065,
          "tosses": 64400
         },
         {
          "dev_num_heads": 25,
          "dev_prop_heads": 0.0003875968992248513,
          "tosses": 64500
         },
         {
          "dev_num_heads": 25,
          "dev_prop_heads": 0.00038699690402477227,
          "tosses": 64600
         },
         {
          "dev_num_heads": 26,
          "dev_prop_heads": 0.0004018547140649531,
          "tosses": 64700
         },
         {
          "dev_num_heads": 20,
          "dev_prop_heads": 0.00030864197530866555,
          "tosses": 64800
         },
         {
          "dev_num_heads": 22,
          "dev_prop_heads": 0.0003389830508474523,
          "tosses": 64900
         },
         {
          "dev_num_heads": 32,
          "dev_prop_heads": 0.0004923076923076808,
          "tosses": 65000
         },
         {
          "dev_num_heads": 26,
          "dev_prop_heads": 0.00039938556067586894,
          "tosses": 65100
         },
         {
          "dev_num_heads": 27,
          "dev_prop_heads": 0.0004141104294478337,
          "tosses": 65200
         },
         {
          "dev_num_heads": 24,
          "dev_prop_heads": 0.0003675344563552896,
          "tosses": 65300
         },
         {
          "dev_num_heads": 20,
          "dev_prop_heads": 0.0003058103975535076,
          "tosses": 65400
         },
         {
          "dev_num_heads": 24,
          "dev_prop_heads": 0.0003664122137404524,
          "tosses": 65500
         },
         {
          "dev_num_heads": 24,
          "dev_prop_heads": 0.0003658536585365857,
          "tosses": 65600
         },
         {
          "dev_num_heads": 21,
          "dev_prop_heads": 0.00031963470319629206,
          "tosses": 65700
         },
         {
          "dev_num_heads": 12,
          "dev_prop_heads": 0.00018237082066874244,
          "tosses": 65800
         },
         {
          "dev_num_heads": 12,
          "dev_prop_heads": 0.00018209408194236332,
          "tosses": 65900
         },
         {
          "dev_num_heads": 10,
          "dev_prop_heads": 0.00015151515151512474,
          "tosses": 66000
         },
         {
          "dev_num_heads": 6,
          "dev_prop_heads": 9.07715582451063e-05,
          "tosses": 66100
         },
         {
          "dev_num_heads": 10,
          "dev_prop_heads": 0.0001510574018126487,
          "tosses": 66200
         },
         {
          "dev_num_heads": 7,
          "dev_prop_heads": 0.00010558069381594315,
          "tosses": 66300
         },
         {
          "dev_num_heads": 11,
          "dev_prop_heads": 0.00016566265060236063,
          "tosses": 66400
         },
         {
          "dev_num_heads": 5,
          "dev_prop_heads": 7.518796992478372e-05,
          "tosses": 66500
         },
         {
          "dev_num_heads": -3,
          "dev_prop_heads": -4.5045045045044585e-05,
          "tosses": 66600
         },
         {
          "dev_num_heads": 2,
          "dev_prop_heads": 2.9985007496291516e-05,
          "tosses": 66700
         },
         {
          "dev_num_heads": 3,
          "dev_prop_heads": 4.491017964070032e-05,
          "tosses": 66800
         },
         {
          "dev_num_heads": 7,
          "dev_prop_heads": 0.00010463378176384097,
          "tosses": 66900
         },
         {
          "dev_num_heads": -3,
          "dev_prop_heads": -4.477611940301163e-05,
          "tosses": 67000
         },
         {
          "dev_num_heads": -10,
          "dev_prop_heads": -0.00014903129657228842,
          "tosses": 67100
         },
         {
          "dev_num_heads": -15,
          "dev_prop_heads": -0.00022321428571431268,
          "tosses": 67200
         },
         {
          "dev_num_heads": -26,
          "dev_prop_heads": -0.00038632986627040733,
          "tosses": 67300
         },
         {
          "dev_num_heads": -23,
          "dev_prop_heads": -0.0003412462908011782,
          "tosses": 67400
         },
         {
          "dev_num_heads": -13,
          "dev_prop_heads": -0.00019259259259257755,
          "tosses": 67500
         },
         {
          "dev_num_heads": -17,
          "dev_prop_heads": -0.000251479289940848,
          "tosses": 67600
         },
         {
          "dev_num_heads": -13,
          "dev_prop_heads": -0.00019202363367798458,
          "tosses": 67700
         },
         {
          "dev_num_heads": -7,
          "dev_prop_heads": -0.00010324483775808746,
          "tosses": 67800
         },
         {
          "dev_num_heads": -6,
          "dev_prop_heads": -8.836524300442905e-05,
          "tosses": 67900
         },
         {
          "dev_num_heads": -10,
          "dev_prop_heads": -0.00014705882352938904,
          "tosses": 68000
         },
         {
          "dev_num_heads": -13,
          "dev_prop_heads": -0.00019089574155650713,
          "tosses": 68100
         },
         {
          "dev_num_heads": -13,
          "dev_prop_heads": -0.00019061583577711927,
          "tosses": 68200
         },
         {
          "dev_num_heads": -14,
          "dev_prop_heads": -0.00020497803806734938,
          "tosses": 68300
         },
         {
          "dev_num_heads": -25,
          "dev_prop_heads": -0.0003654970760234022,
          "tosses": 68400
         },
         {
          "dev_num_heads": -30,
          "dev_prop_heads": -0.00043795620437958593,
          "tosses": 68500
         },
         {
          "dev_num_heads": -25,
          "dev_prop_heads": -0.00036443148688047877,
          "tosses": 68600
         },
         {
          "dev_num_heads": -22,
          "dev_prop_heads": -0.0003202328966521173,
          "tosses": 68700
         },
         {
          "dev_num_heads": -28,
          "dev_prop_heads": -0.00040697674418604946,
          "tosses": 68800
         },
         {
          "dev_num_heads": -22,
          "dev_prop_heads": -0.0003193033381712618,
          "tosses": 68900
         },
         {
          "dev_num_heads": -26,
          "dev_prop_heads": -0.000376811594202886,
          "tosses": 69000
         },
         {
          "dev_num_heads": -25,
          "dev_prop_heads": -0.0003617945007236001,
          "tosses": 69100
         },
         {
          "dev_num_heads": -24,
          "dev_prop_heads": -0.0003468208092485825,
          "tosses": 69200
         },
         {
          "dev_num_heads": -22,
          "dev_prop_heads": -0.00031746031746032743,
          "tosses": 69300
         },
         {
          "dev_num_heads": -14,
          "dev_prop_heads": -0.00020172910662824561,
          "tosses": 69400
         },
         {
          "dev_num_heads": -5,
          "dev_prop_heads": -7.194244604313837e-05,
          "tosses": 69500
         },
         {
          "dev_num_heads": -1,
          "dev_prop_heads": -1.4367816091931385e-05,
          "tosses": 69600
         },
         {
          "dev_num_heads": 5,
          "dev_prop_heads": 7.173601147780762e-05,
          "tosses": 69700
         },
         {
          "dev_num_heads": 5,
          "dev_prop_heads": 7.163323782233277e-05,
          "tosses": 69800
         },
         {
          "dev_num_heads": 7,
          "dev_prop_heads": 0.00010014306151640007,
          "tosses": 69900
         },
         {
          "dev_num_heads": 8,
          "dev_prop_heads": 0.00011428571428573342,
          "tosses": 70000
         },
         {
          "dev_num_heads": 7,
          "dev_prop_heads": 9.985734664763601e-05,
          "tosses": 70100
         },
         {
          "dev_num_heads": 10,
          "dev_prop_heads": 0.00014245014245017895,
          "tosses": 70200
         },
         {
          "dev_num_heads": 14,
          "dev_prop_heads": 0.00019914651493602165,
          "tosses": 70300
         },
         {
          "dev_num_heads": 16,
          "dev_prop_heads": 0.00022727272727274261,
          "tosses": 70400
         },
         {
          "dev_num_heads": 28,
          "dev_prop_heads": 0.0003971631205673676,
          "tosses": 70500
         },
         {
          "dev_num_heads": 31,
          "dev_prop_heads": 0.000439093484419284,
          "tosses": 70600
         },
         {
          "dev_num_heads": 29,
          "dev_prop_heads": 0.00041018387553037883,
          "tosses": 70700
         },
         {
          "dev_num_heads": 30,
          "dev_prop_heads": 0.0004237288135593431,
          "tosses": 70800
         },
         {
          "dev_num_heads": 31,
          "dev_prop_heads": 0.0004372355430183328,
          "tosses": 70900
         },
         {
          "dev_num_heads": 24,
          "dev_prop_heads": 0.00033802816901407073,
          "tosses": 71000
         },
         {
          "dev_num_heads": 21,
          "dev_prop_heads": 0.0002953586497890237,
          "tosses": 71100
         },
         {
          "dev_num_heads": 16,
          "dev_prop_heads": 0.00022471910112364935,
          "tosses": 71200
         },
         {
          "dev_num_heads": 17,
          "dev_prop_heads": 0.00023842917251049034,
          "tosses": 71300
         },
         {
          "dev_num_heads": 18,
          "dev_prop_heads": 0.00025210084033611135,
          "tosses": 71400
         },
         {
          "dev_num_heads": 22,
          "dev_prop_heads": 0.0003076923076923421,
          "tosses": 71500
         },
         {
          "dev_num_heads": 21,
          "dev_prop_heads": 0.00029329608938544194,
          "tosses": 71600
         },
         {
          "dev_num_heads": 22,
          "dev_prop_heads": 0.00030683403068343384,
          "tosses": 71700
         },
         {
          "dev_num_heads": 18,
          "dev_prop_heads": 0.00025069637883012863,
          "tosses": 71800
         },
         {
          "dev_num_heads": 14,
          "dev_prop_heads": 0.00019471488178024465,
          "tosses": 71900
         },
         {
          "dev_num_heads": 10,
          "dev_prop_heads": 0.0001388888888889106,
          "tosses": 72000
         },
         {
          "dev_num_heads": 7,
          "dev_prop_heads": 9.70873786407811e-05,
          "tosses": 72100
         },
         {
          "dev_num_heads": 4,
          "dev_prop_heads": 5.540166204986985e-05,
          "tosses": 72200
         },
         {
          "dev_num_heads": 3,
          "dev_prop_heads": 4.149377593365422e-05,
          "tosses": 72300
         },
         {
          "dev_num_heads": -6,
          "dev_prop_heads": -8.287292817676928e-05,
          "tosses": 72400
         },
         {
          "dev_num_heads": -5,
          "dev_prop_heads": -6.896551724139277e-05,
          "tosses": 72500
         },
         {
          "dev_num_heads": 0,
          "dev_prop_heads": 0,
          "tosses": 72600
         },
         {
          "dev_num_heads": -2,
          "dev_prop_heads": -2.7510316368661858e-05,
          "tosses": 72700
         },
         {
          "dev_num_heads": 3,
          "dev_prop_heads": 4.120879120883547e-05,
          "tosses": 72800
         },
         {
          "dev_num_heads": -2,
          "dev_prop_heads": -2.743484224965176e-05,
          "tosses": 72900
         },
         {
          "dev_num_heads": 1,
          "dev_prop_heads": 1.3698630137004564e-05,
          "tosses": 73000
         },
         {
          "dev_num_heads": -4,
          "dev_prop_heads": -5.471956224351038e-05,
          "tosses": 73100
         },
         {
          "dev_num_heads": -10,
          "dev_prop_heads": -0.0001366120218579403,
          "tosses": 73200
         },
         {
          "dev_num_heads": -4,
          "dev_prop_heads": -5.457025920874159e-05,
          "tosses": 73300
         },
         {
          "dev_num_heads": -1,
          "dev_prop_heads": -1.3623978201648956e-05,
          "tosses": 73400
         },
         {
          "dev_num_heads": 5,
          "dev_prop_heads": 6.802721088439156e-05,
          "tosses": 73500
         },
         {
          "dev_num_heads": 6,
          "dev_prop_heads": 8.152173913045235e-05,
          "tosses": 73600
         },
         {
          "dev_num_heads": 9,
          "dev_prop_heads": 0.00012211668928086006,
          "tosses": 73700
         },
         {
          "dev_num_heads": 8,
          "dev_prop_heads": 0.00010840108401088955,
          "tosses": 73800
         },
         {
          "dev_num_heads": 10,
          "dev_prop_heads": 0.00013531799729360472,
          "tosses": 73900
         },
         {
          "dev_num_heads": 8,
          "dev_prop_heads": 0.00010810810810812921,
          "tosses": 74000
         },
         {
          "dev_num_heads": 7,
          "dev_prop_heads": 9.446693657222394e-05,
          "tosses": 74100
         },
         {
          "dev_num_heads": 5,
          "dev_prop_heads": 6.738544474393926e-05,
          "tosses": 74200
         },
         {
          "dev_num_heads": -3,
          "dev_prop_heads": -4.0376850605650105e-05,
          "tosses": 74300
         },
         {
          "dev_num_heads": -3,
          "dev_prop_heads": -4.032258064518013e-05,
          "tosses": 74400
         },
         {
          "dev_num_heads": -6,
          "dev_prop_heads": -8.053691275167196e-05,
          "tosses": 74500
         },
         {
          "dev_num_heads": -9,
          "dev_prop_heads": -0.00012064343163536995,
          "tosses": 74600
         },
         {
          "dev_num_heads": -18,
          "dev_prop_heads": -0.00024096385542166088,
          "tosses": 74700
         },
         {
          "dev_num_heads": -10,
          "dev_prop_heads": -0.00013368983957218195,
          "tosses": 74800
         },
         {
          "dev_num_heads": -19,
          "dev_prop_heads": -0.0002536715620827801,
          "tosses": 74900
         },
         {
          "dev_num_heads": -25,
          "dev_prop_heads": -0.00033333333333335213,
          "tosses": 75000
         },
         {
          "dev_num_heads": -35,
          "dev_prop_heads": -0.00046604527296939535,
          "tosses": 75100
         },
         {
          "dev_num_heads": -32,
          "dev_prop_heads": -0.00042553191489363984,
          "tosses": 75200
         },
         {
          "dev_num_heads": -35,
          "dev_prop_heads": -0.0004648074369190125,
          "tosses": 75300
         },
         {
          "dev_num_heads": -42,
          "dev_prop_heads": -0.0005570291777188263,
          "tosses": 75400
         },
         {
          "dev_num_heads": -43,
          "dev_prop_heads": -0.000569536423841055,
          "tosses": 75500
         },
         {
          "dev_num_heads": -44,
          "dev_prop_heads": -0.0005820105820105725,
          "tosses": 75600
         },
         {
          "dev_num_heads": -44,
          "dev_prop_heads": -0.0005812417437252582,
          "tosses": 75700
         },
         {
          "dev_num_heads": -51,
          "dev_prop_heads": -0.0006728232189973649,
          "tosses": 75800
         },
         {
          "dev_num_heads": -50,
          "dev_prop_heads": -0.0006587615283267234,
          "tosses": 75900
         },
         {
          "dev_num_heads": -50,
          "dev_prop_heads": -0.0006578947368420796,
          "tosses": 76000
         },
         {
          "dev_num_heads": -59,
          "dev_prop_heads": -0.000775295663600517,
          "tosses": 76100
         },
         {
          "dev_num_heads": -64,
          "dev_prop_heads": -0.0008398950131233707,
          "tosses": 76200
         },
         {
          "dev_num_heads": -62,
          "dev_prop_heads": -0.0008125819134993661,
          "tosses": 76300
         },
         {
          "dev_num_heads": -59,
          "dev_prop_heads": -0.0007722513089005179,
          "tosses": 76400
         },
         {
          "dev_num_heads": -61,
          "dev_prop_heads": -0.0007973856209150254,
          "tosses": 76500
         },
         {
          "dev_num_heads": -61,
          "dev_prop_heads": -0.0007963446475195979,
          "tosses": 76600
         },
         {
          "dev_num_heads": -56,
          "dev_prop_heads": -0.0007301173402868288,
          "tosses": 76700
         },
         {
          "dev_num_heads": -56,
          "dev_prop_heads": -0.0007291666666666696,
          "tosses": 76800
         },
         {
          "dev_num_heads": -60,
          "dev_prop_heads": -0.000780234070221042,
          "tosses": 76900
         },
         {
          "dev_num_heads": -63,
          "dev_prop_heads": -0.000818181818181829,
          "tosses": 77000
         },
         {
          "dev_num_heads": -62,
          "dev_prop_heads": -0.0008041504539558764,
          "tosses": 77100
         },
         {
          "dev_num_heads": -58,
          "dev_prop_heads": -0.000751295336787583,
          "tosses": 77200
         },
         {
          "dev_num_heads": -62,
          "dev_prop_heads": -0.0008020698576972629,
          "tosses": 77300
         },
         {
          "dev_num_heads": -62,
          "dev_prop_heads": -0.0008010335917312816,
          "tosses": 77400
         },
         {
          "dev_num_heads": -66,
          "dev_prop_heads": -0.0008516129032258291,
          "tosses": 77500
         },
         {
          "dev_num_heads": -73,
          "dev_prop_heads": -0.0009407216494845549,
          "tosses": 77600
         },
         {
          "dev_num_heads": -63,
          "dev_prop_heads": -0.0008108108108108025,
          "tosses": 77700
         },
         {
          "dev_num_heads": -57,
          "dev_prop_heads": -0.0007326478149100035,
          "tosses": 77800
         },
         {
          "dev_num_heads": -55,
          "dev_prop_heads": -0.0007060333761232385,
          "tosses": 77900
         },
         {
          "dev_num_heads": -57,
          "dev_prop_heads": -0.000730769230769257,
          "tosses": 78000
         },
         {
          "dev_num_heads": -54,
          "dev_prop_heads": -0.0006914212548015386,
          "tosses": 78100
         },
         {
          "dev_num_heads": -43,
          "dev_prop_heads": -0.0005498721227621406,
          "tosses": 78200
         },
         {
          "dev_num_heads": -43,
          "dev_prop_heads": -0.0005491698595146977,
          "tosses": 78300
         },
         {
          "dev_num_heads": -43,
          "dev_prop_heads": -0.0005484693877551017,
          "tosses": 78400
         },
         {
          "dev_num_heads": -38,
          "dev_prop_heads": -0.000484076433121039,
          "tosses": 78500
         },
         {
          "dev_num_heads": -37,
          "dev_prop_heads": -0.0004707379134860079,
          "tosses": 78600
         },
         {
          "dev_num_heads": -39,
          "dev_prop_heads": -0.0004955527318932784,
          "tosses": 78700
         },
         {
          "dev_num_heads": -36,
          "dev_prop_heads": -0.00045685279187818173,
          "tosses": 78800
         },
         {
          "dev_num_heads": -42,
          "dev_prop_heads": -0.0005323193916350055,
          "tosses": 78900
         },
         {
          "dev_num_heads": -39,
          "dev_prop_heads": -0.0004936708860759365,
          "tosses": 79000
         },
         {
          "dev_num_heads": -44,
          "dev_prop_heads": -0.0005562579013906332,
          "tosses": 79100
         },
         {
          "dev_num_heads": -46,
          "dev_prop_heads": -0.0005808080808080707,
          "tosses": 79200
         },
         {
          "dev_num_heads": -49,
          "dev_prop_heads": -0.0006179066834804403,
          "tosses": 79300
         },
         {
          "dev_num_heads": -49,
          "dev_prop_heads": -0.0006171284634760577,
          "tosses": 79400
         },
         {
          "dev_num_heads": -47,
          "dev_prop_heads": -0.0005911949685534768,
          "tosses": 79500
         },
         {
          "dev_num_heads": -40,
          "dev_prop_heads": -0.0005025125628140836,
          "tosses": 79600
         },
         {
          "dev_num_heads": -54,
          "dev_prop_heads": -0.0006775407779172071,
          "tosses": 79700
         },
         {
          "dev_num_heads": -55,
          "dev_prop_heads": -0.0006892230576441283,
          "tosses": 79800
         },
         {
          "dev_num_heads": -51,
          "dev_prop_heads": -0.000638297872340432,
          "tosses": 79900
         },
         {
          "dev_num_heads": -58,
          "dev_prop_heads": -0.0007249999999999757,
          "tosses": 80000
         },
         {
          "dev_num_heads": -63,
          "dev_prop_heads": -0.0007865168539326062,
          "tosses": 80100
         },
         {
          "dev_num_heads": -65,
          "dev_prop_heads": -0.0008104738154613433,
          "tosses": 80200
         },
         {
          "dev_num_heads": -73,
          "dev_prop_heads": -0.0009090909090909149,
          "tosses": 80300
         },
         {
          "dev_num_heads": -77,
          "dev_prop_heads": -0.0009577114427860578,
          "tosses": 80400
         },
         {
          "dev_num_heads": -90,
          "dev_prop_heads": -0.0011180124223602594,
          "tosses": 80500
         },
         {
          "dev_num_heads": -93,
          "dev_prop_heads": -0.001153846153846172,
          "tosses": 80600
         },
         {
          "dev_num_heads": -91,
          "dev_prop_heads": -0.0011276332094176111,
          "tosses": 80700
         },
         {
          "dev_num_heads": -88,
          "dev_prop_heads": -0.00108910891089109,
          "tosses": 80800
         },
         {
          "dev_num_heads": -92,
          "dev_prop_heads": -0.0011372064276884974,
          "tosses": 80900
         },
         {
          "dev_num_heads": -89,
          "dev_prop_heads": -0.0010987654320987472,
          "tosses": 81000
         },
         {
          "dev_num_heads": -94,
          "dev_prop_heads": -0.0011590628853267448,
          "tosses": 81100
         },
         {
          "dev_num_heads": -94,
          "dev_prop_heads": -0.0011576354679803114,
          "tosses": 81200
         },
         {
          "dev_num_heads": -90,
          "dev_prop_heads": -0.0011070110701106861,
          "tosses": 81300
         },
         {
          "dev_num_heads": -91,
          "dev_prop_heads": -0.0011179361179360914,
          "tosses": 81400
         },
         {
          "dev_num_heads": -89,
          "dev_prop_heads": -0.0010920245398772788,
          "tosses": 81500
         },
         {
          "dev_num_heads": -84,
          "dev_prop_heads": -0.0010294117647058898,
          "tosses": 81600
         },
         {
          "dev_num_heads": -83,
          "dev_prop_heads": -0.0010159118727049998,
          "tosses": 81700
         },
         {
          "dev_num_heads": -79,
          "dev_prop_heads": -0.0009657701711491273,
          "tosses": 81800
         },
         {
          "dev_num_heads": -80,
          "dev_prop_heads": -0.0009768009768009733,
          "tosses": 81900
         },
         {
          "dev_num_heads": -79,
          "dev_prop_heads": -0.0009634146341463423,
          "tosses": 82000
         },
         {
          "dev_num_heads": -73,
          "dev_prop_heads": -0.0008891595615103665,
          "tosses": 82100
         },
         {
          "dev_num_heads": -81,
          "dev_prop_heads": -0.0009854014598540406,
          "tosses": 82200
         },
         {
          "dev_num_heads": -81,
          "dev_prop_heads": -0.0009842041312272398,
          "tosses": 82300
         },
         {
          "dev_num_heads": -86,
          "dev_prop_heads": -0.0010436893203883413,
          "tosses": 82400
         },
         {
          "dev_num_heads": -94,
          "dev_prop_heads": -0.00113939393939394,
          "tosses": 82500
         },
         {
          "dev_num_heads": -92,
          "dev_prop_heads": -0.001113801452784502,
          "tosses": 82600
         },
         {
          "dev_num_heads": -95,
          "dev_prop_heads": -0.0011487303506650393,
          "tosses": 82700
         },
         {
          "dev_num_heads": -99,
          "dev_prop_heads": -0.0011956521739130421,
          "tosses": 82800
         },
         {
          "dev_num_heads": -107,
          "dev_prop_heads": -0.0012907117008443825,
          "tosses": 82900
         },
         {
          "dev_num_heads": -105,
          "dev_prop_heads": -0.0012650602409638445,
          "tosses": 83000
         },
         {
          "dev_num_heads": -101,
          "dev_prop_heads": -0.001215403128760506,
          "tosses": 83100
         },
         {
          "dev_num_heads": -105,
          "dev_prop_heads": -0.0012620192307692402,
          "tosses": 83200
         },
         {
          "dev_num_heads": -108,
          "dev_prop_heads": -0.0012965186074429536,
          "tosses": 83300
         },
         {
          "dev_num_heads": -105,
          "dev_prop_heads": -0.0012589928057554212,
          "tosses": 83400
         },
         {
          "dev_num_heads": -106,
          "dev_prop_heads": -0.0012694610778443138,
          "tosses": 83500
         },
         {
          "dev_num_heads": -114,
          "dev_prop_heads": -0.0013636363636363447,
          "tosses": 83600
         },
         {
          "dev_num_heads": -109,
          "dev_prop_heads": -0.0013022700119474373,
          "tosses": 83700
         },
         {
          "dev_num_heads": -106,
          "dev_prop_heads": -0.0012649164677804303,
          "tosses": 83800
         },
         {
          "dev_num_heads": -120,
          "dev_prop_heads": -0.0014302741358760418,
          "tosses": 83900
         },
         {
          "dev_num_heads": -126,
          "dev_prop_heads": -0.0015000000000000013,
          "tosses": 84000
         },
         {
          "dev_num_heads": -123,
          "dev_prop_heads": -0.001462544589774073,
          "tosses": 84100
         },
         {
          "dev_num_heads": -126,
          "dev_prop_heads": -0.0014964370546318162,
          "tosses": 84200
         },
         {
          "dev_num_heads": -130,
          "dev_prop_heads": -0.0015421115065243352,
          "tosses": 84300
         },
         {
          "dev_num_heads": -133,
          "dev_prop_heads": -0.0015758293838862292,
          "tosses": 84400
         },
         {
          "dev_num_heads": -128,
          "dev_prop_heads": -0.0015147928994082571,
          "tosses": 84500
         },
         {
          "dev_num_heads": -128,
          "dev_prop_heads": -0.0015130023640662071,
          "tosses": 84600
         },
         {
          "dev_num_heads": -127,
          "dev_prop_heads": -0.001499409681227859,
          "tosses": 84700
         },
         {
          "dev_num_heads": -120,
          "dev_prop_heads": -0.001415094339622669,
          "tosses": 84800
         },
         {
          "dev_num_heads": -114,
          "dev_prop_heads": -0.0013427561837455748,
          "tosses": 84900
         },
         {
          "dev_num_heads": -115,
          "dev_prop_heads": -0.0013529411764706123,
          "tosses": 85000
         },
         {
          "dev_num_heads": -119,
          "dev_prop_heads": -0.0013983548766157705,
          "tosses": 85100
         },
         {
          "dev_num_heads": -119,
          "dev_prop_heads": -0.0013967136150234705,
          "tosses": 85200
         },
         {
          "dev_num_heads": -112,
          "dev_prop_heads": -0.0013130128956623799,
          "tosses": 85300
         },
         {
          "dev_num_heads": -115,
          "dev_prop_heads": -0.0013466042154566815,
          "tosses": 85400
         },
         {
          "dev_num_heads": -113,
          "dev_prop_heads": -0.001321637426900557,
          "tosses": 85500
         },
         {
          "dev_num_heads": -118,
          "dev_prop_heads": -0.001378504672897185,
          "tosses": 85600
         },
         {
          "dev_num_heads": -118,
          "dev_prop_heads": -0.0013768961493582088,
          "tosses": 85700
         },
         {
          "dev_num_heads": -125,
          "dev_prop_heads": -0.001456876456876477,
          "tosses": 85800
         },
         {
          "dev_num_heads": -113,
          "dev_prop_heads": -0.0013154831199068684,
          "tosses": 85900
         },
         {
          "dev_num_heads": -116,
          "dev_prop_heads": -0.0013488372093023449,
          "tosses": 86000
         },
         {
          "dev_num_heads": -111,
          "dev_prop_heads": -0.001289198606271802,
          "tosses": 86100
         },
         {
          "dev_num_heads": -111,
          "dev_prop_heads": -0.001287703016241315,
          "tosses": 86200
         },
         {
          "dev_num_heads": -110,
          "dev_prop_heads": -0.001274623406720743,
          "tosses": 86300
         },
         {
          "dev_num_heads": -121,
          "dev_prop_heads": -0.0014004629629629783,
          "tosses": 86400
         },
         {
          "dev_num_heads": -129,
          "dev_prop_heads": -0.001491329479768766,
          "tosses": 86500
         },
         {
          "dev_num_heads": -125,
          "dev_prop_heads": -0.0014434180138568342,
          "tosses": 86600
         },
         {
          "dev_num_heads": -125,
          "dev_prop_heads": -0.0014417531718569632,
          "tosses": 86700
         },
         {
          "dev_num_heads": -132,
          "dev_prop_heads": -0.0015207373271889368,
          "tosses": 86800
         },
         {
          "dev_num_heads": -135,
          "dev_prop_heads": -0.0015535097813578758,
          "tosses": 86900
         },
         {
          "dev_num_heads": -133,
          "dev_prop_heads": -0.0015287356321839196,
          "tosses": 87000
         },
         {
          "dev_num_heads": -141,
          "dev_prop_heads": -0.0016188289322617844,
          "tosses": 87100
         },
         {
          "dev_num_heads": -139,
          "dev_prop_heads": -0.001594036697247725,
          "tosses": 87200
         },
         {
          "dev_num_heads": -136,
          "dev_prop_heads": -0.0015578465063000868,
          "tosses": 87300
         },
         {
          "dev_num_heads": -144,
          "dev_prop_heads": -0.0016475972540045958,
          "tosses": 87400
         },
         {
          "dev_num_heads": -140,
          "dev_prop_heads": -0.0015999999999999903,
          "tosses": 87500
         },
         {
          "dev_num_heads": -137,
          "dev_prop_heads": -0.001563926940639282,
          "tosses": 87600
         },
         {
          "dev_num_heads": -133,
          "dev_prop_heads": -0.0015165336374002303,
          "tosses": 87700
         },
         {
          "dev_num_heads": -138,
          "dev_prop_heads": -0.0015717539863325802,
          "tosses": 87800
         },
         {
          "dev_num_heads": -144,
          "dev_prop_heads": -0.0016382252559726806,
          "tosses": 87900
         },
         {
          "dev_num_heads": -142,
          "dev_prop_heads": -0.0016136363636363726,
          "tosses": 88000
         },
         {
          "dev_num_heads": -144,
          "dev_prop_heads": -0.0016345062429057866,
          "tosses": 88100
         },
         {
          "dev_num_heads": -138,
          "dev_prop_heads": -0.0015646258503401178,
          "tosses": 88200
         },
         {
          "dev_num_heads": -138,
          "dev_prop_heads": -0.0015628539071347869,
          "tosses": 88300
         },
         {
          "dev_num_heads": -139,
          "dev_prop_heads": -0.0015723981900452322,
          "tosses": 88400
         },
         {
          "dev_num_heads": -131,
          "dev_prop_heads": -0.0014802259887005675,
          "tosses": 88500
         },
         {
          "dev_num_heads": -129,
          "dev_prop_heads": -0.0014559819413092479,
          "tosses": 88600
         },
         {
          "dev_num_heads": -125,
          "dev_prop_heads": -0.0014092446448703555,
          "tosses": 88700
         },
         {
          "dev_num_heads": -127,
          "dev_prop_heads": -0.0014301801801802072,
          "tosses": 88800
         },
         {
          "dev_num_heads": -123,
          "dev_prop_heads": -0.001383577052868401,
          "tosses": 88900
         },
         {
          "dev_num_heads": -135,
          "dev_prop_heads": -0.0015168539325842723,
          "tosses": 89000
         },
         {
          "dev_num_heads": -138,
          "dev_prop_heads": -0.0015488215488215218,
          "tosses": 89100
         },
         {
          "dev_num_heads": -139,
          "dev_prop_heads": -0.0015582959641255445,
          "tosses": 89200
         },
         {
          "dev_num_heads": -142,
          "dev_prop_heads": -0.0015901455767077244,
          "tosses": 89300
         },
         {
          "dev_num_heads": -139,
          "dev_prop_heads": -0.001554809843400451,
          "tosses": 89400
         },
         {
          "dev_num_heads": -131,
          "dev_prop_heads": -0.001463687150838,
          "tosses": 89500
         },
         {
          "dev_num_heads": -127,
          "dev_prop_heads": -0.001417410714285694,
          "tosses": 89600
         },
         {
          "dev_num_heads": -128,
          "dev_prop_heads": -0.0014269788182831866,
          "tosses": 89700
         },
         {
          "dev_num_heads": -124,
          "dev_prop_heads": -0.001380846325167051,
          "tosses": 89800
         },
         {
          "dev_num_heads": -126,
          "dev_prop_heads": -0.0014015572858732117,
          "tosses": 89900
         },
         {
          "dev_num_heads": -124,
          "dev_prop_heads": -0.0013777777777777556,
          "tosses": 90000
         },
         {
          "dev_num_heads": -117,
          "dev_prop_heads": -0.001298557158712521,
          "tosses": 90100
         },
         {
          "dev_num_heads": -123,
          "dev_prop_heads": -0.0013636363636363447,
          "tosses": 90200
         },
         {
          "dev_num_heads": -117,
          "dev_prop_heads": -0.0012956810631229443,
          "tosses": 90300
         },
         {
          "dev_num_heads": -120,
          "dev_prop_heads": -0.0013274336283186083,
          "tosses": 90400
         },
         {
          "dev_num_heads": -123,
          "dev_prop_heads": -0.001359116022099427,
          "tosses": 90500
         },
         {
          "dev_num_heads": -126,
          "dev_prop_heads": -0.0013907284768212014,
          "tosses": 90600
         },
         {
          "dev_num_heads": -132,
          "dev_prop_heads": -0.001455347298787213,
          "tosses": 90700
         },
         {
          "dev_num_heads": -132,
          "dev_prop_heads": -0.001453744493392084,
          "tosses": 90800
         },
         {
          "dev_num_heads": -134,
          "dev_prop_heads": -0.0014741474147415001,
          "tosses": 90900
         },
         {
          "dev_num_heads": -134,
          "dev_prop_heads": -0.0014725274725274629,
          "tosses": 91000
         },
         {
          "dev_num_heads": -139,
          "dev_prop_heads": -0.001525795828759613,
          "tosses": 91100
         },
         {
          "dev_num_heads": -137,
          "dev_prop_heads": -0.0015021929824561298,
          "tosses": 91200
         },
         {
          "dev_num_heads": -141,
          "dev_prop_heads": -0.001544359255202632,
          "tosses": 91300
         },
         {
          "dev_num_heads": -139,
          "dev_prop_heads": -0.0015207877461707042,
          "tosses": 91400
         },
         {
          "dev_num_heads": -144,
          "dev_prop_heads": -0.0015737704918032946,
          "tosses": 91500
         },
         {
          "dev_num_heads": -147,
          "dev_prop_heads": -0.001604803493449769,
          "tosses": 91600
         },
         {
          "dev_num_heads": -159,
          "dev_prop_heads": -0.0017339149400217857,
          "tosses": 91700
         },
         {
          "dev_num_heads": -161,
          "dev_prop_heads": -0.001753812636165586,
          "tosses": 91800
         },
         {
          "dev_num_heads": -174,
          "dev_prop_heads": -0.001893362350380845,
          "tosses": 91900
         },
         {
          "dev_num_heads": -180,
          "dev_prop_heads": -0.0019565217391304124,
          "tosses": 92000
         },
         {
          "dev_num_heads": -192,
          "dev_prop_heads": -0.002084690553745938,
          "tosses": 92100
         },
         {
          "dev_num_heads": -198,
          "dev_prop_heads": -0.0021475054229934676,
          "tosses": 92200
         },
         {
          "dev_num_heads": -199,
          "dev_prop_heads": -0.0021560130010834233,
          "tosses": 92300
         },
         {
          "dev_num_heads": -199,
          "dev_prop_heads": -0.00215367965367963,
          "tosses": 92400
         },
         {
          "dev_num_heads": -191,
          "dev_prop_heads": -0.002064864864864846,
          "tosses": 92500
         },
         {
          "dev_num_heads": -190,
          "dev_prop_heads": -0.0020518358531317338,
          "tosses": 92600
         },
         {
          "dev_num_heads": -195,
          "dev_prop_heads": -0.0021035598705501646,
          "tosses": 92700
         },
         {
          "dev_num_heads": -197,
          "dev_prop_heads": -0.0021228448275862344,
          "tosses": 92800
         },
         {
          "dev_num_heads": -206,
          "dev_prop_heads": -0.0022174381054897996,
          "tosses": 92900
         },
         {
          "dev_num_heads": -206,
          "dev_prop_heads": -0.002215053763440833,
          "tosses": 93000
         },
         {
          "dev_num_heads": -200,
          "dev_prop_heads": -0.0021482277121374627,
          "tosses": 93100
         },
         {
          "dev_num_heads": -197,
          "dev_prop_heads": -0.0021137339055793958,
          "tosses": 93200
         },
         {
          "dev_num_heads": -202,
          "dev_prop_heads": -0.002165058949624876,
          "tosses": 93300
         },
         {
          "dev_num_heads": -196,
          "dev_prop_heads": -0.0020985010706638385,
          "tosses": 93400
         },
         {
          "dev_num_heads": -202,
          "dev_prop_heads": -0.0021604278074866534,
          "tosses": 93500
         },
         {
          "dev_num_heads": -204,
          "dev_prop_heads": -0.002179487179487183,
          "tosses": 93600
         },
         {
          "dev_num_heads": -205,
          "dev_prop_heads": -0.0021878335112059943,
          "tosses": 93700
         },
         {
          "dev_num_heads": -212,
          "dev_prop_heads": -0.0022601279317697176,
          "tosses": 93800
         },
         {
          "dev_num_heads": -214,
          "dev_prop_heads": -0.002279020234291773,
          "tosses": 93900
         },
         {
          "dev_num_heads": -218,
          "dev_prop_heads": -0.00231914893617019,
          "tosses": 94000
         },
         {
          "dev_num_heads": -221,
          "dev_prop_heads": -0.0023485653560042508,
          "tosses": 94100
         },
         {
          "dev_num_heads": -226,
          "dev_prop_heads": -0.002399150743099765,
          "tosses": 94200
         },
         {
          "dev_num_heads": -224,
          "dev_prop_heads": -0.0023753976670201626,
          "tosses": 94300
         },
         {
          "dev_num_heads": -219,
          "dev_prop_heads": -0.0023199152542373036,
          "tosses": 94400
         },
         {
          "dev_num_heads": -220,
          "dev_prop_heads": -0.0023280423280423457,
          "tosses": 94500
         },
         {
          "dev_num_heads": -217,
          "dev_prop_heads": -0.00229386892177591,
          "tosses": 94600
         },
         {
          "dev_num_heads": -225,
          "dev_prop_heads": -0.0023759239704329582,
          "tosses": 94700
         },
         {
          "dev_num_heads": -218,
          "dev_prop_heads": -0.0022995780590717163,
          "tosses": 94800
         },
         {
          "dev_num_heads": -220,
          "dev_prop_heads": -0.0023182297154900056,
          "tosses": 94900
         },
         {
          "dev_num_heads": -222,
          "dev_prop_heads": -0.002336842105263137,
          "tosses": 95000
         },
         {
          "dev_num_heads": -222,
          "dev_prop_heads": -0.0023343848580441584,
          "tosses": 95100
         },
         {
          "dev_num_heads": -215,
          "dev_prop_heads": -0.00225840336134453,
          "tosses": 95200
         },
         {
          "dev_num_heads": -222,
          "dev_prop_heads": -0.0023294858342077784,
          "tosses": 95300
         },
         {
          "dev_num_heads": -215,
          "dev_prop_heads": -0.002253668763102734,
          "tosses": 95400
         },
         {
          "dev_num_heads": -211,
          "dev_prop_heads": -0.0022094240837696177,
          "tosses": 95500
         },
         {
          "dev_num_heads": -216,
          "dev_prop_heads": -0.0022594142259414474,
          "tosses": 95600
         },
         {
          "dev_num_heads": -215,
          "dev_prop_heads": -0.0022466039707418894,
          "tosses": 95700
         },
         {
          "dev_num_heads": -217,
          "dev_prop_heads": -0.0022651356993736993,
          "tosses": 95800
         },
         {
          "dev_num_heads": -214,
          "dev_prop_heads": -0.0022314911366006496,
          "tosses": 95900
         },
         {
          "dev_num_heads": -215,
          "dev_prop_heads": -0.0022395833333333504,
          "tosses": 96000
         },
         {
          "dev_num_heads": -212,
          "dev_prop_heads": -0.0022060353798126764,
          "tosses": 96100
         },
         {
          "dev_num_heads": -209,
          "dev_prop_heads": -0.0021725571725571546,
          "tosses": 96200
         },
         {
          "dev_num_heads": -200,
          "dev_prop_heads": -0.002076843198338507,
          "tosses": 96300
         },
         {
          "dev_num_heads": -208,
          "dev_prop_heads": -0.0021576763485477435,
          "tosses": 96400
         },
         {
          "dev_num_heads": -204,
          "dev_prop_heads": -0.002113989637305691,
          "tosses": 96500
         },
         {
          "dev_num_heads": -205,
          "dev_prop_heads": -0.002122153209109745,
          "tosses": 96600
         },
         {
          "dev_num_heads": -214,
          "dev_prop_heads": -0.0022130299896587213,
          "tosses": 96700
         },
         {
          "dev_num_heads": -215,
          "dev_prop_heads": -0.0022210743801652777,
          "tosses": 96800
         },
         {
          "dev_num_heads": -220,
          "dev_prop_heads": -0.002270381836945279,
          "tosses": 96900
         },
         {
          "dev_num_heads": -218,
          "dev_prop_heads": -0.002247422680412392,
          "tosses": 97000
         },
         {
          "dev_num_heads": -219,
          "dev_prop_heads": -0.0022554067971163883,
          "tosses": 97100
         },
         {
          "dev_num_heads": -221,
          "dev_prop_heads": -0.0022736625514403475,
          "tosses": 97200
         },
         {
          "dev_num_heads": -217,
          "dev_prop_heads": -0.0022302158273381223,
          "tosses": 97300
         },
         {
          "dev_num_heads": -213,
          "dev_prop_heads": -0.0021868583162217847,
          "tosses": 97400
         },
         {
          "dev_num_heads": -211,
          "dev_prop_heads": -0.0021641025641025435,
          "tosses": 97500
         },
         {
          "dev_num_heads": -205,
          "dev_prop_heads": -0.0021004098360655754,
          "tosses": 97600
         },
         {
          "dev_num_heads": -216,
          "dev_prop_heads": -0.0022108495394063676,
          "tosses": 97700
         },
         {
          "dev_num_heads": -223,
          "dev_prop_heads": -0.0022801635991819835,
          "tosses": 97800
         },
         {
          "dev_num_heads": -220,
          "dev_prop_heads": -0.0022471910112359383,
          "tosses": 97900
         },
         {
          "dev_num_heads": -222,
          "dev_prop_heads": -0.0022653061224489623,
          "tosses": 98000
         },
         {
          "dev_num_heads": -235,
          "dev_prop_heads": -0.0023955147808358834,
          "tosses": 98100
         },
         {
          "dev_num_heads": -233,
          "dev_prop_heads": -0.002372708757637454,
          "tosses": 98200
         },
         {
          "dev_num_heads": -228,
          "dev_prop_heads": -0.0023194303153611373,
          "tosses": 98300
         },
         {
          "dev_num_heads": -229,
          "dev_prop_heads": -0.0023272357723577164,
          "tosses": 98400
         },
         {
          "dev_num_heads": -231,
          "dev_prop_heads": -0.002345177664974607,
          "tosses": 98500
         },
         {
          "dev_num_heads": -227,
          "dev_prop_heads": -0.0023022312373225384,
          "tosses": 98600
         },
         {
          "dev_num_heads": -236,
          "dev_prop_heads": -0.0023910840932117594,
          "tosses": 98700
         },
         {
          "dev_num_heads": -241,
          "dev_prop_heads": -0.0024392712550607154,
          "tosses": 98800
         },
         {
          "dev_num_heads": -243,
          "dev_prop_heads": -0.0024570273003033383,
          "tosses": 98900
         },
         {
          "dev_num_heads": -237,
          "dev_prop_heads": -0.0023939393939393927,
          "tosses": 99000
         },
         {
          "dev_num_heads": -240,
          "dev_prop_heads": -0.0024217961654894316,
          "tosses": 99100
         },
         {
          "dev_num_heads": -239,
          "dev_prop_heads": -0.002409274193548361,
          "tosses": 99200
         },
         {
          "dev_num_heads": -239,
          "dev_prop_heads": -0.0024068479355488503,
          "tosses": 99300
         },
         {
          "dev_num_heads": -238,
          "dev_prop_heads": -0.0023943661971830843,
          "tosses": 99400
         },
         {
          "dev_num_heads": -233,
          "dev_prop_heads": -0.002341708542713594,
          "tosses": 99500
         },
         {
          "dev_num_heads": -233,
          "dev_prop_heads": -0.002339357429718858,
          "tosses": 99600
         },
         {
          "dev_num_heads": -237,
          "dev_prop_heads": -0.0023771313941825523,
          "tosses": 99700
         },
         {
          "dev_num_heads": -229,
          "dev_prop_heads": -0.002294589178356732,
          "tosses": 99800
         },
         {
          "dev_num_heads": -232,
          "dev_prop_heads": -0.0023223223223223233,
          "tosses": 99900
         },
         {
          "dev_num_heads": -233,
          "dev_prop_heads": -0.0023299999999999987,
          "tosses": 100000
         },
         {
          "dev_num_heads": -235,
          "dev_prop_heads": -0.0023476523476523292,
          "tosses": 100100
         },
         {
          "dev_num_heads": -233,
          "dev_prop_heads": -0.002325349301397217,
          "tosses": 100200
         },
         {
          "dev_num_heads": -235,
          "dev_prop_heads": -0.0023429710867397535,
          "tosses": 100300
         },
         {
          "dev_num_heads": -240,
          "dev_prop_heads": -0.002390438247011961,
          "tosses": 100400
         },
         {
          "dev_num_heads": -238,
          "dev_prop_heads": -0.0023681592039800914,
          "tosses": 100500
         },
         {
          "dev_num_heads": -235,
          "dev_prop_heads": -0.002335984095427457,
          "tosses": 100600
         },
         {
          "dev_num_heads": -244,
          "dev_prop_heads": -0.0024230387288977084,
          "tosses": 100700
         },
         {
          "dev_num_heads": -242,
          "dev_prop_heads": -0.0024007936507936534,
          "tosses": 100800
         },
         {
          "dev_num_heads": -248,
          "dev_prop_heads": -0.0024578790882061607,
          "tosses": 100900
         },
         {
          "dev_num_heads": -258,
          "dev_prop_heads": -0.0025544554455445567,
          "tosses": 101000
         },
         {
          "dev_num_heads": -258,
          "dev_prop_heads": -0.002551928783382784,
          "tosses": 101100
         },
         {
          "dev_num_heads": -266,
          "dev_prop_heads": -0.0026284584980237335,
          "tosses": 101200
         },
         {
          "dev_num_heads": -266,
          "dev_prop_heads": -0.002625863770977288,
          "tosses": 101300
         },
         {
          "dev_num_heads": -266,
          "dev_prop_heads": -0.002623274161735689,
          "tosses": 101400
         },
         {
          "dev_num_heads": -264,
          "dev_prop_heads": -0.0026009852216749008,
          "tosses": 101500
         },
         {
          "dev_num_heads": -265,
          "dev_prop_heads": -0.0026082677165354395,
          "tosses": 101600
         },
         {
          "dev_num_heads": -269,
          "dev_prop_heads": -0.0026450344149459015,
          "tosses": 101700
         },
         {
          "dev_num_heads": -269,
          "dev_prop_heads": -0.002642436149312366,
          "tosses": 101800
         },
         {
          "dev_num_heads": -276,
          "dev_prop_heads": -0.002708537782139364,
          "tosses": 101900
         },
         {
          "dev_num_heads": -277,
          "dev_prop_heads": -0.0027156862745097987,
          "tosses": 102000
         },
         {
          "dev_num_heads": -274,
          "dev_prop_heads": -0.002683643486777687,
          "tosses": 102100
         },
         {
          "dev_num_heads": -276,
          "dev_prop_heads": -0.00270058708414872,
          "tosses": 102200
         },
         {
          "dev_num_heads": -273,
          "dev_prop_heads": -0.002668621700879781,
          "tosses": 102300
         },
         {
          "dev_num_heads": -279,
          "dev_prop_heads": -0.00272460937500002,
          "tosses": 102400
         },
         {
          "dev_num_heads": -282,
          "dev_prop_heads": -0.0027512195121951466,
          "tosses": 102500
         },
         {
          "dev_num_heads": -284,
          "dev_prop_heads": -0.0027680311890838083,
          "tosses": 102600
         },
         {
          "dev_num_heads": -279,
          "dev_prop_heads": -0.0027166504381694323,
          "tosses": 102700
         },
         {
          "dev_num_heads": -280,
          "dev_prop_heads": -0.0027237354085603016,
          "tosses": 102800
         },
         {
          "dev_num_heads": -283,
          "dev_prop_heads": -0.0027502429543245777,
          "tosses": 102900
         },
         {
          "dev_num_heads": -286,
          "dev_prop_heads": -0.002776699029126195,
          "tosses": 103000
         },
         {
          "dev_num_heads": -290,
          "dev_prop_heads": -0.002812803103782735,
          "tosses": 103100
         },
         {
          "dev_num_heads": -292,
          "dev_prop_heads": -0.0028294573643410925,
          "tosses": 103200
         },
         {
          "dev_num_heads": -296,
          "dev_prop_heads": -0.0028654404646660248,
          "tosses": 103300
         },
         {
          "dev_num_heads": -292,
          "dev_prop_heads": -0.002823984526112211,
          "tosses": 103400
         },
         {
          "dev_num_heads": -299,
          "dev_prop_heads": -0.0028888888888888853,
          "tosses": 103500
         },
         {
          "dev_num_heads": -301,
          "dev_prop_heads": -0.0029054054054054035,
          "tosses": 103600
         },
         {
          "dev_num_heads": -300,
          "dev_prop_heads": -0.002892960462873684,
          "tosses": 103700
         },
         {
          "dev_num_heads": -295,
          "dev_prop_heads": -0.0028420038535645342,
          "tosses": 103800
         },
         {
          "dev_num_heads": -297,
          "dev_prop_heads": -0.0028585178055822724,
          "tosses": 103900
         },
         {
          "dev_num_heads": -287,
          "dev_prop_heads": -0.002759615384615388,
          "tosses": 104000
         },
         {
          "dev_num_heads": -282,
          "dev_prop_heads": -0.0027089337175792427,
          "tosses": 104100
         },
         {
          "dev_num_heads": -279,
          "dev_prop_heads": -0.002677543186180409,
          "tosses": 104200
         },
         {
          "dev_num_heads": -282,
          "dev_prop_heads": -0.0027037392138063443,
          "tosses": 104300
         },
         {
          "dev_num_heads": -280,
          "dev_prop_heads": -0.0026819923371647625,
          "tosses": 104400
         },
         {
          "dev_num_heads": -277,
          "dev_prop_heads": -0.0026507177033492924,
          "tosses": 104500
         },
         {
          "dev_num_heads": -278,
          "dev_prop_heads": -0.0026577437858508746,
          "tosses": 104600
         },
         {
          "dev_num_heads": -286,
          "dev_prop_heads": -0.002731614135625615,
          "tosses": 104700
         },
         {
          "dev_num_heads": -276,
          "dev_prop_heads": -0.0026335877862595503,
          "tosses": 104800
         },
         {
          "dev_num_heads": -262,
          "dev_prop_heads": -0.002497616777883682,
          "tosses": 104900
         },
         {
          "dev_num_heads": -263,
          "dev_prop_heads": -0.0025047619047618985,
          "tosses": 105000
         },
         {
          "dev_num_heads": -266,
          "dev_prop_heads": -0.0025309229305423564,
          "tosses": 105100
         },
         {
          "dev_num_heads": -269,
          "dev_prop_heads": -0.002557034220532328,
          "tosses": 105200
         },
         {
          "dev_num_heads": -269,
          "dev_prop_heads": -0.0025546058879392097,
          "tosses": 105300
         },
         {
          "dev_num_heads": -270,
          "dev_prop_heads": -0.002561669829222013,
          "tosses": 105400
         },
         {
          "dev_num_heads": -270,
          "dev_prop_heads": -0.0025592417061611195,
          "tosses": 105500
         },
         {
          "dev_num_heads": -274,
          "dev_prop_heads": -0.002594696969696997,
          "tosses": 105600
         },
         {
          "dev_num_heads": -276,
          "dev_prop_heads": -0.0026111636707663033,
          "tosses": 105700
         },
         {
          "dev_num_heads": -273,
          "dev_prop_heads": -0.0025803402646502605,
          "tosses": 105800
         },
         {
          "dev_num_heads": -275,
          "dev_prop_heads": -0.002596789423984891,
          "tosses": 105900
         },
         {
          "dev_num_heads": -275,
          "dev_prop_heads": -0.002594339622641495,
          "tosses": 106000
         },
         {
          "dev_num_heads": -277,
          "dev_prop_heads": -0.0026107445805843565,
          "tosses": 106100
         },
         {
          "dev_num_heads": -279,
          "dev_prop_heads": -0.002627118644067783,
          "tosses": 106200
         },
         {
          "dev_num_heads": -282,
          "dev_prop_heads": -0.0026528692380056174,
          "tosses": 106300
         },
         {
          "dev_num_heads": -281,
          "dev_prop_heads": -0.002640977443609027,
          "tosses": 106400
         },
         {
          "dev_num_heads": -281,
          "dev_prop_heads": -0.0026384976525821724,
          "tosses": 106500
         },
         {
          "dev_num_heads": -287,
          "dev_prop_heads": -0.002692307692307716,
          "tosses": 106600
         },
         {
          "dev_num_heads": -276,
          "dev_prop_heads": -0.0025866916588566102,
          "tosses": 106700
         },
         {
          "dev_num_heads": -277,
          "dev_prop_heads": -0.002593632958801495,
          "tosses": 106800
         },
         {
          "dev_num_heads": -276,
          "dev_prop_heads": -0.0025818521983161924,
          "tosses": 106900
         },
         {
          "dev_num_heads": -273,
          "dev_prop_heads": -0.0025514018691588647,
          "tosses": 107000
         },
         {
          "dev_num_heads": -268,
          "dev_prop_heads": -0.0025023342670401627,
          "tosses": 107100
         },
         {
          "dev_num_heads": -263,
          "dev_prop_heads": -0.002453358208955203,
          "tosses": 107200
         },
         {
          "dev_num_heads": -274,
          "dev_prop_heads": -0.002553588070829449,
          "tosses": 107300
         },
         {
          "dev_num_heads": -276,
          "dev_prop_heads": -0.0025698324022346286,
          "tosses": 107400
         },
         {
          "dev_num_heads": -281,
          "dev_prop_heads": -0.002613953488372067,
          "tosses": 107500
         },
         {
          "dev_num_heads": -280,
          "dev_prop_heads": -0.0026022304832713505,
          "tosses": 107600
         },
         {
          "dev_num_heads": -277,
          "dev_prop_heads": -0.0025719591457752933,
          "tosses": 107700
         },
         {
          "dev_num_heads": -279,
          "dev_prop_heads": -0.0025881261595547267,
          "tosses": 107800
         },
         {
          "dev_num_heads": -278,
          "dev_prop_heads": -0.002576459684893395,
          "tosses": 107900
         },
         {
          "dev_num_heads": -275,
          "dev_prop_heads": -0.0025462962962962687,
          "tosses": 108000
         },
         {
          "dev_num_heads": -272,
          "dev_prop_heads": -0.0025161887141535444,
          "tosses": 108100
         },
         {
          "dev_num_heads": -278,
          "dev_prop_heads": -0.0025693160813308746,
          "tosses": 108200
         },
         {
          "dev_num_heads": -280,
          "dev_prop_heads": -0.002585410895660223,
          "tosses": 108300
         },
         {
          "dev_num_heads": -276,
          "dev_prop_heads": -0.0025461254612546003,
          "tosses": 108400
         },
         {
          "dev_num_heads": -281,
          "dev_prop_heads": -0.002589861751152056,
          "tosses": 108500
         },
         {
          "dev_num_heads": -277,
          "dev_prop_heads": -0.0025506445672191513,
          "tosses": 108600
         },
         {
          "dev_num_heads": -276,
          "dev_prop_heads": -0.002539098436062537,
          "tosses": 108700
         },
         {
          "dev_num_heads": -280,
          "dev_prop_heads": -0.0025735294117646967,
          "tosses": 108800
         },
         {
          "dev_num_heads": -279,
          "dev_prop_heads": -0.0025619834710743916,
          "tosses": 108900
         },
         {
          "dev_num_heads": -283,
          "dev_prop_heads": -0.002596330275229375,
          "tosses": 109000
         },
         {
          "dev_num_heads": -280,
          "dev_prop_heads": -0.00256645279560036,
          "tosses": 109100
         },
         {
          "dev_num_heads": -280,
          "dev_prop_heads": -0.002564102564102555,
          "tosses": 109200
         },
         {
          "dev_num_heads": -278,
          "dev_prop_heads": -0.0025434583714546988,
          "tosses": 109300
         },
         {
          "dev_num_heads": -283,
          "dev_prop_heads": -0.0025868372943327334,
          "tosses": 109400
         },
         {
          "dev_num_heads": -283,
          "dev_prop_heads": -0.002584474885844734,
          "tosses": 109500
         },
         {
          "dev_num_heads": -284,
          "dev_prop_heads": -0.002591240875912393,
          "tosses": 109600
         },
         {
          "dev_num_heads": -275,
          "dev_prop_heads": -0.002506836827711967,
          "tosses": 109700
         },
         {
          "dev_num_heads": -273,
          "dev_prop_heads": -0.0024863387978141804,
          "tosses": 109800
         },
         {
          "dev_num_heads": -283,
          "dev_prop_heads": -0.0025750682438580585,
          "tosses": 109900
         },
         {
          "dev_num_heads": -286,
          "dev_prop_heads": -0.002599999999999991,
          "tosses": 110000
         },
         {
          "dev_num_heads": -284,
          "dev_prop_heads": -0.002579473206176186,
          "tosses": 110100
         },
         {
          "dev_num_heads": -284,
          "dev_prop_heads": -0.0025771324863884115,
          "tosses": 110200
         },
         {
          "dev_num_heads": -282,
          "dev_prop_heads": -0.0025566636446056057,
          "tosses": 110300
         },
         {
          "dev_num_heads": -293,
          "dev_prop_heads": -0.0026539855072463814,
          "tosses": 110400
         },
         {
          "dev_num_heads": -285,
          "dev_prop_heads": -0.002579185520362015,
          "tosses": 110500
         },
         {
          "dev_num_heads": -276,
          "dev_prop_heads": -0.0024954792043399565,
          "tosses": 110600
         },
         {
          "dev_num_heads": -278,
          "dev_prop_heads": -0.002511291779584479,
          "tosses": 110700
         },
         {
          "dev_num_heads": -282,
          "dev_prop_heads": -0.0025451263537906166,
          "tosses": 110800
         },
         {
          "dev_num_heads": -285,
          "dev_prop_heads": -0.002569882777276822,
          "tosses": 110900
         },
         {
          "dev_num_heads": -287,
          "dev_prop_heads": -0.0025855855855855814,
          "tosses": 111000
         },
         {
          "dev_num_heads": -291,
          "dev_prop_heads": -0.0026192619261926064,
          "tosses": 111100
         },
         {
          "dev_num_heads": -293,
          "dev_prop_heads": -0.002634892086330942,
          "tosses": 111200
         },
         {
          "dev_num_heads": -298,
          "dev_prop_heads": -0.002677448337825683,
          "tosses": 111300
         },
         {
          "dev_num_heads": -310,
          "dev_prop_heads": -0.002782764811490146,
          "tosses": 111400
         },
         {
          "dev_num_heads": -313,
          "dev_prop_heads": -0.002807174887892394,
          "tosses": 111500
         },
         {
          "dev_num_heads": -321,
          "dev_prop_heads": -0.0028763440860214984,
          "tosses": 111600
         },
         {
          "dev_num_heads": -323,
          "dev_prop_heads": -0.002891674127126209,
          "tosses": 111700
         },
         {
          "dev_num_heads": -327,
          "dev_prop_heads": -0.0029248658318425935,
          "tosses": 111800
         },
         {
          "dev_num_heads": -327,
          "dev_prop_heads": -0.0029222520107238803,
          "tosses": 111900
         },
         {
          "dev_num_heads": -322,
          "dev_prop_heads": -0.0028750000000000164,
          "tosses": 112000
         },
         {
          "dev_num_heads": -320,
          "dev_prop_heads": -0.0028545941123996332,
          "tosses": 112100
         },
         {
          "dev_num_heads": -316,
          "dev_prop_heads": -0.0028163992869875143,
          "tosses": 112200
         },
         {
          "dev_num_heads": -318,
          "dev_prop_heads": -0.0028317008014247524,
          "tosses": 112300
         },
         {
          "dev_num_heads": -317,
          "dev_prop_heads": -0.00282028469750889,
          "tosses": 112400
         },
         {
          "dev_num_heads": -309,
          "dev_prop_heads": -0.002746666666666675,
          "tosses": 112500
         },
         {
          "dev_num_heads": -319,
          "dev_prop_heads": -0.002833037300177643,
          "tosses": 112600
         },
         {
          "dev_num_heads": -313,
          "dev_prop_heads": -0.002777284826974258,
          "tosses": 112700
         },
         {
          "dev_num_heads": -317,
          "dev_prop_heads": -0.0028102836879432824,
          "tosses": 112800
         },
         {
          "dev_num_heads": -321,
          "dev_prop_heads": -0.0028432240921169027,
          "tosses": 112900
         },
         {
          "dev_num_heads": -317,
          "dev_prop_heads": -0.0028053097345132616,
          "tosses": 113000
         },
         {
          "dev_num_heads": -323,
          "dev_prop_heads": -0.002855879752431456,
          "tosses": 113100
         },
         {
          "dev_num_heads": -320,
          "dev_prop_heads": -0.0028268551236749206,
          "tosses": 113200
         },
         {
          "dev_num_heads": -313,
          "dev_prop_heads": -0.00276257722859663,
          "tosses": 113300
         },
         {
          "dev_num_heads": -312,
          "dev_prop_heads": -0.0027513227513227267,
          "tosses": 113400
         },
         {
          "dev_num_heads": -320,
          "dev_prop_heads": -0.0028193832599118784,
          "tosses": 113500
         },
         {
          "dev_num_heads": -323,
          "dev_prop_heads": -0.00284330985915493,
          "tosses": 113600
         },
         {
          "dev_num_heads": -326,
          "dev_prop_heads": -0.002867194371152182,
          "tosses": 113700
         },
         {
          "dev_num_heads": -328,
          "dev_prop_heads": -0.0028822495606327103,
          "tosses": 113800
         },
         {
          "dev_num_heads": -326,
          "dev_prop_heads": -0.0028621597892888317,
          "tosses": 113900
         },
         {
          "dev_num_heads": -331,
          "dev_prop_heads": -0.002903508771929797,
          "tosses": 114000
         },
         {
          "dev_num_heads": -334,
          "dev_prop_heads": -0.002927256792287447,
          "tosses": 114100
         },
         {
          "dev_num_heads": -331,
          "dev_prop_heads": -0.0028984238178633714,
          "tosses": 114200
         },
         {
          "dev_num_heads": -326,
          "dev_prop_heads": -0.0028521434820647507,
          "tosses": 114300
         },
         {
          "dev_num_heads": -325,
          "dev_prop_heads": -0.002840909090909116,
          "tosses": 114400
         },
         {
          "dev_num_heads": -314,
          "dev_prop_heads": -0.0027423580786026247,
          "tosses": 114500
         },
         {
          "dev_num_heads": -324,
          "dev_prop_heads": -0.0028272251308900653,
          "tosses": 114600
         },
         {
          "dev_num_heads": -333,
          "dev_prop_heads": -0.002903225806451637,
          "tosses": 114700
         },
         {
          "dev_num_heads": -329,
          "dev_prop_heads": -0.002865853658536588,
          "tosses": 114800
         },
         {
          "dev_num_heads": -337,
          "dev_prop_heads": -0.0029329852045256732,
          "tosses": 114900
         },
         {
          "dev_num_heads": -335,
          "dev_prop_heads": -0.0029130434782608794,
          "tosses": 115000
         },
         {
          "dev_num_heads": -334,
          "dev_prop_heads": -0.0029018245004344134,
          "tosses": 115100
         },
         {
          "dev_num_heads": -331,
          "dev_prop_heads": -0.002873263888888866,
          "tosses": 115200
         },
         {
          "dev_num_heads": -338,
          "dev_prop_heads": -0.002931483087597553,
          "tosses": 115300
         },
         {
          "dev_num_heads": -335,
          "dev_prop_heads": -0.0029029462738301426,
          "tosses": 115400
         },
         {
          "dev_num_heads": -331,
          "dev_prop_heads": -0.0028658008658008494,
          "tosses": 115500
         },
         {
          "dev_num_heads": -341,
          "dev_prop_heads": -0.002949826989619375,
          "tosses": 115600
         },
         {
          "dev_num_heads": -342,
          "dev_prop_heads": -0.002955920484010388,
          "tosses": 115700
         },
         {
          "dev_num_heads": -346,
          "dev_prop_heads": -0.0029879101899827343,
          "tosses": 115800
         },
         {
          "dev_num_heads": -348,
          "dev_prop_heads": -0.003002588438308862,
          "tosses": 115900
         },
         {
          "dev_num_heads": -347,
          "dev_prop_heads": -0.0029913793103448216,
          "tosses": 116000
         },
         {
          "dev_num_heads": -350,
          "dev_prop_heads": -0.0030146425495262696,
          "tosses": 116100
         },
         {
          "dev_num_heads": -358,
          "dev_prop_heads": -0.003080895008605866,
          "tosses": 116200
         },
         {
          "dev_num_heads": -359,
          "dev_prop_heads": -0.0030868443680137636,
          "tosses": 116300
         },
         {
          "dev_num_heads": -364,
          "dev_prop_heads": -0.003127147766323002,
          "tosses": 116400
         },
         {
          "dev_num_heads": -354,
          "dev_prop_heads": -0.003038626609442041,
          "tosses": 116500
         },
         {
          "dev_num_heads": -349,
          "dev_prop_heads": -0.002993138936535189,
          "tosses": 116600
         },
         {
          "dev_num_heads": -353,
          "dev_prop_heads": -0.0030248500428449177,
          "tosses": 116700
         },
         {
          "dev_num_heads": -349,
          "dev_prop_heads": -0.00298801369863011,
          "tosses": 116800
         },
         {
          "dev_num_heads": -356,
          "dev_prop_heads": -0.0030453378956373234,
          "tosses": 116900
         },
         {
          "dev_num_heads": -357,
          "dev_prop_heads": -0.003051282051282078,
          "tosses": 117000
         },
         {
          "dev_num_heads": -358,
          "dev_prop_heads": -0.003057216054654144,
          "tosses": 117100
         },
         {
          "dev_num_heads": -362,
          "dev_prop_heads": -0.0030887372013652103,
          "tosses": 117200
         },
         {
          "dev_num_heads": -363,
          "dev_prop_heads": -0.00309462915601022,
          "tosses": 117300
         },
         {
          "dev_num_heads": -368,
          "dev_prop_heads": -0.003134582623509352,
          "tosses": 117400
         },
         {
          "dev_num_heads": -365,
          "dev_prop_heads": -0.0031063829787233987,
          "tosses": 117500
         },
         {
          "dev_num_heads": -372,
          "dev_prop_heads": -0.0031632653061224314,
          "tosses": 117600
         },
         {
          "dev_num_heads": -367,
          "dev_prop_heads": -0.0031180968564146205,
          "tosses": 117700
         },
         {
          "dev_num_heads": -366,
          "dev_prop_heads": -0.003106960950764015,
          "tosses": 117800
         },
         {
          "dev_num_heads": -359,
          "dev_prop_heads": -0.003044953350296864,
          "tosses": 117900
         },
         {
          "dev_num_heads": -354,
          "dev_prop_heads": -0.0030000000000000027,
          "tosses": 118000
         },
         {
          "dev_num_heads": -363,
          "dev_prop_heads": -0.0030736663844199708,
          "tosses": 118100
         },
         {
          "dev_num_heads": -363,
          "dev_prop_heads": -0.0030710659898477433,
          "tosses": 118200
         },
         {
          "dev_num_heads": -365,
          "dev_prop_heads": -0.003085376162299258,
          "tosses": 118300
         },
         {
          "dev_num_heads": -376,
          "dev_prop_heads": -0.003175675675675671,
          "tosses": 118400
         },
         {
          "dev_num_heads": -377,
          "dev_prop_heads": -0.0031814345991560966,
          "tosses": 118500
         },
         {
          "dev_num_heads": -385,
          "dev_prop_heads": -0.0032462057335581607,
          "tosses": 118600
         },
         {
          "dev_num_heads": -387,
          "dev_prop_heads": -0.003260320134793604,
          "tosses": 118700
         },
         {
          "dev_num_heads": -386,
          "dev_prop_heads": -0.003249158249158224,
          "tosses": 118800
         },
         {
          "dev_num_heads": -384,
          "dev_prop_heads": -0.0032296047098401837,
          "tosses": 118900
         },
         {
          "dev_num_heads": -385,
          "dev_prop_heads": -0.0032352941176470584,
          "tosses": 119000
         },
         {
          "dev_num_heads": -385,
          "dev_prop_heads": -0.003232577665827019,
          "tosses": 119100
         },
         {
          "dev_num_heads": -386,
          "dev_prop_heads": -0.0032382550335570692,
          "tosses": 119200
         },
         {
          "dev_num_heads": -380,
          "dev_prop_heads": -0.003185247275775349,
          "tosses": 119300
         },
         {
          "dev_num_heads": -378,
          "dev_prop_heads": -0.0031658291457286603,
          "tosses": 119400
         },
         {
          "dev_num_heads": -376,
          "dev_prop_heads": -0.003146443514644326,
          "tosses": 119500
         },
         {
          "dev_num_heads": -379,
          "dev_prop_heads": -0.003168896321070258,
          "tosses": 119600
         },
         {
          "dev_num_heads": -383,
          "dev_prop_heads": -0.003199665831244758,
          "tosses": 119700
         },
         {
          "dev_num_heads": -383,
          "dev_prop_heads": -0.0031969949916527685,
          "tosses": 119800
         },
         {
          "dev_num_heads": -380,
          "dev_prop_heads": -0.003169307756463735,
          "tosses": 119900
         },
         {
          "dev_num_heads": -388,
          "dev_prop_heads": -0.0032333333333333103,
          "tosses": 120000
         },
         {
          "dev_num_heads": -384,
          "dev_prop_heads": -0.0031973355537052717,
          "tosses": 120100
         },
         {
          "dev_num_heads": -391,
          "dev_prop_heads": -0.0032529118136438995,
          "tosses": 120200
         },
         {
          "dev_num_heads": -381,
          "dev_prop_heads": -0.003167082294264323,
          "tosses": 120300
         },
         {
          "dev_num_heads": -383,
          "dev_prop_heads": -0.0031810631229235997,
          "tosses": 120400
         },
         {
          "dev_num_heads": -381,
          "dev_prop_heads": -0.0031618257261410987,
          "tosses": 120500
         },
         {
          "dev_num_heads": -378,
          "dev_prop_heads": -0.003134328358208982,
          "tosses": 120600
         },
         {
          "dev_num_heads": -375,
          "dev_prop_heads": -0.003106876553438276,
          "tosses": 120700
         },
         {
          "dev_num_heads": -368,
          "dev_prop_heads": -0.0030463576158940575,
          "tosses": 120800
         },
         {
          "dev_num_heads": -361,
          "dev_prop_heads": -0.002985938792390397,
          "tosses": 120900
         },
         {
          "dev_num_heads": -361,
          "dev_prop_heads": -0.002983471074380184,
          "tosses": 121000
         },
         {
          "dev_num_heads": -363,
          "dev_prop_heads": -0.00299752270850534,
          "tosses": 121100
         },
         {
          "dev_num_heads": -361,
          "dev_prop_heads": -0.0029785478547854627,
          "tosses": 121200
         },
         {
          "dev_num_heads": -362,
          "dev_prop_heads": -0.0029843363561418146,
          "tosses": 121300
         },
         {
          "dev_num_heads": -365,
          "dev_prop_heads": -0.003006589785831959,
          "tosses": 121400
         },
         {
          "dev_num_heads": -366,
          "dev_prop_heads": -0.003012345679012318,
          "tosses": 121500
         },
         {
          "dev_num_heads": -362,
          "dev_prop_heads": -0.0029769736842105154,
          "tosses": 121600
         },
         {
          "dev_num_heads": -360,
          "dev_prop_heads": -0.0029580936729662888,
          "tosses": 121700
         },
         {
          "dev_num_heads": -355,
          "dev_prop_heads": -0.0029146141215106725,
          "tosses": 121800
         },
         {
          "dev_num_heads": -367,
          "dev_prop_heads": -0.0030106644790812154,
          "tosses": 121900
         },
         {
          "dev_num_heads": -370,
          "dev_prop_heads": -0.003032786885245886,
          "tosses": 122000
         },
         {
          "dev_num_heads": -372,
          "dev_prop_heads": -0.003046683046683041,
          "tosses": 122100
         },
         {
          "dev_num_heads": -369,
          "dev_prop_heads": -0.0030196399345335245,
          "tosses": 122200
         },
         {
          "dev_num_heads": -376,
          "dev_prop_heads": -0.0030744071954210694,
          "tosses": 122300
         },
         {
          "dev_num_heads": -379,
          "dev_prop_heads": -0.003096405228758148,
          "tosses": 122400
         },
         {
          "dev_num_heads": -377,
          "dev_prop_heads": -0.003077551020408187,
          "tosses": 122500
         },
         {
          "dev_num_heads": -383,
          "dev_prop_heads": -0.00312398042414358,
          "tosses": 122600
         },
         {
          "dev_num_heads": -380,
          "dev_prop_heads": -0.00309698451507745,
          "tosses": 122700
         },
         {
          "dev_num_heads": -373,
          "dev_prop_heads": -0.0030374592833876113,
          "tosses": 122800
         },
         {
          "dev_num_heads": -371,
          "dev_prop_heads": -0.0030187144019527823,
          "tosses": 122900
         },
         {
          "dev_num_heads": -372,
          "dev_prop_heads": -0.0030243902439024417,
          "tosses": 123000
         },
         {
          "dev_num_heads": -373,
          "dev_prop_heads": -0.0030300568643379377,
          "tosses": 123100
         },
         {
          "dev_num_heads": -374,
          "dev_prop_heads": -0.0030357142857143082,
          "tosses": 123200
         },
         {
          "dev_num_heads": -373,
          "dev_prop_heads": -0.0030251419302514404,
          "tosses": 123300
         },
         {
          "dev_num_heads": -367,
          "dev_prop_heads": -0.0029740680713127854,
          "tosses": 123400
         },
         {
          "dev_num_heads": -377,
          "dev_prop_heads": -0.0030526315789473624,
          "tosses": 123500
         },
         {
          "dev_num_heads": -374,
          "dev_prop_heads": -0.0030258899676375295,
          "tosses": 123600
         },
         {
          "dev_num_heads": -371,
          "dev_prop_heads": -0.0029991915925626778,
          "tosses": 123700
         },
         {
          "dev_num_heads": -369,
          "dev_prop_heads": -0.0029806138933763937,
          "tosses": 123800
         },
         {
          "dev_num_heads": -372,
          "dev_prop_heads": -0.0030024213075060535,
          "tosses": 123900
         },
         {
          "dev_num_heads": -378,
          "dev_prop_heads": -0.0030483870967741855,
          "tosses": 124000
         },
         {
          "dev_num_heads": -375,
          "dev_prop_heads": -0.0030217566478646374,
          "tosses": 124100
         },
         {
          "dev_num_heads": -383,
          "dev_prop_heads": -0.00308373590982286,
          "tosses": 124200
         },
         {
          "dev_num_heads": -381,
          "dev_prop_heads": -0.0030651649235720058,
          "tosses": 124300
         },
         {
          "dev_num_heads": -385,
          "dev_prop_heads": -0.0030948553054662153,
          "tosses": 124400
         },
         {
          "dev_num_heads": -386,
          "dev_prop_heads": -0.003100401606425718,
          "tosses": 124500
         },
         {
          "dev_num_heads": -393,
          "dev_prop_heads": -0.003154093097913313,
          "tosses": 124600
         },
         {
          "dev_num_heads": -384,
          "dev_prop_heads": -0.003079390537289506,
          "tosses": 124700
         },
         {
          "dev_num_heads": -389,
          "dev_prop_heads": -0.003116987179487163,
          "tosses": 124800
         },
         {
          "dev_num_heads": -384,
          "dev_prop_heads": -0.0030744595676541198,
          "tosses": 124900
         },
         {
          "dev_num_heads": -382,
          "dev_prop_heads": -0.003056000000000003,
          "tosses": 125000
         },
         {
          "dev_num_heads": -391,
          "dev_prop_heads": -0.00312549960031977,
          "tosses": 125100
         },
         {
          "dev_num_heads": -398,
          "dev_prop_heads": -0.0031789137380191512,
          "tosses": 125200
         },
         {
          "dev_num_heads": -397,
          "dev_prop_heads": -0.003168395849960093,
          "tosses": 125300
         },
         {
          "dev_num_heads": -401,
          "dev_prop_heads": -0.0031977671451355882,
          "tosses": 125400
         },
         {
          "dev_num_heads": -403,
          "dev_prop_heads": -0.0032111553784860414,
          "tosses": 125500
         },
         {
          "dev_num_heads": -399,
          "dev_prop_heads": -0.003176751592356697,
          "tosses": 125600
         },
         {
          "dev_num_heads": -397,
          "dev_prop_heads": -0.003158313444709626,
          "tosses": 125700
         },
         {
          "dev_num_heads": -406,
          "dev_prop_heads": -0.0032273449920508512,
          "tosses": 125800
         },
         {
          "dev_num_heads": -406,
          "dev_prop_heads": -0.0032247815726767493,
          "tosses": 125900
         },
         {
          "dev_num_heads": -401,
          "dev_prop_heads": -0.0031825396825396757,
          "tosses": 126000
         },
         {
          "dev_num_heads": -398,
          "dev_prop_heads": -0.003156225218080899,
          "tosses": 126100
         },
         {
          "dev_num_heads": -396,
          "dev_prop_heads": -0.003137876386687777,
          "tosses": 126200
         },
         {
          "dev_num_heads": -407,
          "dev_prop_heads": -0.0032224861441013664,
          "tosses": 126300
         },
         {
          "dev_num_heads": -409,
          "dev_prop_heads": -0.0032357594936708867,
          "tosses": 126400
         },
         {
          "dev_num_heads": -411,
          "dev_prop_heads": -0.0032490118577074845,
          "tosses": 126500
         },
         {
          "dev_num_heads": -410,
          "dev_prop_heads": -0.0032385466034755006,
          "tosses": 126600
         },
         {
          "dev_num_heads": -404,
          "dev_prop_heads": -0.003188634569850024,
          "tosses": 126700
         },
         {
          "dev_num_heads": -403,
          "dev_prop_heads": -0.003178233438485778,
          "tosses": 126800
         },
         {
          "dev_num_heads": -400,
          "dev_prop_heads": -0.0031520882584712417,
          "tosses": 126900
         },
         {
          "dev_num_heads": -404,
          "dev_prop_heads": -0.003181102362204702,
          "tosses": 127000
         },
         {
          "dev_num_heads": -399,
          "dev_prop_heads": -0.003139260424862289,
          "tosses": 127100
         },
         {
          "dev_num_heads": -395,
          "dev_prop_heads": -0.003105345911949664,
          "tosses": 127200
         },
         {
          "dev_num_heads": -397,
          "dev_prop_heads": -0.003118617439120175,
          "tosses": 127300
         },
         {
          "dev_num_heads": -399,
          "dev_prop_heads": -0.0031318681318681096,
          "tosses": 127400
         },
         {
          "dev_num_heads": -403,
          "dev_prop_heads": -0.0031607843137255176,
          "tosses": 127500
         },
         {
          "dev_num_heads": -405,
          "dev_prop_heads": -0.0031739811912225857,
          "tosses": 127600
         },
         {
          "dev_num_heads": -404,
          "dev_prop_heads": -0.003163664839467506,
          "tosses": 127700
         },
         {
          "dev_num_heads": -397,
          "dev_prop_heads": -0.003106416275430346,
          "tosses": 127800
         },
         {
          "dev_num_heads": -394,
          "dev_prop_heads": -0.0030805316653635395,
          "tosses": 127900
         },
         {
          "dev_num_heads": -391,
          "dev_prop_heads": -0.0030546874999999862,
          "tosses": 128000
         },
         {
          "dev_num_heads": -383,
          "dev_prop_heads": -0.0029898516783762874,
          "tosses": 128100
         },
         {
          "dev_num_heads": -394,
          "dev_prop_heads": -0.003073322932917344,
          "tosses": 128200
         },
         {
          "dev_num_heads": -396,
          "dev_prop_heads": -0.003086515978176163,
          "tosses": 128300
         },
         {
          "dev_num_heads": -396,
          "dev_prop_heads": -0.0030841121495326917,
          "tosses": 128400
         },
         {
          "dev_num_heads": -402,
          "dev_prop_heads": -0.003128404669260676,
          "tosses": 128500
         },
         {
          "dev_num_heads": -402,
          "dev_prop_heads": -0.003125972006220834,
          "tosses": 128600
         },
         {
          "dev_num_heads": -406,
          "dev_prop_heads": -0.0031546231546231707,
          "tosses": 128700
         },
         {
          "dev_num_heads": -408,
          "dev_prop_heads": -0.003167701863354022,
          "tosses": 128800
         },
         {
          "dev_num_heads": -406,
          "dev_prop_heads": -0.0031497284716834884,
          "tosses": 128900
         },
         {
          "dev_num_heads": -405,
          "dev_prop_heads": -0.003139534883720929,
          "tosses": 129000
         },
         {
          "dev_num_heads": -397,
          "dev_prop_heads": -0.003075135553834263,
          "tosses": 129100
         },
         {
          "dev_num_heads": -402,
          "dev_prop_heads": -0.00311145510835914,
          "tosses": 129200
         },
         {
          "dev_num_heads": -405,
          "dev_prop_heads": -0.003132250580046403,
          "tosses": 129300
         },
         {
          "dev_num_heads": -408,
          "dev_prop_heads": -0.0031530139103554955,
          "tosses": 129400
         },
         {
          "dev_num_heads": -403,
          "dev_prop_heads": -0.003111969111969093,
          "tosses": 129500
         },
         {
          "dev_num_heads": -412,
          "dev_prop_heads": -0.003179012345679022,
          "tosses": 129600
         },
         {
          "dev_num_heads": -414,
          "dev_prop_heads": -0.003191981495759444,
          "tosses": 129700
         },
         {
          "dev_num_heads": -404,
          "dev_prop_heads": -0.0031124807395994103,
          "tosses": 129800
         },
         {
          "dev_num_heads": -406,
          "dev_prop_heads": -0.003125481139337971,
          "tosses": 129900
         },
         {
          "dev_num_heads": -404,
          "dev_prop_heads": -0.0031076923076923113,
          "tosses": 130000
         },
         {
          "dev_num_heads": -397,
          "dev_prop_heads": -0.0030514988470407567,
          "tosses": 130100
         },
         {
          "dev_num_heads": -393,
          "dev_prop_heads": -0.003018433179723501,
          "tosses": 130200
         },
         {
          "dev_num_heads": -391,
          "dev_prop_heads": -0.0030007674597083422,
          "tosses": 130300
         },
         {
          "dev_num_heads": -390,
          "dev_prop_heads": -0.0029907975460122804,
          "tosses": 130400
         },
         {
          "dev_num_heads": -391,
          "dev_prop_heads": -0.0029961685823755024,
          "tosses": 130500
         },
         {
          "dev_num_heads": -382,
          "dev_prop_heads": -0.002924961715160823,
          "tosses": 130600
         },
         {
          "dev_num_heads": -394,
          "dev_prop_heads": -0.0030145371078806327,
          "tosses": 130700
         },
         {
          "dev_num_heads": -393,
          "dev_prop_heads": -0.003004587155963301,
          "tosses": 130800
         },
         {
          "dev_num_heads": -393,
          "dev_prop_heads": -0.003002291825821235,
          "tosses": 130900
         },
         {
          "dev_num_heads": -385,
          "dev_prop_heads": -0.0029389312977099458,
          "tosses": 131000
         },
         {
          "dev_num_heads": -386,
          "dev_prop_heads": -0.002944317315026701,
          "tosses": 131100
         },
         {
          "dev_num_heads": -381,
          "dev_prop_heads": -0.0029039634146341697,
          "tosses": 131200
         },
         {
          "dev_num_heads": -386,
          "dev_prop_heads": -0.002939832444782964,
          "tosses": 131300
         },
         {
          "dev_num_heads": -388,
          "dev_prop_heads": -0.002952815829528166,
          "tosses": 131400
         },
         {
          "dev_num_heads": -388,
          "dev_prop_heads": -0.0029505703422053053,
          "tosses": 131500
         },
         {
          "dev_num_heads": -383,
          "dev_prop_heads": -0.0029103343465045617,
          "tosses": 131600
         },
         {
          "dev_num_heads": -376,
          "dev_prop_heads": -0.002854973424449514,
          "tosses": 131700
         },
         {
          "dev_num_heads": -377,
          "dev_prop_heads": -0.0028603945371775685,
          "tosses": 131800
         },
         {
          "dev_num_heads": -388,
          "dev_prop_heads": -0.0029416224412433523,
          "tosses": 131900
         },
         {
          "dev_num_heads": -386,
          "dev_prop_heads": -0.0029242424242424403,
          "tosses": 132000
         },
         {
          "dev_num_heads": -382,
          "dev_prop_heads": -0.002891748675246053,
          "tosses": 132100
         },
         {
          "dev_num_heads": -377,
          "dev_prop_heads": -0.002851739788199692,
          "tosses": 132200
         },
         {
          "dev_num_heads": -374,
          "dev_prop_heads": -0.002826908541194273,
          "tosses": 132300
         },
         {
          "dev_num_heads": -373,
          "dev_prop_heads": -0.00281722054380662,
          "tosses": 132400
         },
         {
          "dev_num_heads": -371,
          "dev_prop_heads": -0.0028000000000000247,
          "tosses": 132500
         },
         {
          "dev_num_heads": -371,
          "dev_prop_heads": -0.002797888386123659,
          "tosses": 132600
         },
         {
          "dev_num_heads": -370,
          "dev_prop_heads": -0.002788244159758868,
          "tosses": 132700
         },
         {
          "dev_num_heads": -369,
          "dev_prop_heads": -0.002778614457831341,
          "tosses": 132800
         },
         {
          "dev_num_heads": -363,
          "dev_prop_heads": -0.0027313769751692862,
          "tosses": 132900
         },
         {
          "dev_num_heads": -370,
          "dev_prop_heads": -0.002781954887218052,
          "tosses": 133000
         },
         {
          "dev_num_heads": -374,
          "dev_prop_heads": -0.0028099173553718937,
          "tosses": 133100
         },
         {
          "dev_num_heads": -367,
          "dev_prop_heads": -0.0027552552552552734,
          "tosses": 133200
         },
         {
          "dev_num_heads": -367,
          "dev_prop_heads": -0.0027531882970742716,
          "tosses": 133300
         },
         {
          "dev_num_heads": -362,
          "dev_prop_heads": -0.002713643178410774,
          "tosses": 133400
         },
         {
          "dev_num_heads": -355,
          "dev_prop_heads": -0.0026591760299625733,
          "tosses": 133500
         },
         {
          "dev_num_heads": -351,
          "dev_prop_heads": -0.0026272455089820235,
          "tosses": 133600
         },
         {
          "dev_num_heads": -356,
          "dev_prop_heads": -0.002662677636499633,
          "tosses": 133700
         },
         {
          "dev_num_heads": -356,
          "dev_prop_heads": -0.002660687593423028,
          "tosses": 133800
         },
         {
          "dev_num_heads": -363,
          "dev_prop_heads": -0.0027109783420463107,
          "tosses": 133900
         },
         {
          "dev_num_heads": -364,
          "dev_prop_heads": -0.0027164179104477437,
          "tosses": 134000
         },
         {
          "dev_num_heads": -368,
          "dev_prop_heads": -0.002744220730797886,
          "tosses": 134100
         },
         {
          "dev_num_heads": -364,
          "dev_prop_heads": -0.002712369597615505,
          "tosses": 134200
         },
         {
          "dev_num_heads": -368,
          "dev_prop_heads": -0.0027401340282948716,
          "tosses": 134300
         },
         {
          "dev_num_heads": -358,
          "dev_prop_heads": -0.0026636904761904723,
          "tosses": 134400
         },
         {
          "dev_num_heads": -360,
          "dev_prop_heads": -0.0026765799256505685,
          "tosses": 134500
         },
         {
          "dev_num_heads": -363,
          "dev_prop_heads": -0.0026968796433878284,
          "tosses": 134600
         },
         {
          "dev_num_heads": -371,
          "dev_prop_heads": -0.0027542687453600556,
          "tosses": 134700
         },
         {
          "dev_num_heads": -362,
          "dev_prop_heads": -0.0026854599406528346,
          "tosses": 134800
         },
         {
          "dev_num_heads": -349,
          "dev_prop_heads": -0.0025871015567086597,
          "tosses": 134900
         },
         {
          "dev_num_heads": -355,
          "dev_prop_heads": -0.0026296296296296484,
          "tosses": 135000
         },
         {
          "dev_num_heads": -352,
          "dev_prop_heads": -0.0026054774241302536,
          "tosses": 135100
         },
         {
          "dev_num_heads": -351,
          "dev_prop_heads": -0.002596153846153859,
          "tosses": 135200
         },
         {
          "dev_num_heads": -348,
          "dev_prop_heads": -0.0025720620842571984,
          "tosses": 135300
         },
         {
          "dev_num_heads": -346,
          "dev_prop_heads": -0.0025553914327917093,
          "tosses": 135400
         },
         {
          "dev_num_heads": -346,
          "dev_prop_heads": -0.002553505535055345,
          "tosses": 135500
         },
         {
          "dev_num_heads": -345,
          "dev_prop_heads": -0.002544247787610643,
          "tosses": 135600
         },
         {
          "dev_num_heads": -348,
          "dev_prop_heads": -0.002564480471628605,
          "tosses": 135700
         },
         {
          "dev_num_heads": -356,
          "dev_prop_heads": -0.002621502209131099,
          "tosses": 135800
         },
         {
          "dev_num_heads": -353,
          "dev_prop_heads": -0.0025974981604120484,
          "tosses": 135900
         },
         {
          "dev_num_heads": -352,
          "dev_prop_heads": -0.002588235294117669,
          "tosses": 136000
         },
         {
          "dev_num_heads": -345,
          "dev_prop_heads": -0.002534900808229268,
          "tosses": 136100
         },
         {
          "dev_num_heads": -344,
          "dev_prop_heads": -0.0025256975036710982,
          "tosses": 136200
         },
         {
          "dev_num_heads": -342,
          "dev_prop_heads": -0.0025091709464416523,
          "tosses": 136300
         },
         {
          "dev_num_heads": -339,
          "dev_prop_heads": -0.002485337243401775,
          "tosses": 136400
         },
         {
          "dev_num_heads": -339,
          "dev_prop_heads": -0.002483516483516468,
          "tosses": 136500
         },
         {
          "dev_num_heads": -341,
          "dev_prop_heads": -0.002496339677891646,
          "tosses": 136600
         },
         {
          "dev_num_heads": -341,
          "dev_prop_heads": -0.002494513533284559,
          "tosses": 136700
         },
         {
          "dev_num_heads": -346,
          "dev_prop_heads": -0.002529239766081881,
          "tosses": 136800
         },
         {
          "dev_num_heads": -340,
          "dev_prop_heads": -0.002483564645726799,
          "tosses": 136900
         },
         {
          "dev_num_heads": -342,
          "dev_prop_heads": -0.0024963503649634844,
          "tosses": 137000
         },
         {
          "dev_num_heads": -348,
          "dev_prop_heads": -0.002538293216630183,
          "tosses": 137100
         },
         {
          "dev_num_heads": -350,
          "dev_prop_heads": -0.0025510204081632404,
          "tosses": 137200
         },
         {
          "dev_num_heads": -341,
          "dev_prop_heads": -0.00248361252731244,
          "tosses": 137300
         },
         {
          "dev_num_heads": -343,
          "dev_prop_heads": -0.002496360989810764,
          "tosses": 137400
         },
         {
          "dev_num_heads": -343,
          "dev_prop_heads": -0.0024945454545454715,
          "tosses": 137500
         },
         {
          "dev_num_heads": -345,
          "dev_prop_heads": -0.0025072674418604723,
          "tosses": 137600
         },
         {
          "dev_num_heads": -353,
          "dev_prop_heads": -0.0025635439360929824,
          "tosses": 137700
         },
         {
          "dev_num_heads": -362,
          "dev_prop_heads": -0.00262699564586355,
          "tosses": 137800
         },
         {
          "dev_num_heads": -364,
          "dev_prop_heads": -0.002639593908629445,
          "tosses": 137900
         },
         {
          "dev_num_heads": -362,
          "dev_prop_heads": -0.0026231884057971167,
          "tosses": 138000
         },
         {
          "dev_num_heads": -359,
          "dev_prop_heads": -0.002599565532223014,
          "tosses": 138100
         },
         {
          "dev_num_heads": -353,
          "dev_prop_heads": -0.0025542691751085367,
          "tosses": 138200
         },
         {
          "dev_num_heads": -355,
          "dev_prop_heads": -0.0025668835864063877,
          "tosses": 138300
         },
         {
          "dev_num_heads": -348,
          "dev_prop_heads": -0.0025144508670520427,
          "tosses": 138400
         },
         {
          "dev_num_heads": -354,
          "dev_prop_heads": -0.002555956678700344,
          "tosses": 138500
         },
         {
          "dev_num_heads": -353,
          "dev_prop_heads": -0.0025468975468975197,
          "tosses": 138600
         },
         {
          "dev_num_heads": -349,
          "dev_prop_heads": -0.002516222062004303,
          "tosses": 138700
         },
         {
          "dev_num_heads": -352,
          "dev_prop_heads": -0.002536023054755032,
          "tosses": 138800
         },
         {
          "dev_num_heads": -343,
          "dev_prop_heads": -0.002469402447804192,
          "tosses": 138900
         },
         {
          "dev_num_heads": -338,
          "dev_prop_heads": -0.0024316546762589986,
          "tosses": 139000
         },
         {
          "dev_num_heads": -335,
          "dev_prop_heads": -0.0024083393242271822,
          "tosses": 139100
         },
         {
          "dev_num_heads": -335,
          "dev_prop_heads": -0.0024066091954023094,
          "tosses": 139200
         },
         {
          "dev_num_heads": -340,
          "dev_prop_heads": -0.0024407753050968983,
          "tosses": 139300
         },
         {
          "dev_num_heads": -340,
          "dev_prop_heads": -0.0024390243902439046,
          "tosses": 139400
         },
         {
          "dev_num_heads": -343,
          "dev_prop_heads": -0.0024587813620071675,
          "tosses": 139500
         },
         {
          "dev_num_heads": -349,
          "dev_prop_heads": -0.0025000000000000022,
          "tosses": 139600
         },
         {
          "dev_num_heads": -361,
          "dev_prop_heads": -0.0025841088045812644,
          "tosses": 139700
         },
         {
          "dev_num_heads": -360,
          "dev_prop_heads": -0.0025751072961373578,
          "tosses": 139800
         },
         {
          "dev_num_heads": -357,
          "dev_prop_heads": -0.002551822730521791,
          "tosses": 139900
         },
         {
          "dev_num_heads": -362,
          "dev_prop_heads": -0.0025857142857143023,
          "tosses": 140000
         },
         {
          "dev_num_heads": -363,
          "dev_prop_heads": -0.0025910064239828556,
          "tosses": 140100
         },
         {
          "dev_num_heads": -363,
          "dev_prop_heads": -0.0025891583452211098,
          "tosses": 140200
         },
         {
          "dev_num_heads": -370,
          "dev_prop_heads": -0.002637205987170377,
          "tosses": 140300
         },
         {
          "dev_num_heads": -372,
          "dev_prop_heads": -0.0026495726495726624,
          "tosses": 140400
         },
         {
          "dev_num_heads": -374,
          "dev_prop_heads": -0.0026619217081850777,
          "tosses": 140500
         },
         {
          "dev_num_heads": -372,
          "dev_prop_heads": -0.002645803698435256,
          "tosses": 140600
         },
         {
          "dev_num_heads": -365,
          "dev_prop_heads": -0.0025941719971570576,
          "tosses": 140700
         },
         {
          "dev_num_heads": -373,
          "dev_prop_heads": -0.002649147727272705,
          "tosses": 140800
         },
         {
          "dev_num_heads": -378,
          "dev_prop_heads": -0.002682753726046816,
          "tosses": 140900
         },
         {
          "dev_num_heads": -386,
          "dev_prop_heads": -0.002737588652482248,
          "tosses": 141000
         },
         {
          "dev_num_heads": -387,
          "dev_prop_heads": -0.002742735648476269,
          "tosses": 141100
         },
         {
          "dev_num_heads": -392,
          "dev_prop_heads": -0.0027762039660056415,
          "tosses": 141200
         },
         {
          "dev_num_heads": -388,
          "dev_prop_heads": -0.0027459306440197895,
          "tosses": 141300
         },
         {
          "dev_num_heads": -396,
          "dev_prop_heads": -0.002800565770862795,
          "tosses": 141400
         },
         {
          "dev_num_heads": -402,
          "dev_prop_heads": -0.002840989399293281,
          "tosses": 141500
         },
         {
          "dev_num_heads": -404,
          "dev_prop_heads": -0.002853107344632788,
          "tosses": 141600
         },
         {
          "dev_num_heads": -398,
          "dev_prop_heads": -0.0028087508821453833,
          "tosses": 141700
         },
         {
          "dev_num_heads": -391,
          "dev_prop_heads": -0.0027574047954865843,
          "tosses": 141800
         },
         {
          "dev_num_heads": -391,
          "dev_prop_heads": -0.0027554615926708714,
          "tosses": 141900
         },
         {
          "dev_num_heads": -389,
          "dev_prop_heads": -0.002739436619718316,
          "tosses": 142000
         },
         {
          "dev_num_heads": -389,
          "dev_prop_heads": -0.0027375087966221012,
          "tosses": 142100
         },
         {
          "dev_num_heads": -391,
          "dev_prop_heads": -0.002749648382559755,
          "tosses": 142200
         },
         {
          "dev_num_heads": -394,
          "dev_prop_heads": -0.0027687983134223604,
          "tosses": 142300
         },
         {
          "dev_num_heads": -391,
          "dev_prop_heads": -0.002745786516853921,
          "tosses": 142400
         },
         {
          "dev_num_heads": -388,
          "dev_prop_heads": -0.002722807017543849,
          "tosses": 142500
         },
         {
          "dev_num_heads": -382,
          "dev_prop_heads": -0.0026788218793828977,
          "tosses": 142600
         },
         {
          "dev_num_heads": -381,
          "dev_prop_heads": -0.002669936930623673,
          "tosses": 142700
         },
         {
          "dev_num_heads": -378,
          "dev_prop_heads": -0.0026470588235293913,
          "tosses": 142800
         },
         {
          "dev_num_heads": -379,
          "dev_prop_heads": -0.002652204338698394,
          "tosses": 142900
         },
         {
          "dev_num_heads": -373,
          "dev_prop_heads": -0.0026083916083916026,
          "tosses": 143000
         },
         {
          "dev_num_heads": -378,
          "dev_prop_heads": -0.0026415094339622414,
          "tosses": 143100
         },
         {
          "dev_num_heads": -376,
          "dev_prop_heads": -0.0026256983240223186,
          "tosses": 143200
         },
         {
          "dev_num_heads": -373,
          "dev_prop_heads": -0.0026029309141660795,
          "tosses": 143300
         },
         {
          "dev_num_heads": -367,
          "dev_prop_heads": -0.0025592747559274875,
          "tosses": 143400
         },
         {
          "dev_num_heads": -369,
          "dev_prop_heads": -0.002571428571428558,
          "tosses": 143500
         },
         {
          "dev_num_heads": -362,
          "dev_prop_heads": -0.002520891364902522,
          "tosses": 143600
         },
         {
          "dev_num_heads": -361,
          "dev_prop_heads": -0.0025121781489213513,
          "tosses": 143700
         },
         {
          "dev_num_heads": -352,
          "dev_prop_heads": -0.0024478442280945756,
          "tosses": 143800
         },
         {
          "dev_num_heads": -354,
          "dev_prop_heads": -0.002460041695621973,
          "tosses": 143900
         },
         {
          "dev_num_heads": -351,
          "dev_prop_heads": -0.0024374999999999813,
          "tosses": 144000
         },
         {
          "dev_num_heads": -354,
          "dev_prop_heads": -0.0024566273421235407,
          "tosses": 144100
         },
         {
          "dev_num_heads": -358,
          "dev_prop_heads": -0.002482662968099847,
          "tosses": 144200
         },
         {
          "dev_num_heads": -354,
          "dev_prop_heads": -0.0024532224532224367,
          "tosses": 144300
         },
         {
          "dev_num_heads": -356,
          "dev_prop_heads": -0.0024653739612188197,
          "tosses": 144400
         },
         {
          "dev_num_heads": -361,
          "dev_prop_heads": -0.0024982698961937833,
          "tosses": 144500
         },
         {
          "dev_num_heads": -365,
          "dev_prop_heads": -0.00252420470262793,
          "tosses": 144600
         },
         {
          "dev_num_heads": -361,
          "dev_prop_heads": -0.002494816862474103,
          "tosses": 144700
         },
         {
          "dev_num_heads": -363,
          "dev_prop_heads": -0.002506906077348048,
          "tosses": 144800
         },
         {
          "dev_num_heads": -362,
          "dev_prop_heads": -0.002498274672187717,
          "tosses": 144900
         },
         {
          "dev_num_heads": -372,
          "dev_prop_heads": -0.0025655172413793226,
          "tosses": 145000
         },
         {
          "dev_num_heads": -371,
          "dev_prop_heads": -0.0025568573397656835,
          "tosses": 145100
         },
         {
          "dev_num_heads": -366,
          "dev_prop_heads": -0.002520661157024817,
          "tosses": 145200
         },
         {
          "dev_num_heads": -364,
          "dev_prop_heads": -0.0025051617343427313,
          "tosses": 145300
         },
         {
          "dev_num_heads": -368,
          "dev_prop_heads": -0.002530949105914726,
          "tosses": 145400
         },
         {
          "dev_num_heads": -364,
          "dev_prop_heads": -0.002501718213058446,
          "tosses": 145500
         },
         {
          "dev_num_heads": -370,
          "dev_prop_heads": -0.002541208791208782,
          "tosses": 145600
         },
         {
          "dev_num_heads": -382,
          "dev_prop_heads": -0.002621825669183231,
          "tosses": 145700
         },
         {
          "dev_num_heads": -379,
          "dev_prop_heads": -0.0025994513031550315,
          "tosses": 145800
         },
         {
          "dev_num_heads": -382,
          "dev_prop_heads": -0.0026182316655243287,
          "tosses": 145900
         },
         {
          "dev_num_heads": -372,
          "dev_prop_heads": -0.0025479452054794627,
          "tosses": 146000
         },
         {
          "dev_num_heads": -364,
          "dev_prop_heads": -0.0024914442162902173,
          "tosses": 146100
         },
         {
          "dev_num_heads": -365,
          "dev_prop_heads": -0.002496580027359807,
          "tosses": 146200
         },
         {
          "dev_num_heads": -367,
          "dev_prop_heads": -0.00250854408749146,
          "tosses": 146300
         },
         {
          "dev_num_heads": -359,
          "dev_prop_heads": -0.002452185792349737,
          "tosses": 146400
         },
         {
          "dev_num_heads": -353,
          "dev_prop_heads": -0.0024095563139931997,
          "tosses": 146500
         },
         {
          "dev_num_heads": -357,
          "dev_prop_heads": -0.0024351978171896493,
          "tosses": 146600
         },
         {
          "dev_num_heads": -359,
          "dev_prop_heads": -0.0024471710974778293,
          "tosses": 146700
         },
         {
          "dev_num_heads": -365,
          "dev_prop_heads": -0.0024863760217983533,
          "tosses": 146800
         },
         {
          "dev_num_heads": -366,
          "dev_prop_heads": -0.002491490810074881,
          "tosses": 146900
         },
         {
          "dev_num_heads": -365,
          "dev_prop_heads": -0.0024829931972789043,
          "tosses": 147000
         },
         {
          "dev_num_heads": -371,
          "dev_prop_heads": -0.0025220938137321403,
          "tosses": 147100
         },
         {
          "dev_num_heads": -358,
          "dev_prop_heads": -0.0024320652173913104,
          "tosses": 147200
         },
         {
          "dev_num_heads": -353,
          "dev_prop_heads": -0.0023964697895451637,
          "tosses": 147300
         },
         {
          "dev_num_heads": -349,
          "dev_prop_heads": -0.0023677069199457,
          "tosses": 147400
         },
         {
          "dev_num_heads": -348,
          "dev_prop_heads": -0.0023593220338983256,
          "tosses": 147500
         },
         {
          "dev_num_heads": -347,
          "dev_prop_heads": -0.0023509485094850846,
          "tosses": 147600
         },
         {
          "dev_num_heads": -350,
          "dev_prop_heads": -0.002369668246445522,
          "tosses": 147700
         },
         {
          "dev_num_heads": -348,
          "dev_prop_heads": -0.002354533152909344,
          "tosses": 147800
         },
         {
          "dev_num_heads": -345,
          "dev_prop_heads": -0.0023326572008113833,
          "tosses": 147900
         },
         {
          "dev_num_heads": -340,
          "dev_prop_heads": -0.002297297297297274,
          "tosses": 148000
         },
         {
          "dev_num_heads": -336,
          "dev_prop_heads": -0.002268737339635396,
          "tosses": 148100
         },
         {
          "dev_num_heads": -330,
          "dev_prop_heads": -0.002226720647773295,
          "tosses": 148200
         },
         {
          "dev_num_heads": -337,
          "dev_prop_heads": -0.002272420768712091,
          "tosses": 148300
         },
         {
          "dev_num_heads": -338,
          "dev_prop_heads": -0.0022776280323449916,
          "tosses": 148400
         },
         {
          "dev_num_heads": -341,
          "dev_prop_heads": -0.0022962962962962963,
          "tosses": 148500
         },
         {
          "dev_num_heads": -344,
          "dev_prop_heads": -0.002314939434724106,
          "tosses": 148600
         },
         {
          "dev_num_heads": -351,
          "dev_prop_heads": -0.002360457296570251,
          "tosses": 148700
         },
         {
          "dev_num_heads": -346,
          "dev_prop_heads": -0.0023252688172042957,
          "tosses": 148800
         },
         {
          "dev_num_heads": -350,
          "dev_prop_heads": -0.0023505708529213964,
          "tosses": 148900
         },
         {
          "dev_num_heads": -355,
          "dev_prop_heads": -0.0023825503355704436,
          "tosses": 149000
         },
         {
          "dev_num_heads": -351,
          "dev_prop_heads": -0.002354124748490949,
          "tosses": 149100
         },
         {
          "dev_num_heads": -352,
          "dev_prop_heads": -0.002359249329758728,
          "tosses": 149200
         },
         {
          "dev_num_heads": -355,
          "dev_prop_heads": -0.0023777628935029993,
          "tosses": 149300
         },
         {
          "dev_num_heads": -351,
          "dev_prop_heads": -0.0023493975903614572,
          "tosses": 149400
         },
         {
          "dev_num_heads": -358,
          "dev_prop_heads": -0.0023946488294314117,
          "tosses": 149500
         },
         {
          "dev_num_heads": -356,
          "dev_prop_heads": -0.0023796791443850274,
          "tosses": 149600
         },
         {
          "dev_num_heads": -358,
          "dev_prop_heads": -0.002391449565798287,
          "tosses": 149700
         },
         {
          "dev_num_heads": -371,
          "dev_prop_heads": -0.0024766355140186658,
          "tosses": 149800
         },
         {
          "dev_num_heads": -362,
          "dev_prop_heads": -0.0024149432955303807,
          "tosses": 149900
         },
         {
          "dev_num_heads": -362,
          "dev_prop_heads": -0.002413333333333323,
          "tosses": 150000
         },
         {
          "dev_num_heads": -363,
          "dev_prop_heads": -0.0024183877415056565,
          "tosses": 150100
         },
         {
          "dev_num_heads": -363,
          "dev_prop_heads": -0.002416777629826894,
          "tosses": 150200
         },
         {
          "dev_num_heads": -367,
          "dev_prop_heads": -0.002441783100465722,
          "tosses": 150300
         },
         {
          "dev_num_heads": -370,
          "dev_prop_heads": -0.0024601063829787218,
          "tosses": 150400
         },
         {
          "dev_num_heads": -367,
          "dev_prop_heads": -0.0024385382059800564,
          "tosses": 150500
         },
         {
          "dev_num_heads": -370,
          "dev_prop_heads": -0.002456839309428971,
          "tosses": 150600
         },
         {
          "dev_num_heads": -375,
          "dev_prop_heads": -0.002488387524883895,
          "tosses": 150700
         },
         {
          "dev_num_heads": -374,
          "dev_prop_heads": -0.0024801061007957426,
          "tosses": 150800
         },
         {
          "dev_num_heads": -368,
          "dev_prop_heads": -0.0024387011265739056,
          "tosses": 150900
         },
         {
          "dev_num_heads": -373,
          "dev_prop_heads": -0.002470198675496693,
          "tosses": 151000
         },
         {
          "dev_num_heads": -370,
          "dev_prop_heads": -0.0024487094639311646,
          "tosses": 151100
         },
         {
          "dev_num_heads": -360,
          "dev_prop_heads": -0.0023809523809523725,
          "tosses": 151200
         },
         {
          "dev_num_heads": -361,
          "dev_prop_heads": -0.002385988103106418,
          "tosses": 151300
         },
         {
          "dev_num_heads": -367,
          "dev_prop_heads": -0.002424042272126836,
          "tosses": 151400
         },
         {
          "dev_num_heads": -368,
          "dev_prop_heads": -0.0024290429042904127,
          "tosses": 151500
         },
         {
          "dev_num_heads": -372,
          "dev_prop_heads": -0.002453825857519798,
          "tosses": 151600
         },
         {
          "dev_num_heads": -372,
          "dev_prop_heads": -0.002452208305866843,
          "tosses": 151700
         },
         {
          "dev_num_heads": -364,
          "dev_prop_heads": -0.0023978919631093554,
          "tosses": 151800
         },
         {
          "dev_num_heads": -367,
          "dev_prop_heads": -0.0024160631994733506,
          "tosses": 151900
         },
         {
          "dev_num_heads": -371,
          "dev_prop_heads": -0.0024407894736842017,
          "tosses": 152000
         },
         {
          "dev_num_heads": -377,
          "dev_prop_heads": -0.002478632478632503,
          "tosses": 152100
         },
         {
          "dev_num_heads": -373,
          "dev_prop_heads": -0.0024507227332457027,
          "tosses": 152200
         },
         {
          "dev_num_heads": -376,
          "dev_prop_heads": -0.0024688115561392054,
          "tosses": 152300
         },
         {
          "dev_num_heads": -376,
          "dev_prop_heads": -0.0024671916010498562,
          "tosses": 152400
         },
         {
          "dev_num_heads": -372,
          "dev_prop_heads": -0.0024393442622950845,
          "tosses": 152500
         },
         {
          "dev_num_heads": -371,
          "dev_prop_heads": -0.002431192660550474,
          "tosses": 152600
         },
         {
          "dev_num_heads": -370,
          "dev_prop_heads": -0.0024230517354289494,
          "tosses": 152700
         },
         {
          "dev_num_heads": -361,
          "dev_prop_heads": -0.0023625654450261657,
          "tosses": 152800
         },
         {
          "dev_num_heads": -362,
          "dev_prop_heads": -0.0023675604970568864,
          "tosses": 152900
         },
         {
          "dev_num_heads": -373,
          "dev_prop_heads": -0.002437908496732033,
          "tosses": 153000
         },
         {
          "dev_num_heads": -374,
          "dev_prop_heads": -0.0024428478118876384,
          "tosses": 153100
         },
         {
          "dev_num_heads": -370,
          "dev_prop_heads": -0.002415143603133163,
          "tosses": 153200
         },
         {
          "dev_num_heads": -373,
          "dev_prop_heads": -0.0024331376386170778,
          "tosses": 153300
         },
         {
          "dev_num_heads": -376,
          "dev_prop_heads": -0.0024511082138200524,
          "tosses": 153400
         },
         {
          "dev_num_heads": -376,
          "dev_prop_heads": -0.0024495114006514718,
          "tosses": 153500
         },
         {
          "dev_num_heads": -374,
          "dev_prop_heads": -0.0024348958333333393,
          "tosses": 153600
         },
         {
          "dev_num_heads": -382,
          "dev_prop_heads": -0.002485361093038374,
          "tosses": 153700
         },
         {
          "dev_num_heads": -380,
          "dev_prop_heads": -0.0024707412223667347,
          "tosses": 153800
         },
         {
          "dev_num_heads": -380,
          "dev_prop_heads": -0.002469135802469158,
          "tosses": 153900
         },
         {
          "dev_num_heads": -380,
          "dev_prop_heads": -0.0024675324675324517,
          "tosses": 154000
         },
         {
          "dev_num_heads": -375,
          "dev_prop_heads": -0.0024334847501622514,
          "tosses": 154100
         },
         {
          "dev_num_heads": -372,
          "dev_prop_heads": -0.0024124513618676846,
          "tosses": 154200
         },
         {
          "dev_num_heads": -377,
          "dev_prop_heads": -0.002443292287751142,
          "tosses": 154300
         },
         {
          "dev_num_heads": -381,
          "dev_prop_heads": -0.0024676165803108607,
          "tosses": 154400
         },
         {
          "dev_num_heads": -385,
          "dev_prop_heads": -0.002491909385113289,
          "tosses": 154500
         },
         {
          "dev_num_heads": -383,
          "dev_prop_heads": -0.002477360931435968,
          "tosses": 154600
         },
         {
          "dev_num_heads": -371,
          "dev_prop_heads": -0.0023981900452488825,
          "tosses": 154700
         },
         {
          "dev_num_heads": -366,
          "dev_prop_heads": -0.0023643410852713376,
          "tosses": 154800
         },
         {
          "dev_num_heads": -375,
          "dev_prop_heads": -0.002420916720464794,
          "tosses": 154900
         },
         {
          "dev_num_heads": -371,
          "dev_prop_heads": -0.0023935483870967666,
          "tosses": 155000
         },
         {
          "dev_num_heads": -381,
          "dev_prop_heads": -0.002456479690522262,
          "tosses": 155100
         },
         {
          "dev_num_heads": -386,
          "dev_prop_heads": -0.002487113402061869,
          "tosses": 155200
         },
         {
          "dev_num_heads": -377,
          "dev_prop_heads": -0.0024275595621378043,
          "tosses": 155300
         },
         {
          "dev_num_heads": -371,
          "dev_prop_heads": -0.002387387387387363,
          "tosses": 155400
         },
         {
          "dev_num_heads": -371,
          "dev_prop_heads": -0.00238585209003217,
          "tosses": 155500
         },
         {
          "dev_num_heads": -381,
          "dev_prop_heads": -0.0024485861182519386,
          "tosses": 155600
         },
         {
          "dev_num_heads": -393,
          "dev_prop_heads": -0.0025240847784200326,
          "tosses": 155700
         },
         {
          "dev_num_heads": -388,
          "dev_prop_heads": -0.0024903722721437704,
          "tosses": 155800
         },
         {
          "dev_num_heads": -381,
          "dev_prop_heads": -0.0024438742783836065,
          "tosses": 155900
         },
         {
          "dev_num_heads": -383,
          "dev_prop_heads": -0.002455128205128221,
          "tosses": 156000
         },
         {
          "dev_num_heads": -388,
          "dev_prop_heads": -0.0024855861627162135,
          "tosses": 156100
         },
         {
          "dev_num_heads": -393,
          "dev_prop_heads": -0.002516005121638909,
          "tosses": 156200
         },
         {
          "dev_num_heads": -390,
          "dev_prop_heads": -0.00249520153550864,
          "tosses": 156300
         },
         {
          "dev_num_heads": -403,
          "dev_prop_heads": -0.002576726342711,
          "tosses": 156400
         },
         {
          "dev_num_heads": -417,
          "dev_prop_heads": -0.0026645367412140852,
          "tosses": 156500
         },
         {
          "dev_num_heads": -416,
          "dev_prop_heads": -0.002656449553001261,
          "tosses": 156600
         },
         {
          "dev_num_heads": -421,
          "dev_prop_heads": -0.0026866624122527383,
          "tosses": 156700
         },
         {
          "dev_num_heads": -429,
          "dev_prop_heads": -0.0027359693877551106,
          "tosses": 156800
         },
         {
          "dev_num_heads": -431,
          "dev_prop_heads": -0.002746972594008912,
          "tosses": 156900
         },
         {
          "dev_num_heads": -427,
          "dev_prop_heads": -0.002719745222929948,
          "tosses": 157000
         },
         {
          "dev_num_heads": -427,
          "dev_prop_heads": -0.0027180140038192135,
          "tosses": 157100
         },
         {
          "dev_num_heads": -426,
          "dev_prop_heads": -0.002709923664122149,
          "tosses": 157200
         },
         {
          "dev_num_heads": -429,
          "dev_prop_heads": -0.002727272727272745,
          "tosses": 157300
         },
         {
          "dev_num_heads": -428,
          "dev_prop_heads": -0.002719186785260508,
          "tosses": 157400
         },
         {
          "dev_num_heads": -428,
          "dev_prop_heads": -0.0027174603174603407,
          "tosses": 157500
         },
         {
          "dev_num_heads": -430,
          "dev_prop_heads": -0.0027284263959390653,
          "tosses": 157600
         },
         {
          "dev_num_heads": -428,
          "dev_prop_heads": -0.002714013950538996,
          "tosses": 157700
         },
         {
          "dev_num_heads": -430,
          "dev_prop_heads": -0.0027249683143219516,
          "tosses": 157800
         },
         {
          "dev_num_heads": -440,
          "dev_prop_heads": -0.002786573780873991,
          "tosses": 157900
         },
         {
          "dev_num_heads": -445,
          "dev_prop_heads": -0.0028164556962025356,
          "tosses": 158000
         },
         {
          "dev_num_heads": -444,
          "dev_prop_heads": -0.0028083491461100563,
          "tosses": 158100
         },
         {
          "dev_num_heads": -442,
          "dev_prop_heads": -0.0027939317319848334,
          "tosses": 158200
         },
         {
          "dev_num_heads": -447,
          "dev_prop_heads": -0.0028237523689197963,
          "tosses": 158300
         },
         {
          "dev_num_heads": -448,
          "dev_prop_heads": -0.0028282828282828465,
          "tosses": 158400
         },
         {
          "dev_num_heads": -443,
          "dev_prop_heads": -0.0027949526813880188,
          "tosses": 158500
         },
         {
          "dev_num_heads": -440,
          "dev_prop_heads": -0.0027742749054224247,
          "tosses": 158600
         },
         {
          "dev_num_heads": -445,
          "dev_prop_heads": -0.002804032766225595,
          "tosses": 158700
         },
         {
          "dev_num_heads": -443,
          "dev_prop_heads": -0.002789672544080579,
          "tosses": 158800
         },
         {
          "dev_num_heads": -437,
          "dev_prop_heads": -0.002750157331655123,
          "tosses": 158900
         },
         {
          "dev_num_heads": -440,
          "dev_prop_heads": -0.0027672955974842872,
          "tosses": 159000
         },
         {
          "dev_num_heads": -429,
          "dev_prop_heads": -0.002696417347580138,
          "tosses": 159100
         },
         {
          "dev_num_heads": -422,
          "dev_prop_heads": -0.002650753768844216,
          "tosses": 159200
         },
         {
          "dev_num_heads": -418,
          "dev_prop_heads": -0.0026239799121154928,
          "tosses": 159300
         },
         {
          "dev_num_heads": -411,
          "dev_prop_heads": -0.0025784190715181787,
          "tosses": 159400
         },
         {
          "dev_num_heads": -410,
          "dev_prop_heads": -0.002570532915360524,
          "tosses": 159500
         },
         {
          "dev_num_heads": -408,
          "dev_prop_heads": -0.00255639097744359,
          "tosses": 159600
         },
         {
          "dev_num_heads": -409,
          "dev_prop_heads": -0.002561051972448325,
          "tosses": 159700
         },
         {
          "dev_num_heads": -405,
          "dev_prop_heads": -0.0025344180225281843,
          "tosses": 159800
         },
         {
          "dev_num_heads": -419,
          "dev_prop_heads": -0.00262038774233897,
          "tosses": 159900
         },
         {
          "dev_num_heads": -428,
          "dev_prop_heads": -0.002674999999999983,
          "tosses": 160000
         },
         {
          "dev_num_heads": -444,
          "dev_prop_heads": -0.002773266708307298,
          "tosses": 160100
         },
         {
          "dev_num_heads": -438,
          "dev_prop_heads": -0.0027340823970037342,
          "tosses": 160200
         },
         {
          "dev_num_heads": -430,
          "dev_prop_heads": -0.0026824703680599082,
          "tosses": 160300
         },
         {
          "dev_num_heads": -435,
          "dev_prop_heads": -0.0027119700748129416,
          "tosses": 160400
         },
         {
          "dev_num_heads": -436,
          "dev_prop_heads": -0.002716510903426783,
          "tosses": 160500
         },
         {
          "dev_num_heads": -434,
          "dev_prop_heads": -0.002702366127023681,
          "tosses": 160600
         },
         {
          "dev_num_heads": -431,
          "dev_prop_heads": -0.002682016179215929,
          "tosses": 160700
         },
         {
          "dev_num_heads": -431,
          "dev_prop_heads": -0.0026803482587064442,
          "tosses": 160800
         },
         {
          "dev_num_heads": -425,
          "dev_prop_heads": -0.0026413921690490727,
          "tosses": 160900
         },
         {
          "dev_num_heads": -421,
          "dev_prop_heads": -0.0026149068322981472,
          "tosses": 161000
         },
         {
          "dev_num_heads": -426,
          "dev_prop_heads": -0.0026443202979515856,
          "tosses": 161100
         },
         {
          "dev_num_heads": -435,
          "dev_prop_heads": -0.0026985111662530814,
          "tosses": 161200
         },
         {
          "dev_num_heads": -423,
          "dev_prop_heads": -0.002622442653440804,
          "tosses": 161300
         },
         {
          "dev_num_heads": -426,
          "dev_prop_heads": -0.0026394052044609873,
          "tosses": 161400
         },
         {
          "dev_num_heads": -433,
          "dev_prop_heads": -0.0026811145510836076,
          "tosses": 161500
         },
         {
          "dev_num_heads": -438,
          "dev_prop_heads": -0.002710396039603935,
          "tosses": 161600
         },
         {
          "dev_num_heads": -442,
          "dev_prop_heads": -0.002733457019171326,
          "tosses": 161700
         },
         {
          "dev_num_heads": -440,
          "dev_prop_heads": -0.0027194066749072765,
          "tosses": 161800
         },
         {
          "dev_num_heads": -442,
          "dev_prop_heads": -0.002730080296479309,
          "tosses": 161900
         },
         {
          "dev_num_heads": -447,
          "dev_prop_heads": -0.002759259259259239,
          "tosses": 162000
         },
         {
          "dev_num_heads": -442,
          "dev_prop_heads": -0.0027267119062306944,
          "tosses": 162100
         },
         {
          "dev_num_heads": -444,
          "dev_prop_heads": -0.0027373612823674565,
          "tosses": 162200
         },
         {
          "dev_num_heads": -446,
          "dev_prop_heads": -0.002747997535428204,
          "tosses": 162300
         },
         {
          "dev_num_heads": -445,
          "dev_prop_heads": -0.0027401477832512122,
          "tosses": 162400
         },
         {
          "dev_num_heads": -440,
          "dev_prop_heads": -0.0027076923076923,
          "tosses": 162500
         },
         {
          "dev_num_heads": -441,
          "dev_prop_heads": -0.002712177121771242,
          "tosses": 162600
         },
         {
          "dev_num_heads": -434,
          "dev_prop_heads": -0.002667486170866651,
          "tosses": 162700
         },
         {
          "dev_num_heads": -437,
          "dev_prop_heads": -0.0026842751842751644,
          "tosses": 162800
         },
         {
          "dev_num_heads": -447,
          "dev_prop_heads": -0.0027440147329649833,
          "tosses": 162900
         },
         {
          "dev_num_heads": -447,
          "dev_prop_heads": -0.002742331288343558,
          "tosses": 163000
         },
         {
          "dev_num_heads": -444,
          "dev_prop_heads": -0.0027222562844880227,
          "tosses": 163100
         },
         {
          "dev_num_heads": -453,
          "dev_prop_heads": -0.0027757352941176205,
          "tosses": 163200
         },
         {
          "dev_num_heads": -456,
          "dev_prop_heads": -0.002792406613594589,
          "tosses": 163300
         },
         {
          "dev_num_heads": -457,
          "dev_prop_heads": -0.0027968176254589694,
          "tosses": 163400
         },
         {
          "dev_num_heads": -453,
          "dev_prop_heads": -0.002770642201834872,
          "tosses": 163500
         },
         {
          "dev_num_heads": -449,
          "dev_prop_heads": -0.002744498777506099,
          "tosses": 163600
         },
         {
          "dev_num_heads": -446,
          "dev_prop_heads": -0.0027244960293219544,
          "tosses": 163700
         },
         {
          "dev_num_heads": -445,
          "dev_prop_heads": -0.002716727716727707,
          "tosses": 163800
         },
         {
          "dev_num_heads": -441,
          "dev_prop_heads": -0.002690665039658313,
          "tosses": 163900
         },
         {
          "dev_num_heads": -436,
          "dev_prop_heads": -0.002658536585365856,
          "tosses": 164000
         },
         {
          "dev_num_heads": -441,
          "dev_prop_heads": -0.0026873857404021706,
          "tosses": 164100
         },
         {
          "dev_num_heads": -436,
          "dev_prop_heads": -0.002655298416565144,
          "tosses": 164200
         },
         {
          "dev_num_heads": -444,
          "dev_prop_heads": -0.0027023737066342313,
          "tosses": 164300
         },
         {
          "dev_num_heads": -438,
          "dev_prop_heads": -0.002664233576642361,
          "tosses": 164400
         },
         {
          "dev_num_heads": -441,
          "dev_prop_heads": -0.0026808510638298144,
          "tosses": 164500
         },
         {
          "dev_num_heads": -433,
          "dev_prop_heads": -0.0026306196840826246,
          "tosses": 164600
         },
         {
          "dev_num_heads": -438,
          "dev_prop_heads": -0.00265938069216759,
          "tosses": 164700
         },
         {
          "dev_num_heads": -444,
          "dev_prop_heads": -0.0026941747572815644,
          "tosses": 164800
         },
         {
          "dev_num_heads": -437,
          "dev_prop_heads": -0.0026500909642207526,
          "tosses": 164900
         },
         {
          "dev_num_heads": -438,
          "dev_prop_heads": -0.002654545454545465,
          "tosses": 165000
         },
         {
          "dev_num_heads": -443,
          "dev_prop_heads": -0.002683222289521503,
          "tosses": 165100
         },
         {
          "dev_num_heads": -452,
          "dev_prop_heads": -0.0027360774818401823,
          "tosses": 165200
         },
         {
          "dev_num_heads": -453,
          "dev_prop_heads": -0.00274047186932852,
          "tosses": 165300
         },
         {
          "dev_num_heads": -450,
          "dev_prop_heads": -0.0027206771463119672,
          "tosses": 165400
         },
         {
          "dev_num_heads": -451,
          "dev_prop_heads": -0.002725075528700882,
          "tosses": 165500
         },
         {
          "dev_num_heads": -459,
          "dev_prop_heads": -0.0027717391304347694,
          "tosses": 165600
         },
         {
          "dev_num_heads": -452,
          "dev_prop_heads": -0.0027278213639106985,
          "tosses": 165700
         },
         {
          "dev_num_heads": -457,
          "dev_prop_heads": -0.0027563329312424445,
          "tosses": 165800
         },
         {
          "dev_num_heads": -463,
          "dev_prop_heads": -0.0027908378541289802,
          "tosses": 165900
         },
         {
          "dev_num_heads": -456,
          "dev_prop_heads": -0.0027469879518072227,
          "tosses": 166000
         },
         {
          "dev_num_heads": -454,
          "dev_prop_heads": -0.0027332931968693797,
          "tosses": 166100
         },
         {
          "dev_num_heads": -452,
          "dev_prop_heads": -0.002719614921780966,
          "tosses": 166200
         },
         {
          "dev_num_heads": -448,
          "dev_prop_heads": -0.0026939266386049043,
          "tosses": 166300
         },
         {
          "dev_num_heads": -442,
          "dev_prop_heads": -0.0026562500000000266,
          "tosses": 166400
         },
         {
          "dev_num_heads": -445,
          "dev_prop_heads": -0.0026726726726726824,
          "tosses": 166500
         },
         {
          "dev_num_heads": -447,
          "dev_prop_heads": -0.0026830732292917325,
          "tosses": 166600
         },
         {
          "dev_num_heads": -447,
          "dev_prop_heads": -0.0026814637072585246,
          "tosses": 166700
         },
         {
          "dev_num_heads": -443,
          "dev_prop_heads": -0.002655875299760191,
          "tosses": 166800
         },
         {
          "dev_num_heads": -441,
          "dev_prop_heads": -0.0026423007789095343,
          "tosses": 166900
         },
         {
          "dev_num_heads": -438,
          "dev_prop_heads": -0.0026227544910179534,
          "tosses": 167000
         },
         {
          "dev_num_heads": -427,
          "dev_prop_heads": -0.002555356074207038,
          "tosses": 167100
         },
         {
          "dev_num_heads": -428,
          "dev_prop_heads": -0.0025598086124402064,
          "tosses": 167200
         },
         {
          "dev_num_heads": -430,
          "dev_prop_heads": -0.002570233114166154,
          "tosses": 167300
         },
         {
          "dev_num_heads": -432,
          "dev_prop_heads": -0.002580645161290307,
          "tosses": 167400
         },
         {
          "dev_num_heads": -441,
          "dev_prop_heads": -0.0026328358208955183,
          "tosses": 167500
         },
         {
          "dev_num_heads": -436,
          "dev_prop_heads": -0.0026014319809068986,
          "tosses": 167600
         },
         {
          "dev_num_heads": -438,
          "dev_prop_heads": -0.0026118067978533333,
          "tosses": 167700
         },
         {
          "dev_num_heads": -444,
          "dev_prop_heads": -0.0026460071513706995,
          "tosses": 167800
         },
         {
          "dev_num_heads": -451,
          "dev_prop_heads": -0.0026861226920786296,
          "tosses": 167900
         },
         {
          "dev_num_heads": -448,
          "dev_prop_heads": -0.0026666666666666505,
          "tosses": 168000
         },
         {
          "dev_num_heads": -456,
          "dev_prop_heads": -0.002712671029149294,
          "tosses": 168100
         },
         {
          "dev_num_heads": -465,
          "dev_prop_heads": -0.0027645659928656197,
          "tosses": 168200
         },
         {
          "dev_num_heads": -467,
          "dev_prop_heads": -0.0027748068924539626,
          "tosses": 168300
         },
         {
          "dev_num_heads": -472,
          "dev_prop_heads": -0.0028028503562945173,
          "tosses": 168400
         },
         {
          "dev_num_heads": -471,
          "dev_prop_heads": -0.0027952522255192958,
          "tosses": 168500
         },
         {
          "dev_num_heads": -473,
          "dev_prop_heads": -0.00280545670225385,
          "tosses": 168600
         },
         {
          "dev_num_heads": -473,
          "dev_prop_heads": -0.0028037937166567883,
          "tosses": 168700
         },
         {
          "dev_num_heads": -473,
          "dev_prop_heads": -0.0028021327014218222,
          "tosses": 168800
         },
         {
          "dev_num_heads": -473,
          "dev_prop_heads": -0.0028004736530491403,
          "tosses": 168900
         },
         {
          "dev_num_heads": -470,
          "dev_prop_heads": -0.0027810650887574173,
          "tosses": 169000
         },
         {
          "dev_num_heads": -471,
          "dev_prop_heads": -0.0027853341218214145,
          "tosses": 169100
         },
         {
          "dev_num_heads": -467,
          "dev_prop_heads": -0.0027600472813238963,
          "tosses": 169200
         },
         {
          "dev_num_heads": -466,
          "dev_prop_heads": -0.002752510336680447,
          "tosses": 169300
         },
         {
          "dev_num_heads": -465,
          "dev_prop_heads": -0.002744982290436848,
          "tosses": 169400
         },
         {
          "dev_num_heads": -466,
          "dev_prop_heads": -0.0027492625368731316,
          "tosses": 169500
         },
         {
          "dev_num_heads": -469,
          "dev_prop_heads": -0.002765330188679249,
          "tosses": 169600
         },
         {
          "dev_num_heads": -471,
          "dev_prop_heads": -0.002775486152032991,
          "tosses": 169700
         },
         {
          "dev_num_heads": -475,
          "dev_prop_heads": -0.002797408716136651,
          "tosses": 169800
         },
         {
          "dev_num_heads": -481,
          "dev_prop_heads": -0.002831077104178903,
          "tosses": 169900
         },
         {
          "dev_num_heads": -476,
          "dev_prop_heads": -0.0028000000000000247,
          "tosses": 170000
         },
         {
          "dev_num_heads": -474,
          "dev_prop_heads": -0.00278659611992943,
          "tosses": 170100
         },
         {
          "dev_num_heads": -473,
          "dev_prop_heads": -0.002779083431257323,
          "tosses": 170200
         },
         {
          "dev_num_heads": -467,
          "dev_prop_heads": -0.0027422196124486375,
          "tosses": 170300
         },
         {
          "dev_num_heads": -478,
          "dev_prop_heads": -0.0028051643192488207,
          "tosses": 170400
         },
         {
          "dev_num_heads": -479,
          "dev_prop_heads": -0.0028093841642228834,
          "tosses": 170500
         },
         {
          "dev_num_heads": -471,
          "dev_prop_heads": -0.0027608440797186606,
          "tosses": 170600
         },
         {
          "dev_num_heads": -470,
          "dev_prop_heads": -0.0027533684827182325,
          "tosses": 170700
         },
         {
          "dev_num_heads": -472,
          "dev_prop_heads": -0.00276346604215455,
          "tosses": 170800
         },
         {
          "dev_num_heads": -473,
          "dev_prop_heads": -0.00276770040959623,
          "tosses": 170900
         },
         {
          "dev_num_heads": -471,
          "dev_prop_heads": -0.002754385964912287,
          "tosses": 171000
         },
         {
          "dev_num_heads": -472,
          "dev_prop_heads": -0.0027586206896551557,
          "tosses": 171100
         },
         {
          "dev_num_heads": -481,
          "dev_prop_heads": -0.002809579439252363,
          "tosses": 171200
         },
         {
          "dev_num_heads": -477,
          "dev_prop_heads": -0.002784588441331004,
          "tosses": 171300
         },
         {
          "dev_num_heads": -487,
          "dev_prop_heads": -0.0028413068844807543,
          "tosses": 171400
         },
         {
          "dev_num_heads": -485,
          "dev_prop_heads": -0.002827988338192422,
          "tosses": 171500
         },
         {
          "dev_num_heads": -488,
          "dev_prop_heads": -0.002843822843822841,
          "tosses": 171600
         },
         {
          "dev_num_heads": -489,
          "dev_prop_heads": -0.0028479906814211087,
          "tosses": 171700
         },
         {
          "dev_num_heads": -490,
          "dev_prop_heads": -0.002852153667054713,
          "tosses": 171800
         },
         {
          "dev_num_heads": -485,
          "dev_prop_heads": -0.002821407795229769,
          "tosses": 171900
         },
         {
          "dev_num_heads": -474,
          "dev_prop_heads": -0.002755813953488395,
          "tosses": 172000
         },
         {
          "dev_num_heads": -463,
          "dev_prop_heads": -0.0026902963393375945,
          "tosses": 172100
         },
         {
          "dev_num_heads": -468,
          "dev_prop_heads": -0.002717770034843192,
          "tosses": 172200
         },
         {
          "dev_num_heads": -464,
          "dev_prop_heads": -0.0026929773650609667,
          "tosses": 172300
         },
         {
          "dev_num_heads": -461,
          "dev_prop_heads": -0.002674013921113716,
          "tosses": 172400
         },
         {
          "dev_num_heads": -459,
          "dev_prop_heads": -0.002660869565217383,
          "tosses": 172500
         },
         {
          "dev_num_heads": -456,
          "dev_prop_heads": -0.0026419466975666217,
          "tosses": 172600
         },
         {
          "dev_num_heads": -459,
          "dev_prop_heads": -0.0026577880718008373,
          "tosses": 172700
         },
         {
          "dev_num_heads": -460,
          "dev_prop_heads": -0.002662037037037046,
          "tosses": 172800
         },
         {
          "dev_num_heads": -459,
          "dev_prop_heads": -0.0026547137073452687,
          "tosses": 172900
         },
         {
          "dev_num_heads": -462,
          "dev_prop_heads": -0.002670520231213891,
          "tosses": 173000
         },
         {
          "dev_num_heads": -463,
          "dev_prop_heads": -0.0026747544771807963,
          "tosses": 173100
         },
         {
          "dev_num_heads": -457,
          "dev_prop_heads": -0.0026385681293302765,
          "tosses": 173200
         },
         {
          "dev_num_heads": -452,
          "dev_prop_heads": -0.002608193883439136,
          "tosses": 173300
         },
         {
          "dev_num_heads": -446,
          "dev_prop_heads": -0.0025720876585928476,
          "tosses": 173400
         },
         {
          "dev_num_heads": -448,
          "dev_prop_heads": -0.0025821325648415216,
          "tosses": 173500
         },
         {
          "dev_num_heads": -446,
          "dev_prop_heads": -0.0025691244239631206,
          "tosses": 173600
         },
         {
          "dev_num_heads": -439,
          "dev_prop_heads": -0.0025273459988485736,
          "tosses": 173700
         },
         {
          "dev_num_heads": -440,
          "dev_prop_heads": -0.0025316455696202667,
          "tosses": 173800
         },
         {
          "dev_num_heads": -441,
          "dev_prop_heads": -0.0025359401955146743,
          "tosses": 173900
         },
         {
          "dev_num_heads": -442,
          "dev_prop_heads": -0.0025402298850574767,
          "tosses": 174000
         },
         {
          "dev_num_heads": -451,
          "dev_prop_heads": -0.0025904652498563996,
          "tosses": 174100
         },
         {
          "dev_num_heads": -452,
          "dev_prop_heads": -0.002594718714121702,
          "tosses": 174200
         },
         {
          "dev_num_heads": -452,
          "dev_prop_heads": -0.002593230063109575,
          "tosses": 174300
         },
         {
          "dev_num_heads": -453,
          "dev_prop_heads": -0.0025974770642201994,
          "tosses": 174400
         },
         {
          "dev_num_heads": -450,
          "dev_prop_heads": -0.0025787965616045905,
          "tosses": 174500
         },
         {
          "dev_num_heads": -444,
          "dev_prop_heads": -0.002542955326460483,
          "tosses": 174600
         },
         {
          "dev_num_heads": -448,
          "dev_prop_heads": -0.002564396107613054,
          "tosses": 174700
         },
         {
          "dev_num_heads": -455,
          "dev_prop_heads": -0.002602974828375293,
          "tosses": 174800
         },
         {
          "dev_num_heads": -454,
          "dev_prop_heads": -0.0025957690108633358,
          "tosses": 174900
         },
         {
          "dev_num_heads": -451,
          "dev_prop_heads": -0.0025771428571428334,
          "tosses": 175000
         },
         {
          "dev_num_heads": -458,
          "dev_prop_heads": -0.002615648201027998,
          "tosses": 175100
         },
         {
          "dev_num_heads": -452,
          "dev_prop_heads": -0.002579908675799103,
          "tosses": 175200
         },
         {
          "dev_num_heads": -452,
          "dev_prop_heads": -0.0025784369652024908,
          "tosses": 175300
         },
         {
          "dev_num_heads": -457,
          "dev_prop_heads": -0.0026054732041049244,
          "tosses": 175400
         },
         {
          "dev_num_heads": -456,
          "dev_prop_heads": -0.002598290598290587,
          "tosses": 175500
         },
         {
          "dev_num_heads": -452,
          "dev_prop_heads": -0.0025740318906605775,
          "tosses": 175600
         },
         {
          "dev_num_heads": -455,
          "dev_prop_heads": -0.002589641434262935,
          "tosses": 175700
         },
         {
          "dev_num_heads": -455,
          "dev_prop_heads": -0.0025881683731512894,
          "tosses": 175800
         },
         {
          "dev_num_heads": -464,
          "dev_prop_heads": -0.0026378624218305613,
          "tosses": 175900
         },
         {
          "dev_num_heads": -471,
          "dev_prop_heads": -0.002676136363636339,
          "tosses": 176000
         },
         {
          "dev_num_heads": -470,
          "dev_prop_heads": -0.0026689381033503934,
          "tosses": 176100
         },
         {
          "dev_num_heads": -474,
          "dev_prop_heads": -0.002690124858115761,
          "tosses": 176200
         },
         {
          "dev_num_heads": -478,
          "dev_prop_heads": -0.0027112875779920498,
          "tosses": 176300
         },
         {
          "dev_num_heads": -477,
          "dev_prop_heads": -0.002704081632653066,
          "tosses": 176400
         },
         {
          "dev_num_heads": -486,
          "dev_prop_heads": -0.0027535410764872315,
          "tosses": 176500
         },
         {
          "dev_num_heads": -488,
          "dev_prop_heads": -0.00276330690826726,
          "tosses": 176600
         },
         {
          "dev_num_heads": -493,
          "dev_prop_heads": -0.0027900396151669393,
          "tosses": 176700
         },
         {
          "dev_num_heads": -490,
          "dev_prop_heads": -0.0027714932126696734,
          "tosses": 176800
         },
         {
          "dev_num_heads": -491,
          "dev_prop_heads": -0.002775579423403063,
          "tosses": 176900
         },
         {
          "dev_num_heads": -496,
          "dev_prop_heads": -0.0028022598870056648,
          "tosses": 177000
         },
         {
          "dev_num_heads": -499,
          "dev_prop_heads": -0.0028176171654432647,
          "tosses": 177100
         },
         {
          "dev_num_heads": -502,
          "dev_prop_heads": -0.002832957110609491,
          "tosses": 177200
         },
         {
          "dev_num_heads": -502,
          "dev_prop_heads": -0.002831359278059775,
          "tosses": 177300
         },
         {
          "dev_num_heads": -500,
          "dev_prop_heads": -0.002818489289740711,
          "tosses": 177400
         },
         {
          "dev_num_heads": -500,
          "dev_prop_heads": -0.0028169014084507005,
          "tosses": 177500
         },
         {
          "dev_num_heads": -492,
          "dev_prop_heads": -0.0027702702702702697,
          "tosses": 177600
         },
         {
          "dev_num_heads": -480,
          "dev_prop_heads": -0.002701181767023053,
          "tosses": 177700
         },
         {
          "dev_num_heads": -483,
          "dev_prop_heads": -0.002716535433070877,
          "tosses": 177800
         },
         {
          "dev_num_heads": -480,
          "dev_prop_heads": -0.0026981450252950845,
          "tosses": 177900
         },
         {
          "dev_num_heads": -480,
          "dev_prop_heads": -0.002696629213483126,
          "tosses": 178000
         },
         {
          "dev_num_heads": -478,
          "dev_prop_heads": -0.0026838854576080595,
          "tosses": 178100
         },
         {
          "dev_num_heads": -485,
          "dev_prop_heads": -0.0027216610549943843,
          "tosses": 178200
         },
         {
          "dev_num_heads": -479,
          "dev_prop_heads": -0.002686483454851396,
          "tosses": 178300
         },
         {
          "dev_num_heads": -491,
          "dev_prop_heads": -0.0027522421524663887,
          "tosses": 178400
         },
         {
          "dev_num_heads": -483,
          "dev_prop_heads": -0.002705882352941169,
          "tosses": 178500
         },
         {
          "dev_num_heads": -484,
          "dev_prop_heads": -0.0027099664053751304,
          "tosses": 178600
         },
         {
          "dev_num_heads": -484,
          "dev_prop_heads": -0.0027084499160604514,
          "tosses": 178700
         },
         {
          "dev_num_heads": -497,
          "dev_prop_heads": -0.0027796420581655545,
          "tosses": 178800
         },
         {
          "dev_num_heads": -498,
          "dev_prop_heads": -0.002783678032420356,
          "tosses": 178900
         },
         {
          "dev_num_heads": -508,
          "dev_prop_heads": -0.0028379888268156295,
          "tosses": 179000
         },
         {
          "dev_num_heads": -509,
          "dev_prop_heads": -0.002841987716359573,
          "tosses": 179100
         },
         {
          "dev_num_heads": -517,
          "dev_prop_heads": -0.0028850446428571597,
          "tosses": 179200
         },
         {
          "dev_num_heads": -514,
          "dev_prop_heads": -0.002866703848298957,
          "tosses": 179300
         },
         {
          "dev_num_heads": -516,
          "dev_prop_heads": -0.0028762541806020003,
          "tosses": 179400
         },
         {
          "dev_num_heads": -511,
          "dev_prop_heads": -0.002846796657381634,
          "tosses": 179500
         },
         {
          "dev_num_heads": -512,
          "dev_prop_heads": -0.002850779510022272,
          "tosses": 179600
         },
         {
          "dev_num_heads": -509,
          "dev_prop_heads": -0.002832498608792422,
          "tosses": 179700
         },
         {
          "dev_num_heads": -515,
          "dev_prop_heads": -0.0028642936596218194,
          "tosses": 179800
         },
         {
          "dev_num_heads": -522,
          "dev_prop_heads": -0.0029016120066703843,
          "tosses": 179900
         },
         {
          "dev_num_heads": -534,
          "dev_prop_heads": -0.002966666666666673,
          "tosses": 180000
         },
         {
          "dev_num_heads": -525,
          "dev_prop_heads": -0.0029150471960022184,
          "tosses": 180100
         },
         {
          "dev_num_heads": -525,
          "dev_prop_heads": -0.0029134295227524754,
          "tosses": 180200
         },
         {
          "dev_num_heads": -511,
          "dev_prop_heads": -0.0028341652800887296,
          "tosses": 180300
         },
         {
          "dev_num_heads": -506,
          "dev_prop_heads": -0.0028048780487804903,
          "tosses": 180400
         },
         {
          "dev_num_heads": -503,
          "dev_prop_heads": -0.0027867036011080537,
          "tosses": 180500
         },
         {
          "dev_num_heads": -494,
          "dev_prop_heads": -0.002735326688815043,
          "tosses": 180600
         },
         {
          "dev_num_heads": -497,
          "dev_prop_heads": -0.0027504150525733406,
          "tosses": 180700
         },
         {
          "dev_num_heads": -492,
          "dev_prop_heads": -0.0027212389380530944,
          "tosses": 180800
         },
         {
          "dev_num_heads": -496,
          "dev_prop_heads": -0.0027418463239358704,
          "tosses": 180900
         },
         {
          "dev_num_heads": -495,
          "dev_prop_heads": -0.0027348066298342744,
          "tosses": 181000
         },
         {
          "dev_num_heads": -493,
          "dev_prop_heads": -0.0027222528989508388,
          "tosses": 181100
         },
         {
          "dev_num_heads": -499,
          "dev_prop_heads": -0.0027538631346578635,
          "tosses": 181200
         },
         {
          "dev_num_heads": -508,
          "dev_prop_heads": -0.0028019856591285364,
          "tosses": 181300
         },
         {
          "dev_num_heads": -502,
          "dev_prop_heads": -0.002767364939360528,
          "tosses": 181400
         },
         {
          "dev_num_heads": -504,
          "dev_prop_heads": -0.0027768595041322564,
          "tosses": 181500
         },
         {
          "dev_num_heads": -514,
          "dev_prop_heads": -0.0028303964757709354,
          "tosses": 181600
         },
         {
          "dev_num_heads": -516,
          "dev_prop_heads": -0.0028398458998348808,
          "tosses": 181700
         },
         {
          "dev_num_heads": -511,
          "dev_prop_heads": -0.002810781078107838,
          "tosses": 181800
         },
         {
          "dev_num_heads": -502,
          "dev_prop_heads": -0.0027597581088510403,
          "tosses": 181900
         },
         {
          "dev_num_heads": -501,
          "dev_prop_heads": -0.0027527472527472674,
          "tosses": 182000
         },
         {
          "dev_num_heads": -498,
          "dev_prop_heads": -0.002734761120263607,
          "tosses": 182100
         },
         {
          "dev_num_heads": -505,
          "dev_prop_heads": -0.0027716794731064698,
          "tosses": 182200
         },
         {
          "dev_num_heads": -509,
          "dev_prop_heads": -0.002792100932528796,
          "tosses": 182300
         },
         {
          "dev_num_heads": -508,
          "dev_prop_heads": -0.0027850877192982515,
          "tosses": 182400
         },
         {
          "dev_num_heads": -511,
          "dev_prop_heads": -0.0028000000000000247,
          "tosses": 182500
         },
         {
          "dev_num_heads": -511,
          "dev_prop_heads": -0.0027984665936472974,
          "tosses": 182600
         },
         {
          "dev_num_heads": -507,
          "dev_prop_heads": -0.002775041050903093,
          "tosses": 182700
         },
         {
          "dev_num_heads": -509,
          "dev_prop_heads": -0.0027844638949671707,
          "tosses": 182800
         },
         {
          "dev_num_heads": -504,
          "dev_prop_heads": -0.0027556041552760924,
          "tosses": 182900
         },
         {
          "dev_num_heads": -504,
          "dev_prop_heads": -0.00275409836065571,
          "tosses": 183000
         },
         {
          "dev_num_heads": -509,
          "dev_prop_heads": -0.002779901693063913,
          "tosses": 183100
         },
         {
          "dev_num_heads": -511,
          "dev_prop_heads": -0.002789301310043679,
          "tosses": 183200
         },
         {
          "dev_num_heads": -507,
          "dev_prop_heads": -0.00276595744680852,
          "tosses": 183300
         },
         {
          "dev_num_heads": -503,
          "dev_prop_heads": -0.0027426390403489376,
          "tosses": 183400
         },
         {
          "dev_num_heads": -501,
          "dev_prop_heads": -0.002730245231607642,
          "tosses": 183500
         },
         {
          "dev_num_heads": -501,
          "dev_prop_heads": -0.0027287581699346197,
          "tosses": 183600
         },
         {
          "dev_num_heads": -498,
          "dev_prop_heads": -0.0027109417528579094,
          "tosses": 183700
         },
         {
          "dev_num_heads": -491,
          "dev_prop_heads": -0.002671381936887929,
          "tosses": 183800
         },
         {
          "dev_num_heads": -488,
          "dev_prop_heads": -0.002653616095704192,
          "tosses": 183900
         },
         {
          "dev_num_heads": -496,
          "dev_prop_heads": -0.0026956521739130435,
          "tosses": 184000
         },
         {
          "dev_num_heads": -491,
          "dev_prop_heads": -0.0026670287887017863,
          "tosses": 184100
         },
         {
          "dev_num_heads": -493,
          "dev_prop_heads": -0.0026764386536373697,
          "tosses": 184200
         },
         {
          "dev_num_heads": -486,
          "dev_prop_heads": -0.0026370048833423976,
          "tosses": 184300
         },
         {
          "dev_num_heads": -484,
          "dev_prop_heads": -0.0026247288503253863,
          "tosses": 184400
         },
         {
          "dev_num_heads": -494,
          "dev_prop_heads": -0.0026775067750677284,
          "tosses": 184500
         },
         {
          "dev_num_heads": -500,
          "dev_prop_heads": -0.0027085590465872333,
          "tosses": 184600
         },
         {
          "dev_num_heads": -499,
          "dev_prop_heads": -0.002701678397401208,
          "tosses": 184700
         },
         {
          "dev_num_heads": -488,
          "dev_prop_heads": -0.0026406926406926656,
          "tosses": 184800
         },
         {
          "dev_num_heads": -483,
          "dev_prop_heads": -0.0026122228231476585,
          "tosses": 184900
         },
         {
          "dev_num_heads": -474,
          "dev_prop_heads": -0.0025621621621621515,
          "tosses": 185000
         },
         {
          "dev_num_heads": -479,
          "dev_prop_heads": -0.002587790383576427,
          "tosses": 185100
         },
         {
          "dev_num_heads": -477,
          "dev_prop_heads": -0.002575593952483801,
          "tosses": 185200
         },
         {
          "dev_num_heads": -475,
          "dev_prop_heads": -0.002563410685375078,
          "tosses": 185300
         },
         {
          "dev_num_heads": -473,
          "dev_prop_heads": -0.002551240560949297,
          "tosses": 185400
         },
         {
          "dev_num_heads": -471,
          "dev_prop_heads": -0.0025390835579514603,
          "tosses": 185500
         },
         {
          "dev_num_heads": -476,
          "dev_prop_heads": -0.0025646551724137767,
          "tosses": 185600
         },
         {
          "dev_num_heads": -471,
          "dev_prop_heads": -0.0025363489499192204,
          "tosses": 185700
         },
         {
          "dev_num_heads": -470,
          "dev_prop_heads": -0.0025296017222820044,
          "tosses": 185800
         },
         {
          "dev_num_heads": -476,
          "dev_prop_heads": -0.0025605164066702657,
          "tosses": 185900
         },
         {
          "dev_num_heads": -484,
          "dev_prop_heads": -0.0026021505376344067,
          "tosses": 186000
         },
         {
          "dev_num_heads": -484,
          "dev_prop_heads": -0.0026007522837184216,
          "tosses": 186100
         },
         {
          "dev_num_heads": -488,
          "dev_prop_heads": -0.00262083780880773,
          "tosses": 186200
         },
         {
          "dev_num_heads": -490,
          "dev_prop_heads": -0.002630166398282341,
          "tosses": 186300
         },
         {
          "dev_num_heads": -490,
          "dev_prop_heads": -0.0026287553648068895,
          "tosses": 186400
         },
         {
          "dev_num_heads": -491,
          "dev_prop_heads": -0.0026327077747989036,
          "tosses": 186500
         },
         {
          "dev_num_heads": -489,
          "dev_prop_heads": -0.002620578778135041,
          "tosses": 186600
         },
         {
          "dev_num_heads": -495,
          "dev_prop_heads": -0.0026513122656668386,
          "tosses": 186700
         },
         {
          "dev_num_heads": -491,
          "dev_prop_heads": -0.0026284796573876057,
          "tosses": 186800
         },
         {
          "dev_num_heads": -490,
          "dev_prop_heads": -0.002621722846441965,
          "tosses": 186900
         },
         {
          "dev_num_heads": -482,
          "dev_prop_heads": -0.002577540106951881,
          "tosses": 187000
         },
         {
          "dev_num_heads": -478,
          "dev_prop_heads": -0.0025547835382148665,
          "tosses": 187100
         },
         {
          "dev_num_heads": -489,
          "dev_prop_heads": -0.002612179487179511,
          "tosses": 187200
         },
         {
          "dev_num_heads": -488,
          "dev_prop_heads": -0.002605445808862794,
          "tosses": 187300
         },
         {
          "dev_num_heads": -500,
          "dev_prop_heads": -0.0026680896478121774,
          "tosses": 187400
         },
         {
          "dev_num_heads": -498,
          "dev_prop_heads": -0.0026559999999999917,
          "tosses": 187500
         },
         {
          "dev_num_heads": -499,
          "dev_prop_heads": -0.002659914712153544,
          "tosses": 187600
         },
         {
          "dev_num_heads": -497,
          "dev_prop_heads": -0.0026478423015450225,
          "tosses": 187700
         },
         {
          "dev_num_heads": -491,
          "dev_prop_heads": -0.002614483493077746,
          "tosses": 187800
         },
         {
          "dev_num_heads": -492,
          "dev_prop_heads": -0.0026184140500266073,
          "tosses": 187900
         },
         {
          "dev_num_heads": -490,
          "dev_prop_heads": -0.0026063829787233983,
          "tosses": 188000
         },
         {
          "dev_num_heads": -490,
          "dev_prop_heads": -0.0026049973418394434,
          "tosses": 188100
         },
         {
          "dev_num_heads": -496,
          "dev_prop_heads": -0.0026354941551540723,
          "tosses": 188200
         },
         {
          "dev_num_heads": -494,
          "dev_prop_heads": -0.002623473181094016,
          "tosses": 188300
         },
         {
          "dev_num_heads": -499,
          "dev_prop_heads": -0.0026486199575371794,
          "tosses": 188400
         },
         {
          "dev_num_heads": -491,
          "dev_prop_heads": -0.00260477453580904,
          "tosses": 188500
         },
         {
          "dev_num_heads": -492,
          "dev_prop_heads": -0.00260869565217392,
          "tosses": 188600
         },
         {
          "dev_num_heads": -502,
          "dev_prop_heads": -0.002660307366189718,
          "tosses": 188700
         },
         {
          "dev_num_heads": -504,
          "dev_prop_heads": -0.0026694915254237284,
          "tosses": 188800
         },
         {
          "dev_num_heads": -511,
          "dev_prop_heads": -0.002705134992059266,
          "tosses": 188900
         },
         {
          "dev_num_heads": -512,
          "dev_prop_heads": -0.0027089947089947164,
          "tosses": 189000
         },
         {
          "dev_num_heads": -514,
          "dev_prop_heads": -0.0027181385510312017,
          "tosses": 189100
         },
         {
          "dev_num_heads": -508,
          "dev_prop_heads": -0.0026849894291754994,
          "tosses": 189200
         },
         {
          "dev_num_heads": -504,
          "dev_prop_heads": -0.002662440570523006,
          "tosses": 189300
         },
         {
          "dev_num_heads": -503,
          "dev_prop_heads": -0.0026557550158394783,
          "tosses": 189400
         },
         {
          "dev_num_heads": -511,
          "dev_prop_heads": -0.0026965699208443272,
          "tosses": 189500
         },
         {
          "dev_num_heads": -510,
          "dev_prop_heads": -0.0026898734177215333,
          "tosses": 189600
         },
         {
          "dev_num_heads": -504,
          "dev_prop_heads": -0.0026568265682656578,
          "tosses": 189700
         },
         {
          "dev_num_heads": -501,
          "dev_prop_heads": -0.0026396206533192967,
          "tosses": 189800
         },
         {
          "dev_num_heads": -500,
          "dev_prop_heads": -0.00263296471827279,
          "tosses": 189900
         },
         {
          "dev_num_heads": -499,
          "dev_prop_heads": -0.002626315789473699,
          "tosses": 190000
         },
         {
          "dev_num_heads": -495,
          "dev_prop_heads": -0.0026038926880589397,
          "tosses": 190100
         },
         {
          "dev_num_heads": -497,
          "dev_prop_heads": -0.002613038906414289,
          "tosses": 190200
         },
         {
          "dev_num_heads": -492,
          "dev_prop_heads": -0.00258539148712561,
          "tosses": 190300
         },
         {
          "dev_num_heads": -480,
          "dev_prop_heads": -0.0025210084033613356,
          "tosses": 190400
         },
         {
          "dev_num_heads": -476,
          "dev_prop_heads": -0.0024986876640419875,
          "tosses": 190500
         },
         {
          "dev_num_heads": -481,
          "dev_prop_heads": -0.0025236096537250563,
          "tosses": 190600
         },
         {
          "dev_num_heads": -482,
          "dev_prop_heads": -0.0025275301520713,
          "tosses": 190700
         },
         {
          "dev_num_heads": -484,
          "dev_prop_heads": -0.002536687631027268,
          "tosses": 190800
         },
         {
          "dev_num_heads": -481,
          "dev_prop_heads": -0.0025196437925615323,
          "tosses": 190900
         },
         {
          "dev_num_heads": -483,
          "dev_prop_heads": -0.002528795811518325,
          "tosses": 191000
         },
         {
          "dev_num_heads": -487,
          "dev_prop_heads": -0.002548403976975422,
          "tosses": 191100
         },
         {
          "dev_num_heads": -488,
          "dev_prop_heads": -0.0025523012552301494,
          "tosses": 191200
         },
         {
          "dev_num_heads": -485,
          "dev_prop_heads": -0.0025352848928384963,
          "tosses": 191300
         },
         {
          "dev_num_heads": -481,
          "dev_prop_heads": -0.0025130616509926873,
          "tosses": 191400
         },
         {
          "dev_num_heads": -488,
          "dev_prop_heads": -0.0025483028720626466,
          "tosses": 191500
         },
         {
          "dev_num_heads": -494,
          "dev_prop_heads": -0.00257828810020877,
          "tosses": 191600
         },
         {
          "dev_num_heads": -504,
          "dev_prop_heads": -0.0026291079812206797,
          "tosses": 191700
         },
         {
          "dev_num_heads": -504,
          "dev_prop_heads": -0.002627737226277349,
          "tosses": 191800
         },
         {
          "dev_num_heads": -510,
          "dev_prop_heads": -0.0026576341844710694,
          "tosses": 191900
         },
         {
          "dev_num_heads": -504,
          "dev_prop_heads": -0.0026249999999999885,
          "tosses": 192000
         },
         {
          "dev_num_heads": -513,
          "dev_prop_heads": -0.002670484122852701,
          "tosses": 192100
         },
         {
          "dev_num_heads": -517,
          "dev_prop_heads": -0.002689906347554616,
          "tosses": 192200
         },
         {
          "dev_num_heads": -516,
          "dev_prop_heads": -0.002683307332293272,
          "tosses": 192300
         },
         {
          "dev_num_heads": -515,
          "dev_prop_heads": -0.002676715176715194,
          "tosses": 192400
         },
         {
          "dev_num_heads": -519,
          "dev_prop_heads": -0.0026961038961039185,
          "tosses": 192500
         },
         {
          "dev_num_heads": -528,
          "dev_prop_heads": -0.0027414330218068494,
          "tosses": 192600
         },
         {
          "dev_num_heads": -534,
          "dev_prop_heads": -0.0027711468604047496,
          "tosses": 192700
         },
         {
          "dev_num_heads": -534,
          "dev_prop_heads": -0.002769709543568477,
          "tosses": 192800
         },
         {
          "dev_num_heads": -525,
          "dev_prop_heads": -0.002721617418351474,
          "tosses": 192900
         },
         {
          "dev_num_heads": -522,
          "dev_prop_heads": -0.002704663212435232,
          "tosses": 193000
         },
         {
          "dev_num_heads": -518,
          "dev_prop_heads": -0.002682547902641108,
          "tosses": 193100
         },
         {
          "dev_num_heads": -509,
          "dev_prop_heads": -0.0026345755693581996,
          "tosses": 193200
         },
         {
          "dev_num_heads": -506,
          "dev_prop_heads": -0.0026176927056388855,
          "tosses": 193300
         },
         {
          "dev_num_heads": -507,
          "dev_prop_heads": -0.0026215098241985646,
          "tosses": 193400
         },
         {
          "dev_num_heads": -505,
          "dev_prop_heads": -0.0026098191214470323,
          "tosses": 193500
         },
         {
          "dev_num_heads": -509,
          "dev_prop_heads": -0.0026291322314049848,
          "tosses": 193600
         },
         {
          "dev_num_heads": -514,
          "dev_prop_heads": -0.002653588022715536,
          "tosses": 193700
         },
         {
          "dev_num_heads": -512,
          "dev_prop_heads": -0.002641898864809089,
          "tosses": 193800
         },
         {
          "dev_num_heads": -515,
          "dev_prop_heads": -0.002656008251676112,
          "tosses": 193900
         },
         {
          "dev_num_heads": -512,
          "dev_prop_heads": -0.0026391752577319405,
          "tosses": 194000
         },
         {
          "dev_num_heads": -516,
          "dev_prop_heads": -0.002658423493044848,
          "tosses": 194100
         },
         {
          "dev_num_heads": -520,
          "dev_prop_heads": -0.0026776519052523207,
          "tosses": 194200
         },
         {
          "dev_num_heads": -516,
          "dev_prop_heads": -0.0026556870818322253,
          "tosses": 194300
         },
         {
          "dev_num_heads": -516,
          "dev_prop_heads": -0.002654320987654335,
          "tosses": 194400
         },
         {
          "dev_num_heads": -515,
          "dev_prop_heads": -0.002647814910025692,
          "tosses": 194500
         },
         {
          "dev_num_heads": -510,
          "dev_prop_heads": -0.0026207605344296114,
          "tosses": 194600
         },
         {
          "dev_num_heads": -513,
          "dev_prop_heads": -0.0026348228043143185,
          "tosses": 194700
         },
         {
          "dev_num_heads": -514,
          "dev_prop_heads": -0.002638603696098585,
          "tosses": 194800
         },
         {
          "dev_num_heads": -514,
          "dev_prop_heads": -0.002637249871729086,
          "tosses": 194900
         },
         {
          "dev_num_heads": -515,
          "dev_prop_heads": -0.0026410256410256405,
          "tosses": 195000
         },
         {
          "dev_num_heads": -506,
          "dev_prop_heads": -0.0025935417734495037,
          "tosses": 195100
         },
         {
          "dev_num_heads": -508,
          "dev_prop_heads": -0.0026024590163934436,
          "tosses": 195200
         },
         {
          "dev_num_heads": -502,
          "dev_prop_heads": -0.0025704045058883573,
          "tosses": 195300
         },
         {
          "dev_num_heads": -498,
          "dev_prop_heads": -0.002548618219037846,
          "tosses": 195400
         },
         {
          "dev_num_heads": -497,
          "dev_prop_heads": -0.002542199488491048,
          "tosses": 195500
         },
         {
          "dev_num_heads": -495,
          "dev_prop_heads": -0.00253067484662578,
          "tosses": 195600
         },
         {
          "dev_num_heads": -492,
          "dev_prop_heads": -0.002514052120592747,
          "tosses": 195700
         },
         {
          "dev_num_heads": -494,
          "dev_prop_heads": -0.0025229826353421747,
          "tosses": 195800
         },
         {
          "dev_num_heads": -494,
          "dev_prop_heads": -0.002521694742215419,
          "tosses": 195900
         },
         {
          "dev_num_heads": -498,
          "dev_prop_heads": -0.002540816326530637,
          "tosses": 196000
         },
         {
          "dev_num_heads": -500,
          "dev_prop_heads": -0.0025497195308515908,
          "tosses": 196100
         },
         {
          "dev_num_heads": -498,
          "dev_prop_heads": -0.0025382262996941907,
          "tosses": 196200
         },
         {
          "dev_num_heads": -494,
          "dev_prop_heads": -0.002516556291390748,
          "tosses": 196300
         },
         {
          "dev_num_heads": -498,
          "dev_prop_heads": -0.0025356415478615113,
          "tosses": 196400
         },
         {
          "dev_num_heads": -496,
          "dev_prop_heads": -0.0025241730279897956,
          "tosses": 196500
         },
         {
          "dev_num_heads": -499,
          "dev_prop_heads": -0.002538148524923678,
          "tosses": 196600
         },
         {
          "dev_num_heads": -496,
          "dev_prop_heads": -0.0025216065073716543,
          "tosses": 196700
         },
         {
          "dev_num_heads": -495,
          "dev_prop_heads": -0.0025152439024390127,
          "tosses": 196800
         },
         {
          "dev_num_heads": -500,
          "dev_prop_heads": -0.002539360081259545,
          "tosses": 196900
         },
         {
          "dev_num_heads": -503,
          "dev_prop_heads": -0.0025532994923858077,
          "tosses": 197000
         },
         {
          "dev_num_heads": -504,
          "dev_prop_heads": -0.0025570776255707806,
          "tosses": 197100
         },
         {
          "dev_num_heads": -505,
          "dev_prop_heads": -0.002560851926977692,
          "tosses": 197200
         },
         {
          "dev_num_heads": -496,
          "dev_prop_heads": -0.0025139381652306003,
          "tosses": 197300
         },
         {
          "dev_num_heads": -495,
          "dev_prop_heads": -0.0025075987841945424,
          "tosses": 197400
         },
         {
          "dev_num_heads": -506,
          "dev_prop_heads": -0.0025620253164557183,
          "tosses": 197500
         },
         {
          "dev_num_heads": -511,
          "dev_prop_heads": -0.0025860323886639502,
          "tosses": 197600
         },
         {
          "dev_num_heads": -508,
          "dev_prop_heads": -0.00256954982296409,
          "tosses": 197700
         },
         {
          "dev_num_heads": -503,
          "dev_prop_heads": -0.002542972699696666,
          "tosses": 197800
         },
         {
          "dev_num_heads": -508,
          "dev_prop_heads": -0.0025669530065689505,
          "tosses": 197900
         },
         {
          "dev_num_heads": -512,
          "dev_prop_heads": -0.0025858585858585803,
          "tosses": 198000
         },
         {
          "dev_num_heads": -514,
          "dev_prop_heads": -0.0025946491670873484,
          "tosses": 198100
         },
         {
          "dev_num_heads": -509,
          "dev_prop_heads": -0.002568113017154372,
          "tosses": 198200
         },
         {
          "dev_num_heads": -512,
          "dev_prop_heads": -0.0025819465456379254,
          "tosses": 198300
         },
         {
          "dev_num_heads": -513,
          "dev_prop_heads": -0.0025856854838709475,
          "tosses": 198400
         },
         {
          "dev_num_heads": -512,
          "dev_prop_heads": -0.0025793450881612112,
          "tosses": 198500
         },
         {
          "dev_num_heads": -513,
          "dev_prop_heads": -0.002583081570996959,
          "tosses": 198600
         },
         {
          "dev_num_heads": -512,
          "dev_prop_heads": -0.0025767488676396444,
          "tosses": 198700
         },
         {
          "dev_num_heads": -508,
          "dev_prop_heads": -0.002555331991951737,
          "tosses": 198800
         },
         {
          "dev_num_heads": -507,
          "dev_prop_heads": -0.0025490196078431504,
          "tosses": 198900
         },
         {
          "dev_num_heads": -505,
          "dev_prop_heads": -0.002537688442211028,
          "tosses": 199000
         },
         {
          "dev_num_heads": -497,
          "dev_prop_heads": -0.0024962330487192097,
          "tosses": 199100
         },
         {
          "dev_num_heads": -495,
          "dev_prop_heads": -0.002484939759036131,
          "tosses": 199200
         },
         {
          "dev_num_heads": -498,
          "dev_prop_heads": -0.0024987456096337013,
          "tosses": 199300
         },
         {
          "dev_num_heads": -491,
          "dev_prop_heads": -0.0024623871614844473,
          "tosses": 199400
         },
         {
          "dev_num_heads": -485,
          "dev_prop_heads": -0.0024310776942355616,
          "tosses": 199500
         },
         {
          "dev_num_heads": -492,
          "dev_prop_heads": -0.0024649298597194114,
          "tosses": 199600
         },
         {
          "dev_num_heads": -487,
          "dev_prop_heads": -0.0024386579869804526,
          "tosses": 199700
         },
         {
          "dev_num_heads": -491,
          "dev_prop_heads": -0.002457457457457457,
          "tosses": 199800
         },
         {
          "dev_num_heads": -494,
          "dev_prop_heads": -0.002471235617808931,
          "tosses": 199900
         },
         {
          "dev_num_heads": -501,
          "dev_prop_heads": -0.0025049999999999795,
          "tosses": 200000
         },
         {
          "dev_num_heads": -510,
          "dev_prop_heads": -0.0025487256371813927,
          "tosses": 200100
         },
         {
          "dev_num_heads": -505,
          "dev_prop_heads": -0.0025224775224775287,
          "tosses": 200200
         },
         {
          "dev_num_heads": -501,
          "dev_prop_heads": -0.0025012481278082754,
          "tosses": 200300
         },
         {
          "dev_num_heads": -499,
          "dev_prop_heads": -0.002490019960079859,
          "tosses": 200400
         },
         {
          "dev_num_heads": -500,
          "dev_prop_heads": -0.002493765586034924,
          "tosses": 200500
         },
         {
          "dev_num_heads": -505,
          "dev_prop_heads": -0.0025174476570289372,
          "tosses": 200600
         },
         {
          "dev_num_heads": -515,
          "dev_prop_heads": -0.0025660189337319284,
          "tosses": 200700
         },
         {
          "dev_num_heads": -514,
          "dev_prop_heads": -0.002559760956175272,
          "tosses": 200800
         },
         {
          "dev_num_heads": -516,
          "dev_prop_heads": -0.0025684420109507444,
          "tosses": 200900
         },
         {
          "dev_num_heads": -518,
          "dev_prop_heads": -0.002577114427860683,
          "tosses": 201000
         },
         {
          "dev_num_heads": -518,
          "dev_prop_heads": -0.0025758329189458085,
          "tosses": 201100
         },
         {
          "dev_num_heads": -517,
          "dev_prop_heads": -0.0025695825049701915,
          "tosses": 201200
         },
         {
          "dev_num_heads": -523,
          "dev_prop_heads": -0.0025981122702434245,
          "tosses": 201300
         },
         {
          "dev_num_heads": -527,
          "dev_prop_heads": -0.0026166832174776555,
          "tosses": 201400
         },
         {
          "dev_num_heads": -530,
          "dev_prop_heads": -0.0026302729528536184,
          "tosses": 201500
         },
         {
          "dev_num_heads": -532,
          "dev_prop_heads": -0.002638888888888913,
          "tosses": 201600
         },
         {
          "dev_num_heads": -535,
          "dev_prop_heads": -0.0026524541398115775,
          "tosses": 201700
         },
         {
          "dev_num_heads": -535,
          "dev_prop_heads": -0.0026511397423191196,
          "tosses": 201800
         },
         {
          "dev_num_heads": -531,
          "dev_prop_heads": -0.002630014858841012,
          "tosses": 201900
         },
         {
          "dev_num_heads": -527,
          "dev_prop_heads": -0.0026089108910891112,
          "tosses": 202000
         },
         {
          "dev_num_heads": -525,
          "dev_prop_heads": -0.0025977238990598783,
          "tosses": 202100
         },
         {
          "dev_num_heads": -525,
          "dev_prop_heads": -0.002596439169139486,
          "tosses": 202200
         },
         {
          "dev_num_heads": -526,
          "dev_prop_heads": -0.0026000988630746624,
          "tosses": 202300
         },
         {
          "dev_num_heads": -535,
          "dev_prop_heads": -0.0026432806324110936,
          "tosses": 202400
         },
         {
          "dev_num_heads": -533,
          "dev_prop_heads": -0.002632098765432078,
          "tosses": 202500
         },
         {
          "dev_num_heads": -529,
          "dev_prop_heads": -0.002611056268509382,
          "tosses": 202600
         },
         {
          "dev_num_heads": -532,
          "dev_prop_heads": -0.002624568327577681,
          "tosses": 202700
         },
         {
          "dev_num_heads": -528,
          "dev_prop_heads": -0.002603550295858015,
          "tosses": 202800
         },
         {
          "dev_num_heads": -521,
          "dev_prop_heads": -0.0025677673730901684,
          "tosses": 202900
         },
         {
          "dev_num_heads": -521,
          "dev_prop_heads": -0.0025665024630541766,
          "tosses": 203000
         },
         {
          "dev_num_heads": -514,
          "dev_prop_heads": -0.002530773018217636,
          "tosses": 203100
         },
         {
          "dev_num_heads": -515,
          "dev_prop_heads": -0.002534448818897639,
          "tosses": 203200
         },
         {
          "dev_num_heads": -521,
          "dev_prop_heads": -0.0025627151992129726,
          "tosses": 203300
         },
         {
          "dev_num_heads": -516,
          "dev_prop_heads": -0.0025368731563421565,
          "tosses": 203400
         },
         {
          "dev_num_heads": -518,
          "dev_prop_heads": -0.002545454545454573,
          "tosses": 203500
         },
         {
          "dev_num_heads": -522,
          "dev_prop_heads": -0.0025638506876227707,
          "tosses": 203600
         },
         {
          "dev_num_heads": -518,
          "dev_prop_heads": -0.002542955326460483,
          "tosses": 203700
         },
         {
          "dev_num_heads": -509,
          "dev_prop_heads": -0.0024975466143277725,
          "tosses": 203800
         },
         {
          "dev_num_heads": -506,
          "dev_prop_heads": -0.002481608631682175,
          "tosses": 203900
         },
         {
          "dev_num_heads": -511,
          "dev_prop_heads": -0.0025049019607842893,
          "tosses": 204000
         },
         {
          "dev_num_heads": -515,
          "dev_prop_heads": -0.002523272905438523,
          "tosses": 204100
         },
         {
          "dev_num_heads": -511,
          "dev_prop_heads": -0.0025024485798236795,
          "tosses": 204200
         },
         {
          "dev_num_heads": -506,
          "dev_prop_heads": -0.0024767498776309127,
          "tosses": 204300
         },
         {
          "dev_num_heads": -511,
          "dev_prop_heads": -0.0025000000000000022,
          "tosses": 204400
         },
         {
          "dev_num_heads": -514,
          "dev_prop_heads": -0.0025134474327628276,
          "tosses": 204500
         },
         {
          "dev_num_heads": -518,
          "dev_prop_heads": -0.0025317693059628277,
          "tosses": 204600
         },
         {
          "dev_num_heads": -517,
          "dev_prop_heads": -0.0025256472887151826,
          "tosses": 204700
         },
         {
          "dev_num_heads": -516,
          "dev_prop_heads": -0.0025195312499999845,
          "tosses": 204800
         },
         {
          "dev_num_heads": -511,
          "dev_prop_heads": -0.00249389946315276,
          "tosses": 204900
         },
         {
          "dev_num_heads": -514,
          "dev_prop_heads": -0.002507317073170756,
          "tosses": 205000
         },
         {
          "dev_num_heads": -518,
          "dev_prop_heads": -0.002525597269624591,
          "tosses": 205100
         },
         {
          "dev_num_heads": -519,
          "dev_prop_heads": -0.002529239766081881,
          "tosses": 205200
         },
         {
          "dev_num_heads": -516,
          "dev_prop_heads": -0.002513395031660981,
          "tosses": 205300
         },
         {
          "dev_num_heads": -524,
          "dev_prop_heads": -0.0025511197663096175,
          "tosses": 205400
         },
         {
          "dev_num_heads": -526,
          "dev_prop_heads": -0.002559610705596127,
          "tosses": 205500
         },
         {
          "dev_num_heads": -523,
          "dev_prop_heads": -0.002543774319066161,
          "tosses": 205600
         },
         {
          "dev_num_heads": -523,
          "dev_prop_heads": -0.00254253767622753,
          "tosses": 205700
         },
         {
          "dev_num_heads": -522,
          "dev_prop_heads": -0.002536443148688061,
          "tosses": 205800
         },
         {
          "dev_num_heads": -526,
          "dev_prop_heads": -0.0025546381738708046,
          "tosses": 205900
         },
         {
          "dev_num_heads": -522,
          "dev_prop_heads": -0.002533980582524298,
          "tosses": 206000
         },
         {
          "dev_num_heads": -512,
          "dev_prop_heads": -0.0024842309558466558,
          "tosses": 206100
         },
         {
          "dev_num_heads": -515,
          "dev_prop_heads": -0.002497575169738142,
          "tosses": 206200
         },
         {
          "dev_num_heads": -516,
          "dev_prop_heads": -0.0025012118274357897,
          "tosses": 206300
         },
         {
          "dev_num_heads": -517,
          "dev_prop_heads": -0.0025048449612403156,
          "tosses": 206400
         },
         {
          "dev_num_heads": -515,
          "dev_prop_heads": -0.002493946731234875,
          "tosses": 206500
         },
         {
          "dev_num_heads": -517,
          "dev_prop_heads": -0.0025024201355275943,
          "tosses": 206600
         },
         {
          "dev_num_heads": -525,
          "dev_prop_heads": -0.002539912917271403,
          "tosses": 206700
         },
         {
          "dev_num_heads": -525,
          "dev_prop_heads": -0.0025386847195357776,
          "tosses": 206800
         },
         {
          "dev_num_heads": -530,
          "dev_prop_heads": -0.002561623972933802,
          "tosses": 206900
         },
         {
          "dev_num_heads": -529,
          "dev_prop_heads": -0.002555555555555533,
          "tosses": 207000
         },
         {
          "dev_num_heads": -524,
          "dev_prop_heads": -0.0025301786576533147,
          "tosses": 207100
         },
         {
          "dev_num_heads": -520,
          "dev_prop_heads": -0.0025096525096525157,
          "tosses": 207200
         },
         {
          "dev_num_heads": -520,
          "dev_prop_heads": -0.002508441871683531,
          "tosses": 207300
         },
         {
          "dev_num_heads": -516,
          "dev_prop_heads": -0.002487945998071339,
          "tosses": 207400
         },
         {
          "dev_num_heads": -513,
          "dev_prop_heads": -0.002472289156626506,
          "tosses": 207500
         },
         {
          "dev_num_heads": -508,
          "dev_prop_heads": -0.002447013487475891,
          "tosses": 207600
         },
         {
          "dev_num_heads": -509,
          "dev_prop_heads": -0.0024506499759268108,
          "tosses": 207700
         },
         {
          "dev_num_heads": -503,
          "dev_prop_heads": -0.002420596727622737,
          "tosses": 207800
         },
         {
          "dev_num_heads": -497,
          "dev_prop_heads": -0.0023905723905723875,
          "tosses": 207900
         },
         {
          "dev_num_heads": -493,
          "dev_prop_heads": -0.0023701923076923093,
          "tosses": 208000
         },
         {
          "dev_num_heads": -496,
          "dev_prop_heads": -0.00238346948582413,
          "tosses": 208100
         },
         {
          "dev_num_heads": -496,
          "dev_prop_heads": -0.002382324687800197,
          "tosses": 208200
         },
         {
          "dev_num_heads": -497,
          "dev_prop_heads": -0.002385981757081157,
          "tosses": 208300
         },
         {
          "dev_num_heads": -502,
          "dev_prop_heads": -0.0024088291746641177,
          "tosses": 208400
         },
         {
          "dev_num_heads": -491,
          "dev_prop_heads": -0.0023549160671462732,
          "tosses": 208500
         },
         {
          "dev_num_heads": -493,
          "dev_prop_heads": -0.002363374880153424,
          "tosses": 208600
         },
         {
          "dev_num_heads": -496,
          "dev_prop_heads": -0.0023766171538092684,
          "tosses": 208700
         },
         {
          "dev_num_heads": -499,
          "dev_prop_heads": -0.00238984674329501,
          "tosses": 208800
         },
         {
          "dev_num_heads": -505,
          "dev_prop_heads": -0.0024174246050742143,
          "tosses": 208900
         },
         {
          "dev_num_heads": -500,
          "dev_prop_heads": -0.002392344497607668,
          "tosses": 209000
         },
         {
          "dev_num_heads": -502,
          "dev_prop_heads": -0.002400765184122411,
          "tosses": 209100
         },
         {
          "dev_num_heads": -497,
          "dev_prop_heads": -0.0023757170172084008,
          "tosses": 209200
         },
         {
          "dev_num_heads": -498,
          "dev_prop_heads": -0.0023793597706641134,
          "tosses": 209300
         },
         {
          "dev_num_heads": -494,
          "dev_prop_heads": -0.002359121298949385,
          "tosses": 209400
         },
         {
          "dev_num_heads": -501,
          "dev_prop_heads": -0.0023914081145584576,
          "tosses": 209500
         },
         {
          "dev_num_heads": -504,
          "dev_prop_heads": -0.0024045801526717536,
          "tosses": 209600
         },
         {
          "dev_num_heads": -509,
          "dev_prop_heads": -0.002427277062470201,
          "tosses": 209700
         },
         {
          "dev_num_heads": -508,
          "dev_prop_heads": -0.002421353670162052,
          "tosses": 209800
         },
         {
          "dev_num_heads": -521,
          "dev_prop_heads": -0.0024821343496903014,
          "tosses": 209900
         },
         {
          "dev_num_heads": -520,
          "dev_prop_heads": -0.002476190476190465,
          "tosses": 210000
         },
         {
          "dev_num_heads": -518,
          "dev_prop_heads": -0.0024654926225606832,
          "tosses": 210100
         },
         {
          "dev_num_heads": -527,
          "dev_prop_heads": -0.002507136060894366,
          "tosses": 210200
         },
         {
          "dev_num_heads": -526,
          "dev_prop_heads": -0.0025011887779362585,
          "tosses": 210300
         },
         {
          "dev_num_heads": -522,
          "dev_prop_heads": -0.002480988593155875,
          "tosses": 210400
         },
         {
          "dev_num_heads": -519,
          "dev_prop_heads": -0.002465558194774342,
          "tosses": 210500
         },
         {
          "dev_num_heads": -518,
          "dev_prop_heads": -0.0024596391263058126,
          "tosses": 210600
         },
         {
          "dev_num_heads": -519,
          "dev_prop_heads": -0.002463217845277643,
          "tosses": 210700
         },
         {
          "dev_num_heads": -521,
          "dev_prop_heads": -0.002471537001897506,
          "tosses": 210800
         },
         {
          "dev_num_heads": -520,
          "dev_prop_heads": -0.002465623518255078,
          "tosses": 210900
         },
         {
          "dev_num_heads": -516,
          "dev_prop_heads": -0.00244549763033175,
          "tosses": 211000
         },
         {
          "dev_num_heads": -519,
          "dev_prop_heads": -0.0024585504500236888,
          "tosses": 211100
         },
         {
          "dev_num_heads": -517,
          "dev_prop_heads": -0.0024479166666666607,
          "tosses": 211200
         },
         {
          "dev_num_heads": -518,
          "dev_prop_heads": -0.0024514907714150436,
          "tosses": 211300
         },
         {
          "dev_num_heads": -519,
          "dev_prop_heads": -0.002455061494796573,
          "tosses": 211400
         },
         {
          "dev_num_heads": -517,
          "dev_prop_heads": -0.0024444444444444713,
          "tosses": 211500
         },
         {
          "dev_num_heads": -509,
          "dev_prop_heads": -0.002405482041587914,
          "tosses": 211600
         },
         {
          "dev_num_heads": -506,
          "dev_prop_heads": -0.002390174775625864,
          "tosses": 211700
         },
         {
          "dev_num_heads": -510,
          "dev_prop_heads": -0.0024079320113314373,
          "tosses": 211800
         },
         {
          "dev_num_heads": -510,
          "dev_prop_heads": -0.002406795658329408,
          "tosses": 211900
         },
         {
          "dev_num_heads": -517,
          "dev_prop_heads": -0.0024386792452830153,
          "tosses": 212000
         },
         {
          "dev_num_heads": -523,
          "dev_prop_heads": -0.002465818010372489,
          "tosses": 212100
         },
         {
          "dev_num_heads": -522,
          "dev_prop_heads": -0.0024599434495758965,
          "tosses": 212200
         },
         {
          "dev_num_heads": -522,
          "dev_prop_heads": -0.0024587847385774686,
          "tosses": 212300
         },
         {
          "dev_num_heads": -523,
          "dev_prop_heads": -0.00246233521657252,
          "tosses": 212400
         },
         {
          "dev_num_heads": -521,
          "dev_prop_heads": -0.0024517647058823755,
          "tosses": 212500
         },
         {
          "dev_num_heads": -525,
          "dev_prop_heads": -0.002469426152398868,
          "tosses": 212600
         },
         {
          "dev_num_heads": -520,
          "dev_prop_heads": -0.00244475787494125,
          "tosses": 212700
         },
         {
          "dev_num_heads": -518,
          "dev_prop_heads": -0.0024342105263158165,
          "tosses": 212800
         },
         {
          "dev_num_heads": -516,
          "dev_prop_heads": -0.0024236730859558686,
          "tosses": 212900
         },
         {
          "dev_num_heads": -509,
          "dev_prop_heads": -0.0023896713615023657,
          "tosses": 213000
         },
         {
          "dev_num_heads": -514,
          "dev_prop_heads": -0.002412013139371172,
          "tosses": 213100
         },
         {
          "dev_num_heads": -510,
          "dev_prop_heads": -0.0023921200750469107,
          "tosses": 213200
         },
         {
          "dev_num_heads": -514,
          "dev_prop_heads": -0.002409751523675563,
          "tosses": 213300
         },
         {
          "dev_num_heads": -513,
          "dev_prop_heads": -0.002403936269915641,
          "tosses": 213400
         },
         {
          "dev_num_heads": -504,
          "dev_prop_heads": -0.002360655737704942,
          "tosses": 213500
         },
         {
          "dev_num_heads": -501,
          "dev_prop_heads": -0.002345505617977528,
          "tosses": 213600
         },
         {
          "dev_num_heads": -499,
          "dev_prop_heads": -0.0023350491343004376,
          "tosses": 213700
         },
         {
          "dev_num_heads": -503,
          "dev_prop_heads": -0.00235266604303086,
          "tosses": 213800
         },
         {
          "dev_num_heads": -489,
          "dev_prop_heads": -0.0022861150070126457,
          "tosses": 213900
         },
         {
          "dev_num_heads": -489,
          "dev_prop_heads": -0.002285046728971951,
          "tosses": 214000
         },
         {
          "dev_num_heads": -485,
          "dev_prop_heads": -0.0022652965903783295,
          "tosses": 214100
         },
         {
          "dev_num_heads": -478,
          "dev_prop_heads": -0.002231559290382823,
          "tosses": 214200
         },
         {
          "dev_num_heads": -480,
          "dev_prop_heads": -0.0022398506766215798,
          "tosses": 214300
         },
         {
          "dev_num_heads": -482,
          "dev_prop_heads": -0.0022481343283581867,
          "tosses": 214400
         },
         {
          "dev_num_heads": -497,
          "dev_prop_heads": -0.002317016317016307,
          "tosses": 214500
         },
         {
          "dev_num_heads": -493,
          "dev_prop_heads": -0.002297297297297274,
          "tosses": 214600
         },
         {
          "dev_num_heads": -503,
          "dev_prop_heads": -0.0023428039124359645,
          "tosses": 214700
         },
         {
          "dev_num_heads": -507,
          "dev_prop_heads": -0.0023603351955307494,
          "tosses": 214800
         },
         {
          "dev_num_heads": -505,
          "dev_prop_heads": -0.0023499302000930533,
          "tosses": 214900
         },
         {
          "dev_num_heads": -508,
          "dev_prop_heads": -0.0023627906976744217,
          "tosses": 215000
         },
         {
          "dev_num_heads": -508,
          "dev_prop_heads": -0.0023616922361692216,
          "tosses": 215100
         },
         {
          "dev_num_heads": -491,
          "dev_prop_heads": -0.0022815985130111294,
          "tosses": 215200
         },
         {
          "dev_num_heads": -485,
          "dev_prop_heads": -0.00225267069205759,
          "tosses": 215300
         },
         {
          "dev_num_heads": -484,
          "dev_prop_heads": -0.0022469823584029824,
          "tosses": 215400
         },
         {
          "dev_num_heads": -480,
          "dev_prop_heads": -0.0022273781902552026,
          "tosses": 215500
         },
         {
          "dev_num_heads": -488,
          "dev_prop_heads": -0.002263450834879388,
          "tosses": 215600
         },
         {
          "dev_num_heads": -491,
          "dev_prop_heads": -0.0022763096893834156,
          "tosses": 215700
         },
         {
          "dev_num_heads": -482,
          "dev_prop_heads": -0.002233549582947192,
          "tosses": 215800
         },
         {
          "dev_num_heads": -481,
          "dev_prop_heads": -0.0022278832792959613,
          "tosses": 215900
         },
         {
          "dev_num_heads": -476,
          "dev_prop_heads": -0.0022037037037037077,
          "tosses": 216000
         },
         {
          "dev_num_heads": -474,
          "dev_prop_heads": -0.0021934289680703434,
          "tosses": 216100
         },
         {
          "dev_num_heads": -471,
          "dev_prop_heads": -0.002178538390379292,
          "tosses": 216200
         },
         {
          "dev_num_heads": -474,
          "dev_prop_heads": -0.0021914008321775036,
          "tosses": 216300
         },
         {
          "dev_num_heads": -468,
          "dev_prop_heads": -0.0021626617375231083,
          "tosses": 216400
         },
         {
          "dev_num_heads": -465,
          "dev_prop_heads": -0.0021478060046189462,
          "tosses": 216500
         },
         {
          "dev_num_heads": -474,
          "dev_prop_heads": -0.002188365650969526,
          "tosses": 216600
         },
         {
          "dev_num_heads": -464,
          "dev_prop_heads": -0.0021412090447623378,
          "tosses": 216700
         },
         {
          "dev_num_heads": -462,
          "dev_prop_heads": -0.002130996309963107,
          "tosses": 216800
         },
         {
          "dev_num_heads": -473,
          "dev_prop_heads": -0.002180728446288638,
          "tosses": 216900
         },
         {
          "dev_num_heads": -469,
          "dev_prop_heads": -0.0021612903225806668,
          "tosses": 217000
         },
         {
          "dev_num_heads": -468,
          "dev_prop_heads": -0.0021556886227545036,
          "tosses": 217100
         },
         {
          "dev_num_heads": -459,
          "dev_prop_heads": -0.0021132596685082827,
          "tosses": 217200
         },
         {
          "dev_num_heads": -463,
          "dev_prop_heads": -0.0021306948918545787,
          "tosses": 217300
         },
         {
          "dev_num_heads": -458,
          "dev_prop_heads": -0.002106715731370723,
          "tosses": 217400
         },
         {
          "dev_num_heads": -464,
          "dev_prop_heads": -0.0021333333333333204,
          "tosses": 217500
         },
         {
          "dev_num_heads": -465,
          "dev_prop_heads": -0.002136948529411764,
          "tosses": 217600
         },
         {
          "dev_num_heads": -462,
          "dev_prop_heads": -0.00212218649517687,
          "tosses": 217700
         },
         {
          "dev_num_heads": -457,
          "dev_prop_heads": -0.0020982552800734577,
          "tosses": 217800
         },
         {
          "dev_num_heads": -460,
          "dev_prop_heads": -0.0021110601193207734,
          "tosses": 217900
         },
         {
          "dev_num_heads": -457,
          "dev_prop_heads": -0.0020963302752293744,
          "tosses": 218000
         },
         {
          "dev_num_heads": -453,
          "dev_prop_heads": -0.002077028885832166,
          "tosses": 218100
         },
         {
          "dev_num_heads": -462,
          "dev_prop_heads": -0.0021173235563702875,
          "tosses": 218200
         },
         {
          "dev_num_heads": -472,
          "dev_prop_heads": -0.00216216216216214,
          "tosses": 218300
         },
         {
          "dev_num_heads": -468,
          "dev_prop_heads": -0.0021428571428571686,
          "tosses": 218400
         },
         {
          "dev_num_heads": -479,
          "dev_prop_heads": -0.0021922196796338445,
          "tosses": 218500
         },
         {
          "dev_num_heads": -480,
          "dev_prop_heads": -0.0021957913998170153,
          "tosses": 218600
         },
         {
          "dev_num_heads": -478,
          "dev_prop_heads": -0.002185642432556034,
          "tosses": 218700
         },
         {
          "dev_num_heads": -489,
          "dev_prop_heads": -0.002234917733089592,
          "tosses": 218800
         },
         {
          "dev_num_heads": -490,
          "dev_prop_heads": -0.0022384650525353877,
          "tosses": 218900
         },
         {
          "dev_num_heads": -491,
          "dev_prop_heads": -0.002242009132420064,
          "tosses": 219000
         },
         {
          "dev_num_heads": -493,
          "dev_prop_heads": -0.0022501141031492367,
          "tosses": 219100
         },
         {
          "dev_num_heads": -486,
          "dev_prop_heads": -0.002217153284671536,
          "tosses": 219200
         },
         {
          "dev_num_heads": -477,
          "dev_prop_heads": -0.0021751025991791906,
          "tosses": 219300
         },
         {
          "dev_num_heads": -468,
          "dev_prop_heads": -0.0021330902461257906,
          "tosses": 219400
         },
         {
          "dev_num_heads": -476,
          "dev_prop_heads": -0.0021685649202733415,
          "tosses": 219500
         },
         {
          "dev_num_heads": -479,
          "dev_prop_heads": -0.0021812386156648267,
          "tosses": 219600
         },
         {
          "dev_num_heads": -481,
          "dev_prop_heads": -0.00218934911242602,
          "tosses": 219700
         },
         {
          "dev_num_heads": -476,
          "dev_prop_heads": -0.002165605095541423,
          "tosses": 219800
         },
         {
          "dev_num_heads": -469,
          "dev_prop_heads": -0.002132787630741262,
          "tosses": 219900
         },
         {
          "dev_num_heads": -461,
          "dev_prop_heads": -0.002095454545454567,
          "tosses": 220000
         },
         {
          "dev_num_heads": -463,
          "dev_prop_heads": -0.00210358927760107,
          "tosses": 220100
         },
         {
          "dev_num_heads": -456,
          "dev_prop_heads": -0.0020708446866484764,
          "tosses": 220200
         },
         {
          "dev_num_heads": -461,
          "dev_prop_heads": -0.0020926009986382277,
          "tosses": 220300
         },
         {
          "dev_num_heads": -459,
          "dev_prop_heads": -0.002082577132486385,
          "tosses": 220400
         },
         {
          "dev_num_heads": -462,
          "dev_prop_heads": -0.0020952380952380945,
          "tosses": 220500
         },
         {
          "dev_num_heads": -464,
          "dev_prop_heads": -0.002103354487760667,
          "tosses": 220600
         },
         {
          "dev_num_heads": -466,
          "dev_prop_heads": -0.002111463525147239,
          "tosses": 220700
         },
         {
          "dev_num_heads": -468,
          "dev_prop_heads": -0.002119565217391317,
          "tosses": 220800
         },
         {
          "dev_num_heads": -467,
          "dev_prop_heads": -0.0021140787686735885,
          "tosses": 220900
         },
         {
          "dev_num_heads": -467,
          "dev_prop_heads": -0.0021131221719457027,
          "tosses": 221000
         },
         {
          "dev_num_heads": -460,
          "dev_prop_heads": -0.002080506558118478,
          "tosses": 221100
         },
         {
          "dev_num_heads": -463,
          "dev_prop_heads": -0.0020931283905967213,
          "tosses": 221200
         },
         {
          "dev_num_heads": -463,
          "dev_prop_heads": -0.0020921825576141195,
          "tosses": 221300
         },
         {
          "dev_num_heads": -465,
          "dev_prop_heads": -0.0021002710027100413,
          "tosses": 221400
         },
         {
          "dev_num_heads": -462,
          "dev_prop_heads": -0.002085778781038383,
          "tosses": 221500
         },
         {
          "dev_num_heads": -459,
          "dev_prop_heads": -0.002071299638989166,
          "tosses": 221600
         },
         {
          "dev_num_heads": -457,
          "dev_prop_heads": -0.0020613441587731263,
          "tosses": 221700
         },
         {
          "dev_num_heads": -459,
          "dev_prop_heads": -0.002069431920649234,
          "tosses": 221800
         },
         {
          "dev_num_heads": -459,
          "dev_prop_heads": -0.0020684993240198124,
          "tosses": 221900
         },
         {
          "dev_num_heads": -454,
          "dev_prop_heads": -0.0020450450450450464,
          "tosses": 222000
         },
         {
          "dev_num_heads": -452,
          "dev_prop_heads": -0.0020351193156236125,
          "tosses": 222100
         },
         {
          "dev_num_heads": -453,
          "dev_prop_heads": -0.0020387038703870153,
          "tosses": 222200
         },
         {
          "dev_num_heads": -455,
          "dev_prop_heads": -0.002046783625731019,
          "tosses": 222300
         },
         {
          "dev_num_heads": -462,
          "dev_prop_heads": -0.0020773381294963977,
          "tosses": 222400
         },
         {
          "dev_num_heads": -463,
          "dev_prop_heads": -0.0020808988764045022,
          "tosses": 222500
         },
         {
          "dev_num_heads": -452,
          "dev_prop_heads": -0.0020305480682838994,
          "tosses": 222600
         },
         {
          "dev_num_heads": -448,
          "dev_prop_heads": -0.0020116748989671973,
          "tosses": 222700
         },
         {
          "dev_num_heads": -455,
          "dev_prop_heads": -0.0020421903052064705,
          "tosses": 222800
         },
         {
          "dev_num_heads": -454,
          "dev_prop_heads": -0.002036787797218498,
          "tosses": 222900
         },
         {
          "dev_num_heads": -451,
          "dev_prop_heads": -0.002022421524663698,
          "tosses": 223000
         },
         {
          "dev_num_heads": -438,
          "dev_prop_heads": -0.0019632451815329577,
          "tosses": 223100
         },
         {
          "dev_num_heads": -442,
          "dev_prop_heads": -0.001980286738351267,
          "tosses": 223200
         },
         {
          "dev_num_heads": -435,
          "dev_prop_heads": -0.001948051948051921,
          "tosses": 223300
         },
         {
          "dev_num_heads": -438,
          "dev_prop_heads": -0.0019606087735004607,
          "tosses": 223400
         },
         {
          "dev_num_heads": -440,
          "dev_prop_heads": -0.001968680089485475,
          "tosses": 223500
         },
         {
          "dev_num_heads": -438,
          "dev_prop_heads": -0.00195885509839,
          "tosses": 223600
         },
         {
          "dev_num_heads": -438,
          "dev_prop_heads": -0.0019579794367456382,
          "tosses": 223700
         },
         {
          "dev_num_heads": -444,
          "dev_prop_heads": -0.001983914209115256,
          "tosses": 223800
         },
         {
          "dev_num_heads": -440,
          "dev_prop_heads": -0.0019651630192050185,
          "tosses": 223900
         },
         {
          "dev_num_heads": -439,
          "dev_prop_heads": -0.001959821428571429,
          "tosses": 224000
         },
         {
          "dev_num_heads": -441,
          "dev_prop_heads": -0.001967871485943795,
          "tosses": 224100
         },
         {
          "dev_num_heads": -441,
          "dev_prop_heads": -0.0019669937555753525,
          "tosses": 224200
         },
         {
          "dev_num_heads": -433,
          "dev_prop_heads": -0.0019304502897904419,
          "tosses": 224300
         },
         {
          "dev_num_heads": -438,
          "dev_prop_heads": -0.0019518716577540118,
          "tosses": 224400
         },
         {
          "dev_num_heads": -444,
          "dev_prop_heads": -0.001977728285077973,
          "tosses": 224500
         },
         {
          "dev_num_heads": -444,
          "dev_prop_heads": -0.001976847729296516,
          "tosses": 224600
         },
         {
          "dev_num_heads": -440,
          "dev_prop_heads": -0.0019581664441477575,
          "tosses": 224700
         },
         {
          "dev_num_heads": -451,
          "dev_prop_heads": -0.0020062277580071286,
          "tosses": 224800
         },
         {
          "dev_num_heads": -458,
          "dev_prop_heads": -0.0020364606491773962,
          "tosses": 224900
         },
         {
          "dev_num_heads": -457,
          "dev_prop_heads": -0.0020311111111110947,
          "tosses": 225000
         },
         {
          "dev_num_heads": -448,
          "dev_prop_heads": -0.0019902265659706986,
          "tosses": 225100
         },
         {
          "dev_num_heads": -446,
          "dev_prop_heads": -0.0019804618117229,
          "tosses": 225200
         },
         {
          "dev_num_heads": -450,
          "dev_prop_heads": -0.001997336884154488,
          "tosses": 225300
         },
         {
          "dev_num_heads": -443,
          "dev_prop_heads": -0.001965394853593594,
          "tosses": 225400
         },
         {
          "dev_num_heads": -442,
          "dev_prop_heads": -0.001960088691796036,
          "tosses": 225500
         },
         {
          "dev_num_heads": -452,
          "dev_prop_heads": -0.002003546099290765,
          "tosses": 225600
         },
         {
          "dev_num_heads": -453,
          "dev_prop_heads": -0.0020070890562693955,
          "tosses": 225700
         },
         {
          "dev_num_heads": -452,
          "dev_prop_heads": -0.0020017714791851215,
          "tosses": 225800
         },
         {
          "dev_num_heads": -462,
          "dev_prop_heads": -0.002045152722443544,
          "tosses": 225900
         },
         {
          "dev_num_heads": -462,
          "dev_prop_heads": -0.0020442477876106424,
          "tosses": 226000
         },
         {
          "dev_num_heads": -465,
          "dev_prop_heads": -0.002056612118531642,
          "tosses": 226100
         },
         {
          "dev_num_heads": -473,
          "dev_prop_heads": -0.002091069849690541,
          "tosses": 226200
         },
         {
          "dev_num_heads": -476,
          "dev_prop_heads": -0.0021034025629695363,
          "tosses": 226300
         },
         {
          "dev_num_heads": -483,
          "dev_prop_heads": -0.0021333922261483895,
          "tosses": 226400
         },
         {
          "dev_num_heads": -480,
          "dev_prop_heads": -0.002119205298013238,
          "tosses": 226500
         },
         {
          "dev_num_heads": -486,
          "dev_prop_heads": -0.0021447484554280583,
          "tosses": 226600
         },
         {
          "dev_num_heads": -483,
          "dev_prop_heads": -0.002130569033965579,
          "tosses": 226700
         },
         {
          "dev_num_heads": -487,
          "dev_prop_heads": -0.0021472663139329717,
          "tosses": 226800
         },
         {
          "dev_num_heads": -481,
          "dev_prop_heads": -0.002119876597620085,
          "tosses": 226900
         },
         {
          "dev_num_heads": -475,
          "dev_prop_heads": -0.0020925110132158364,
          "tosses": 227000
         },
         {
          "dev_num_heads": -483,
          "dev_prop_heads": -0.002126816380449148,
          "tosses": 227100
         },
         {
          "dev_num_heads": -485,
          "dev_prop_heads": -0.00213468309859155,
          "tosses": 227200
         },
         {
          "dev_num_heads": -488,
          "dev_prop_heads": -0.0021469423669159826,
          "tosses": 227300
         },
         {
          "dev_num_heads": -483,
          "dev_prop_heads": -0.002124010554089728,
          "tosses": 227400
         },
         {
          "dev_num_heads": -480,
          "dev_prop_heads": -0.0021098901098901,
          "tosses": 227500
         },
         {
          "dev_num_heads": -478,
          "dev_prop_heads": -0.0021001757469244486,
          "tosses": 227600
         },
         {
          "dev_num_heads": -480,
          "dev_prop_heads": -0.0021080368906455926,
          "tosses": 227700
         },
         {
          "dev_num_heads": -471,
          "dev_prop_heads": -0.0020676031606672307,
          "tosses": 227800
         },
         {
          "dev_num_heads": -472,
          "dev_prop_heads": -0.0020710838086880345,
          "tosses": 227900
         },
         {
          "dev_num_heads": -476,
          "dev_prop_heads": -0.0020877192982456383,
          "tosses": 228000
         },
         {
          "dev_num_heads": -471,
          "dev_prop_heads": -0.002064883822884722,
          "tosses": 228100
         },
         {
          "dev_num_heads": -466,
          "dev_prop_heads": -0.0020420683610867796,
          "tosses": 228200
         },
         {
          "dev_num_heads": -454,
          "dev_prop_heads": -0.0019886114761278884,
          "tosses": 228300
         },
         {
          "dev_num_heads": -447,
          "dev_prop_heads": -0.001957092819614703,
          "tosses": 228400
         },
         {
          "dev_num_heads": -451,
          "dev_prop_heads": -0.0019737417943107016,
          "tosses": 228500
         },
         {
          "dev_num_heads": -463,
          "dev_prop_heads": -0.002025371828521416,
          "tosses": 228600
         },
         {
          "dev_num_heads": -461,
          "dev_prop_heads": -0.0020157411456055985,
          "tosses": 228700
         },
         {
          "dev_num_heads": -464,
          "dev_prop_heads": -0.0020279720279720026,
          "tosses": 228800
         },
         {
          "dev_num_heads": -475,
          "dev_prop_heads": -0.002075141983398865,
          "tosses": 228900
         },
         {
          "dev_num_heads": -479,
          "dev_prop_heads": -0.0020917030567685346,
          "tosses": 229000
         },
         {
          "dev_num_heads": -475,
          "dev_prop_heads": -0.0020733304233959138,
          "tosses": 229100
         },
         {
          "dev_num_heads": -478,
          "dev_prop_heads": -0.002085514834205937,
          "tosses": 229200
         },
         {
          "dev_num_heads": -481,
          "dev_prop_heads": -0.0020976886175316234,
          "tosses": 229300
         },
         {
          "dev_num_heads": -488,
          "dev_prop_heads": -0.0021272885789014873,
          "tosses": 229400
         },
         {
          "dev_num_heads": -499,
          "dev_prop_heads": -0.002174291938997819,
          "tosses": 229500
         },
         {
          "dev_num_heads": -502,
          "dev_prop_heads": -0.002186411149825762,
          "tosses": 229600
         },
         {
          "dev_num_heads": -499,
          "dev_prop_heads": -0.002172398781018714,
          "tosses": 229700
         },
         {
          "dev_num_heads": -497,
          "dev_prop_heads": -0.0021627502175805002,
          "tosses": 229800
         },
         {
          "dev_num_heads": -500,
          "dev_prop_heads": -0.002174858634188759,
          "tosses": 229900
         },
         {
          "dev_num_heads": -502,
          "dev_prop_heads": -0.0021826086956521773,
          "tosses": 230000
         },
         {
          "dev_num_heads": -506,
          "dev_prop_heads": -0.0021990438939591406,
          "tosses": 230100
         },
         {
          "dev_num_heads": -508,
          "dev_prop_heads": -0.0022067767158991947,
          "tosses": 230200
         },
         {
          "dev_num_heads": -502,
          "dev_prop_heads": -0.00217976552323057,
          "tosses": 230300
         },
         {
          "dev_num_heads": -500,
          "dev_prop_heads": -0.002170138888888895,
          "tosses": 230400
         },
         {
          "dev_num_heads": -498,
          "dev_prop_heads": -0.0021605206073752603,
          "tosses": 230500
         },
         {
          "dev_num_heads": -498,
          "dev_prop_heads": -0.002159583694709477,
          "tosses": 230600
         },
         {
          "dev_num_heads": -499,
          "dev_prop_heads": -0.0021629822280017086,
          "tosses": 230700
         },
         {
          "dev_num_heads": -498,
          "dev_prop_heads": -0.0021577123050259828,
          "tosses": 230800
         },
         {
          "dev_num_heads": -501,
          "dev_prop_heads": -0.0021697704634040527,
          "tosses": 230900
         },
         {
          "dev_num_heads": -501,
          "dev_prop_heads": -0.0021688311688311535,
          "tosses": 231000
         },
         {
          "dev_num_heads": -504,
          "dev_prop_heads": -0.0021808740804846183,
          "tosses": 231100
         },
         {
          "dev_num_heads": -501,
          "dev_prop_heads": -0.00216695501730102,
          "tosses": 231200
         },
         {
          "dev_num_heads": -506,
          "dev_prop_heads": -0.002187635105923069,
          "tosses": 231300
         },
         {
          "dev_num_heads": -507,
          "dev_prop_heads": -0.0021910112359550538,
          "tosses": 231400
         },
         {
          "dev_num_heads": -506,
          "dev_prop_heads": -0.002185745140388773,
          "tosses": 231500
         },
         {
          "dev_num_heads": -502,
          "dev_prop_heads": -0.0021675302245250383,
          "tosses": 231600
         },
         {
          "dev_num_heads": -507,
          "dev_prop_heads": -0.002188174363400963,
          "tosses": 231700
         },
         {
          "dev_num_heads": -509,
          "dev_prop_heads": -0.002195858498705794,
          "tosses": 231800
         },
         {
          "dev_num_heads": -512,
          "dev_prop_heads": -0.0022078482104355146,
          "tosses": 231900
         },
         {
          "dev_num_heads": -511,
          "dev_prop_heads": -0.002202586206896562,
          "tosses": 232000
         },
         {
          "dev_num_heads": -510,
          "dev_prop_heads": -0.00219732873761308,
          "tosses": 232100
         },
         {
          "dev_num_heads": -512,
          "dev_prop_heads": -0.002204995693367795,
          "tosses": 232200
         },
         {
          "dev_num_heads": -512,
          "dev_prop_heads": -0.00220404649160566,
          "tosses": 232300
         },
         {
          "dev_num_heads": -518,
          "dev_prop_heads": -0.002228915662650599,
          "tosses": 232400
         },
         {
          "dev_num_heads": -518,
          "dev_prop_heads": -0.002227956989247326,
          "tosses": 232500
         },
         {
          "dev_num_heads": -519,
          "dev_prop_heads": -0.0022312983662940433,
          "tosses": 232600
         },
         {
          "dev_num_heads": -513,
          "dev_prop_heads": -0.002204555221315019,
          "tosses": 232700
         },
         {
          "dev_num_heads": -512,
          "dev_prop_heads": -0.0021993127147766356,
          "tosses": 232800
         },
         {
          "dev_num_heads": -518,
          "dev_prop_heads": -0.0022241305281236468,
          "tosses": 232900
         },
         {
          "dev_num_heads": -516,
          "dev_prop_heads": -0.002214592274678129,
          "tosses": 233000
         },
         {
          "dev_num_heads": -516,
          "dev_prop_heads": -0.0022136422136422307,
          "tosses": 233100
         },
         {
          "dev_num_heads": -516,
          "dev_prop_heads": -0.002212692967409946,
          "tosses": 233200
         },
         {
          "dev_num_heads": -518,
          "dev_prop_heads": -0.0022203171881697292,
          "tosses": 233300
         },
         {
          "dev_num_heads": -513,
          "dev_prop_heads": -0.002197943444730066,
          "tosses": 233400
         },
         {
          "dev_num_heads": -509,
          "dev_prop_heads": -0.0021798715203426022,
          "tosses": 233500
         },
         {
          "dev_num_heads": -513,
          "dev_prop_heads": -0.002196061643835623,
          "tosses": 233600
         },
         {
          "dev_num_heads": -511,
          "dev_prop_heads": -0.0021865639709028883,
          "tosses": 233700
         },
         {
          "dev_num_heads": -519,
          "dev_prop_heads": -0.002219846022241234,
          "tosses": 233800
         },
         {
          "dev_num_heads": -509,
          "dev_prop_heads": -0.0021761436511329446,
          "tosses": 233900
         },
         {
          "dev_num_heads": -513,
          "dev_prop_heads": -0.0021923076923077156,
          "tosses": 234000
         },
         {
          "dev_num_heads": -513,
          "dev_prop_heads": -0.0021913712088850734,
          "tosses": 234100
         },
         {
          "dev_num_heads": -517,
          "dev_prop_heads": -0.002207514944491895,
          "tosses": 234200
         },
         {
          "dev_num_heads": -524,
          "dev_prop_heads": -0.0022364489970123635,
          "tosses": 234300
         },
         {
          "dev_num_heads": -529,
          "dev_prop_heads": -0.0022568259385665757,
          "tosses": 234400
         },
         {
          "dev_num_heads": -519,
          "dev_prop_heads": -0.002213219616204687,
          "tosses": 234500
         },
         {
          "dev_num_heads": -518,
          "dev_prop_heads": -0.002208013640238704,
          "tosses": 234600
         },
         {
          "dev_num_heads": -520,
          "dev_prop_heads": -0.0022155943757988794,
          "tosses": 234700
         },
         {
          "dev_num_heads": -528,
          "dev_prop_heads": -0.0022487223168654036,
          "tosses": 234800
         },
         {
          "dev_num_heads": -524,
          "dev_prop_heads": -0.002230736483610052,
          "tosses": 234900
         },
         {
          "dev_num_heads": -515,
          "dev_prop_heads": -0.0021914893617021036,
          "tosses": 235000
         },
         {
          "dev_num_heads": -508,
          "dev_prop_heads": -0.0021607826456827017,
          "tosses": 235100
         },
         {
          "dev_num_heads": -505,
          "dev_prop_heads": -0.0021471088435374153,
          "tosses": 235200
         },
         {
          "dev_num_heads": -505,
          "dev_prop_heads": -0.002146196345091389,
          "tosses": 235300
         },
         {
          "dev_num_heads": -505,
          "dev_prop_heads": -0.0021452846219201516,
          "tosses": 235400
         },
         {
          "dev_num_heads": -515,
          "dev_prop_heads": -0.0021868365180466864,
          "tosses": 235500
         },
         {
          "dev_num_heads": -520,
          "dev_prop_heads": -0.00220713073005091,
          "tosses": 235600
         },
         {
          "dev_num_heads": -516,
          "dev_prop_heads": -0.0021892235893084533,
          "tosses": 235700
         },
         {
          "dev_num_heads": -512,
          "dev_prop_heads": -0.002171331636980467,
          "tosses": 235800
         },
         {
          "dev_num_heads": -509,
          "dev_prop_heads": -0.002157693938109384,
          "tosses": 235900
         },
         {
          "dev_num_heads": -493,
          "dev_prop_heads": -0.0020889830508474816,
          "tosses": 236000
         },
         {
          "dev_num_heads": -498,
          "dev_prop_heads": -0.0021092757306226395,
          "tosses": 236100
         },
         {
          "dev_num_heads": -495,
          "dev_prop_heads": -0.0020956816257409194,
          "tosses": 236200
         },
         {
          "dev_num_heads": -496,
          "dev_prop_heads": -0.002099026661024128,
          "tosses": 236300
         },
         {
          "dev_num_heads": -496,
          "dev_prop_heads": -0.002098138747884948,
          "tosses": 236400
         },
         {
          "dev_num_heads": -491,
          "dev_prop_heads": -0.0020761099365750324,
          "tosses": 236500
         },
         {
          "dev_num_heads": -484,
          "dev_prop_heads": -0.0020456466610312973,
          "tosses": 236600
         },
         {
          "dev_num_heads": -476,
          "dev_prop_heads": -0.002010984368398805,
          "tosses": 236700
         },
         {
          "dev_num_heads": -480,
          "dev_prop_heads": -0.0020270270270270063,
          "tosses": 236800
         },
         {
          "dev_num_heads": -483,
          "dev_prop_heads": -0.002038834951456292,
          "tosses": 236900
         },
         {
          "dev_num_heads": -490,
          "dev_prop_heads": -0.0020675105485232215,
          "tosses": 237000
         },
         {
          "dev_num_heads": -491,
          "dev_prop_heads": -0.002070856178827518,
          "tosses": 237100
         },
         {
          "dev_num_heads": -498,
          "dev_prop_heads": -0.0020994940978077414,
          "tosses": 237200
         },
         {
          "dev_num_heads": -500,
          "dev_prop_heads": -0.002107037505267584,
          "tosses": 237300
         },
         {
          "dev_num_heads": -498,
          "dev_prop_heads": -0.002097725358045477,
          "tosses": 237400
         },
         {
          "dev_num_heads": -497,
          "dev_prop_heads": -0.002092631578947346,
          "tosses": 237500
         },
         {
          "dev_num_heads": -498,
          "dev_prop_heads": -0.0020959595959595956,
          "tosses": 237600
         },
         {
          "dev_num_heads": -502,
          "dev_prop_heads": -0.002111905763567512,
          "tosses": 237700
         },
         {
          "dev_num_heads": -505,
          "dev_prop_heads": -0.002123633305298578,
          "tosses": 237800
         },
         {
          "dev_num_heads": -502,
          "dev_prop_heads": -0.002110130306851643,
          "tosses": 237900
         },
         {
          "dev_num_heads": -499,
          "dev_prop_heads": -0.0020966386554621685,
          "tosses": 238000
         },
         {
          "dev_num_heads": -488,
          "dev_prop_heads": -0.0020495590088198123,
          "tosses": 238100
         },
         {
          "dev_num_heads": -492,
          "dev_prop_heads": -0.002065491183879109,
          "tosses": 238200
         },
         {
          "dev_num_heads": -487,
          "dev_prop_heads": -0.0020436424674779574,
          "tosses": 238300
         },
         {
          "dev_num_heads": -500,
          "dev_prop_heads": -0.002097315436241587,
          "tosses": 238400
         },
         {
          "dev_num_heads": -501,
          "dev_prop_heads": -0.002100628930817583,
          "tosses": 238500
         },
         {
          "dev_num_heads": -495,
          "dev_prop_heads": -0.002074601844090529,
          "tosses": 238600
         },
         {
          "dev_num_heads": -490,
          "dev_prop_heads": -0.002052785923753686,
          "tosses": 238700
         },
         {
          "dev_num_heads": -495,
          "dev_prop_heads": -0.0020728643216080256,
          "tosses": 238800
         },
         {
          "dev_num_heads": -495,
          "dev_prop_heads": -0.0020719966513185195,
          "tosses": 238900
         },
         {
          "dev_num_heads": -495,
          "dev_prop_heads": -0.002071129707112984,
          "tosses": 239000
         },
         {
          "dev_num_heads": -500,
          "dev_prop_heads": -0.0020911752404851325,
          "tosses": 239100
         },
         {
          "dev_num_heads": -500,
          "dev_prop_heads": -0.002090301003344508,
          "tosses": 239200
         },
         {
          "dev_num_heads": -497,
          "dev_prop_heads": -0.0020768909318846784,
          "tosses": 239300
         },
         {
          "dev_num_heads": -496,
          "dev_prop_heads": -0.0020718462823726136,
          "tosses": 239400
         },
         {
          "dev_num_heads": -496,
          "dev_prop_heads": -0.002070981210855971,
          "tosses": 239500
         },
         {
          "dev_num_heads": -492,
          "dev_prop_heads": -0.0020534223706176746,
          "tosses": 239600
         },
         {
          "dev_num_heads": -488,
          "dev_prop_heads": -0.0020358781810596582,
          "tosses": 239700
         },
         {
          "dev_num_heads": -489,
          "dev_prop_heads": -0.0020391993327772973,
          "tosses": 239800
         },
         {
          "dev_num_heads": -484,
          "dev_prop_heads": -0.0020175072947061223,
          "tosses": 239900
         },
         {
          "dev_num_heads": -487,
          "dev_prop_heads": -0.002029166666666693,
          "tosses": 240000
         },
         {
          "dev_num_heads": -480,
          "dev_prop_heads": -0.001999167013744252,
          "tosses": 240100
         },
         {
          "dev_num_heads": -485,
          "dev_prop_heads": -0.0020191507077435555,
          "tosses": 240200
         },
         {
          "dev_num_heads": -482,
          "dev_prop_heads": -0.0020058260507698766,
          "tosses": 240300
         },
         {
          "dev_num_heads": -483,
          "dev_prop_heads": -0.0020091514143094624,
          "tosses": 240400
         },
         {
          "dev_num_heads": -490,
          "dev_prop_heads": -0.002037422037422021,
          "tosses": 240500
         },
         {
          "dev_num_heads": -484,
          "dev_prop_heads": -0.0020116375727348146,
          "tosses": 240600
         },
         {
          "dev_num_heads": -487,
          "dev_prop_heads": -0.002023265475695868,
          "tosses": 240700
         },
         {
          "dev_num_heads": -490,
          "dev_prop_heads": -0.0020348837209302473,
          "tosses": 240800
         },
         {
          "dev_num_heads": -485,
          "dev_prop_heads": -0.002013283520132858,
          "tosses": 240900
         },
         {
          "dev_num_heads": -484,
          "dev_prop_heads": -0.0020082987551867104,
          "tosses": 241000
         },
         {
          "dev_num_heads": -478,
          "dev_prop_heads": -0.0019825798423890317,
          "tosses": 241100
         },
         {
          "dev_num_heads": -475,
          "dev_prop_heads": -0.0019693200663349897,
          "tosses": 241200
         },
         {
          "dev_num_heads": -470,
          "dev_prop_heads": -0.0019477828429341204,
          "tosses": 241300
         },
         {
          "dev_num_heads": -470,
          "dev_prop_heads": -0.0019469759734879744,
          "tosses": 241400
         },
         {
          "dev_num_heads": -464,
          "dev_prop_heads": -0.001921325051759848,
          "tosses": 241500
         },
         {
          "dev_num_heads": -461,
          "dev_prop_heads": -0.0019081125827814516,
          "tosses": 241600
         },
         {
          "dev_num_heads": -463,
          "dev_prop_heads": -0.0019155978485725922,
          "tosses": 241700
         },
         {
          "dev_num_heads": -475,
          "dev_prop_heads": -0.001964433416046296,
          "tosses": 241800
         },
         {
          "dev_num_heads": -480,
          "dev_prop_heads": -0.001984291029350993,
          "tosses": 241900
         },
         {
          "dev_num_heads": -473,
          "dev_prop_heads": -0.001954545454545431,
          "tosses": 242000
         },
         {
          "dev_num_heads": -460,
          "dev_prop_heads": -0.001900041305245792,
          "tosses": 242100
         },
         {
          "dev_num_heads": -455,
          "dev_prop_heads": -0.001878612716762984,
          "tosses": 242200
         },
         {
          "dev_num_heads": -451,
          "dev_prop_heads": -0.0018613289310771552,
          "tosses": 242300
         },
         {
          "dev_num_heads": -451,
          "dev_prop_heads": -0.001860561056105603,
          "tosses": 242400
         },
         {
          "dev_num_heads": -456,
          "dev_prop_heads": -0.0018804123711340104,
          "tosses": 242500
         },
         {
          "dev_num_heads": -452,
          "dev_prop_heads": -0.0018631492168177943,
          "tosses": 242600
         },
         {
          "dev_num_heads": -452,
          "dev_prop_heads": -0.0018623815409971045,
          "tosses": 242700
         },
         {
          "dev_num_heads": -463,
          "dev_prop_heads": -0.001906919275123542,
          "tosses": 242800
         },
         {
          "dev_num_heads": -461,
          "dev_prop_heads": -0.0018979003705228426,
          "tosses": 242900
         },
         {
          "dev_num_heads": -457,
          "dev_prop_heads": -0.0018806584362139889,
          "tosses": 243000
         },
         {
          "dev_num_heads": -456,
          "dev_prop_heads": -0.001875771287536021,
          "tosses": 243100
         },
         {
          "dev_num_heads": -455,
          "dev_prop_heads": -0.0018708881578947123,
          "tosses": 243200
         },
         {
          "dev_num_heads": -453,
          "dev_prop_heads": -0.0018618988902589506,
          "tosses": 243300
         },
         {
          "dev_num_heads": -457,
          "dev_prop_heads": -0.0018775677896466503,
          "tosses": 243400
         },
         {
          "dev_num_heads": -466,
          "dev_prop_heads": -0.001913757700205354,
          "tosses": 243500
         },
         {
          "dev_num_heads": -467,
          "dev_prop_heads": -0.00191707717569789,
          "tosses": 243600
         },
         {
          "dev_num_heads": -469,
          "dev_prop_heads": -0.0019244973327862125,
          "tosses": 243700
         },
         {
          "dev_num_heads": -468,
          "dev_prop_heads": -0.001919606234618565,
          "tosses": 243800
         },
         {
          "dev_num_heads": -460,
          "dev_prop_heads": -0.0018860188601885763,
          "tosses": 243900
         },
         {
          "dev_num_heads": -468,
          "dev_prop_heads": -0.0019180327868852376,
          "tosses": 244000
         },
         {
          "dev_num_heads": -469,
          "dev_prop_heads": -0.0019213437115935816,
          "tosses": 244100
         },
         {
          "dev_num_heads": -463,
          "dev_prop_heads": -0.001895986895986912,
          "tosses": 244200
         },
         {
          "dev_num_heads": -465,
          "dev_prop_heads": -0.0019033974621366911,
          "tosses": 244300
         },
         {
          "dev_num_heads": -463,
          "dev_prop_heads": -0.0018944353518821622,
          "tosses": 244400
         },
         {
          "dev_num_heads": -467,
          "dev_prop_heads": -0.0019100204498977424,
          "tosses": 244500
         },
         {
          "dev_num_heads": -466,
          "dev_prop_heads": -0.0019051512673752824,
          "tosses": 244600
         },
         {
          "dev_num_heads": -465,
          "dev_prop_heads": -0.001900286064568879,
          "tosses": 244700
         },
         {
          "dev_num_heads": -469,
          "dev_prop_heads": -0.0019158496732026298,
          "tosses": 244800
         },
         {
          "dev_num_heads": -473,
          "dev_prop_heads": -0.001931400571661912,
          "tosses": 244900
         },
         {
          "dev_num_heads": -473,
          "dev_prop_heads": -0.0019306122448979335,
          "tosses": 245000
         },
         {
          "dev_num_heads": -463,
          "dev_prop_heads": -0.0018890248878009053,
          "tosses": 245100
         },
         {
          "dev_num_heads": -472,
          "dev_prop_heads": -0.001924959216965727,
          "tosses": 245200
         },
         {
          "dev_num_heads": -479,
          "dev_prop_heads": -0.0019527109661638953,
          "tosses": 245300
         },
         {
          "dev_num_heads": -475,
          "dev_prop_heads": -0.0019356153219233785,
          "tosses": 245400
         },
         {
          "dev_num_heads": -479,
          "dev_prop_heads": -0.0019511201629328068,
          "tosses": 245500
         },
         {
          "dev_num_heads": -484,
          "dev_prop_heads": -0.0019706840390879554,
          "tosses": 245600
         },
         {
          "dev_num_heads": -486,
          "dev_prop_heads": -0.001978021978021993,
          "tosses": 245700
         },
         {
          "dev_num_heads": -487,
          "dev_prop_heads": -0.0019812855980471666,
          "tosses": 245800
         },
         {
          "dev_num_heads": -484,
          "dev_prop_heads": -0.0019682797885319236,
          "tosses": 245900
         },
         {
          "dev_num_heads": -483,
          "dev_prop_heads": -0.001963414634146343,
          "tosses": 246000
         },
         {
          "dev_num_heads": -478,
          "dev_prop_heads": -0.0019422998780983525,
          "tosses": 246100
         },
         {
          "dev_num_heads": -484,
          "dev_prop_heads": -0.001965881397238023,
          "tosses": 246200
         },
         {
          "dev_num_heads": -483,
          "dev_prop_heads": -0.001961023142509122,
          "tosses": 246300
         },
         {
          "dev_num_heads": -486,
          "dev_prop_heads": -0.0019724025974026116,
          "tosses": 246400
         },
         {
          "dev_num_heads": -493,
          "dev_prop_heads": -0.0020000000000000018,
          "tosses": 246500
         },
         {
          "dev_num_heads": -490,
          "dev_prop_heads": -0.0019870235198702346,
          "tosses": 246600
         },
         {
          "dev_num_heads": -493,
          "dev_prop_heads": -0.001998378597486805,
          "tosses": 246700
         },
         {
          "dev_num_heads": -499,
          "dev_prop_heads": -0.0020218800648298396,
          "tosses": 246800
         },
         {
          "dev_num_heads": -503,
          "dev_prop_heads": -0.002037262049412736,
          "tosses": 246900
         },
         {
          "dev_num_heads": -493,
          "dev_prop_heads": -0.0019959514170040382,
          "tosses": 247000
         },
         {
          "dev_num_heads": -497,
          "dev_prop_heads": -0.0020113314447592345,
          "tosses": 247100
         },
         {
          "dev_num_heads": -493,
          "dev_prop_heads": -0.0019943365695793136,
          "tosses": 247200
         },
         {
          "dev_num_heads": -495,
          "dev_prop_heads": -0.002001617468661565,
          "tosses": 247300
         },
         {
          "dev_num_heads": -491,
          "dev_prop_heads": -0.0019846402586903844,
          "tosses": 247400
         },
         {
          "dev_num_heads": -493,
          "dev_prop_heads": -0.0019919191919192114,
          "tosses": 247500
         },
         {
          "dev_num_heads": -490,
          "dev_prop_heads": -0.001978998384491115,
          "tosses": 247600
         },
         {
          "dev_num_heads": -488,
          "dev_prop_heads": -0.001970125151392832,
          "tosses": 247700
         },
         {
          "dev_num_heads": -489,
          "dev_prop_heads": -0.001973365617433387,
          "tosses": 247800
         },
         {
          "dev_num_heads": -483,
          "dev_prop_heads": -0.0019483662767245113,
          "tosses": 247900
         },
         {
          "dev_num_heads": -474,
          "dev_prop_heads": -0.0019112903225806388,
          "tosses": 248000
         },
         {
          "dev_num_heads": -476,
          "dev_prop_heads": -0.0019185812172510808,
          "tosses": 248100
         },
         {
          "dev_num_heads": -481,
          "dev_prop_heads": -0.0019379532634971608,
          "tosses": 248200
         },
         {
          "dev_num_heads": -481,
          "dev_prop_heads": -0.0019371727748691003,
          "tosses": 248300
         },
         {
          "dev_num_heads": -483,
          "dev_prop_heads": -0.0019444444444444708,
          "tosses": 248400
         },
         {
          "dev_num_heads": -474,
          "dev_prop_heads": -0.0019074446680080737,
          "tosses": 248500
         },
         {
          "dev_num_heads": -472,
          "dev_prop_heads": -0.0018986323411102068,
          "tosses": 248600
         },
         {
          "dev_num_heads": -470,
          "dev_prop_heads": -0.0018898271009248346,
          "tosses": 248700
         },
         {
          "dev_num_heads": -470,
          "dev_prop_heads": -0.0018890675241157728,
          "tosses": 248800
         },
         {
          "dev_num_heads": -462,
          "dev_prop_heads": -0.0018561671353957143,
          "tosses": 248900
         },
         {
          "dev_num_heads": -461,
          "dev_prop_heads": -0.0018514056224899766,
          "tosses": 249000
         },
         {
          "dev_num_heads": -465,
          "dev_prop_heads": -0.0018667201926936827,
          "tosses": 249100
         },
         {
          "dev_num_heads": -467,
          "dev_prop_heads": -0.001873996789727106,
          "tosses": 249200
         },
         {
          "dev_num_heads": -463,
          "dev_prop_heads": -0.0018572001604492683,
          "tosses": 249300
         },
         {
          "dev_num_heads": -454,
          "dev_prop_heads": -0.0018203688853247746,
          "tosses": 249400
         },
         {
          "dev_num_heads": -458,
          "dev_prop_heads": -0.0018356713426853632,
          "tosses": 249500
         },
         {
          "dev_num_heads": -445,
          "dev_prop_heads": -0.0017828525641025439,
          "tosses": 249600
         },
         {
          "dev_num_heads": -439,
          "dev_prop_heads": -0.0017581097316780037,
          "tosses": 249700
         },
         {
          "dev_num_heads": -437,
          "dev_prop_heads": -0.0017493995196156686,
          "tosses": 249800
         },
         {
          "dev_num_heads": -436,
          "dev_prop_heads": -0.0017446978791516576,
          "tosses": 249900
         },
         {
          "dev_num_heads": -434,
          "dev_prop_heads": -0.0017360000000000153,
          "tosses": 250000
         },
         {
          "dev_num_heads": -437,
          "dev_prop_heads": -0.0017473010795681643,
          "tosses": 250100
         },
         {
          "dev_num_heads": -428,
          "dev_prop_heads": -0.00171063149480416,
          "tosses": 250200
         },
         {
          "dev_num_heads": -433,
          "dev_prop_heads": -0.0017299240910906843,
          "tosses": 250300
         },
         {
          "dev_num_heads": -431,
          "dev_prop_heads": -0.0017212460063897872,
          "tosses": 250400
         },
         {
          "dev_num_heads": -436,
          "dev_prop_heads": -0.0017405189620758321,
          "tosses": 250500
         },
         {
          "dev_num_heads": -439,
          "dev_prop_heads": -0.001751795690343172,
          "tosses": 250600
         },
         {
          "dev_num_heads": -441,
          "dev_prop_heads": -0.0017590745911447714,
          "tosses": 250700
         },
         {
          "dev_num_heads": -435,
          "dev_prop_heads": -0.001734449760765533,
          "tosses": 250800
         },
         {
          "dev_num_heads": -438,
          "dev_prop_heads": -0.001745715424471883,
          "tosses": 250900
         },
         {
          "dev_num_heads": -428,
          "dev_prop_heads": -0.0017051792828685075,
          "tosses": 251000
         },
         {
          "dev_num_heads": -428,
          "dev_prop_heads": -0.0017045001991238817,
          "tosses": 251100
         },
         {
          "dev_num_heads": -429,
          "dev_prop_heads": -0.0017078025477706982,
          "tosses": 251200
         },
         {
          "dev_num_heads": -427,
          "dev_prop_heads": -0.001699164345403903,
          "tosses": 251300
         },
         {
          "dev_num_heads": -423,
          "dev_prop_heads": -0.0016825775656324482,
          "tosses": 251400
         },
         {
          "dev_num_heads": -420,
          "dev_prop_heads": -0.00166998011928432,
          "tosses": 251500
         },
         {
          "dev_num_heads": -425,
          "dev_prop_heads": -0.0016891891891891997,
          "tosses": 251600
         },
         {
          "dev_num_heads": -422,
          "dev_prop_heads": -0.0016765991259435897,
          "tosses": 251700
         },
         {
          "dev_num_heads": -414,
          "dev_prop_heads": -0.0016441620333598195,
          "tosses": 251800
         },
         {
          "dev_num_heads": -416,
          "dev_prop_heads": -0.0016514489876935379,
          "tosses": 251900
         },
         {
          "dev_num_heads": -416,
          "dev_prop_heads": -0.001650793650793625,
          "tosses": 252000
         },
         {
          "dev_num_heads": -418,
          "dev_prop_heads": -0.0016580721935740006,
          "tosses": 252100
         },
         {
          "dev_num_heads": -427,
          "dev_prop_heads": -0.0016931007137192533,
          "tosses": 252200
         },
         {
          "dev_num_heads": -435,
          "dev_prop_heads": -0.0017241379310344862,
          "tosses": 252300
         },
         {
          "dev_num_heads": -429,
          "dev_prop_heads": -0.001699683042789224,
          "tosses": 252400
         },
         {
          "dev_num_heads": -424,
          "dev_prop_heads": -0.0016792079207920696,
          "tosses": 252500
         },
         {
          "dev_num_heads": -426,
          "dev_prop_heads": -0.0016864608076009313,
          "tosses": 252600
         },
         {
          "dev_num_heads": -417,
          "dev_prop_heads": -0.0016501780767708696,
          "tosses": 252700
         },
         {
          "dev_num_heads": -417,
          "dev_prop_heads": -0.00164952531645568,
          "tosses": 252800
         },
         {
          "dev_num_heads": -414,
          "dev_prop_heads": -0.0016370106761565695,
          "tosses": 252900
         },
         {
          "dev_num_heads": -415,
          "dev_prop_heads": -0.0016403162055336207,
          "tosses": 253000
         },
         {
          "dev_num_heads": -413,
          "dev_prop_heads": -0.0016317661003555917,
          "tosses": 253100
         },
         {
          "dev_num_heads": -409,
          "dev_prop_heads": -0.0016153238546603443,
          "tosses": 253200
         },
         {
          "dev_num_heads": -408,
          "dev_prop_heads": -0.0016107382550335503,
          "tosses": 253300
         },
         {
          "dev_num_heads": -411,
          "dev_prop_heads": -0.0016219415943172777,
          "tosses": 253400
         },
         {
          "dev_num_heads": -419,
          "dev_prop_heads": -0.0016528599605522554,
          "tosses": 253500
         },
         {
          "dev_num_heads": -424,
          "dev_prop_heads": -0.0016719242902208387,
          "tosses": 253600
         },
         {
          "dev_num_heads": -427,
          "dev_prop_heads": -0.0016830902640914691,
          "tosses": 253700
         },
         {
          "dev_num_heads": -422,
          "dev_prop_heads": -0.0016627265563435856,
          "tosses": 253800
         },
         {
          "dev_num_heads": -416,
          "dev_prop_heads": -0.0016384403308389306,
          "tosses": 253900
         },
         {
          "dev_num_heads": -419,
          "dev_prop_heads": -0.0016496062992126248,
          "tosses": 254000
         },
         {
          "dev_num_heads": -423,
          "dev_prop_heads": -0.0016646989374262122,
          "tosses": 254100
         },
         {
          "dev_num_heads": -429,
          "dev_prop_heads": -0.001687647521636526,
          "tosses": 254200
         },
         {
          "dev_num_heads": -432,
          "dev_prop_heads": -0.0016987809673613685,
          "tosses": 254300
         },
         {
          "dev_num_heads": -436,
          "dev_prop_heads": -0.001713836477987396,
          "tosses": 254400
         },
         {
          "dev_num_heads": -440,
          "dev_prop_heads": -0.0017288801571709311,
          "tosses": 254500
         },
         {
          "dev_num_heads": -443,
          "dev_prop_heads": -0.001739984289080898,
          "tosses": 254600
         },
         {
          "dev_num_heads": -437,
          "dev_prop_heads": -0.0017157440125638024,
          "tosses": 254700
         },
         {
          "dev_num_heads": -440,
          "dev_prop_heads": -0.0017268445839874191,
          "tosses": 254800
         },
         {
          "dev_num_heads": -441,
          "dev_prop_heads": -0.0017300902314633104,
          "tosses": 254900
         },
         {
          "dev_num_heads": -436,
          "dev_prop_heads": -0.001709803921568609,
          "tosses": 255000
         },
         {
          "dev_num_heads": -444,
          "dev_prop_heads": -0.0017404939239513695,
          "tosses": 255100
         },
         {
          "dev_num_heads": -439,
          "dev_prop_heads": -0.0017202194357366918,
          "tosses": 255200
         },
         {
          "dev_num_heads": -440,
          "dev_prop_heads": -0.0017234625930278025,
          "tosses": 255300
         },
         {
          "dev_num_heads": -436,
          "dev_prop_heads": -0.001707126076742338,
          "tosses": 255400
         },
         {
          "dev_num_heads": -444,
          "dev_prop_heads": -0.001737769080234819,
          "tosses": 255500
         },
         {
          "dev_num_heads": -439,
          "dev_prop_heads": -0.001717527386541462,
          "tosses": 255600
         },
         {
          "dev_num_heads": -452,
          "dev_prop_heads": -0.001767696519358597,
          "tosses": 255700
         },
         {
          "dev_num_heads": -455,
          "dev_prop_heads": -0.001778733385457365,
          "tosses": 255800
         },
         {
          "dev_num_heads": -454,
          "dev_prop_heads": -0.001774130519734296,
          "tosses": 255900
         },
         {
          "dev_num_heads": -448,
          "dev_prop_heads": -0.0017499999999999738,
          "tosses": 256000
         },
         {
          "dev_num_heads": -447,
          "dev_prop_heads": -0.0017454119484576203,
          "tosses": 256100
         },
         {
          "dev_num_heads": -446,
          "dev_prop_heads": -0.0017408274785323807,
          "tosses": 256200
         },
         {
          "dev_num_heads": -445,
          "dev_prop_heads": -0.0017362465860319976,
          "tosses": 256300
         },
         {
          "dev_num_heads": -453,
          "dev_prop_heads": -0.0017667706708268116,
          "tosses": 256400
         },
         {
          "dev_num_heads": -450,
          "dev_prop_heads": -0.0017543859649122862,
          "tosses": 256500
         },
         {
          "dev_num_heads": -455,
          "dev_prop_heads": -0.0017731878409976698,
          "tosses": 256600
         },
         {
          "dev_num_heads": -466,
          "dev_prop_heads": -0.0018153486560186782,
          "tosses": 256700
         },
         {
          "dev_num_heads": -483,
          "dev_prop_heads": -0.0018808411214953358,
          "tosses": 256800
         },
         {
          "dev_num_heads": -473,
          "dev_prop_heads": -0.0018411833398209176,
          "tosses": 256900
         },
         {
          "dev_num_heads": -472,
          "dev_prop_heads": -0.001836575875486357,
          "tosses": 257000
         },
         {
          "dev_num_heads": -471,
          "dev_prop_heads": -0.001831971995332582,
          "tosses": 257100
         },
         {
          "dev_num_heads": -463,
          "dev_prop_heads": -0.001800155520995328,
          "tosses": 257200
         },
         {
          "dev_num_heads": -465,
          "dev_prop_heads": -0.0018072289156626509,
          "tosses": 257300
         },
         {
          "dev_num_heads": -466,
          "dev_prop_heads": -0.001810411810411805,
          "tosses": 257400
         },
         {
          "dev_num_heads": -463,
          "dev_prop_heads": -0.0017980582524271815,
          "tosses": 257500
         },
         {
          "dev_num_heads": -476,
          "dev_prop_heads": -0.0018478260869564944,
          "tosses": 257600
         },
         {
          "dev_num_heads": -478,
          "dev_prop_heads": -0.00185487000388046,
          "tosses": 257700
         },
         {
          "dev_num_heads": -482,
          "dev_prop_heads": -0.0018696664080682934,
          "tosses": 257800
         },
         {
          "dev_num_heads": -483,
          "dev_prop_heads": -0.0018728189220628133,
          "tosses": 257900
         },
         {
          "dev_num_heads": -480,
          "dev_prop_heads": -0.0018604651162790753,
          "tosses": 258000
         },
         {
          "dev_num_heads": -482,
          "dev_prop_heads": -0.0018674932196822702,
          "tosses": 258100
         },
         {
          "dev_num_heads": -477,
          "dev_prop_heads": -0.001847405112316014,
          "tosses": 258200
         },
         {
          "dev_num_heads": -474,
          "dev_prop_heads": -0.0018350754936120595,
          "tosses": 258300
         },
         {
          "dev_num_heads": -477,
          "dev_prop_heads": -0.0018459752321981493,
          "tosses": 258400
         },
         {
          "dev_num_heads": -475,
          "dev_prop_heads": -0.0018375241779496898,
          "tosses": 258500
         },
         {
          "dev_num_heads": -471,
          "dev_prop_heads": -0.0018213457076566297,
          "tosses": 258600
         },
         {
          "dev_num_heads": -471,
          "dev_prop_heads": -0.0018206416698878791,
          "tosses": 258700
         },
         {
          "dev_num_heads": -467,
          "dev_prop_heads": -0.0018044822256568782,
          "tosses": 258800
         },
         {
          "dev_num_heads": -468,
          "dev_prop_heads": -0.0018076477404403435,
          "tosses": 258900
         },
         {
          "dev_num_heads": -465,
          "dev_prop_heads": -0.0017953667953667929,
          "tosses": 259000
         },
         {
          "dev_num_heads": -470,
          "dev_prop_heads": -0.001813971439598605,
          "tosses": 259100
         },
         {
          "dev_num_heads": -476,
          "dev_prop_heads": -0.0018364197530864046,
          "tosses": 259200
         },
         {
          "dev_num_heads": -463,
          "dev_prop_heads": -0.0017855765522560851,
          "tosses": 259300
         },
         {
          "dev_num_heads": -453,
          "dev_prop_heads": -0.0017463377023901328,
          "tosses": 259400
         },
         {
          "dev_num_heads": -444,
          "dev_prop_heads": -0.0017109826589595256,
          "tosses": 259500
         },
         {
          "dev_num_heads": -452,
          "dev_prop_heads": -0.0017411402157164746,
          "tosses": 259600
         },
         {
          "dev_num_heads": -446,
          "dev_prop_heads": -0.0017173661917597172,
          "tosses": 259700
         },
         {
          "dev_num_heads": -450,
          "dev_prop_heads": -0.0017321016166281789,
          "tosses": 259800
         },
         {
          "dev_num_heads": -450,
          "dev_prop_heads": -0.001731435167372064,
          "tosses": 259900
         },
         {
          "dev_num_heads": -453,
          "dev_prop_heads": -0.0017423076923077097,
          "tosses": 260000
         },
         {
          "dev_num_heads": -448,
          "dev_prop_heads": -0.0017224144559784826,
          "tosses": 260100
         },
         {
          "dev_num_heads": -448,
          "dev_prop_heads": -0.0017217524980783772,
          "tosses": 260200
         },
         {
          "dev_num_heads": -441,
          "dev_prop_heads": -0.0016941990011525299,
          "tosses": 260300
         },
         {
          "dev_num_heads": -436,
          "dev_prop_heads": -0.0016743471582181257,
          "tosses": 260400
         },
         {
          "dev_num_heads": -437,
          "dev_prop_heads": -0.001677543186180408,
          "tosses": 260500
         },
         {
          "dev_num_heads": -430,
          "dev_prop_heads": -0.0016500383729854406,
          "tosses": 260600
         },
         {
          "dev_num_heads": -422,
          "dev_prop_heads": -0.0016187188339086833,
          "tosses": 260700
         },
         {
          "dev_num_heads": -425,
          "dev_prop_heads": -0.0016296012269938487,
          "tosses": 260800
         },
         {
          "dev_num_heads": -422,
          "dev_prop_heads": -0.0016174779609045564,
          "tosses": 260900
         },
         {
          "dev_num_heads": -424,
          "dev_prop_heads": -0.001624521072796925,
          "tosses": 261000
         },
         {
          "dev_num_heads": -419,
          "dev_prop_heads": -0.0016047491382611967,
          "tosses": 261100
         },
         {
          "dev_num_heads": -416,
          "dev_prop_heads": -0.0015926493108728845,
          "tosses": 261200
         },
         {
          "dev_num_heads": -412,
          "dev_prop_heads": -0.0015767317259854363,
          "tosses": 261300
         },
         {
          "dev_num_heads": -402,
          "dev_prop_heads": -0.0015378729915837552,
          "tosses": 261400
         },
         {
          "dev_num_heads": -404,
          "dev_prop_heads": -0.001544933078393873,
          "tosses": 261500
         },
         {
          "dev_num_heads": -405,
          "dev_prop_heads": -0.0015481651376146877,
          "tosses": 261600
         },
         {
          "dev_num_heads": -406,
          "dev_prop_heads": -0.0015513947267863926,
          "tosses": 261700
         },
         {
          "dev_num_heads": -409,
          "dev_prop_heads": -0.0015622612681436276,
          "tosses": 261800
         },
         {
          "dev_num_heads": -416,
          "dev_prop_heads": -0.0015883925162275547,
          "tosses": 261900
         },
         {
          "dev_num_heads": -426,
          "dev_prop_heads": -0.0016259541984732784,
          "tosses": 262000
         },
         {
          "dev_num_heads": -424,
          "dev_prop_heads": -0.0016177031667302666,
          "tosses": 262100
         },
         {
          "dev_num_heads": -426,
          "dev_prop_heads": -0.0016247139588100867,
          "tosses": 262200
         },
         {
          "dev_num_heads": -420,
          "dev_prop_heads": -0.0016012199771254232,
          "tosses": 262300
         },
         {
          "dev_num_heads": -417,
          "dev_prop_heads": -0.0015891768292682906,
          "tosses": 262400
         },
         {
          "dev_num_heads": -417,
          "dev_prop_heads": -0.0015885714285714392,
          "tosses": 262500
         },
         {
          "dev_num_heads": -422,
          "dev_prop_heads": -0.001607006854531634,
          "tosses": 262600
         },
         {
          "dev_num_heads": -421,
          "dev_prop_heads": -0.0016025885039969712,
          "tosses": 262700
         },
         {
          "dev_num_heads": -418,
          "dev_prop_heads": -0.0015905631659056119,
          "tosses": 262800
         },
         {
          "dev_num_heads": -425,
          "dev_prop_heads": -0.001616584252567499,
          "tosses": 262900
         },
         {
          "dev_num_heads": -430,
          "dev_prop_heads": -0.0016349809885931599,
          "tosses": 263000
         },
         {
          "dev_num_heads": -434,
          "dev_prop_heads": -0.0016495629038388304,
          "tosses": 263100
         },
         {
          "dev_num_heads": -428,
          "dev_prop_heads": -0.0016261398176291575,
          "tosses": 263200
         },
         {
          "dev_num_heads": -434,
          "dev_prop_heads": -0.0016483099126471945,
          "tosses": 263300
         },
         {
          "dev_num_heads": -434,
          "dev_prop_heads": -0.0016476841305998469,
          "tosses": 263400
         },
         {
          "dev_num_heads": -425,
          "dev_prop_heads": -0.001612903225806428,
          "tosses": 263500
         },
         {
          "dev_num_heads": -425,
          "dev_prop_heads": -0.001612291350531092,
          "tosses": 263600
         },
         {
          "dev_num_heads": -436,
          "dev_prop_heads": -0.0016533940083428011,
          "tosses": 263700
         },
         {
          "dev_num_heads": -438,
          "dev_prop_heads": -0.0016603487490522983,
          "tosses": 263800
         },
         {
          "dev_num_heads": -442,
          "dev_prop_heads": -0.0016748768472906184,
          "tosses": 263900
         },
         {
          "dev_num_heads": -451,
          "dev_prop_heads": -0.0017083333333333117,
          "tosses": 264000
         },
         {
          "dev_num_heads": -444,
          "dev_prop_heads": -0.0016811813706928969,
          "tosses": 264100
         },
         {
          "dev_num_heads": -456,
          "dev_prop_heads": -0.0017259651778955276,
          "tosses": 264200
         },
         {
          "dev_num_heads": -466,
          "dev_prop_heads": -0.0017631479379492943,
          "tosses": 264300
         },
         {
          "dev_num_heads": -469,
          "dev_prop_heads": -0.0017738275340393184,
          "tosses": 264400
         },
         {
          "dev_num_heads": -468,
          "dev_prop_heads": -0.0017693761814744913,
          "tosses": 264500
         },
         {
          "dev_num_heads": -470,
          "dev_prop_heads": -0.001776266061980336,
          "tosses": 264600
         },
         {
          "dev_num_heads": -479,
          "dev_prop_heads": -0.0018095957687948583,
          "tosses": 264700
         },
         {
          "dev_num_heads": -471,
          "dev_prop_heads": -0.0017787009063444104,
          "tosses": 264800
         },
         {
          "dev_num_heads": -471,
          "dev_prop_heads": -0.0017780294450736034,
          "tosses": 264900
         },
         {
          "dev_num_heads": -460,
          "dev_prop_heads": -0.0017358490566037887,
          "tosses": 265000
         },
         {
          "dev_num_heads": -461,
          "dev_prop_heads": -0.0017389664277631112,
          "tosses": 265100
         },
         {
          "dev_num_heads": -462,
          "dev_prop_heads": -0.0017420814479637836,
          "tosses": 265200
         },
         {
          "dev_num_heads": -466,
          "dev_prop_heads": -0.0017565020731247771,
          "tosses": 265300
         },
         {
          "dev_num_heads": -470,
          "dev_prop_heads": -0.0017709118311982075,
          "tosses": 265400
         },
         {
          "dev_num_heads": -481,
          "dev_prop_heads": -0.0018116760828625345,
          "tosses": 265500
         },
         {
          "dev_num_heads": -479,
          "dev_prop_heads": -0.001803463855421683,
          "tosses": 265600
         },
         {
          "dev_num_heads": -481,
          "dev_prop_heads": -0.0018103123823861589,
          "tosses": 265700
         },
         {
          "dev_num_heads": -484,
          "dev_prop_heads": -0.0018209179834461908,
          "tosses": 265800
         },
         {
          "dev_num_heads": -488,
          "dev_prop_heads": -0.0018352764197066551,
          "tosses": 265900
         },
         {
          "dev_num_heads": -489,
          "dev_prop_heads": -0.001838345864661639,
          "tosses": 266000
         },
         {
          "dev_num_heads": -484,
          "dev_prop_heads": -0.0018188650883126378,
          "tosses": 266100
         },
         {
          "dev_num_heads": -478,
          "dev_prop_heads": -0.001795642374154749,
          "tosses": 266200
         },
         {
          "dev_num_heads": -483,
          "dev_prop_heads": -0.0018137438978595433,
          "tosses": 266300
         },
         {
          "dev_num_heads": -492,
          "dev_prop_heads": -0.001846846846846828,
          "tosses": 266400
         },
         {
          "dev_num_heads": -494,
          "dev_prop_heads": -0.0018536585365853675,
          "tosses": 266500
         },
         {
          "dev_num_heads": -495,
          "dev_prop_heads": -0.0018567141785446606,
          "tosses": 266600
         },
         {
          "dev_num_heads": -499,
          "dev_prop_heads": -0.0018710161229846256,
          "tosses": 266700
         },
         {
          "dev_num_heads": -499,
          "dev_prop_heads": -0.001870314842578713,
          "tosses": 266800
         },
         {
          "dev_num_heads": -494,
          "dev_prop_heads": -0.0018508804795803746,
          "tosses": 266900
         },
         {
          "dev_num_heads": -497,
          "dev_prop_heads": -0.001861423220973768,
          "tosses": 267000
         },
         {
          "dev_num_heads": -491,
          "dev_prop_heads": -0.0018382628229127729,
          "tosses": 267100
         },
         {
          "dev_num_heads": -488,
          "dev_prop_heads": -0.0018263473053892199,
          "tosses": 267200
         },
         {
          "dev_num_heads": -494,
          "dev_prop_heads": -0.001848110736999642,
          "tosses": 267300
         },
         {
          "dev_num_heads": -489,
          "dev_prop_heads": -0.0018287210172027168,
          "tosses": 267400
         },
         {
          "dev_num_heads": -486,
          "dev_prop_heads": -0.0018168224299065505,
          "tosses": 267500
         },
         {
          "dev_num_heads": -490,
          "dev_prop_heads": -0.0018310911808669394,
          "tosses": 267600
         },
         {
          "dev_num_heads": -489,
          "dev_prop_heads": -0.0018266716473664402,
          "tosses": 267700
         },
         {
          "dev_num_heads": -487,
          "dev_prop_heads": -0.0018185212845406862,
          "tosses": 267800
         },
         {
          "dev_num_heads": -490,
          "dev_prop_heads": -0.0018290406868234355,
          "tosses": 267900
         },
         {
          "dev_num_heads": -489,
          "dev_prop_heads": -0.0018246268656716413,
          "tosses": 268000
         },
         {
          "dev_num_heads": -483,
          "dev_prop_heads": -0.0018015665796344837,
          "tosses": 268100
         },
         {
          "dev_num_heads": -487,
          "dev_prop_heads": -0.0018158090976883035,
          "tosses": 268200
         },
         {
          "dev_num_heads": -478,
          "dev_prop_heads": -0.0017815877748788567,
          "tosses": 268300
         },
         {
          "dev_num_heads": -474,
          "dev_prop_heads": -0.0017660208643815456,
          "tosses": 268400
         },
         {
          "dev_num_heads": -472,
          "dev_prop_heads": -0.0017579143389199192,
          "tosses": 268500
         },
         {
          "dev_num_heads": -467,
          "dev_prop_heads": -0.0017386448250186204,
          "tosses": 268600
         },
         {
          "dev_num_heads": -458,
          "dev_prop_heads": -0.001704503163379223,
          "tosses": 268700
         },
         {
          "dev_num_heads": -446,
          "dev_prop_heads": -0.001659226190476204,
          "tosses": 268800
         },
         {
          "dev_num_heads": -442,
          "dev_prop_heads": -0.0016437337300111432,
          "tosses": 268900
         },
         {
          "dev_num_heads": -448,
          "dev_prop_heads": -0.00166542750929366,
          "tosses": 269000
         },
         {
          "dev_num_heads": -453,
          "dev_prop_heads": -0.0016833890746933977,
          "tosses": 269100
         },
         {
          "dev_num_heads": -454,
          "dev_prop_heads": -0.0016864784546805622,
          "tosses": 269200
         },
         {
          "dev_num_heads": -455,
          "dev_prop_heads": -0.0016895655402896503,
          "tosses": 269300
         },
         {
          "dev_num_heads": -448,
          "dev_prop_heads": -0.0016629547141796541,
          "tosses": 269400
         },
         {
          "dev_num_heads": -451,
          "dev_prop_heads": -0.0016734693877550888,
          "tosses": 269500
         },
         {
          "dev_num_heads": -457,
          "dev_prop_heads": -0.001695103857566771,
          "tosses": 269600
         },
         {
          "dev_num_heads": -458,
          "dev_prop_heads": -0.001698183166481293,
          "tosses": 269700
         },
         {
          "dev_num_heads": -460,
          "dev_prop_heads": -0.0017049666419570175,
          "tosses": 269800
         },
         {
          "dev_num_heads": -468,
          "dev_prop_heads": -0.0017339755464986784,
          "tosses": 269900
         },
         {
          "dev_num_heads": -464,
          "dev_prop_heads": -0.0017185185185185081,
          "tosses": 270000
         },
         {
          "dev_num_heads": -462,
          "dev_prop_heads": -0.0017104776008885492,
          "tosses": 270100
         },
         {
          "dev_num_heads": -464,
          "dev_prop_heads": -0.001717246484085888,
          "tosses": 270200
         },
         {
          "dev_num_heads": -460,
          "dev_prop_heads": -0.0017018128005919508,
          "tosses": 270300
         },
         {
          "dev_num_heads": -454,
          "dev_prop_heads": -0.0016789940828402239,
          "tosses": 270400
         },
         {
          "dev_num_heads": -454,
          "dev_prop_heads": -0.001678373382624776,
          "tosses": 270500
         },
         {
          "dev_num_heads": -461,
          "dev_prop_heads": -0.001703621581670367,
          "tosses": 270600
         },
         {
          "dev_num_heads": -463,
          "dev_prop_heads": -0.0017103804950129309,
          "tosses": 270700
         },
         {
          "dev_num_heads": -457,
          "dev_prop_heads": -0.0016875923190546316,
          "tosses": 270800
         },
         {
          "dev_num_heads": -454,
          "dev_prop_heads": -0.0016758951642672493,
          "tosses": 270900
         },
         {
          "dev_num_heads": -454,
          "dev_prop_heads": -0.0016752767527675183,
          "tosses": 271000
         },
         {
          "dev_num_heads": -456,
          "dev_prop_heads": -0.0016820361490225144,
          "tosses": 271100
         },
         {
          "dev_num_heads": -461,
          "dev_prop_heads": -0.001699852507374644,
          "tosses": 271200
         },
         {
          "dev_num_heads": -460,
          "dev_prop_heads": -0.0016955399926281145,
          "tosses": 271300
         },
         {
          "dev_num_heads": -460,
          "dev_prop_heads": -0.0016949152542372614,
          "tosses": 271400
         },
         {
          "dev_num_heads": -462,
          "dev_prop_heads": -0.0017016574585635436,
          "tosses": 271500
         },
         {
          "dev_num_heads": -456,
          "dev_prop_heads": -0.00167893961708393,
          "tosses": 271600
         },
         {
          "dev_num_heads": -462,
          "dev_prop_heads": -0.0017004048582995868,
          "tosses": 271700
         },
         {
          "dev_num_heads": -461,
          "dev_prop_heads": -0.0016961000735835063,
          "tosses": 271800
         },
         {
          "dev_num_heads": -462,
          "dev_prop_heads": -0.0016991541007723154,
          "tosses": 271900
         },
         {
          "dev_num_heads": -462,
          "dev_prop_heads": -0.001698529411764682,
          "tosses": 272000
         },
         {
          "dev_num_heads": -466,
          "dev_prop_heads": -0.0017126056596839523,
          "tosses": 272100
         },
         {
          "dev_num_heads": -473,
          "dev_prop_heads": -0.0017376928728876084,
          "tosses": 272200
         },
         {
          "dev_num_heads": -468,
          "dev_prop_heads": -0.0017186926184355467,
          "tosses": 272300
         },
         {
          "dev_num_heads": -467,
          "dev_prop_heads": -0.0017143906020558042,
          "tosses": 272400
         },
         {
          "dev_num_heads": -472,
          "dev_prop_heads": -0.001732110091743122,
          "tosses": 272500
         },
         {
          "dev_num_heads": -476,
          "dev_prop_heads": -0.001746148202494524,
          "tosses": 272600
         },
         {
          "dev_num_heads": -477,
          "dev_prop_heads": -0.0017491749174917692,
          "tosses": 272700
         },
         {
          "dev_num_heads": -473,
          "dev_prop_heads": -0.0017338709677419128,
          "tosses": 272800
         },
         {
          "dev_num_heads": -471,
          "dev_prop_heads": -0.0017259069256137516,
          "tosses": 272900
         },
         {
          "dev_num_heads": -466,
          "dev_prop_heads": -0.0017069597069597209,
          "tosses": 273000
         },
         {
          "dev_num_heads": -469,
          "dev_prop_heads": -0.0017173196631270482,
          "tosses": 273100
         },
         {
          "dev_num_heads": -466,
          "dev_prop_heads": -0.0017057101024890442,
          "tosses": 273200
         },
         {
          "dev_num_heads": -464,
          "dev_prop_heads": -0.00169776802049032,
          "tosses": 273300
         },
         {
          "dev_num_heads": -461,
          "dev_prop_heads": -0.0016861741038771139,
          "tosses": 273400
         },
         {
          "dev_num_heads": -459,
          "dev_prop_heads": -0.0016782449725776805,
          "tosses": 273500
         },
         {
          "dev_num_heads": -453,
          "dev_prop_heads": -0.001655701754385952,
          "tosses": 273600
         },
         {
          "dev_num_heads": -459,
          "dev_prop_heads": -0.0016770186335403614,
          "tosses": 273700
         },
         {
          "dev_num_heads": -450,
          "dev_prop_heads": -0.0016435354273192093,
          "tosses": 273800
         },
         {
          "dev_num_heads": -444,
          "dev_prop_heads": -0.001621029572836774,
          "tosses": 273900
         },
         {
          "dev_num_heads": -450,
          "dev_prop_heads": -0.001642335766423364,
          "tosses": 274000
         },
         {
          "dev_num_heads": -451,
          "dev_prop_heads": -0.0016453848960233386,
          "tosses": 274100
         },
         {
          "dev_num_heads": -448,
          "dev_prop_heads": -0.001633843909555066,
          "tosses": 274200
         },
         {
          "dev_num_heads": -444,
          "dev_prop_heads": -0.0016186656944950917,
          "tosses": 274300
         },
         {
          "dev_num_heads": -452,
          "dev_prop_heads": -0.0016472303206996886,
          "tosses": 274400
         },
         {
          "dev_num_heads": -454,
          "dev_prop_heads": -0.0016539162112932382,
          "tosses": 274500
         },
         {
          "dev_num_heads": -459,
          "dev_prop_heads": -0.0016715222141296393,
          "tosses": 274600
         },
         {
          "dev_num_heads": -451,
          "dev_prop_heads": -0.0016417910447761308,
          "tosses": 274700
         },
         {
          "dev_num_heads": -446,
          "dev_prop_heads": -0.0016229985443959039,
          "tosses": 274800
         },
         {
          "dev_num_heads": -445,
          "dev_prop_heads": -0.0016187704619861631,
          "tosses": 274900
         },
         {
          "dev_num_heads": -441,
          "dev_prop_heads": -0.0016036363636363626,
          "tosses": 275000
         },
         {
          "dev_num_heads": -437,
          "dev_prop_heads": -0.0015885132679026026,
          "tosses": 275100
         },
         {
          "dev_num_heads": -439,
          "dev_prop_heads": -0.00159520348837211,
          "tosses": 275200
         },
         {
          "dev_num_heads": -443,
          "dev_prop_heads": -0.0016091536505630222,
          "tosses": 275300
         },
         {
          "dev_num_heads": -454,
          "dev_prop_heads": -0.0016485112563544013,
          "tosses": 275400
         },
         {
          "dev_num_heads": -457,
          "dev_prop_heads": -0.001658802177858465,
          "tosses": 275500
         },
         {
          "dev_num_heads": -457,
          "dev_prop_heads": -0.0016582002902757464,
          "tosses": 275600
         },
         {
          "dev_num_heads": -455,
          "dev_prop_heads": -0.0016503445774392334,
          "tosses": 275700
         },
         {
          "dev_num_heads": -468,
          "dev_prop_heads": -0.0016968817984046591,
          "tosses": 275800
         },
         {
          "dev_num_heads": -465,
          "dev_prop_heads": -0.0016853932584269815,
          "tosses": 275900
         },
         {
          "dev_num_heads": -462,
          "dev_prop_heads": -0.0016739130434782479,
          "tosses": 276000
         },
         {
          "dev_num_heads": -470,
          "dev_prop_heads": -0.0017022817819630776,
          "tosses": 276100
         },
         {
          "dev_num_heads": -483,
          "dev_prop_heads": -0.0017487328023171878,
          "tosses": 276200
         },
         {
          "dev_num_heads": -481,
          "dev_prop_heads": -0.0017408613825551922,
          "tosses": 276300
         },
         {
          "dev_num_heads": -478,
          "dev_prop_heads": -0.0017293777134587685,
          "tosses": 276400
         },
         {
          "dev_num_heads": -487,
          "dev_prop_heads": -0.001761301989150088,
          "tosses": 276500
         },
         {
          "dev_num_heads": -484,
          "dev_prop_heads": -0.001749819233550276,
          "tosses": 276600
         },
         {
          "dev_num_heads": -491,
          "dev_prop_heads": -0.0017744850018069913,
          "tosses": 276700
         },
         {
          "dev_num_heads": -492,
          "dev_prop_heads": -0.0017774566473988673,
          "tosses": 276800
         },
         {
          "dev_num_heads": -486,
          "dev_prop_heads": -0.0017551462621885339,
          "tosses": 276900
         },
         {
          "dev_num_heads": -489,
          "dev_prop_heads": -0.001765342960288796,
          "tosses": 277000
         },
         {
          "dev_num_heads": -480,
          "dev_prop_heads": -0.0017322266329845015,
          "tosses": 277100
         },
         {
          "dev_num_heads": -487,
          "dev_prop_heads": -0.0017568542568542345,
          "tosses": 277200
         },
         {
          "dev_num_heads": -482,
          "dev_prop_heads": -0.001738189686260383,
          "tosses": 277300
         },
         {
          "dev_num_heads": -476,
          "dev_prop_heads": -0.0017159336697908922,
          "tosses": 277400
         },
         {
          "dev_num_heads": -470,
          "dev_prop_heads": -0.0016936936936937097,
          "tosses": 277500
         },
         {
          "dev_num_heads": -471,
          "dev_prop_heads": -0.001696685878962545,
          "tosses": 277600
         },
         {
          "dev_num_heads": -471,
          "dev_prop_heads": -0.0016960749009722886,
          "tosses": 277700
         },
         {
          "dev_num_heads": -473,
          "dev_prop_heads": -0.0017026637868970407,
          "tosses": 277800
         },
         {
          "dev_num_heads": -472,
          "dev_prop_heads": -0.001698452680820417,
          "tosses": 277900
         },
         {
          "dev_num_heads": -471,
          "dev_prop_heads": -0.0016942446043165527,
          "tosses": 278000
         },
         {
          "dev_num_heads": -475,
          "dev_prop_heads": -0.0017080186983099432,
          "tosses": 278100
         },
         {
          "dev_num_heads": -472,
          "dev_prop_heads": -0.0016966211358734884,
          "tosses": 278200
         },
         {
          "dev_num_heads": -470,
          "dev_prop_heads": -0.001688825008983097,
          "tosses": 278300
         },
         {
          "dev_num_heads": -476,
          "dev_prop_heads": -0.0017097701149425548,
          "tosses": 278400
         },
         {
          "dev_num_heads": -471,
          "dev_prop_heads": -0.0016912028725314388,
          "tosses": 278500
         },
         {
          "dev_num_heads": -473,
          "dev_prop_heads": -0.001697774587221812,
          "tosses": 278600
         },
         {
          "dev_num_heads": -471,
          "dev_prop_heads": -0.001689989235737377,
          "tosses": 278700
         },
         {
          "dev_num_heads": -469,
          "dev_prop_heads": -0.0016822094691535394,
          "tosses": 278800
         },
         {
          "dev_num_heads": -469,
          "dev_prop_heads": -0.0016816063105055679,
          "tosses": 278900
         },
         {
          "dev_num_heads": -472,
          "dev_prop_heads": -0.0016917562724014235,
          "tosses": 279000
         },
         {
          "dev_num_heads": -471,
          "dev_prop_heads": -0.001687567180222116,
          "tosses": 279100
         },
         {
          "dev_num_heads": -472,
          "dev_prop_heads": -0.0016905444126074642,
          "tosses": 279200
         },
         {
          "dev_num_heads": -472,
          "dev_prop_heads": -0.0016899391335481462,
          "tosses": 279300
         },
         {
          "dev_num_heads": -476,
          "dev_prop_heads": -0.0017036506800286455,
          "tosses": 279400
         },
         {
          "dev_num_heads": -486,
          "dev_prop_heads": -0.0017388193202146907,
          "tosses": 279500
         },
         {
          "dev_num_heads": -486,
          "dev_prop_heads": -0.001738197424892729,
          "tosses": 279600
         },
         {
          "dev_num_heads": -488,
          "dev_prop_heads": -0.0017447264926707118,
          "tosses": 279700
         },
         {
          "dev_num_heads": -501,
          "dev_prop_heads": -0.001790564689063634,
          "tosses": 279800
         },
         {
          "dev_num_heads": -509,
          "dev_prop_heads": -0.0018185066095033897,
          "tosses": 279900
         },
         {
          "dev_num_heads": -503,
          "dev_prop_heads": -0.0017964285714285877,
          "tosses": 280000
         },
         {
          "dev_num_heads": -491,
          "dev_prop_heads": -0.001752945376651216,
          "tosses": 280100
         },
         {
          "dev_num_heads": -487,
          "dev_prop_heads": -0.0017380442541042318,
          "tosses": 280200
         },
         {
          "dev_num_heads": -481,
          "dev_prop_heads": -0.001716018551551901,
          "tosses": 280300
         },
         {
          "dev_num_heads": -475,
          "dev_prop_heads": -0.0016940085592011545,
          "tosses": 280400
         },
         {
          "dev_num_heads": -479,
          "dev_prop_heads": -0.0017076648841354847,
          "tosses": 280500
         },
         {
          "dev_num_heads": -477,
          "dev_prop_heads": -0.001699928724162525,
          "tosses": 280600
         },
         {
          "dev_num_heads": -480,
          "dev_prop_heads": -0.0017100106875668208,
          "tosses": 280700
         },
         {
          "dev_num_heads": -474,
          "dev_prop_heads": -0.0016880341880342042,
          "tosses": 280800
         },
         {
          "dev_num_heads": -471,
          "dev_prop_heads": -0.0016767532929868323,
          "tosses": 280900
         },
         {
          "dev_num_heads": -475,
          "dev_prop_heads": -0.001690391459074736,
          "tosses": 281000
         },
         {
          "dev_num_heads": -475,
          "dev_prop_heads": -0.0016897901102810309,
          "tosses": 281100
         },
         {
          "dev_num_heads": -477,
          "dev_prop_heads": -0.0016963015647226132,
          "tosses": 281200
         },
         {
          "dev_num_heads": -481,
          "dev_prop_heads": -0.0017099182367579235,
          "tosses": 281300
         },
         {
          "dev_num_heads": -487,
          "dev_prop_heads": -0.0017306325515280552,
          "tosses": 281400
         },
         {
          "dev_num_heads": -486,
          "dev_prop_heads": -0.0017264653641207994,
          "tosses": 281500
         },
         {
          "dev_num_heads": -487,
          "dev_prop_heads": -0.0017294034090908905,
          "tosses": 281600
         },
         {
          "dev_num_heads": -489,
          "dev_prop_heads": -0.001735889243876465,
          "tosses": 281700
         },
         {
          "dev_num_heads": -489,
          "dev_prop_heads": -0.001735273243435087,
          "tosses": 281800
         },
         {
          "dev_num_heads": -485,
          "dev_prop_heads": -0.0017204682511529068,
          "tosses": 281900
         },
         {
          "dev_num_heads": -476,
          "dev_prop_heads": -0.00168794326241134,
          "tosses": 282000
         },
         {
          "dev_num_heads": -468,
          "dev_prop_heads": -0.001658986175115229,
          "tosses": 282100
         },
         {
          "dev_num_heads": -469,
          "dev_prop_heads": -0.001661941885187812,
          "tosses": 282200
         },
         {
          "dev_num_heads": -470,
          "dev_prop_heads": -0.001664895501239827,
          "tosses": 282300
         },
         {
          "dev_num_heads": -472,
          "dev_prop_heads": -0.001671388101983029,
          "tosses": 282400
         },
         {
          "dev_num_heads": -475,
          "dev_prop_heads": -0.0016814159292035669,
          "tosses": 282500
         },
         {
          "dev_num_heads": -475,
          "dev_prop_heads": -0.0016808209483368808,
          "tosses": 282600
         },
         {
          "dev_num_heads": -481,
          "dev_prop_heads": -0.0017014503006720916,
          "tosses": 282700
         },
         {
          "dev_num_heads": -475,
          "dev_prop_heads": -0.001679632248939189,
          "tosses": 282800
         },
         {
          "dev_num_heads": -472,
          "dev_prop_heads": -0.0016684340756450977,
          "tosses": 282900
         },
         {
          "dev_num_heads": -476,
          "dev_prop_heads": -0.0016819787985865586,
          "tosses": 283000
         },
         {
          "dev_num_heads": -473,
          "dev_prop_heads": -0.0016707877075238242,
          "tosses": 283100
         },
         {
          "dev_num_heads": -471,
          "dev_prop_heads": -0.001663135593220344,
          "tosses": 283200
         },
         {
          "dev_num_heads": -471,
          "dev_prop_heads": -0.0016625485351217661,
          "tosses": 283300
         },
         {
          "dev_num_heads": -476,
          "dev_prop_heads": -0.0016796047988708596,
          "tosses": 283400
         },
         {
          "dev_num_heads": -476,
          "dev_prop_heads": -0.0016790123456790207,
          "tosses": 283500
         },
         {
          "dev_num_heads": -480,
          "dev_prop_heads": -0.0016925246826516305,
          "tosses": 283600
         },
         {
          "dev_num_heads": -486,
          "dev_prop_heads": -0.001713077194219259,
          "tosses": 283700
         },
         {
          "dev_num_heads": -488,
          "dev_prop_heads": -0.0017195207892882203,
          "tosses": 283800
         },
         {
          "dev_num_heads": -482,
          "dev_prop_heads": -0.0016977809087707074,
          "tosses": 283900
         },
         {
          "dev_num_heads": -480,
          "dev_prop_heads": -0.0016901408450704092,
          "tosses": 284000
         },
         {
          "dev_num_heads": -482,
          "dev_prop_heads": -0.0016965857092572922,
          "tosses": 284100
         },
         {
          "dev_num_heads": -483,
          "dev_prop_heads": -0.00169950738916258,
          "tosses": 284200
         },
         {
          "dev_num_heads": -485,
          "dev_prop_heads": -0.001705944424903294,
          "tosses": 284300
         },
         {
          "dev_num_heads": -489,
          "dev_prop_heads": -0.0017194092827004237,
          "tosses": 284400
         },
         {
          "dev_num_heads": -485,
          "dev_prop_heads": -0.0017047451669595648,
          "tosses": 284500
         },
         {
          "dev_num_heads": -487,
          "dev_prop_heads": -0.001711173576950109,
          "tosses": 284600
         },
         {
          "dev_num_heads": -492,
          "dev_prop_heads": -0.001728134878819787,
          "tosses": 284700
         },
         {
          "dev_num_heads": -498,
          "dev_prop_heads": -0.0017485955056179558,
          "tosses": 284800
         },
         {
          "dev_num_heads": -497,
          "dev_prop_heads": -0.0017444717444717317,
          "tosses": 284900
         },
         {
          "dev_num_heads": -494,
          "dev_prop_heads": -0.001733333333333309,
          "tosses": 285000
         },
         {
          "dev_num_heads": -485,
          "dev_prop_heads": -0.001701157488600502,
          "tosses": 285100
         },
         {
          "dev_num_heads": -487,
          "dev_prop_heads": -0.0017075736325385948,
          "tosses": 285200
         },
         {
          "dev_num_heads": -488,
          "dev_prop_heads": -0.001710480196284614,
          "tosses": 285300
         },
         {
          "dev_num_heads": -489,
          "dev_prop_heads": -0.001713384723195488,
          "tosses": 285400
         },
         {
          "dev_num_heads": -495,
          "dev_prop_heads": -0.0017338003502627153,
          "tosses": 285500
         },
         {
          "dev_num_heads": -506,
          "dev_prop_heads": -0.001771708683473372,
          "tosses": 285600
         },
         {
          "dev_num_heads": -503,
          "dev_prop_heads": -0.0017605880294014886,
          "tosses": 285700
         },
         {
          "dev_num_heads": -511,
          "dev_prop_heads": -0.0017879636109167096,
          "tosses": 285800
         },
         {
          "dev_num_heads": -511,
          "dev_prop_heads": -0.001787338230150426,
          "tosses": 285900
         },
         {
          "dev_num_heads": -515,
          "dev_prop_heads": -0.0018006993006993155,
          "tosses": 286000
         },
         {
          "dev_num_heads": -512,
          "dev_prop_heads": -0.001789584061516969,
          "tosses": 286100
         },
         {
          "dev_num_heads": -512,
          "dev_prop_heads": -0.0017889587700908316,
          "tosses": 286200
         },
         {
          "dev_num_heads": -510,
          "dev_prop_heads": -0.001781348236115976,
          "tosses": 286300
         },
         {
          "dev_num_heads": -511,
          "dev_prop_heads": -0.0017842178770949846,
          "tosses": 286400
         },
         {
          "dev_num_heads": -509,
          "dev_prop_heads": -0.001776614310645741,
          "tosses": 286500
         },
         {
          "dev_num_heads": -512,
          "dev_prop_heads": -0.0017864619678994997,
          "tosses": 286600
         },
         {
          "dev_num_heads": -515,
          "dev_prop_heads": -0.0017963027554935285,
          "tosses": 286700
         },
         {
          "dev_num_heads": -517,
          "dev_prop_heads": -0.0018026499302649657,
          "tosses": 286800
         },
         {
          "dev_num_heads": -523,
          "dev_prop_heads": -0.001822934820494948,
          "tosses": 286900
         },
         {
          "dev_num_heads": -519,
          "dev_prop_heads": -0.001808362369337957,
          "tosses": 287000
         },
         {
          "dev_num_heads": -523,
          "dev_prop_heads": -0.0018216649251132089,
          "tosses": 287100
         },
         {
          "dev_num_heads": -520,
          "dev_prop_heads": -0.0018105849582172873,
          "tosses": 287200
         },
         {
          "dev_num_heads": -518,
          "dev_prop_heads": -0.0018029933867038106,
          "tosses": 287300
         },
         {
          "dev_num_heads": -528,
          "dev_prop_heads": -0.0018371607515657584,
          "tosses": 287400
         },
         {
          "dev_num_heads": -528,
          "dev_prop_heads": -0.001836521739130459,
          "tosses": 287500
         },
         {
          "dev_num_heads": -521,
          "dev_prop_heads": -0.001811543810848415,
          "tosses": 287600
         },
         {
          "dev_num_heads": -521,
          "dev_prop_heads": -0.0018109141466805534,
          "tosses": 287700
         },
         {
          "dev_num_heads": -517,
          "dev_prop_heads": -0.0017963863794301371,
          "tosses": 287800
         },
         {
          "dev_num_heads": -521,
          "dev_prop_heads": -0.0018096561306009118,
          "tosses": 287900
         },
         {
          "dev_num_heads": -521,
          "dev_prop_heads": -0.0018090277777778052,
          "tosses": 288000
         },
         {
          "dev_num_heads": -524,
          "dev_prop_heads": -0.0018188129121832763,
          "tosses": 288100
         },
         {
          "dev_num_heads": -519,
          "dev_prop_heads": -0.0018008327550312342,
          "tosses": 288200
         },
         {
          "dev_num_heads": -513,
          "dev_prop_heads": -0.0017793964620187452,
          "tosses": 288300
         },
         {
          "dev_num_heads": -501,
          "dev_prop_heads": -0.0017371705963938888,
          "tosses": 288400
         },
         {
          "dev_num_heads": -505,
          "dev_prop_heads": -0.0017504332755632346,
          "tosses": 288500
         },
         {
          "dev_num_heads": -507,
          "dev_prop_heads": -0.0017567567567567388,
          "tosses": 288600
         },
         {
          "dev_num_heads": -507,
          "dev_prop_heads": -0.0017561482507793547,
          "tosses": 288700
         },
         {
          "dev_num_heads": -504,
          "dev_prop_heads": -0.0017451523545706227,
          "tosses": 288800
         },
         {
          "dev_num_heads": -499,
          "dev_prop_heads": -0.0017272412599515508,
          "tosses": 288900
         },
         {
          "dev_num_heads": -498,
          "dev_prop_heads": -0.0017231833910034688,
          "tosses": 289000
         },
         {
          "dev_num_heads": -498,
          "dev_prop_heads": -0.0017225873400207314,
          "tosses": 289100
         },
         {
          "dev_num_heads": -504,
          "dev_prop_heads": -0.0017427385892116454,
          "tosses": 289200
         },
         {
          "dev_num_heads": -508,
          "dev_prop_heads": -0.0017559626685101914,
          "tosses": 289300
         },
         {
          "dev_num_heads": -513,
          "dev_prop_heads": -0.001772633033863158,
          "tosses": 289400
         },
         {
          "dev_num_heads": -512,
          "dev_prop_heads": -0.0017685664939550705,
          "tosses": 289500
         },
         {
          "dev_num_heads": -510,
          "dev_prop_heads": -0.0017610497237569023,
          "tosses": 289600
         },
         {
          "dev_num_heads": -527,
          "dev_prop_heads": -0.0018191232309285321,
          "tosses": 289700
         },
         {
          "dev_num_heads": -534,
          "dev_prop_heads": -0.001842650103519694,
          "tosses": 289800
         },
         {
          "dev_num_heads": -539,
          "dev_prop_heads": -0.0018592618144187556,
          "tosses": 289900
         },
         {
          "dev_num_heads": -534,
          "dev_prop_heads": -0.0018413793103448373,
          "tosses": 290000
         },
         {
          "dev_num_heads": -529,
          "dev_prop_heads": -0.0018235091347811316,
          "tosses": 290100
         },
         {
          "dev_num_heads": -526,
          "dev_prop_heads": -0.0018125430737422343,
          "tosses": 290200
         },
         {
          "dev_num_heads": -528,
          "dev_prop_heads": -0.0018188081295211767,
          "tosses": 290300
         },
         {
          "dev_num_heads": -520,
          "dev_prop_heads": -0.0017906336088154284,
          "tosses": 290400
         },
         {
          "dev_num_heads": -511,
          "dev_prop_heads": -0.001759036144578341,
          "tosses": 290500
         },
         {
          "dev_num_heads": -510,
          "dev_prop_heads": -0.0017549896765313155,
          "tosses": 290600
         },
         {
          "dev_num_heads": -516,
          "dev_prop_heads": -0.0017750257997936059,
          "tosses": 290700
         },
         {
          "dev_num_heads": -513,
          "dev_prop_heads": -0.001764099037138922,
          "tosses": 290800
         },
         {
          "dev_num_heads": -517,
          "dev_prop_heads": -0.0017772430388449667,
          "tosses": 290900
         },
         {
          "dev_num_heads": -520,
          "dev_prop_heads": -0.0017869415807560407,
          "tosses": 291000
         },
         {
          "dev_num_heads": -521,
          "dev_prop_heads": -0.001789762968052222,
          "tosses": 291100
         },
         {
          "dev_num_heads": -516,
          "dev_prop_heads": -0.0017719780219780379,
          "tosses": 291200
         },
         {
          "dev_num_heads": -515,
          "dev_prop_heads": -0.0017679368348781366,
          "tosses": 291300
         },
         {
          "dev_num_heads": -518,
          "dev_prop_heads": -0.0017776252573781792,
          "tosses": 291400
         },
         {
          "dev_num_heads": -504,
          "dev_prop_heads": -0.0017289879931389196,
          "tosses": 291500
         },
         {
          "dev_num_heads": -503,
          "dev_prop_heads": -0.0017249657064472013,
          "tosses": 291600
         },
         {
          "dev_num_heads": -501,
          "dev_prop_heads": -0.0017175179979431188,
          "tosses": 291700
         },
         {
          "dev_num_heads": -506,
          "dev_prop_heads": -0.0017340644276901962,
          "tosses": 291800
         },
         {
          "dev_num_heads": -503,
          "dev_prop_heads": -0.0017231928742720282,
          "tosses": 291900
         },
         {
          "dev_num_heads": -500,
          "dev_prop_heads": -0.0017123287671232945,
          "tosses": 292000
         },
         {
          "dev_num_heads": -502,
          "dev_prop_heads": -0.0017185895241355609,
          "tosses": 292100
         },
         {
          "dev_num_heads": -510,
          "dev_prop_heads": -0.0017453798767967377,
          "tosses": 292200
         },
         {
          "dev_num_heads": -512,
          "dev_prop_heads": -0.001751625042764271,
          "tosses": 292300
         },
         {
          "dev_num_heads": -514,
          "dev_prop_heads": -0.0017578659370725003,
          "tosses": 292400
         },
         {
          "dev_num_heads": -514,
          "dev_prop_heads": -0.0017572649572649701,
          "tosses": 292500
         },
         {
          "dev_num_heads": -520,
          "dev_prop_heads": -0.0017771701982228216,
          "tosses": 292600
         },
         {
          "dev_num_heads": -519,
          "dev_prop_heads": -0.0017731465664502788,
          "tosses": 292700
         },
         {
          "dev_num_heads": -528,
          "dev_prop_heads": -0.00180327868852459,
          "tosses": 292800
         },
         {
          "dev_num_heads": -527,
          "dev_prop_heads": -0.0017992488904062798,
          "tosses": 292900
         },
         {
          "dev_num_heads": -531,
          "dev_prop_heads": -0.0018122866894197953,
          "tosses": 293000
         },
         {
          "dev_num_heads": -538,
          "dev_prop_heads": -0.0018355510064824165,
          "tosses": 293100
         },
         {
          "dev_num_heads": -525,
          "dev_prop_heads": -0.0017905866302864726,
          "tosses": 293200
         },
         {
          "dev_num_heads": -531,
          "dev_prop_heads": -0.0018104330037504446,
          "tosses": 293300
         },
         {
          "dev_num_heads": -533,
          "dev_prop_heads": -0.00181663258350373,
          "tosses": 293400
         },
         {
          "dev_num_heads": -526,
          "dev_prop_heads": -0.0017921635434412497,
          "tosses": 293500
         },
         {
          "dev_num_heads": -530,
          "dev_prop_heads": -0.001805177111716627,
          "tosses": 293600
         },
         {
          "dev_num_heads": -526,
          "dev_prop_heads": -0.0017909431392577613,
          "tosses": 293700
         },
         {
          "dev_num_heads": -530,
          "dev_prop_heads": -0.0018039482641252769,
          "tosses": 293800
         },
         {
          "dev_num_heads": -534,
          "dev_prop_heads": -0.001816944538958809,
          "tosses": 293900
         },
         {
          "dev_num_heads": -533,
          "dev_prop_heads": -0.001812925170068036,
          "tosses": 294000
         },
         {
          "dev_num_heads": -536,
          "dev_prop_heads": -0.0018225093505610523,
          "tosses": 294100
         },
         {
          "dev_num_heads": -528,
          "dev_prop_heads": -0.0017946974847042885,
          "tosses": 294200
         },
         {
          "dev_num_heads": -538,
          "dev_prop_heads": -0.0018280665987088218,
          "tosses": 294300
         },
         {
          "dev_num_heads": -530,
          "dev_prop_heads": -0.0018002717391304435,
          "tosses": 294400
         },
         {
          "dev_num_heads": -528,
          "dev_prop_heads": -0.0017928692699490933,
          "tosses": 294500
         },
         {
          "dev_num_heads": -531,
          "dev_prop_heads": -0.0018024439918533641,
          "tosses": 294600
         },
         {
          "dev_num_heads": -528,
          "dev_prop_heads": -0.0017916525279945694,
          "tosses": 294700
         },
         {
          "dev_num_heads": -523,
          "dev_prop_heads": -0.0017740841248303774,
          "tosses": 294800
         },
         {
          "dev_num_heads": -531,
          "dev_prop_heads": -0.0018006103763987813,
          "tosses": 294900
         },
         {
          "dev_num_heads": -533,
          "dev_prop_heads": -0.001806779661016944,
          "tosses": 295000
         },
         {
          "dev_num_heads": -538,
          "dev_prop_heads": -0.0018231108098949456,
          "tosses": 295100
         },
         {
          "dev_num_heads": -539,
          "dev_prop_heads": -0.0018258807588075743,
          "tosses": 295200
         },
         {
          "dev_num_heads": -531,
          "dev_prop_heads": -0.0017981713511682762,
          "tosses": 295300
         },
         {
          "dev_num_heads": -531,
          "dev_prop_heads": -0.001797562626946525,
          "tosses": 295400
         },
         {
          "dev_num_heads": -531,
          "dev_prop_heads": -0.0017969543147208222,
          "tosses": 295500
         },
         {
          "dev_num_heads": -534,
          "dev_prop_heads": -0.0018064952638701115,
          "tosses": 295600
         },
         {
          "dev_num_heads": -527,
          "dev_prop_heads": -0.001782211701048364,
          "tosses": 295700
         },
         {
          "dev_num_heads": -532,
          "dev_prop_heads": -0.001798512508451644,
          "tosses": 295800
         },
         {
          "dev_num_heads": -534,
          "dev_prop_heads": -0.0018046637377492347,
          "tosses": 295900
         },
         {
          "dev_num_heads": -528,
          "dev_prop_heads": -0.0017837837837837989,
          "tosses": 296000
         },
         {
          "dev_num_heads": -534,
          "dev_prop_heads": -0.0018034447821682065,
          "tosses": 296100
         },
         {
          "dev_num_heads": -534,
          "dev_prop_heads": -0.0018028359216745171,
          "tosses": 296200
         },
         {
          "dev_num_heads": -527,
          "dev_prop_heads": -0.001778602767465387,
          "tosses": 296300
         },
         {
          "dev_num_heads": -530,
          "dev_prop_heads": -0.0017881241565452233,
          "tosses": 296400
         },
         {
          "dev_num_heads": -535,
          "dev_prop_heads": -0.0018043844856661106,
          "tosses": 296500
         },
         {
          "dev_num_heads": -535,
          "dev_prop_heads": -0.001803776129467305,
          "tosses": 296600
         },
         {
          "dev_num_heads": -535,
          "dev_prop_heads": -0.00180316818335019,
          "tosses": 296700
         },
         {
          "dev_num_heads": -538,
          "dev_prop_heads": -0.0018126684636118329,
          "tosses": 296800
         },
         {
          "dev_num_heads": -541,
          "dev_prop_heads": -0.0018221623442236656,
          "tosses": 296900
         },
         {
          "dev_num_heads": -540,
          "dev_prop_heads": -0.0018181818181818299,
          "tosses": 297000
         },
         {
          "dev_num_heads": -545,
          "dev_prop_heads": -0.001834399192191194,
          "tosses": 297100
         },
         {
          "dev_num_heads": -535,
          "dev_prop_heads": -0.0018001345895020116,
          "tosses": 297200
         },
         {
          "dev_num_heads": -534,
          "dev_prop_heads": -0.0017961654894046442,
          "tosses": 297300
         },
         {
          "dev_num_heads": -534,
          "dev_prop_heads": -0.0017955615332885255,
          "tosses": 297400
         },
         {
          "dev_num_heads": -533,
          "dev_prop_heads": -0.0017915966386554683,
          "tosses": 297500
         },
         {
          "dev_num_heads": -535,
          "dev_prop_heads": -0.0017977150537634157,
          "tosses": 297600
         },
         {
          "dev_num_heads": -543,
          "dev_prop_heads": -0.0018239838763856042,
          "tosses": 297700
         },
         {
          "dev_num_heads": -535,
          "dev_prop_heads": -0.0017965077233042526,
          "tosses": 297800
         },
         {
          "dev_num_heads": -537,
          "dev_prop_heads": -0.001802618328298089,
          "tosses": 297900
         },
         {
          "dev_num_heads": -539,
          "dev_prop_heads": -0.0018087248322147809,
          "tosses": 298000
         },
         {
          "dev_num_heads": -538,
          "dev_prop_heads": -0.001804763502180451,
          "tosses": 298100
         },
         {
          "dev_num_heads": -530,
          "dev_prop_heads": -0.0017773306505700637,
          "tosses": 298200
         },
         {
          "dev_num_heads": -527,
          "dev_prop_heads": -0.0017666778410995732,
          "tosses": 298300
         },
         {
          "dev_num_heads": -525,
          "dev_prop_heads": -0.0017593833780160661,
          "tosses": 298400
         },
         {
          "dev_num_heads": -530,
          "dev_prop_heads": -0.0017755443886097177,
          "tosses": 298500
         },
         {
          "dev_num_heads": -527,
          "dev_prop_heads": -0.0017649028801071664,
          "tosses": 298600
         },
         {
          "dev_num_heads": -524,
          "dev_prop_heads": -0.0017542684968195332,
          "tosses": 298700
         },
         {
          "dev_num_heads": -519,
          "dev_prop_heads": -0.001736947791164678,
          "tosses": 298800
         },
         {
          "dev_num_heads": -521,
          "dev_prop_heads": -0.001743057878889287,
          "tosses": 298900
         },
         {
          "dev_num_heads": -524,
          "dev_prop_heads": -0.0017525083612039971,
          "tosses": 299000
         },
         {
          "dev_num_heads": -525,
          "dev_prop_heads": -0.0017552657973921582,
          "tosses": 299100
         },
         {
          "dev_num_heads": -518,
          "dev_prop_heads": -0.0017312834224598728,
          "tosses": 299200
         },
         {
          "dev_num_heads": -523,
          "dev_prop_heads": -0.001747410624791168,
          "tosses": 299300
         },
         {
          "dev_num_heads": -532,
          "dev_prop_heads": -0.0017768871075484194,
          "tosses": 299400
         },
         {
          "dev_num_heads": -529,
          "dev_prop_heads": -0.0017662771285475998,
          "tosses": 299500
         },
         {
          "dev_num_heads": -537,
          "dev_prop_heads": -0.0017923898531375104,
          "tosses": 299600
         },
         {
          "dev_num_heads": -535,
          "dev_prop_heads": -0.0017851184517851393,
          "tosses": 299700
         },
         {
          "dev_num_heads": -531,
          "dev_prop_heads": -0.001771180787191462,
          "tosses": 299800
         },
         {
          "dev_num_heads": -532,
          "dev_prop_heads": -0.0017739246415471865,
          "tosses": 299900
         },
         {
          "dev_num_heads": -536,
          "dev_prop_heads": -0.0017866666666666586,
          "tosses": 300000
         },
         {
          "dev_num_heads": -535,
          "dev_prop_heads": -0.0017827390869710191,
          "tosses": 300100
         },
         {
          "dev_num_heads": -542,
          "dev_prop_heads": -0.0018054630246502335,
          "tosses": 300200
         },
         {
          "dev_num_heads": -551,
          "dev_prop_heads": -0.0018348318348318515,
          "tosses": 300300
         },
         {
          "dev_num_heads": -548,
          "dev_prop_heads": -0.0018242343541944317,
          "tosses": 300400
         },
         {
          "dev_num_heads": -549,
          "dev_prop_heads": -0.0018269550748751806,
          "tosses": 300500
         },
         {
          "dev_num_heads": -548,
          "dev_prop_heads": -0.0018230206254158388,
          "tosses": 300600
         },
         {
          "dev_num_heads": -543,
          "dev_prop_heads": -0.0018057864981709248,
          "tosses": 300700
         },
         {
          "dev_num_heads": -549,
          "dev_prop_heads": -0.0018251329787233872,
          "tosses": 300800
         },
         {
          "dev_num_heads": -545,
          "dev_prop_heads": -0.0018112329677633654,
          "tosses": 300900
         },
         {
          "dev_num_heads": -545,
          "dev_prop_heads": -0.0018106312292358595,
          "tosses": 301000
         },
         {
          "dev_num_heads": -542,
          "dev_prop_heads": -0.0018000664231152541,
          "tosses": 301100
         },
         {
          "dev_num_heads": -533,
          "dev_prop_heads": -0.0017695883134130064,
          "tosses": 301200
         },
         {
          "dev_num_heads": -534,
          "dev_prop_heads": -0.0017723199468968054,
          "tosses": 301300
         },
         {
          "dev_num_heads": -531,
          "dev_prop_heads": -0.0017617783676177612,
          "tosses": 301400
         },
         {
          "dev_num_heads": -524,
          "dev_prop_heads": -0.0017379767827528925,
          "tosses": 301500
         },
         {
          "dev_num_heads": -529,
          "dev_prop_heads": -0.001753978779840848,
          "tosses": 301600
         },
         {
          "dev_num_heads": -527,
          "dev_prop_heads": -0.0017467683128936096,
          "tosses": 301700
         },
         {
          "dev_num_heads": -525,
          "dev_prop_heads": -0.0017395626242544537,
          "tosses": 301800
         },
         {
          "dev_num_heads": -523,
          "dev_prop_heads": -0.0017323617091752341,
          "tosses": 301900
         },
         {
          "dev_num_heads": -521,
          "dev_prop_heads": -0.0017251655629139107,
          "tosses": 302000
         },
         {
          "dev_num_heads": -519,
          "dev_prop_heads": -0.0017179741807348825,
          "tosses": 302100
         },
         {
          "dev_num_heads": -517,
          "dev_prop_heads": -0.0017107875579086551,
          "tosses": 302200
         },
         {
          "dev_num_heads": -521,
          "dev_prop_heads": -0.0017234535229904147,
          "tosses": 302300
         },
         {
          "dev_num_heads": -511,
          "dev_prop_heads": -0.0016898148148148384,
          "tosses": 302400
         },
         {
          "dev_num_heads": -504,
          "dev_prop_heads": -0.0016661157024793205,
          "tosses": 302500
         },
         {
          "dev_num_heads": -508,
          "dev_prop_heads": -0.0016787838730997762,
          "tosses": 302600
         },
         {
          "dev_num_heads": -510,
          "dev_prop_heads": -0.0016848364717542141,
          "tosses": 302700
         },
         {
          "dev_num_heads": -506,
          "dev_prop_heads": -0.001671070013210041,
          "tosses": 302800
         },
         {
          "dev_num_heads": -506,
          "dev_prop_heads": -0.0016705183228788445,
          "tosses": 302900
         },
         {
          "dev_num_heads": -507,
          "dev_prop_heads": -0.0016732673267326748,
          "tosses": 303000
         },
         {
          "dev_num_heads": -507,
          "dev_prop_heads": -0.0016727152754866248,
          "tosses": 303100
         },
         {
          "dev_num_heads": -505,
          "dev_prop_heads": -0.0016655672823219225,
          "tosses": 303200
         },
         {
          "dev_num_heads": -499,
          "dev_prop_heads": -0.0016452357401912088,
          "tosses": 303300
         },
         {
          "dev_num_heads": -492,
          "dev_prop_heads": -0.001621621621621605,
          "tosses": 303400
         },
         {
          "dev_num_heads": -505,
          "dev_prop_heads": -0.0016639209225700058,
          "tosses": 303500
         },
         {
          "dev_num_heads": -504,
          "dev_prop_heads": -0.0016600790513833785,
          "tosses": 303600
         },
         {
          "dev_num_heads": -498,
          "dev_prop_heads": -0.001639776094830403,
          "tosses": 303700
         },
         {
          "dev_num_heads": -490,
          "dev_prop_heads": -0.001612903225806428,
          "tosses": 303800
         },
         {
          "dev_num_heads": -486,
          "dev_prop_heads": -0.0015992102665350338,
          "tosses": 303900
         },
         {
          "dev_num_heads": -491,
          "dev_prop_heads": -0.001615131578947382,
          "tosses": 304000
         },
         {
          "dev_num_heads": -492,
          "dev_prop_heads": -0.0016178888523512014,
          "tosses": 304100
         },
         {
          "dev_num_heads": -490,
          "dev_prop_heads": -0.0016107823800131649,
          "tosses": 304200
         },
         {
          "dev_num_heads": -486,
          "dev_prop_heads": -0.0015971081169898205,
          "tosses": 304300
         },
         {
          "dev_num_heads": -484,
          "dev_prop_heads": -0.0015900131406044737,
          "tosses": 304400
         },
         {
          "dev_num_heads": -484,
          "dev_prop_heads": -0.0015894909688012882,
          "tosses": 304500
         },
         {
          "dev_num_heads": -484,
          "dev_prop_heads": -0.0015889691398555672,
          "tosses": 304600
         },
         {
          "dev_num_heads": -490,
          "dev_prop_heads": -0.0016081391532655198,
          "tosses": 304700
         },
         {
          "dev_num_heads": -488,
          "dev_prop_heads": -0.0016010498687664132,
          "tosses": 304800
         },
         {
          "dev_num_heads": -497,
          "dev_prop_heads": -0.001630042636930118,
          "tosses": 304900
         },
         {
          "dev_num_heads": -498,
          "dev_prop_heads": -0.0016327868852459293,
          "tosses": 305000
         },
         {
          "dev_num_heads": -502,
          "dev_prop_heads": -0.0016453621763356518,
          "tosses": 305100
         },
         {
          "dev_num_heads": -514,
          "dev_prop_heads": -0.0016841415465268517,
          "tosses": 305200
         },
         {
          "dev_num_heads": -508,
          "dev_prop_heads": -0.0016639371110383494,
          "tosses": 305300
         },
         {
          "dev_num_heads": -507,
          "dev_prop_heads": -0.0016601178781925352,
          "tosses": 305400
         },
         {
          "dev_num_heads": -507,
          "dev_prop_heads": -0.0016595744680851232,
          "tosses": 305500
         },
         {
          "dev_num_heads": -510,
          "dev_prop_heads": -0.0016688481675392608,
          "tosses": 305600
         },
         {
          "dev_num_heads": -512,
          "dev_prop_heads": -0.001674844618907434,
          "tosses": 305700
         },
         {
          "dev_num_heads": -511,
          "dev_prop_heads": -0.0016710268149117136,
          "tosses": 305800
         },
         {
          "dev_num_heads": -521,
          "dev_prop_heads": -0.0017031709709054987,
          "tosses": 305900
         },
         {
          "dev_num_heads": -519,
          "dev_prop_heads": -0.0016960784313725386,
          "tosses": 306000
         },
         {
          "dev_num_heads": -513,
          "dev_prop_heads": -0.0016759229010127608,
          "tosses": 306100
         },
         {
          "dev_num_heads": -517,
          "dev_prop_heads": -0.0016884389288047141,
          "tosses": 306200
         },
         {
          "dev_num_heads": -511,
          "dev_prop_heads": -0.0016682990532158049,
          "tosses": 306300
         },
         {
          "dev_num_heads": -516,
          "dev_prop_heads": -0.0016840731070495996,
          "tosses": 306400
         },
         {
          "dev_num_heads": -515,
          "dev_prop_heads": -0.0016802610114192706,
          "tosses": 306500
         },
         {
          "dev_num_heads": -516,
          "dev_prop_heads": -0.0016829745596869117,
          "tosses": 306600
         },
         {
          "dev_num_heads": -511,
          "dev_prop_heads": -0.001666123247473117,
          "tosses": 306700
         },
         {
          "dev_num_heads": -513,
          "dev_prop_heads": -0.0016720990873533292,
          "tosses": 306800
         },
         {
          "dev_num_heads": -523,
          "dev_prop_heads": -0.0017041381557510449,
          "tosses": 306900
         },
         {
          "dev_num_heads": -517,
          "dev_prop_heads": -0.0016840390879478973,
          "tosses": 307000
         },
         {
          "dev_num_heads": -509,
          "dev_prop_heads": -0.0016574405731032416,
          "tosses": 307100
         },
         {
          "dev_num_heads": -507,
          "dev_prop_heads": -0.0016503906249999978,
          "tosses": 307200
         },
         {
          "dev_num_heads": -505,
          "dev_prop_heads": -0.0016433452652131475,
          "tosses": 307300
         },
         {
          "dev_num_heads": -504,
          "dev_prop_heads": -0.00163955757970069,
          "tosses": 307400
         },
         {
          "dev_num_heads": -500,
          "dev_prop_heads": -0.0016260162601626216,
          "tosses": 307500
         },
         {
          "dev_num_heads": -498,
          "dev_prop_heads": -0.00161898569570873,
          "tosses": 307600
         },
         {
          "dev_num_heads": -489,
          "dev_prop_heads": -0.0015892102697432353,
          "tosses": 307700
         },
         {
          "dev_num_heads": -491,
          "dev_prop_heads": -0.0015951916829110013,
          "tosses": 307800
         },
         {
          "dev_num_heads": -489,
          "dev_prop_heads": -0.001588177979863603,
          "tosses": 307900
         },
         {
          "dev_num_heads": -484,
          "dev_prop_heads": -0.001571428571428557,
          "tosses": 308000
         },
         {
          "dev_num_heads": -489,
          "dev_prop_heads": -0.0015871470301850321,
          "tosses": 308100
         },
         {
          "dev_num_heads": -481,
          "dev_prop_heads": -0.001560674886437352,
          "tosses": 308200
         },
         {
          "dev_num_heads": -480,
          "dev_prop_heads": -0.001556925072980886,
          "tosses": 308300
         },
         {
          "dev_num_heads": -477,
          "dev_prop_heads": -0.0015466926070039078,
          "tosses": 308400
         },
         {
          "dev_num_heads": -482,
          "dev_prop_heads": -0.001562398703403578,
          "tosses": 308500
         },
         {
          "dev_num_heads": -491,
          "dev_prop_heads": -0.001591056383668188,
          "tosses": 308600
         },
         {
          "dev_num_heads": -484,
          "dev_prop_heads": -0.0015678652413346206,
          "tosses": 308700
         },
         {
          "dev_num_heads": -487,
          "dev_prop_heads": -0.0015770725388600804,
          "tosses": 308800
         },
         {
          "dev_num_heads": -492,
          "dev_prop_heads": -0.0015927484622855204,
          "tosses": 308900
         },
         {
          "dev_num_heads": -493,
          "dev_prop_heads": -0.0015954692556634509,
          "tosses": 309000
         },
         {
          "dev_num_heads": -497,
          "dev_prop_heads": -0.0016078938854739433,
          "tosses": 309100
         },
         {
          "dev_num_heads": -498,
          "dev_prop_heads": -0.0016106080206985673,
          "tosses": 309200
         },
         {
          "dev_num_heads": -498,
          "dev_prop_heads": -0.0016100872938894506,
          "tosses": 309300
         },
         {
          "dev_num_heads": -495,
          "dev_prop_heads": -0.0015998707175177707,
          "tosses": 309400
         },
         {
          "dev_num_heads": -505,
          "dev_prop_heads": -0.0016316639741518757,
          "tosses": 309500
         },
         {
          "dev_num_heads": -503,
          "dev_prop_heads": -0.0016246770025839519,
          "tosses": 309600
         },
         {
          "dev_num_heads": -502,
          "dev_prop_heads": -0.001620923474330016,
          "tosses": 309700
         },
         {
          "dev_num_heads": -504,
          "dev_prop_heads": -0.0016268560361523687,
          "tosses": 309800
         },
         {
          "dev_num_heads": -503,
          "dev_prop_heads": -0.0016231042271700469,
          "tosses": 309900
         },
         {
          "dev_num_heads": -501,
          "dev_prop_heads": -0.0016161290322580513,
          "tosses": 310000
         },
         {
          "dev_num_heads": -501,
          "dev_prop_heads": -0.0016156078684295139,
          "tosses": 310100
         },
         {
          "dev_num_heads": -508,
          "dev_prop_heads": -0.0016376531270148043,
          "tosses": 310200
         },
         {
          "dev_num_heads": -510,
          "dev_prop_heads": -0.0016435707379954811,
          "tosses": 310300
         },
         {
          "dev_num_heads": -512,
          "dev_prop_heads": -0.0016494845360824906,
          "tosses": 310400
         },
         {
          "dev_num_heads": -501,
          "dev_prop_heads": -0.0016135265700483181,
          "tosses": 310500
         },
         {
          "dev_num_heads": -499,
          "dev_prop_heads": -0.0016065679330328209,
          "tosses": 310600
         },
         {
          "dev_num_heads": -494,
          "dev_prop_heads": -0.001589958158995819,
          "tosses": 310700
         },
         {
          "dev_num_heads": -492,
          "dev_prop_heads": -0.0015830115830116065,
          "tosses": 310800
         },
         {
          "dev_num_heads": -499,
          "dev_prop_heads": -0.0016050176905757496,
          "tosses": 310900
         },
         {
          "dev_num_heads": -489,
          "dev_prop_heads": -0.0015723472668810468,
          "tosses": 311000
         },
         {
          "dev_num_heads": -485,
          "dev_prop_heads": -0.0015589842494374562,
          "tosses": 311100
         },
         {
          "dev_num_heads": -482,
          "dev_prop_heads": -0.0015488431876606867,
          "tosses": 311200
         },
         {
          "dev_num_heads": -486,
          "dev_prop_heads": -0.0015611949887568422,
          "tosses": 311300
         },
         {
          "dev_num_heads": -482,
          "dev_prop_heads": -0.0015478484264611625,
          "tosses": 311400
         },
         {
          "dev_num_heads": -474,
          "dev_prop_heads": -0.0015216693418940719,
          "tosses": 311500
         },
         {
          "dev_num_heads": -467,
          "dev_prop_heads": -0.0014987163029525075,
          "tosses": 311600
         },
         {
          "dev_num_heads": -471,
          "dev_prop_heads": -0.0015110683349374154,
          "tosses": 311700
         },
         {
          "dev_num_heads": -467,
          "dev_prop_heads": -0.0014977549711353566,
          "tosses": 311800
         },
         {
          "dev_num_heads": -468,
          "dev_prop_heads": -0.0015004809233728489,
          "tosses": 311900
         },
         {
          "dev_num_heads": -467,
          "dev_prop_heads": -0.001496794871794882,
          "tosses": 312000
         },
         {
          "dev_num_heads": -464,
          "dev_prop_heads": -0.0014867029798141806,
          "tosses": 312100
         },
         {
          "dev_num_heads": -467,
          "dev_prop_heads": -0.0014958360025624784,
          "tosses": 312200
         },
         {
          "dev_num_heads": -470,
          "dev_prop_heads": -0.0015049631764328941,
          "tosses": 312300
         },
         {
          "dev_num_heads": -469,
          "dev_prop_heads": -0.0015012804097311316,
          "tosses": 312400
         },
         {
          "dev_num_heads": -477,
          "dev_prop_heads": -0.0015263999999999833,
          "tosses": 312500
         },
         {
          "dev_num_heads": -480,
          "dev_prop_heads": -0.0015355086372360605,
          "tosses": 312600
         },
         {
          "dev_num_heads": -478,
          "dev_prop_heads": -0.001528621682123421,
          "tosses": 312700
         },
         {
          "dev_num_heads": -471,
          "dev_prop_heads": -0.0015057544757033359,
          "tosses": 312800
         },
         {
          "dev_num_heads": -475,
          "dev_prop_heads": -0.0015180568871844269,
          "tosses": 312900
         },
         {
          "dev_num_heads": -474,
          "dev_prop_heads": -0.0015143769968051224,
          "tosses": 313000
         },
         {
          "dev_num_heads": -476,
          "dev_prop_heads": -0.0015202810603641148,
          "tosses": 313100
         },
         {
          "dev_num_heads": -479,
          "dev_prop_heads": -0.001529374201788003,
          "tosses": 313200
         },
         {
          "dev_num_heads": -478,
          "dev_prop_heads": -0.001525694222789642,
          "tosses": 313300
         },
         {
          "dev_num_heads": -481,
          "dev_prop_heads": -0.0015347798340778485,
          "tosses": 313400
         },
         {
          "dev_num_heads": -485,
          "dev_prop_heads": -0.0015470494417862968,
          "tosses": 313500
         },
         {
          "dev_num_heads": -487,
          "dev_prop_heads": -0.00155293367346937,
          "tosses": 313600
         },
         {
          "dev_num_heads": -489,
          "dev_prop_heads": -0.001558814153650001,
          "tosses": 313700
         },
         {
          "dev_num_heads": -487,
          "dev_prop_heads": -0.001551943913320586,
          "tosses": 313800
         },
         {
          "dev_num_heads": -481,
          "dev_prop_heads": -0.001532335138579144,
          "tosses": 313900
         },
         {
          "dev_num_heads": -480,
          "dev_prop_heads": -0.0015286624203821875,
          "tosses": 314000
         },
         {
          "dev_num_heads": -480,
          "dev_prop_heads": -0.001528175740210136,
          "tosses": 314100
         },
         {
          "dev_num_heads": -472,
          "dev_prop_heads": -0.0015022278803309974,
          "tosses": 314200
         },
         {
          "dev_num_heads": -468,
          "dev_prop_heads": -0.0014890232262169678,
          "tosses": 314300
         },
         {
          "dev_num_heads": -464,
          "dev_prop_heads": -0.0014758269720101524,
          "tosses": 314400
         },
         {
          "dev_num_heads": -459,
          "dev_prop_heads": -0.0014594594594594668,
          "tosses": 314500
         },
         {
          "dev_num_heads": -459,
          "dev_prop_heads": -0.0014589955499046403,
          "tosses": 314600
         },
         {
          "dev_num_heads": -457,
          "dev_prop_heads": -0.001452176676199568,
          "tosses": 314700
         },
         {
          "dev_num_heads": -455,
          "dev_prop_heads": -0.0014453621346887102,
          "tosses": 314800
         },
         {
          "dev_num_heads": -466,
          "dev_prop_heads": -0.0014798348682121265,
          "tosses": 314900
         },
         {
          "dev_num_heads": -469,
          "dev_prop_heads": -0.001488888888888873,
          "tosses": 315000
         },
         {
          "dev_num_heads": -471,
          "dev_prop_heads": -0.0014947635671215265,
          "tosses": 315100
         },
         {
          "dev_num_heads": -469,
          "dev_prop_heads": -0.0014879441624365275,
          "tosses": 315200
         },
         {
          "dev_num_heads": -460,
          "dev_prop_heads": -0.0014589280050745224,
          "tosses": 315300
         },
         {
          "dev_num_heads": -460,
          "dev_prop_heads": -0.0014584654407102104,
          "tosses": 315400
         },
         {
          "dev_num_heads": -467,
          "dev_prop_heads": -0.00148019017432649,
          "tosses": 315500
         },
         {
          "dev_num_heads": -468,
          "dev_prop_heads": -0.001482889733840309,
          "tosses": 315600
         },
         {
          "dev_num_heads": -470,
          "dev_prop_heads": -0.0014887551472917426,
          "tosses": 315700
         },
         {
          "dev_num_heads": -469,
          "dev_prop_heads": -0.0014851171627612292,
          "tosses": 315800
         },
         {
          "dev_num_heads": -470,
          "dev_prop_heads": -0.0014878125989237212,
          "tosses": 315900
         },
         {
          "dev_num_heads": -464,
          "dev_prop_heads": -0.001468354430379737,
          "tosses": 316000
         },
         {
          "dev_num_heads": -456,
          "dev_prop_heads": -0.0014425814615627863,
          "tosses": 316100
         },
         {
          "dev_num_heads": -457,
          "dev_prop_heads": -0.0014452877925363872,
          "tosses": 316200
         },
         {
          "dev_num_heads": -453,
          "dev_prop_heads": -0.00143218463484035,
          "tosses": 316300
         },
         {
          "dev_num_heads": -452,
          "dev_prop_heads": -0.0014285714285714457,
          "tosses": 316400
         },
         {
          "dev_num_heads": -453,
          "dev_prop_heads": -0.0014312796208530987,
          "tosses": 316500
         },
         {
          "dev_num_heads": -459,
          "dev_prop_heads": -0.001449778900821208,
          "tosses": 316600
         },
         {
          "dev_num_heads": -458,
          "dev_prop_heads": -0.0014461635617303292,
          "tosses": 316700
         },
         {
          "dev_num_heads": -458,
          "dev_prop_heads": -0.0014457070707070696,
          "tosses": 316800
         },
         {
          "dev_num_heads": -449,
          "dev_prop_heads": -0.0014168507415588394,
          "tosses": 316900
         },
         {
          "dev_num_heads": -438,
          "dev_prop_heads": -0.0013817034700315256,
          "tosses": 317000
         },
         {
          "dev_num_heads": -442,
          "dev_prop_heads": -0.0013938820561337217,
          "tosses": 317100
         },
         {
          "dev_num_heads": -450,
          "dev_prop_heads": -0.0014186633039092178,
          "tosses": 317200
         },
         {
          "dev_num_heads": -449,
          "dev_prop_heads": -0.0014150646076268592,
          "tosses": 317300
         },
         {
          "dev_num_heads": -442,
          "dev_prop_heads": -0.0013925645872716053,
          "tosses": 317400
         },
         {
          "dev_num_heads": -439,
          "dev_prop_heads": -0.0013826771653543402,
          "tosses": 317500
         },
         {
          "dev_num_heads": -436,
          "dev_prop_heads": -0.0013727959697732994,
          "tosses": 317600
         },
         {
          "dev_num_heads": -435,
          "dev_prop_heads": -0.0013692162417374698,
          "tosses": 317700
         },
         {
          "dev_num_heads": -437,
          "dev_prop_heads": -0.0013750786658275893,
          "tosses": 317800
         },
         {
          "dev_num_heads": -434,
          "dev_prop_heads": -0.001365209185278382,
          "tosses": 317900
         },
         {
          "dev_num_heads": -436,
          "dev_prop_heads": -0.001371069182389939,
          "tosses": 318000
         },
         {
          "dev_num_heads": -426,
          "dev_prop_heads": -0.0013392015089594422,
          "tosses": 318100
         },
         {
          "dev_num_heads": -427,
          "dev_prop_heads": -0.001341923318667504,
          "tosses": 318200
         },
         {
          "dev_num_heads": -426,
          "dev_prop_heads": -0.0013383600377002702,
          "tosses": 318300
         },
         {
          "dev_num_heads": -423,
          "dev_prop_heads": -0.001328517587939726,
          "tosses": 318400
         },
         {
          "dev_num_heads": -425,
          "dev_prop_heads": -0.0013343799058084804,
          "tosses": 318500
         },
         {
          "dev_num_heads": -424,
          "dev_prop_heads": -0.0013308223477714876,
          "tosses": 318600
         },
         {
          "dev_num_heads": -423,
          "dev_prop_heads": -0.001327267022277978,
          "tosses": 318700
         },
         {
          "dev_num_heads": -426,
          "dev_prop_heads": -0.001336260978670012,
          "tosses": 318800
         },
         {
          "dev_num_heads": -430,
          "dev_prop_heads": -0.0013483850736908387,
          "tosses": 318900
         },
         {
          "dev_num_heads": -424,
          "dev_prop_heads": -0.001329153605015676,
          "tosses": 319000
         },
         {
          "dev_num_heads": -423,
          "dev_prop_heads": -0.001325603259166419,
          "tosses": 319100
         },
         {
          "dev_num_heads": -427,
          "dev_prop_heads": -0.0013377192982456099,
          "tosses": 319200
         },
         {
          "dev_num_heads": -428,
          "dev_prop_heads": -0.00134043219542751,
          "tosses": 319300
         },
         {
          "dev_num_heads": -422,
          "dev_prop_heads": -0.0013212273011897202,
          "tosses": 319400
         },
         {
          "dev_num_heads": -415,
          "dev_prop_heads": -0.001298904538341139,
          "tosses": 319500
         },
         {
          "dev_num_heads": -413,
          "dev_prop_heads": -0.0012922403003754468,
          "tosses": 319600
         },
         {
          "dev_num_heads": -420,
          "dev_prop_heads": -0.0013137316233969298,
          "tosses": 319700
         },
         {
          "dev_num_heads": -419,
          "dev_prop_heads": -0.001310193871169485,
          "tosses": 319800
         },
         {
          "dev_num_heads": -414,
          "dev_prop_heads": -0.0012941544232572544,
          "tosses": 319900
         },
         {
          "dev_num_heads": -404,
          "dev_prop_heads": -0.0012624999999999997,
          "tosses": 320000
         },
         {
          "dev_num_heads": -410,
          "dev_prop_heads": -0.0012808497344579672,
          "tosses": 320100
         },
         {
          "dev_num_heads": -409,
          "dev_prop_heads": -0.0012773266708307474,
          "tosses": 320200
         },
         {
          "dev_num_heads": -403,
          "dev_prop_heads": -0.0012581954417733576,
          "tosses": 320300
         },
         {
          "dev_num_heads": -406,
          "dev_prop_heads": -0.001267166042446921,
          "tosses": 320400
         },
         {
          "dev_num_heads": -402,
          "dev_prop_heads": -0.0012542901716068866,
          "tosses": 320500
         },
         {
          "dev_num_heads": -392,
          "dev_prop_heads": -0.0012227074235807711,
          "tosses": 320600
         },
         {
          "dev_num_heads": -395,
          "dev_prop_heads": -0.0012316806984720707,
          "tosses": 320700
         },
         {
          "dev_num_heads": -396,
          "dev_prop_heads": -0.0012344139650872776,
          "tosses": 320800
         },
         {
          "dev_num_heads": -391,
          "dev_prop_heads": -0.0012184481146774728,
          "tosses": 320900
         },
         {
          "dev_num_heads": -389,
          "dev_prop_heads": -0.0012118380062305367,
          "tosses": 321000
         },
         {
          "dev_num_heads": -389,
          "dev_prop_heads": -0.0012114606041731535,
          "tosses": 321100
         },
         {
          "dev_num_heads": -410,
          "dev_prop_heads": -0.0012764632627646488,
          "tosses": 321200
         },
         {
          "dev_num_heads": -416,
          "dev_prop_heads": -0.0012947401182695217,
          "tosses": 321300
         },
         {
          "dev_num_heads": -413,
          "dev_prop_heads": -0.0012850031113876836,
          "tosses": 321400
         },
         {
          "dev_num_heads": -414,
          "dev_prop_heads": -0.0012877138413686096,
          "tosses": 321500
         },
         {
          "dev_num_heads": -411,
          "dev_prop_heads": -0.0012779850746268417,
          "tosses": 321600
         },
         {
          "dev_num_heads": -408,
          "dev_prop_heads": -0.001268262356232508,
          "tosses": 321700
         },
         {
          "dev_num_heads": -401,
          "dev_prop_heads": -0.0012461155997514073,
          "tosses": 321800
         },
         {
          "dev_num_heads": -393,
          "dev_prop_heads": -0.0012208760484622716,
          "tosses": 321900
         },
         {
          "dev_num_heads": -397,
          "dev_prop_heads": -0.0012329192546584045,
          "tosses": 322000
         },
         {
          "dev_num_heads": -389,
          "dev_prop_heads": -0.001207699472213608,
          "tosses": 322100
         },
         {
          "dev_num_heads": -384,
          "dev_prop_heads": -0.0011918063314711458,
          "tosses": 322200
         },
         {
          "dev_num_heads": -382,
          "dev_prop_heads": -0.0011852311511014735,
          "tosses": 322300
         },
         {
          "dev_num_heads": -383,
          "dev_prop_heads": -0.0011879652605459312,
          "tosses": 322400
         },
         {
          "dev_num_heads": -382,
          "dev_prop_heads": -0.001184496124030987,
          "tosses": 322500
         },
         {
          "dev_num_heads": -386,
          "dev_prop_heads": -0.0011965282083075124,
          "tosses": 322600
         },
         {
          "dev_num_heads": -392,
          "dev_prop_heads": -0.0012147505422993587,
          "tosses": 322700
         },
         {
          "dev_num_heads": -390,
          "dev_prop_heads": -0.0012081784386617223,
          "tosses": 322800
         },
         {
          "dev_num_heads": -396,
          "dev_prop_heads": -0.0012263858779807957,
          "tosses": 322900
         },
         {
          "dev_num_heads": -398,
          "dev_prop_heads": -0.0012321981424148754,
          "tosses": 323000
         },
         {
          "dev_num_heads": -398,
          "dev_prop_heads": -0.0012318167749922893,
          "tosses": 323100
         },
         {
          "dev_num_heads": -394,
          "dev_prop_heads": -0.0012190594059405813,
          "tosses": 323200
         },
         {
          "dev_num_heads": -391,
          "dev_prop_heads": -0.0012094030312403414,
          "tosses": 323300
         },
         {
          "dev_num_heads": -396,
          "dev_prop_heads": -0.001224489795918382,
          "tosses": 323400
         },
         {
          "dev_num_heads": -395,
          "dev_prop_heads": -0.001221020092735725,
          "tosses": 323500
         },
         {
          "dev_num_heads": -389,
          "dev_prop_heads": -0.0012021013597033336,
          "tosses": 323600
         },
         {
          "dev_num_heads": -383,
          "dev_prop_heads": -0.0011831943157244451,
          "tosses": 323700
         },
         {
          "dev_num_heads": -382,
          "dev_prop_heads": -0.0011797405806053263,
          "tosses": 323800
         },
         {
          "dev_num_heads": -383,
          "dev_prop_heads": -0.0011824637233713853,
          "tosses": 323900
         },
         {
          "dev_num_heads": -382,
          "dev_prop_heads": -0.0011790123456790202,
          "tosses": 324000
         },
         {
          "dev_num_heads": -378,
          "dev_prop_heads": -0.0011663066954643586,
          "tosses": 324100
         },
         {
          "dev_num_heads": -378,
          "dev_prop_heads": -0.0011659469463294325,
          "tosses": 324200
         },
         {
          "dev_num_heads": -370,
          "dev_prop_heads": -0.001140918902250987,
          "tosses": 324300
         },
         {
          "dev_num_heads": -373,
          "dev_prop_heads": -0.0011498150431565879,
          "tosses": 324400
         },
         {
          "dev_num_heads": -370,
          "dev_prop_heads": -0.0011402157164869253,
          "tosses": 324500
         },
         {
          "dev_num_heads": -380,
          "dev_prop_heads": -0.0011706715958102465,
          "tosses": 324600
         },
         {
          "dev_num_heads": -388,
          "dev_prop_heads": -0.0011949491838620374,
          "tosses": 324700
         },
         {
          "dev_num_heads": -386,
          "dev_prop_heads": -0.0011884236453201802,
          "tosses": 324800
         },
         {
          "dev_num_heads": -389,
          "dev_prop_heads": -0.0011972914742998109,
          "tosses": 324900
         },
         {
          "dev_num_heads": -386,
          "dev_prop_heads": -0.001187692307692334,
          "tosses": 325000
         },
         {
          "dev_num_heads": -387,
          "dev_prop_heads": -0.0011904029529375415,
          "tosses": 325100
         },
         {
          "dev_num_heads": -388,
          "dev_prop_heads": -0.0011931119311193172,
          "tosses": 325200
         },
         {
          "dev_num_heads": -394,
          "dev_prop_heads": -0.0012111896710728653,
          "tosses": 325300
         },
         {
          "dev_num_heads": -394,
          "dev_prop_heads": -0.001210817455439439,
          "tosses": 325400
         },
         {
          "dev_num_heads": -398,
          "dev_prop_heads": -0.0012227342549923081,
          "tosses": 325500
         },
         {
          "dev_num_heads": -396,
          "dev_prop_heads": -0.0012162162162162038,
          "tosses": 325600
         },
         {
          "dev_num_heads": -396,
          "dev_prop_heads": -0.0012158428001228239,
          "tosses": 325700
         },
         {
          "dev_num_heads": -393,
          "dev_prop_heads": -0.0012062615101289254,
          "tosses": 325800
         },
         {
          "dev_num_heads": -392,
          "dev_prop_heads": -0.0012028229518257216,
          "tosses": 325900
         },
         {
          "dev_num_heads": -391,
          "dev_prop_heads": -0.001199386503067501,
          "tosses": 326000
         },
         {
          "dev_num_heads": -396,
          "dev_prop_heads": -0.00121435142594295,
          "tosses": 326100
         },
         {
          "dev_num_heads": -398,
          "dev_prop_heads": -0.0012201103617412445,
          "tosses": 326200
         },
         {
          "dev_num_heads": -387,
          "dev_prop_heads": -0.001186025130248236,
          "tosses": 326300
         },
         {
          "dev_num_heads": -392,
          "dev_prop_heads": -0.0012009803921568807,
          "tosses": 326400
         },
         {
          "dev_num_heads": -390,
          "dev_prop_heads": -0.0011944869831546634,
          "tosses": 326500
         },
         {
          "dev_num_heads": -386,
          "dev_prop_heads": -0.0011818738518065142,
          "tosses": 326600
         },
         {
          "dev_num_heads": -386,
          "dev_prop_heads": -0.0011815120906030208,
          "tosses": 326700
         },
         {
          "dev_num_heads": -387,
          "dev_prop_heads": -0.0011842105263157876,
          "tosses": 326800
         },
         {
          "dev_num_heads": -387,
          "dev_prop_heads": -0.0011838482716426957,
          "tosses": 326900
         },
         {
          "dev_num_heads": -393,
          "dev_prop_heads": -0.0012018348623853425,
          "tosses": 327000
         },
         {
          "dev_num_heads": -386,
          "dev_prop_heads": -0.0011800672577193527,
          "tosses": 327100
         },
         {
          "dev_num_heads": -385,
          "dev_prop_heads": -0.0011766503667481887,
          "tosses": 327200
         },
         {
          "dev_num_heads": -397,
          "dev_prop_heads": -0.0012129544760158817,
          "tosses": 327300
         },
         {
          "dev_num_heads": -395,
          "dev_prop_heads": -0.0012064752596212536,
          "tosses": 327400
         },
         {
          "dev_num_heads": -388,
          "dev_prop_heads": -0.0011847328244274924,
          "tosses": 327500
         },
         {
          "dev_num_heads": -387,
          "dev_prop_heads": -0.001181318681318655,
          "tosses": 327600
         },
         {
          "dev_num_heads": -388,
          "dev_prop_heads": -0.0011840097650289705,
          "tosses": 327700
         },
         {
          "dev_num_heads": -386,
          "dev_prop_heads": -0.0011775472849298585,
          "tosses": 327800
         },
         {
          "dev_num_heads": -396,
          "dev_prop_heads": -0.001207685269899339,
          "tosses": 327900
         },
         {
          "dev_num_heads": -403,
          "dev_prop_heads": -0.0012286585365853808,
          "tosses": 328000
         },
         {
          "dev_num_heads": -395,
          "dev_prop_heads": -0.0012039012496189994,
          "tosses": 328100
         },
         {
          "dev_num_heads": -399,
          "dev_prop_heads": -0.0012157221206581248,
          "tosses": 328200
         },
         {
          "dev_num_heads": -402,
          "dev_prop_heads": -0.001224489795918382,
          "tosses": 328300
         },
         {
          "dev_num_heads": -396,
          "dev_prop_heads": -0.0012058465286236553,
          "tosses": 328400
         },
         {
          "dev_num_heads": -400,
          "dev_prop_heads": -0.001217656012176549,
          "tosses": 328500
         },
         {
          "dev_num_heads": -400,
          "dev_prop_heads": -0.0012172854534388544,
          "tosses": 328600
         },
         {
          "dev_num_heads": -396,
          "dev_prop_heads": -0.0012047459689686901,
          "tosses": 328700
         },
         {
          "dev_num_heads": -394,
          "dev_prop_heads": -0.0011982968369829705,
          "tosses": 328800
         },
         {
          "dev_num_heads": -395,
          "dev_prop_heads": -0.0012009729401033509,
          "tosses": 328900
         },
         {
          "dev_num_heads": -393,
          "dev_prop_heads": -0.0011945288753799632,
          "tosses": 329000
         },
         {
          "dev_num_heads": -393,
          "dev_prop_heads": -0.0011941659070191513,
          "tosses": 329100
         },
         {
          "dev_num_heads": -384,
          "dev_prop_heads": -0.0011664641555285682,
          "tosses": 329200
         },
         {
          "dev_num_heads": -393,
          "dev_prop_heads": -0.0011934406316428947,
          "tosses": 329300
         },
         {
          "dev_num_heads": -388,
          "dev_prop_heads": -0.0011778992106861175,
          "tosses": 329400
         },
         {
          "dev_num_heads": -387,
          "dev_prop_heads": -0.001174506828528099,
          "tosses": 329500
         },
         {
          "dev_num_heads": -378,
          "dev_prop_heads": -0.0011468446601941573,
          "tosses": 329600
         },
         {
          "dev_num_heads": -380,
          "dev_prop_heads": -0.0011525629360024103,
          "tosses": 329700
         },
         {
          "dev_num_heads": -380,
          "dev_prop_heads": -0.0011522134627046654,
          "tosses": 329800
         },
         {
          "dev_num_heads": -378,
          "dev_prop_heads": -0.0011458017581085223,
          "tosses": 329900
         },
         {
          "dev_num_heads": -379,
          "dev_prop_heads": -0.0011484848484848431,
          "tosses": 330000
         },
         {
          "dev_num_heads": -370,
          "dev_prop_heads": -0.0011208724628900546,
          "tosses": 330100
         },
         {
          "dev_num_heads": -370,
          "dev_prop_heads": -0.001120533010296798,
          "tosses": 330200
         },
         {
          "dev_num_heads": -374,
          "dev_prop_heads": -0.0011323039660914302,
          "tosses": 330300
         },
         {
          "dev_num_heads": -367,
          "dev_prop_heads": -0.0011107748184019384,
          "tosses": 330400
         },
         {
          "dev_num_heads": -359,
          "dev_prop_heads": -0.0010862329803328352,
          "tosses": 330500
         },
         {
          "dev_num_heads": -351,
          "dev_prop_heads": -0.0010617059891107061,
          "tosses": 330600
         },
         {
          "dev_num_heads": -356,
          "dev_prop_heads": -0.0010765043846386324,
          "tosses": 330700
         },
         {
          "dev_num_heads": -356,
          "dev_prop_heads": -0.0010761789600967075,
          "tosses": 330800
         },
         {
          "dev_num_heads": -359,
          "dev_prop_heads": -0.0010849199153822875,
          "tosses": 330900
         },
         {
          "dev_num_heads": -362,
          "dev_prop_heads": -0.0010936555891238875,
          "tosses": 331000
         },
         {
          "dev_num_heads": -371,
          "dev_prop_heads": -0.001120507399577142,
          "tosses": 331100
         },
         {
          "dev_num_heads": -365,
          "dev_prop_heads": -0.0011020531400965927,
          "tosses": 331200
         },
         {
          "dev_num_heads": -367,
          "dev_prop_heads": -0.0011077573196498491,
          "tosses": 331300
         },
         {
          "dev_num_heads": -373,
          "dev_prop_heads": -0.0011255280627640585,
          "tosses": 331400
         },
         {
          "dev_num_heads": -372,
          "dev_prop_heads": -0.0011221719457013557,
          "tosses": 331500
         },
         {
          "dev_num_heads": -371,
          "dev_prop_heads": -0.0011188178528347414,
          "tosses": 331600
         },
         {
          "dev_num_heads": -368,
          "dev_prop_heads": -0.0011094362375640432,
          "tosses": 331700
         },
         {
          "dev_num_heads": -377,
          "dev_prop_heads": -0.0011362266425557488,
          "tosses": 331800
         },
         {
          "dev_num_heads": -373,
          "dev_prop_heads": -0.0011238324796625232,
          "tosses": 331900
         },
         {
          "dev_num_heads": -365,
          "dev_prop_heads": -0.0010993975903614284,
          "tosses": 332000
         },
         {
          "dev_num_heads": -371,
          "dev_prop_heads": -0.00111713339355618,
          "tosses": 332100
         },
         {
          "dev_num_heads": -363,
          "dev_prop_heads": -0.001092715231788055,
          "tosses": 332200
         },
         {
          "dev_num_heads": -361,
          "dev_prop_heads": -0.0010863677399939875,
          "tosses": 332300
         },
         {
          "dev_num_heads": -363,
          "dev_prop_heads": -0.0010920577617328786,
          "tosses": 332400
         },
         {
          "dev_num_heads": -358,
          "dev_prop_heads": -0.001076691729323287,
          "tosses": 332500
         },
         {
          "dev_num_heads": -358,
          "dev_prop_heads": -0.001076368009621187,
          "tosses": 332600
         },
         {
          "dev_num_heads": -358,
          "dev_prop_heads": -0.0010760444845205885,
          "tosses": 332700
         },
         {
          "dev_num_heads": -360,
          "dev_prop_heads": -0.0010817307692307931,
          "tosses": 332800
         },
         {
          "dev_num_heads": -357,
          "dev_prop_heads": -0.0010723941123460534,
          "tosses": 332900
         },
         {
          "dev_num_heads": -350,
          "dev_prop_heads": -0.0010510510510510773,
          "tosses": 333000
         },
         {
          "dev_num_heads": -346,
          "dev_prop_heads": -0.0010387271089762895,
          "tosses": 333100
         },
         {
          "dev_num_heads": -344,
          "dev_prop_heads": -0.0010324129651860803,
          "tosses": 333200
         },
         {
          "dev_num_heads": -343,
          "dev_prop_heads": -0.0010291029102910132,
          "tosses": 333300
         },
         {
          "dev_num_heads": -335,
          "dev_prop_heads": -0.0010047990401919615,
          "tosses": 333400
         },
         {
          "dev_num_heads": -343,
          "dev_prop_heads": -0.0010284857571214445,
          "tosses": 333500
         },
         {
          "dev_num_heads": -333,
          "dev_prop_heads": -0.0009982014388489335,
          "tosses": 333600
         },
         {
          "dev_num_heads": -328,
          "dev_prop_heads": -0.0009829187893317104,
          "tosses": 333700
         },
         {
          "dev_num_heads": -325,
          "dev_prop_heads": -0.0009736369083283569,
          "tosses": 333800
         },
         {
          "dev_num_heads": -326,
          "dev_prop_heads": -0.0009763402216232397,
          "tosses": 333900
         },
         {
          "dev_num_heads": -335,
          "dev_prop_heads": -0.001002994011976066,
          "tosses": 334000
         },
         {
          "dev_num_heads": -329,
          "dev_prop_heads": -0.0009847351092487355,
          "tosses": 334100
         },
         {
          "dev_num_heads": -328,
          "dev_prop_heads": -0.0009814482345900655,
          "tosses": 334200
         },
         {
          "dev_num_heads": -329,
          "dev_prop_heads": -0.000984145976667683,
          "tosses": 334300
         },
         {
          "dev_num_heads": -323,
          "dev_prop_heads": -0.0009659090909091006,
          "tosses": 334400
         },
         {
          "dev_num_heads": -320,
          "dev_prop_heads": -0.0009566517189835699,
          "tosses": 334500
         },
         {
          "dev_num_heads": -318,
          "dev_prop_heads": -0.0009503885236102905,
          "tosses": 334600
         },
         {
          "dev_num_heads": -320,
          "dev_prop_heads": -0.0009560800717060003,
          "tosses": 334700
         },
         {
          "dev_num_heads": -319,
          "dev_prop_heads": -0.0009528076463560242,
          "tosses": 334800
         },
         {
          "dev_num_heads": -317,
          "dev_prop_heads": -0.0009465512093161932,
          "tosses": 334900
         },
         {
          "dev_num_heads": -316,
          "dev_prop_heads": -0.0009432835820895602,
          "tosses": 335000
         },
         {
          "dev_num_heads": -314,
          "dev_prop_heads": -0.0009370337212772362,
          "tosses": 335100
         },
         {
          "dev_num_heads": -315,
          "dev_prop_heads": -0.000939737470167068,
          "tosses": 335200
         },
         {
          "dev_num_heads": -313,
          "dev_prop_heads": -0.0009334923948702833,
          "tosses": 335300
         },
         {
          "dev_num_heads": -310,
          "dev_prop_heads": -0.0009242695289207181,
          "tosses": 335400
         },
         {
          "dev_num_heads": -309,
          "dev_prop_heads": -0.0009210134128166958,
          "tosses": 335500
         },
         {
          "dev_num_heads": -312,
          "dev_prop_heads": -0.000929678188319405,
          "tosses": 335600
         },
         {
          "dev_num_heads": -313,
          "dev_prop_heads": -0.000932380101280883,
          "tosses": 335700
         },
         {
          "dev_num_heads": -312,
          "dev_prop_heads": -0.0009291244788564579,
          "tosses": 335800
         },
         {
          "dev_num_heads": -309,
          "dev_prop_heads": -0.0009199166418576987,
          "tosses": 335900
         },
         {
          "dev_num_heads": -301,
          "dev_prop_heads": -0.0008958333333333179,
          "tosses": 336000
         },
         {
          "dev_num_heads": -298,
          "dev_prop_heads": -0.0008866408806902926,
          "tosses": 336100
         },
         {
          "dev_num_heads": -295,
          "dev_prop_heads": -0.0008774538964901879,
          "tosses": 336200
         },
         {
          "dev_num_heads": -297,
          "dev_prop_heads": -0.0008831400535236344,
          "tosses": 336300
         },
         {
          "dev_num_heads": -306,
          "dev_prop_heads": -0.0009096313912009268,
          "tosses": 336400
         },
         {
          "dev_num_heads": -305,
          "dev_prop_heads": -0.0009063893016344471,
          "tosses": 336500
         },
         {
          "dev_num_heads": -292,
          "dev_prop_heads": -0.0008674985145573633,
          "tosses": 336600
         },
         {
          "dev_num_heads": -294,
          "dev_prop_heads": -0.0008731808731808899,
          "tosses": 336700
         },
         {
          "dev_num_heads": -293,
          "dev_prop_heads": -0.0008699524940617431,
          "tosses": 336800
         },
         {
          "dev_num_heads": -289,
          "dev_prop_heads": -0.0008578213119619926,
          "tosses": 336900
         },
         {
          "dev_num_heads": -295,
          "dev_prop_heads": -0.0008753709198813242,
          "tosses": 337000
         },
         {
          "dev_num_heads": -294,
          "dev_prop_heads": -0.0008721447641649172,
          "tosses": 337100
         },
         {
          "dev_num_heads": -298,
          "dev_prop_heads": -0.0008837485172004667,
          "tosses": 337200
         },
         {
          "dev_num_heads": -297,
          "dev_prop_heads": -0.0008805217906907581,
          "tosses": 337300
         },
         {
          "dev_num_heads": -290,
          "dev_prop_heads": -0.0008595139300533461,
          "tosses": 337400
         },
         {
          "dev_num_heads": -290,
          "dev_prop_heads": -0.0008592592592592818,
          "tosses": 337500
         },
         {
          "dev_num_heads": -283,
          "dev_prop_heads": -0.0008382701421800753,
          "tosses": 337600
         },
         {
          "dev_num_heads": -287,
          "dev_prop_heads": -0.0008498667456321995,
          "tosses": 337700
         },
         {
          "dev_num_heads": -280,
          "dev_prop_heads": -0.00082889283599763,
          "tosses": 337800
         },
         {
          "dev_num_heads": -276,
          "dev_prop_heads": -0.0008168097070139213,
          "tosses": 337900
         },
         {
          "dev_num_heads": -277,
          "dev_prop_heads": -0.0008195266272189583,
          "tosses": 338000
         },
         {
          "dev_num_heads": -275,
          "dev_prop_heads": -0.0008133688257911942,
          "tosses": 338100
         },
         {
          "dev_num_heads": -275,
          "dev_prop_heads": -0.0008131283264340428,
          "tosses": 338200
         },
         {
          "dev_num_heads": -282,
          "dev_prop_heads": -0.0008335796630210002,
          "tosses": 338300
         },
         {
          "dev_num_heads": -278,
          "dev_prop_heads": -0.0008215130023640493,
          "tosses": 338400
         },
         {
          "dev_num_heads": -272,
          "dev_prop_heads": -0.000803545051698662,
          "tosses": 338500
         },
         {
          "dev_num_heads": -270,
          "dev_prop_heads": -0.0007974010632014195,
          "tosses": 338600
         },
         {
          "dev_num_heads": -268,
          "dev_prop_heads": -0.000791260702686758,
          "tosses": 338700
         },
         {
          "dev_num_heads": -268,
          "dev_prop_heads": -0.0007910271546635039,
          "tosses": 338800
         },
         {
          "dev_num_heads": -266,
          "dev_prop_heads": -0.0007848922986131712,
          "tosses": 338900
         },
         {
          "dev_num_heads": -267,
          "dev_prop_heads": -0.0007876106194690258,
          "tosses": 339000
         },
         {
          "dev_num_heads": -269,
          "dev_prop_heads": -0.000793276319669689,
          "tosses": 339100
         },
         {
          "dev_num_heads": -278,
          "dev_prop_heads": -0.0008195754716980863,
          "tosses": 339200
         },
         {
          "dev_num_heads": -267,
          "dev_prop_heads": -0.000786914235190117,
          "tosses": 339300
         },
         {
          "dev_num_heads": -272,
          "dev_prop_heads": -0.0008014142604596541,
          "tosses": 339400
         },
         {
          "dev_num_heads": -268,
          "dev_prop_heads": -0.0007893961708394515,
          "tosses": 339500
         },
         {
          "dev_num_heads": -266,
          "dev_prop_heads": -0.0007832744405182335,
          "tosses": 339600
         },
         {
          "dev_num_heads": -268,
          "dev_prop_heads": -0.0007889314100676947,
          "tosses": 339700
         },
         {
          "dev_num_heads": -264,
          "dev_prop_heads": -0.0007769276044732321,
          "tosses": 339800
         },
         {
          "dev_num_heads": -266,
          "dev_prop_heads": -0.0007825831126802019,
          "tosses": 339900
         },
         {
          "dev_num_heads": -271,
          "dev_prop_heads": -0.0007970588235294285,
          "tosses": 340000
         },
         {
          "dev_num_heads": -276,
          "dev_prop_heads": -0.0008115260217583242,
          "tosses": 340100
         },
         {
          "dev_num_heads": -268,
          "dev_prop_heads": -0.0007877718988830162,
          "tosses": 340200
         },
         {
          "dev_num_heads": -267,
          "dev_prop_heads": -0.0007846018219218598,
          "tosses": 340300
         },
         {
          "dev_num_heads": -264,
          "dev_prop_heads": -0.0007755581668625333,
          "tosses": 340400
         },
         {
          "dev_num_heads": -262,
          "dev_prop_heads": -0.0007694566813509773,
          "tosses": 340500
         },
         {
          "dev_num_heads": -262,
          "dev_prop_heads": -0.0007692307692307443,
          "tosses": 340600
         },
         {
          "dev_num_heads": -254,
          "dev_prop_heads": -0.0007455239213384202,
          "tosses": 340700
         },
         {
          "dev_num_heads": -243,
          "dev_prop_heads": -0.0007130281690140849,
          "tosses": 340800
         },
         {
          "dev_num_heads": -238,
          "dev_prop_heads": -0.0006981519507187062,
          "tosses": 340900
         },
         {
          "dev_num_heads": -237,
          "dev_prop_heads": -0.0006950146627566212,
          "tosses": 341000
         },
         {
          "dev_num_heads": -239,
          "dev_prop_heads": -0.0007006742890647844,
          "tosses": 341100
         },
         {
          "dev_num_heads": -243,
          "dev_prop_heads": -0.0007121922626026067,
          "tosses": 341200
         },
         {
          "dev_num_heads": -250,
          "dev_prop_heads": -0.0007324934075593204,
          "tosses": 341300
         },
         {
          "dev_num_heads": -258,
          "dev_prop_heads": -0.0007557117750439102,
          "tosses": 341400
         },
         {
          "dev_num_heads": -259,
          "dev_prop_heads": -0.0007584187408491982,
          "tosses": 341500
         },
         {
          "dev_num_heads": -258,
          "dev_prop_heads": -0.0007552693208430772,
          "tosses": 341600
         },
         {
          "dev_num_heads": -263,
          "dev_prop_heads": -0.0007696810067310267,
          "tosses": 341700
         },
         {
          "dev_num_heads": -260,
          "dev_prop_heads": -0.0007606787595084707,
          "tosses": 341800
         },
         {
          "dev_num_heads": -252,
          "dev_prop_heads": -0.0007370576191869094,
          "tosses": 341900
         },
         {
          "dev_num_heads": -251,
          "dev_prop_heads": -0.0007339181286549756,
          "tosses": 342000
         },
         {
          "dev_num_heads": -253,
          "dev_prop_heads": -0.000739549839228304,
          "tosses": 342100
         },
         {
          "dev_num_heads": -246,
          "dev_prop_heads": -0.000718877849210986,
          "tosses": 342200
         },
         {
          "dev_num_heads": -247,
          "dev_prop_heads": -0.0007215892491966303,
          "tosses": 342300
         },
         {
          "dev_num_heads": -249,
          "dev_prop_heads": -0.0007272196261682295,
          "tosses": 342400
         },
         {
          "dev_num_heads": -251,
          "dev_prop_heads": -0.0007328467153284723,
          "tosses": 342500
         },
         {
          "dev_num_heads": -246,
          "dev_prop_heads": -0.0007180385288966806,
          "tosses": 342600
         },
         {
          "dev_num_heads": -249,
          "dev_prop_heads": -0.0007265830172162313,
          "tosses": 342700
         },
         {
          "dev_num_heads": -249,
          "dev_prop_heads": -0.0007263710618436447,
          "tosses": 342800
         },
         {
          "dev_num_heads": -237,
          "dev_prop_heads": -0.0006911636045494052,
          "tosses": 342900
         },
         {
          "dev_num_heads": -236,
          "dev_prop_heads": -0.0006880466472303226,
          "tosses": 343000
         },
         {
          "dev_num_heads": -235,
          "dev_prop_heads": -0.00068493150684934,
          "tosses": 343100
         },
         {
          "dev_num_heads": -228,
          "dev_prop_heads": -0.0006643356643356579,
          "tosses": 343200
         },
         {
          "dev_num_heads": -229,
          "dev_prop_heads": -0.0006670550538887543,
          "tosses": 343300
         },
         {
          "dev_num_heads": -231,
          "dev_prop_heads": -0.0006726849155503922,
          "tosses": 343400
         },
         {
          "dev_num_heads": -232,
          "dev_prop_heads": -0.0006754002911208423,
          "tosses": 343500
         },
         {
          "dev_num_heads": -229,
          "dev_prop_heads": -0.0006664726426076628,
          "tosses": 343600
         },
         {
          "dev_num_heads": -230,
          "dev_prop_heads": -0.0006691882455630016,
          "tosses": 343700
         },
         {
          "dev_num_heads": -239,
          "dev_prop_heads": -0.000695171611401979,
          "tosses": 343800
         },
         {
          "dev_num_heads": -240,
          "dev_prop_heads": -0.0006978772899098318,
          "tosses": 343900
         },
         {
          "dev_num_heads": -240,
          "dev_prop_heads": -0.0006976744186046324,
          "tosses": 344000
         },
         {
          "dev_num_heads": -231,
          "dev_prop_heads": -0.0006713164777680802,
          "tosses": 344100
         },
         {
          "dev_num_heads": -234,
          "dev_prop_heads": -0.0006798373038930938,
          "tosses": 344200
         },
         {
          "dev_num_heads": -226,
          "dev_prop_heads": -0.0006564042985768292,
          "tosses": 344300
         },
         {
          "dev_num_heads": -233,
          "dev_prop_heads": -0.0006765389082462048,
          "tosses": 344400
         },
         {
          "dev_num_heads": -233,
          "dev_prop_heads": -0.0006763425253991096,
          "tosses": 344500
         },
         {
          "dev_num_heads": -229,
          "dev_prop_heads": -0.0006645385954729965,
          "tosses": 344600
         },
         {
          "dev_num_heads": -230,
          "dev_prop_heads": -0.0006672468813461174,
          "tosses": 344700
         },
         {
          "dev_num_heads": -235,
          "dev_prop_heads": -0.0006815545243619714,
          "tosses": 344800
         },
         {
          "dev_num_heads": -234,
          "dev_prop_heads": -0.0006784575239199842,
          "tosses": 344900
         },
         {
          "dev_num_heads": -234,
          "dev_prop_heads": -0.0006782608695652392,
          "tosses": 345000
         },
         {
          "dev_num_heads": -230,
          "dev_prop_heads": -0.0006664734859461174,
          "tosses": 345100
         },
         {
          "dev_num_heads": -238,
          "dev_prop_heads": -0.0006894553881807708,
          "tosses": 345200
         },
         {
          "dev_num_heads": -243,
          "dev_prop_heads": -0.0007037358818418604,
          "tosses": 345300
         },
         {
          "dev_num_heads": -247,
          "dev_prop_heads": -0.0007151129125651523,
          "tosses": 345400
         },
         {
          "dev_num_heads": -244,
          "dev_prop_heads": -0.0007062228654124425,
          "tosses": 345500
         },
         {
          "dev_num_heads": -248,
          "dev_prop_heads": -0.0007175925925925752,
          "tosses": 345600
         },
         {
          "dev_num_heads": -256,
          "dev_prop_heads": -0.0007405264680358514,
          "tosses": 345700
         },
         {
          "dev_num_heads": -264,
          "dev_prop_heads": -0.0007634470792365344,
          "tosses": 345800
         },
         {
          "dev_num_heads": -260,
          "dev_prop_heads": -0.0007516623301532244,
          "tosses": 345900
         },
         {
          "dev_num_heads": -255,
          "dev_prop_heads": -0.0007369942196531754,
          "tosses": 346000
         },
         {
          "dev_num_heads": -247,
          "dev_prop_heads": -0.0007136665703553757,
          "tosses": 346100
         },
         {
          "dev_num_heads": -248,
          "dev_prop_heads": -0.0007163489312536075,
          "tosses": 346200
         },
         {
          "dev_num_heads": -255,
          "dev_prop_heads": -0.0007363557609009752,
          "tosses": 346300
         },
         {
          "dev_num_heads": -255,
          "dev_prop_heads": -0.0007361431870669954,
          "tosses": 346400
         },
         {
          "dev_num_heads": -250,
          "dev_prop_heads": -0.0007215007215007341,
          "tosses": 346500
         },
         {
          "dev_num_heads": -246,
          "dev_prop_heads": -0.0007097518753606535,
          "tosses": 346600
         },
         {
          "dev_num_heads": -261,
          "dev_prop_heads": -0.0007528122295933359,
          "tosses": 346700
         },
         {
          "dev_num_heads": -256,
          "dev_prop_heads": -0.0007381776239907545,
          "tosses": 346800
         },
         {
          "dev_num_heads": -247,
          "dev_prop_heads": -0.0007120207552608893,
          "tosses": 346900
         },
         {
          "dev_num_heads": -249,
          "dev_prop_heads": -0.0007175792507204681,
          "tosses": 347000
         },
         {
          "dev_num_heads": -245,
          "dev_prop_heads": -0.0007058484586574543,
          "tosses": 347100
         },
         {
          "dev_num_heads": -243,
          "dev_prop_heads": -0.000699884792626726,
          "tosses": 347200
         },
         {
          "dev_num_heads": -234,
          "dev_prop_heads": -0.0006737690757270265,
          "tosses": 347300
         },
         {
          "dev_num_heads": -227,
          "dev_prop_heads": -0.0006534254461715849,
          "tosses": 347400
         },
         {
          "dev_num_heads": -224,
          "dev_prop_heads": -0.0006446043165467819,
          "tosses": 347500
         },
         {
          "dev_num_heads": -240,
          "dev_prop_heads": -0.000690448791714593,
          "tosses": 347600
         },
         {
          "dev_num_heads": -241,
          "dev_prop_heads": -0.0006931262582686171,
          "tosses": 347700
         },
         {
          "dev_num_heads": -234,
          "dev_prop_heads": -0.0006728004600344839,
          "tosses": 347800
         },
         {
          "dev_num_heads": -246,
          "dev_prop_heads": -0.0007070997413049507,
          "tosses": 347900
         },
         {
          "dev_num_heads": -253,
          "dev_prop_heads": -0.0007270114942528605,
          "tosses": 348000
         },
         {
          "dev_num_heads": -253,
          "dev_prop_heads": -0.0007268026429186891,
          "tosses": 348100
         },
         {
          "dev_num_heads": -245,
          "dev_prop_heads": -0.0007036186099942388,
          "tosses": 348200
         },
         {
          "dev_num_heads": -250,
          "dev_prop_heads": -0.0007177720356014716,
          "tosses": 348300
         },
         {
          "dev_num_heads": -252,
          "dev_prop_heads": -0.0007233065442020514,
          "tosses": 348400
         },
         {
          "dev_num_heads": -251,
          "dev_prop_heads": -0.0007202295552367066,
          "tosses": 348500
         },
         {
          "dev_num_heads": -244,
          "dev_prop_heads": -0.0006999426276534937,
          "tosses": 348600
         },
         {
          "dev_num_heads": -238,
          "dev_prop_heads": -0.0006825351304846627,
          "tosses": 348700
         },
         {
          "dev_num_heads": -232,
          "dev_prop_heads": -0.0006651376146789012,
          "tosses": 348800
         },
         {
          "dev_num_heads": -237,
          "dev_prop_heads": -0.0006792777300085873,
          "tosses": 348900
         },
         {
          "dev_num_heads": -234,
          "dev_prop_heads": -0.0006704871060171924,
          "tosses": 349000
         },
         {
          "dev_num_heads": -238,
          "dev_prop_heads": -0.0006817530793468696,
          "tosses": 349100
         },
         {
          "dev_num_heads": -238,
          "dev_prop_heads": -0.0006815578465063088,
          "tosses": 349200
         },
         {
          "dev_num_heads": -239,
          "dev_prop_heads": -0.0006842255940452402,
          "tosses": 349300
         },
         {
          "dev_num_heads": -235,
          "dev_prop_heads": -0.0006725815684029968,
          "tosses": 349400
         },
         {
          "dev_num_heads": -229,
          "dev_prop_heads": -0.0006552217453504872,
          "tosses": 349500
         },
         {
          "dev_num_heads": -235,
          "dev_prop_heads": -0.0006721967963386755,
          "tosses": 349600
         },
         {
          "dev_num_heads": -231,
          "dev_prop_heads": -0.0006605661995996437,
          "tosses": 349700
         },
         {
          "dev_num_heads": -231,
          "dev_prop_heads": -0.0006603773584905603,
          "tosses": 349800
         },
         {
          "dev_num_heads": -233,
          "dev_prop_heads": -0.0006659045441554934,
          "tosses": 349900
         },
         {
          "dev_num_heads": -247,
          "dev_prop_heads": -0.0007057142857143095,
          "tosses": 350000
         },
         {
          "dev_num_heads": -245,
          "dev_prop_heads": -0.0006998000571265539,
          "tosses": 350100
         },
         {
          "dev_num_heads": -247,
          "dev_prop_heads": -0.0007053112507138803,
          "tosses": 350200
         },
         {
          "dev_num_heads": -243,
          "dev_prop_heads": -0.0006936911218955455,
          "tosses": 350300
         },
         {
          "dev_num_heads": -243,
          "dev_prop_heads": -0.000693493150684954,
          "tosses": 350400
         },
         {
          "dev_num_heads": -234,
          "dev_prop_heads": -0.0006676176890156871,
          "tosses": 350500
         },
         {
          "dev_num_heads": -239,
          "dev_prop_heads": -0.0006816885339417933,
          "tosses": 350600
         },
         {
          "dev_num_heads": -251,
          "dev_prop_heads": -0.000715711434274291,
          "tosses": 350700
         },
         {
          "dev_num_heads": -248,
          "dev_prop_heads": -0.0007069555302166575,
          "tosses": 350800
         },
         {
          "dev_num_heads": -247,
          "dev_prop_heads": -0.0007039042462240186,
          "tosses": 350900
         },
         {
          "dev_num_heads": -245,
          "dev_prop_heads": -0.0006980056980057103,
          "tosses": 351000
         },
         {
          "dev_num_heads": -250,
          "dev_prop_heads": -0.0007120478496154825,
          "tosses": 351100
         },
         {
          "dev_num_heads": -257,
          "dev_prop_heads": -0.0007317767653758356,
          "tosses": 351200
         },
         {
          "dev_num_heads": -258,
          "dev_prop_heads": -0.0007344150298889685,
          "tosses": 351300
         },
         {
          "dev_num_heads": -261,
          "dev_prop_heads": -0.0007427433124644334,
          "tosses": 351400
         },
         {
          "dev_num_heads": -262,
          "dev_prop_heads": -0.0007453769559032652,
          "tosses": 351500
         },
         {
          "dev_num_heads": -254,
          "dev_prop_heads": -0.0007224118316268568,
          "tosses": 351600
         },
         {
          "dev_num_heads": -244,
          "dev_prop_heads": -0.0006937731020756344,
          "tosses": 351700
         },
         {
          "dev_num_heads": -246,
          "dev_prop_heads": -0.0006992609437180275,
          "tosses": 351800
         },
         {
          "dev_num_heads": -240,
          "dev_prop_heads": -0.0006820119352088927,
          "tosses": 351900
         },
         {
          "dev_num_heads": -244,
          "dev_prop_heads": -0.0006931818181818428,
          "tosses": 352000
         },
         {
          "dev_num_heads": -247,
          "dev_prop_heads": -0.0007015052541891609,
          "tosses": 352100
         },
         {
          "dev_num_heads": -238,
          "dev_prop_heads": -0.0006757524134014536,
          "tosses": 352200
         },
         {
          "dev_num_heads": -229,
          "dev_prop_heads": -0.0006500141924496439,
          "tosses": 352300
         },
         {
          "dev_num_heads": -226,
          "dev_prop_heads": -0.0006413166855845365,
          "tosses": 352400
         },
         {
          "dev_num_heads": -223,
          "dev_prop_heads": -0.0006326241134751998,
          "tosses": 352500
         },
         {
          "dev_num_heads": -228,
          "dev_prop_heads": -0.0006466250709018517,
          "tosses": 352600
         },
         {
          "dev_num_heads": -223,
          "dev_prop_heads": -0.0006322653813439216,
          "tosses": 352700
         },
         {
          "dev_num_heads": -222,
          "dev_prop_heads": -0.0006292517006802889,
          "tosses": 352800
         },
         {
          "dev_num_heads": -218,
          "dev_prop_heads": -0.0006177387361858688,
          "tosses": 352900
         },
         {
          "dev_num_heads": -207,
          "dev_prop_heads": -0.0005864022662889767,
          "tosses": 353000
         },
         {
          "dev_num_heads": -203,
          "dev_prop_heads": -0.0005749079580855132,
          "tosses": 353100
         },
         {
          "dev_num_heads": -196,
          "dev_prop_heads": -0.0005549263873159682,
          "tosses": 353200
         },
         {
          "dev_num_heads": -192,
          "dev_prop_heads": -0.0005434474950467005,
          "tosses": 353300
         },
         {
          "dev_num_heads": -200,
          "dev_prop_heads": -0.0005659309564233217,
          "tosses": 353400
         },
         {
          "dev_num_heads": -201,
          "dev_prop_heads": -0.0005685997171145929,
          "tosses": 353500
         },
         {
          "dev_num_heads": -191,
          "dev_prop_heads": -0.000540158371040711,
          "tosses": 353600
         },
         {
          "dev_num_heads": -190,
          "dev_prop_heads": -0.0005371783997737967,
          "tosses": 353700
         },
         {
          "dev_num_heads": -188,
          "dev_prop_heads": -0.0005313736574335537,
          "tosses": 353800
         },
         {
          "dev_num_heads": -192,
          "dev_prop_heads": -0.0005425261373269152,
          "tosses": 353900
         },
         {
          "dev_num_heads": -197,
          "dev_prop_heads": -0.000556497175141224,
          "tosses": 354000
         },
         {
          "dev_num_heads": -195,
          "dev_prop_heads": -0.0005506918949449435,
          "tosses": 354100
         },
         {
          "dev_num_heads": -187,
          "dev_prop_heads": -0.0005279503105590222,
          "tosses": 354200
         },
         {
          "dev_num_heads": -187,
          "dev_prop_heads": -0.0005278012983347402,
          "tosses": 354300
         },
         {
          "dev_num_heads": -186,
          "dev_prop_heads": -0.0005248306997742702,
          "tosses": 354400
         },
         {
          "dev_num_heads": -181,
          "dev_prop_heads": -0.0005105782792665936,
          "tosses": 354500
         },
         {
          "dev_num_heads": -183,
          "dev_prop_heads": -0.0005160744500846137,
          "tosses": 354600
         },
         {
          "dev_num_heads": -190,
          "dev_prop_heads": -0.0005356639413588993,
          "tosses": 354700
         },
         {
          "dev_num_heads": -188,
          "dev_prop_heads": -0.000529875986471251,
          "tosses": 354800
         },
         {
          "dev_num_heads": -186,
          "dev_prop_heads": -0.0005240912933220376,
          "tosses": 354900
         },
         {
          "dev_num_heads": -191,
          "dev_prop_heads": -0.0005380281690141042,
          "tosses": 355000
         },
         {
          "dev_num_heads": -190,
          "dev_prop_heads": -0.0005350605463249614,
          "tosses": 355100
         },
         {
          "dev_num_heads": -189,
          "dev_prop_heads": -0.0005320945945945788,
          "tosses": 355200
         },
         {
          "dev_num_heads": -190,
          "dev_prop_heads": -0.0005347593582887833,
          "tosses": 355300
         },
         {
          "dev_num_heads": -185,
          "dev_prop_heads": -0.0005205402363533951,
          "tosses": 355400
         },
         {
          "dev_num_heads": -186,
          "dev_prop_heads": -0.0005232067510548277,
          "tosses": 355500
         },
         {
          "dev_num_heads": -185,
          "dev_prop_heads": -0.0005202474690663705,
          "tosses": 355600
         },
         {
          "dev_num_heads": -176,
          "dev_prop_heads": -0.0004947989879111603,
          "tosses": 355700
         },
         {
          "dev_num_heads": -175,
          "dev_prop_heads": -0.0004918493535694402,
          "tosses": 355800
         },
         {
          "dev_num_heads": -168,
          "dev_prop_heads": -0.00047204270862599707,
          "tosses": 355900
         },
         {
          "dev_num_heads": -158,
          "dev_prop_heads": -0.00044382022471911586,
          "tosses": 356000
         },
         {
          "dev_num_heads": -159,
          "dev_prop_heads": -0.0004465037910699188,
          "tosses": 356100
         },
         {
          "dev_num_heads": -165,
          "dev_prop_heads": -0.000463222908478389,
          "tosses": 356200
         },
         {
          "dev_num_heads": -162,
          "dev_prop_heads": -0.00045467302834689693,
          "tosses": 356300
         },
         {
          "dev_num_heads": -162,
          "dev_prop_heads": -0.0004545454545454297,
          "tosses": 356400
         },
         {
          "dev_num_heads": -162,
          "dev_prop_heads": -0.0004544179523141567,
          "tosses": 356500
         },
         {
          "dev_num_heads": -164,
          "dev_prop_heads": -0.0004598990465507491,
          "tosses": 356600
         },
         {
          "dev_num_heads": -170,
          "dev_prop_heads": -0.00047659097280627893,
          "tosses": 356700
         },
         {
          "dev_num_heads": -170,
          "dev_prop_heads": -0.0004764573991031251,
          "tosses": 356800
         },
         {
          "dev_num_heads": -167,
          "dev_prop_heads": -0.0004679181843653679,
          "tosses": 356900
         },
         {
          "dev_num_heads": -174,
          "dev_prop_heads": -0.0004873949579831671,
          "tosses": 357000
         },
         {
          "dev_num_heads": -173,
          "dev_prop_heads": -0.0004844581349762178,
          "tosses": 357100
         },
         {
          "dev_num_heads": -173,
          "dev_prop_heads": -0.000484322508398638,
          "tosses": 357200
         },
         {
          "dev_num_heads": -168,
          "dev_prop_heads": -0.00047019311502938255,
          "tosses": 357300
         },
         {
          "dev_num_heads": -162,
          "dev_prop_heads": -0.00045327364297703676,
          "tosses": 357400
         },
         {
          "dev_num_heads": -159,
          "dev_prop_heads": -0.000444755244755235,
          "tosses": 357500
         },
         {
          "dev_num_heads": -158,
          "dev_prop_heads": -0.000441834451901546,
          "tosses": 357600
         },
         {
          "dev_num_heads": -157,
          "dev_prop_heads": -0.0004389152921442374,
          "tosses": 357700
         },
         {
          "dev_num_heads": -149,
          "dev_prop_heads": -0.0004164337618781655,
          "tosses": 357800
         },
         {
          "dev_num_heads": -156,
          "dev_prop_heads": -0.00043587594300081856,
          "tosses": 357900
         },
         {
          "dev_num_heads": -154,
          "dev_prop_heads": -0.00043016759776537405,
          "tosses": 358000
         },
         {
          "dev_num_heads": -158,
          "dev_prop_heads": -0.00044121753700082644,
          "tosses": 358100
         },
         {
          "dev_num_heads": -159,
          "dev_prop_heads": -0.0004438860971524017,
          "tosses": 358200
         },
         {
          "dev_num_heads": -157,
          "dev_prop_heads": -0.00043818029584147267,
          "tosses": 358300
         },
         {
          "dev_num_heads": -155,
          "dev_prop_heads": -0.00043247767857140795,
          "tosses": 358400
         },
         {
          "dev_num_heads": -161,
          "dev_prop_heads": -0.0004490934449093431,
          "tosses": 358500
         },
         {
          "dev_num_heads": -157,
          "dev_prop_heads": -0.00043781372002232866,
          "tosses": 358600
         },
         {
          "dev_num_heads": -165,
          "dev_prop_heads": -0.00045999442430999515,
          "tosses": 358700
         },
         {
          "dev_num_heads": -167,
          "dev_prop_heads": -0.0004654403567447285,
          "tosses": 358800
         },
         {
          "dev_num_heads": -170,
          "dev_prop_heads": -0.0004736695458344986,
          "tosses": 358900
         },
         {
          "dev_num_heads": -169,
          "dev_prop_heads": -0.0004707520891364947,
          "tosses": 359000
         },
         {
          "dev_num_heads": -163,
          "dev_prop_heads": -0.0004539125591757065,
          "tosses": 359100
         },
         {
          "dev_num_heads": -165,
          "dev_prop_heads": -0.0004593541202672635,
          "tosses": 359200
         },
         {
          "dev_num_heads": -173,
          "dev_prop_heads": -0.0004814917895908932,
          "tosses": 359300
         },
         {
          "dev_num_heads": -165,
          "dev_prop_heads": -0.00045909849749581344,
          "tosses": 359400
         },
         {
          "dev_num_heads": -173,
          "dev_prop_heads": -0.00048122392211402687,
          "tosses": 359500
         },
         {
          "dev_num_heads": -178,
          "dev_prop_heads": -0.0004949944382647287,
          "tosses": 359600
         },
         {
          "dev_num_heads": -170,
          "dev_prop_heads": -0.0004726160689463299,
          "tosses": 359700
         },
         {
          "dev_num_heads": -172,
          "dev_prop_heads": -0.00047804335742079873,
          "tosses": 359800
         },
         {
          "dev_num_heads": -180,
          "dev_prop_heads": -0.000500138927479854,
          "tosses": 359900
         },
         {
          "dev_num_heads": -182,
          "dev_prop_heads": -0.0005055555555555369,
          "tosses": 360000
         },
         {
          "dev_num_heads": -181,
          "dev_prop_heads": -0.0005026381560677695,
          "tosses": 360100
         },
         {
          "dev_num_heads": -181,
          "dev_prop_heads": -0.000502498611882285,
          "tosses": 360200
         },
         {
          "dev_num_heads": -180,
          "dev_prop_heads": -0.0004995836802664244,
          "tosses": 360300
         },
         {
          "dev_num_heads": -187,
          "dev_prop_heads": -0.0005188679245283212,
          "tosses": 360400
         },
         {
          "dev_num_heads": -181,
          "dev_prop_heads": -0.0005020804438279902,
          "tosses": 360500
         },
         {
          "dev_num_heads": -182,
          "dev_prop_heads": -0.0005047143649473118,
          "tosses": 360600
         },
         {
          "dev_num_heads": -182,
          "dev_prop_heads": -0.0005045744385916429,
          "tosses": 360700
         },
         {
          "dev_num_heads": -179,
          "dev_prop_heads": -0.0004961197339246048,
          "tosses": 360800
         },
         {
          "dev_num_heads": -188,
          "dev_prop_heads": -0.0005209199224162075,
          "tosses": 360900
         },
         {
          "dev_num_heads": -194,
          "dev_prop_heads": -0.0005373961218836376,
          "tosses": 361000
         },
         {
          "dev_num_heads": -203,
          "dev_prop_heads": -0.0005621711437274746,
          "tosses": 361100
         },
         {
          "dev_num_heads": -192,
          "dev_prop_heads": -0.0005315614617940057,
          "tosses": 361200
         },
         {
          "dev_num_heads": -195,
          "dev_prop_heads": -0.000539717686133423,
          "tosses": 361300
         },
         {
          "dev_num_heads": -194,
          "dev_prop_heads": -0.000536801328168246,
          "tosses": 361400
         },
         {
          "dev_num_heads": -194,
          "dev_prop_heads": -0.0005366528354080469,
          "tosses": 361500
         },
         {
          "dev_num_heads": -193,
          "dev_prop_heads": -0.0005337389380530855,
          "tosses": 361600
         },
         {
          "dev_num_heads": -199,
          "dev_prop_heads": -0.0005501797069394354,
          "tosses": 361700
         },
         {
          "dev_num_heads": -201,
          "dev_prop_heads": -0.0005555555555555314,
          "tosses": 361800
         },
         {
          "dev_num_heads": -205,
          "dev_prop_heads": -0.0005664548217739762,
          "tosses": 361900
         },
         {
          "dev_num_heads": -201,
          "dev_prop_heads": -0.0005552486187845318,
          "tosses": 362000
         },
         {
          "dev_num_heads": -200,
          "dev_prop_heads": -0.000552333609500133,
          "tosses": 362100
         },
         {
          "dev_num_heads": -203,
          "dev_prop_heads": -0.000560463832136926,
          "tosses": 362200
         },
         {
          "dev_num_heads": -204,
          "dev_prop_heads": -0.0005630692796025349,
          "tosses": 362300
         },
         {
          "dev_num_heads": -208,
          "dev_prop_heads": -0.0005739514348785946,
          "tosses": 362400
         },
         {
          "dev_num_heads": -212,
          "dev_prop_heads": -0.0005848275862068708,
          "tosses": 362500
         },
         {
          "dev_num_heads": -212,
          "dev_prop_heads": -0.0005846662989519857,
          "tosses": 362600
         },
         {
          "dev_num_heads": -214,
          "dev_prop_heads": -0.0005900192996967091,
          "tosses": 362700
         },
         {
          "dev_num_heads": -212,
          "dev_prop_heads": -0.0005843439911797366,
          "tosses": 362800
         },
         {
          "dev_num_heads": -218,
          "dev_prop_heads": -0.0006007164508128882,
          "tosses": 362900
         },
         {
          "dev_num_heads": -222,
          "dev_prop_heads": -0.0006115702479339014,
          "tosses": 363000
         },
         {
          "dev_num_heads": -223,
          "dev_prop_heads": -0.0006141558799228619,
          "tosses": 363100
         },
         {
          "dev_num_heads": -222,
          "dev_prop_heads": -0.0006112334801762209,
          "tosses": 363200
         },
         {
          "dev_num_heads": -226,
          "dev_prop_heads": -0.0006220754197632794,
          "tosses": 363300
         },
         {
          "dev_num_heads": -214,
          "dev_prop_heads": -0.0005888827738029789,
          "tosses": 363400
         },
         {
          "dev_num_heads": -217,
          "dev_prop_heads": -0.0005969738651994683,
          "tosses": 363500
         },
         {
          "dev_num_heads": -217,
          "dev_prop_heads": -0.0005968096809680912,
          "tosses": 363600
         },
         {
          "dev_num_heads": -226,
          "dev_prop_heads": -0.0006213912565301016,
          "tosses": 363700
         },
         {
          "dev_num_heads": -230,
          "dev_prop_heads": -0.0006322155030236143,
          "tosses": 363800
         },
         {
          "dev_num_heads": -230,
          "dev_prop_heads": -0.0006320417697169289,
          "tosses": 363900
         },
         {
          "dev_num_heads": -235,
          "dev_prop_heads": -0.0006456043956044044,
          "tosses": 364000
         },
         {
          "dev_num_heads": -236,
          "dev_prop_heads": -0.0006481735786871834,
          "tosses": 364100
         },
         {
          "dev_num_heads": -230,
          "dev_prop_heads": -0.0006315211422295297,
          "tosses": 364200
         },
         {
          "dev_num_heads": -226,
          "dev_prop_heads": -0.0006203678287126091,
          "tosses": 364300
         },
         {
          "dev_num_heads": -234,
          "dev_prop_heads": -0.0006421514818880092,
          "tosses": 364400
         },
         {
          "dev_num_heads": -238,
          "dev_prop_heads": -0.0006529492455418229,
          "tosses": 364500
         },
         {
          "dev_num_heads": -237,
          "dev_prop_heads": -0.0006500274273176232,
          "tosses": 364600
         },
         {
          "dev_num_heads": -240,
          "dev_prop_heads": -0.000658075130244018,
          "tosses": 364700
         },
         {
          "dev_num_heads": -240,
          "dev_prop_heads": -0.0006578947368420796,
          "tosses": 364800
         },
         {
          "dev_num_heads": -241,
          "dev_prop_heads": -0.0006604549191559506,
          "tosses": 364900
         },
         {
          "dev_num_heads": -239,
          "dev_prop_heads": -0.0006547945205479522,
          "tosses": 365000
         },
         {
          "dev_num_heads": -242,
          "dev_prop_heads": -0.0006628321007943194,
          "tosses": 365100
         },
         {
          "dev_num_heads": -237,
          "dev_prop_heads": -0.0006489594742606908,
          "tosses": 365200
         },
         {
          "dev_num_heads": -241,
          "dev_prop_heads": -0.0006597317273474013,
          "tosses": 365300
         },
         {
          "dev_num_heads": -243,
          "dev_prop_heads": -0.000665024630541855,
          "tosses": 365400
         },
         {
          "dev_num_heads": -234,
          "dev_prop_heads": -0.0006402188782489993,
          "tosses": 365500
         },
         {
          "dev_num_heads": -235,
          "dev_prop_heads": -0.0006427789934354555,
          "tosses": 365600
         },
         {
          "dev_num_heads": -237,
          "dev_prop_heads": -0.000648072190319926,
          "tosses": 365700
         },
         {
          "dev_num_heads": -240,
          "dev_prop_heads": -0.0006560962274466675,
          "tosses": 365800
         },
         {
          "dev_num_heads": -240,
          "dev_prop_heads": -0.0006559169171904689,
          "tosses": 365900
         },
         {
          "dev_num_heads": -235,
          "dev_prop_heads": -0.0006420765027322362,
          "tosses": 366000
         },
         {
          "dev_num_heads": -234,
          "dev_prop_heads": -0.0006391696257853074,
          "tosses": 366100
         },
         {
          "dev_num_heads": -233,
          "dev_prop_heads": -0.0006362643364281606,
          "tosses": 366200
         },
         {
          "dev_num_heads": -222,
          "dev_prop_heads": -0.00060606060606061,
          "tosses": 366300
         },
         {
          "dev_num_heads": -216,
          "dev_prop_heads": -0.0005895196506550127,
          "tosses": 366400
         },
         {
          "dev_num_heads": -217,
          "dev_prop_heads": -0.0005920873124147241,
          "tosses": 366500
         },
         {
          "dev_num_heads": -214,
          "dev_prop_heads": -0.0005837424986361306,
          "tosses": 366600
         },
         {
          "dev_num_heads": -221,
          "dev_prop_heads": -0.0006026724843196107,
          "tosses": 366700
         },
         {
          "dev_num_heads": -223,
          "dev_prop_heads": -0.0006079607415485078,
          "tosses": 366800
         },
         {
          "dev_num_heads": -231,
          "dev_prop_heads": -0.0006295993458708127,
          "tosses": 366900
         },
         {
          "dev_num_heads": -231,
          "dev_prop_heads": -0.0006294277929155268,
          "tosses": 367000
         },
         {
          "dev_num_heads": -233,
          "dev_prop_heads": -0.0006347044402070234,
          "tosses": 367100
         },
         {
          "dev_num_heads": -222,
          "dev_prop_heads": -0.0006045751633986796,
          "tosses": 367200
         },
         {
          "dev_num_heads": -213,
          "dev_prop_heads": -0.0005799074326163778,
          "tosses": 367300
         },
         {
          "dev_num_heads": -209,
          "dev_prop_heads": -0.0005688622754491113,
          "tosses": 367400
         },
         {
          "dev_num_heads": -216,
          "dev_prop_heads": -0.0005877551020408434,
          "tosses": 367500
         },
         {
          "dev_num_heads": -220,
          "dev_prop_heads": -0.0005984766050054491,
          "tosses": 367600
         },
         {
          "dev_num_heads": -221,
          "dev_prop_heads": -0.0006010334511830084,
          "tosses": 367700
         },
         {
          "dev_num_heads": -229,
          "dev_prop_heads": -0.0006226209896683099,
          "tosses": 367800
         },
         {
          "dev_num_heads": -227,
          "dev_prop_heads": -0.0006170154933405891,
          "tosses": 367900
         },
         {
          "dev_num_heads": -223,
          "dev_prop_heads": -0.0006059782608695552,
          "tosses": 368000
         },
         {
          "dev_num_heads": -222,
          "dev_prop_heads": -0.0006030969845150502,
          "tosses": 368100
         },
         {
          "dev_num_heads": -219,
          "dev_prop_heads": -0.0005947854426942012,
          "tosses": 368200
         },
         {
          "dev_num_heads": -221,
          "dev_prop_heads": -0.0006000543035568628,
          "tosses": 368300
         },
         {
          "dev_num_heads": -225,
          "dev_prop_heads": -0.000610749185667725,
          "tosses": 368400
         },
         {
          "dev_num_heads": -213,
          "dev_prop_heads": -0.0005780189959294635,
          "tosses": 368500
         },
         {
          "dev_num_heads": -207,
          "dev_prop_heads": -0.0005615843733043913,
          "tosses": 368600
         },
         {
          "dev_num_heads": -201,
          "dev_prop_heads": -0.0005451586655817464,
          "tosses": 368700
         },
         {
          "dev_num_heads": -206,
          "dev_prop_heads": -0.0005585683297180122,
          "tosses": 368800
         },
         {
          "dev_num_heads": -208,
          "dev_prop_heads": -0.0005638384386012496,
          "tosses": 368900
         },
         {
          "dev_num_heads": -209,
          "dev_prop_heads": -0.0005663956639566647,
          "tosses": 369000
         },
         {
          "dev_num_heads": -199,
          "dev_prop_heads": -0.00053914928203741,
          "tosses": 369100
         },
         {
          "dev_num_heads": -198,
          "dev_prop_heads": -0.0005362946912242927,
          "tosses": 369200
         },
         {
          "dev_num_heads": -199,
          "dev_prop_heads": -0.0005388572975900119,
          "tosses": 369300
         },
         {
          "dev_num_heads": -197,
          "dev_prop_heads": -0.000533297238765551,
          "tosses": 369400
         },
         {
          "dev_num_heads": -206,
          "dev_prop_heads": -0.0005575101488498047,
          "tosses": 369500
         },
         {
          "dev_num_heads": -205,
          "dev_prop_heads": -0.0005546536796536827,
          "tosses": 369600
         },
         {
          "dev_num_heads": -197,
          "dev_prop_heads": -0.0005328644847173436,
          "tosses": 369700
         },
         {
          "dev_num_heads": -190,
          "dev_prop_heads": -0.0005137912385073107,
          "tosses": 369800
         },
         {
          "dev_num_heads": -186,
          "dev_prop_heads": -0.0005028386050283662,
          "tosses": 369900
         },
         {
          "dev_num_heads": -185,
          "dev_prop_heads": -0.0005000000000000004,
          "tosses": 370000
         },
         {
          "dev_num_heads": -188,
          "dev_prop_heads": -0.0005079708186976339,
          "tosses": 370100
         },
         {
          "dev_num_heads": -192,
          "dev_prop_heads": -0.0005186385737439014,
          "tosses": 370200
         },
         {
          "dev_num_heads": -190,
          "dev_prop_heads": -0.0005130974885227957,
          "tosses": 370300
         },
         {
          "dev_num_heads": -191,
          "dev_prop_heads": -0.0005156587473001961,
          "tosses": 370400
         },
         {
          "dev_num_heads": -189,
          "dev_prop_heads": -0.0005101214574898538,
          "tosses": 370500
         },
         {
          "dev_num_heads": -196,
          "dev_prop_heads": -0.0005288720992984164,
          "tosses": 370600
         },
         {
          "dev_num_heads": -183,
          "dev_prop_heads": -0.0004936606420286038,
          "tosses": 370700
         },
         {
          "dev_num_heads": -189,
          "dev_prop_heads": -0.0005097087378641008,
          "tosses": 370800
         },
         {
          "dev_num_heads": -198,
          "dev_prop_heads": -0.0005338366136424799,
          "tosses": 370900
         },
         {
          "dev_num_heads": -195,
          "dev_prop_heads": -0.0005256064690026818,
          "tosses": 371000
         },
         {
          "dev_num_heads": -194,
          "dev_prop_heads": -0.0005227701428186515,
          "tosses": 371100
         },
         {
          "dev_num_heads": -193,
          "dev_prop_heads": -0.0005199353448275823,
          "tosses": 371200
         },
         {
          "dev_num_heads": -194,
          "dev_prop_heads": -0.0005224885537301605,
          "tosses": 371300
         },
         {
          "dev_num_heads": -195,
          "dev_prop_heads": -0.0005250403877221088,
          "tosses": 371400
         },
         {
          "dev_num_heads": -198,
          "dev_prop_heads": -0.0005329744279946036,
          "tosses": 371500
         },
         {
          "dev_num_heads": -201,
          "dev_prop_heads": -0.0005409041980624085,
          "tosses": 371600
         },
         {
          "dev_num_heads": -206,
          "dev_prop_heads": -0.0005542103847188673,
          "tosses": 371700
         },
         {
          "dev_num_heads": -211,
          "dev_prop_heads": -0.0005675094136632364,
          "tosses": 371800
         },
         {
          "dev_num_heads": -206,
          "dev_prop_heads": -0.0005539123420274517,
          "tosses": 371900
         },
         {
          "dev_num_heads": -203,
          "dev_prop_heads": -0.0005456989247311639,
          "tosses": 372000
         },
         {
          "dev_num_heads": -207,
          "dev_prop_heads": -0.000556302069336212,
          "tosses": 372100
         },
         {
          "dev_num_heads": -210,
          "dev_prop_heads": -0.0005642127888232373,
          "tosses": 372200
         },
         {
          "dev_num_heads": -210,
          "dev_prop_heads": -0.0005640612409347212,
          "tosses": 372300
         },
         {
          "dev_num_heads": -201,
          "dev_prop_heads": -0.0005397422126745544,
          "tosses": 372400
         },
         {
          "dev_num_heads": -200,
          "dev_prop_heads": -0.0005369127516778316,
          "tosses": 372500
         },
         {
          "dev_num_heads": -202,
          "dev_prop_heads": -0.0005421363392377754,
          "tosses": 372600
         },
         {
          "dev_num_heads": -198,
          "dev_prop_heads": -0.0005312583847598695,
          "tosses": 372700
         },
         {
          "dev_num_heads": -195,
          "dev_prop_heads": -0.000523068669527893,
          "tosses": 372800
         },
         {
          "dev_num_heads": -197,
          "dev_prop_heads": -0.0005282917672297938,
          "tosses": 372900
         },
         {
          "dev_num_heads": -198,
          "dev_prop_heads": -0.0005308310991957166,
          "tosses": 373000
         },
         {
          "dev_num_heads": -196,
          "dev_prop_heads": -0.0005253283302063538,
          "tosses": 373100
         },
         {
          "dev_num_heads": -192,
          "dev_prop_heads": -0.0005144694533761873,
          "tosses": 373200
         },
         {
          "dev_num_heads": -189,
          "dev_prop_heads": -0.0005062952049290081,
          "tosses": 373300
         },
         {
          "dev_num_heads": -181,
          "dev_prop_heads": -0.00048473486877342875,
          "tosses": 373400
         },
         {
          "dev_num_heads": -178,
          "dev_prop_heads": -0.00047657295850067616,
          "tosses": 373500
         },
         {
          "dev_num_heads": -180,
          "dev_prop_heads": -0.00048179871520342976,
          "tosses": 373600
         },
         {
          "dev_num_heads": -176,
          "dev_prop_heads": -0.0004709660155204909,
          "tosses": 373700
         },
         {
          "dev_num_heads": -185,
          "dev_prop_heads": -0.0004949170679507953,
          "tosses": 373800
         },
         {
          "dev_num_heads": -183,
          "dev_prop_heads": -0.0004894356779887588,
          "tosses": 373900
         },
         {
          "dev_num_heads": -184,
          "dev_prop_heads": -0.0004919786096256873,
          "tosses": 374000
         },
         {
          "dev_num_heads": -180,
          "dev_prop_heads": -0.00048115477145149743,
          "tosses": 374100
         },
         {
          "dev_num_heads": -182,
          "dev_prop_heads": -0.0004863709246392123,
          "tosses": 374200
         },
         {
          "dev_num_heads": -180,
          "dev_prop_heads": -0.0004808976756612293,
          "tosses": 374300
         },
         {
          "dev_num_heads": -180,
          "dev_prop_heads": -0.00048076923076922906,
          "tosses": 374400
         },
         {
          "dev_num_heads": -177,
          "dev_prop_heads": -0.00047263017356474757,
          "tosses": 374500
         },
         {
          "dev_num_heads": -180,
          "dev_prop_heads": -0.0004805125467164939,
          "tosses": 374600
         },
         {
          "dev_num_heads": -187,
          "dev_prop_heads": -0.0004990659194021863,
          "tosses": 374700
         },
         {
          "dev_num_heads": -188,
          "dev_prop_heads": -0.0005016008537886973,
          "tosses": 374800
         },
         {
          "dev_num_heads": -178,
          "dev_prop_heads": -0.00047479327820754147,
          "tosses": 374900
         },
         {
          "dev_num_heads": -176,
          "dev_prop_heads": -0.0004693333333333216,
          "tosses": 375000
         },
         {
          "dev_num_heads": -185,
          "dev_prop_heads": -0.0004932018128498972,
          "tosses": 375100
         },
         {
          "dev_num_heads": -181,
          "dev_prop_heads": -0.000482409381663107,
          "tosses": 375200
         },
         {
          "dev_num_heads": -181,
          "dev_prop_heads": -0.00048228084199308796,
          "tosses": 375300
         },
         {
          "dev_num_heads": -196,
          "dev_prop_heads": -0.0005221097496004301,
          "tosses": 375400
         },
         {
          "dev_num_heads": -194,
          "dev_prop_heads": -0.0005166444740345999,
          "tosses": 375500
         },
         {
          "dev_num_heads": -195,
          "dev_prop_heads": -0.0005191693290734767,
          "tosses": 375600
         },
         {
          "dev_num_heads": -193,
          "dev_prop_heads": -0.0005137077455416583,
          "tosses": 375700
         },
         {
          "dev_num_heads": -198,
          "dev_prop_heads": -0.0005268759978712123,
          "tosses": 375800
         },
         {
          "dev_num_heads": -195,
          "dev_prop_heads": -0.0005187549880287246,
          "tosses": 375900
         },
         {
          "dev_num_heads": -195,
          "dev_prop_heads": -0.0005186170212765906,
          "tosses": 376000
         },
         {
          "dev_num_heads": -198,
          "dev_prop_heads": -0.0005264557298590988,
          "tosses": 376100
         },
         {
          "dev_num_heads": -187,
          "dev_prop_heads": -0.0004970760233918292,
          "tosses": 376200
         },
         {
          "dev_num_heads": -176,
          "dev_prop_heads": -0.0004677119319691503,
          "tosses": 376300
         },
         {
          "dev_num_heads": -180,
          "dev_prop_heads": -0.000478214665249721,
          "tosses": 376400
         },
         {
          "dev_num_heads": -183,
          "dev_prop_heads": -0.0004860557768924245,
          "tosses": 376500
         },
         {
          "dev_num_heads": -184,
          "dev_prop_heads": -0.0004885820499203608,
          "tosses": 376600
         },
         {
          "dev_num_heads": -178,
          "dev_prop_heads": -0.0004725245553490742,
          "tosses": 376700
         },
         {
          "dev_num_heads": -186,
          "dev_prop_heads": -0.0004936305732484159,
          "tosses": 376800
         },
         {
          "dev_num_heads": -201,
          "dev_prop_heads": -0.0005332979570177865,
          "tosses": 376900
         },
         {
          "dev_num_heads": -207,
          "dev_prop_heads": -0.0005490716180371336,
          "tosses": 377000
         },
         {
          "dev_num_heads": -202,
          "dev_prop_heads": -0.0005356669318483109,
          "tosses": 377100
         },
         {
          "dev_num_heads": -205,
          "dev_prop_heads": -0.0005434782608695898,
          "tosses": 377200
         },
         {
          "dev_num_heads": -203,
          "dev_prop_heads": -0.0005380333951762739,
          "tosses": 377300
         },
         {
          "dev_num_heads": -202,
          "dev_prop_heads": -0.0005352411234764154,
          "tosses": 377400
         },
         {
          "dev_num_heads": -209,
          "dev_prop_heads": -0.0005536423841059346,
          "tosses": 377500
         },
         {
          "dev_num_heads": -211,
          "dev_prop_heads": -0.0005587923728813671,
          "tosses": 377600
         },
         {
          "dev_num_heads": -204,
          "dev_prop_heads": -0.0005401111993645902,
          "tosses": 377700
         },
         {
          "dev_num_heads": -211,
          "dev_prop_heads": -0.0005584965590259561,
          "tosses": 377800
         },
         {
          "dev_num_heads": -211,
          "dev_prop_heads": -0.0005583487695157707,
          "tosses": 377900
         },
         {
          "dev_num_heads": -210,
          "dev_prop_heads": -0.0005555555555555314,
          "tosses": 378000
         },
         {
          "dev_num_heads": -205,
          "dev_prop_heads": -0.000542184607246754,
          "tosses": 378100
         },
         {
          "dev_num_heads": -214,
          "dev_prop_heads": -0.0005658381808567037,
          "tosses": 378200
         },
         {
          "dev_num_heads": -222,
          "dev_prop_heads": -0.0005868358445678123,
          "tosses": 378300
         },
         {
          "dev_num_heads": -225,
          "dev_prop_heads": -0.0005946088794925863,
          "tosses": 378400
         },
         {
          "dev_num_heads": -227,
          "dev_prop_heads": -0.0005997357992074126,
          "tosses": 378500
         },
         {
          "dev_num_heads": -228,
          "dev_prop_heads": -0.0006022187004754431,
          "tosses": 378600
         },
         {
          "dev_num_heads": -222,
          "dev_prop_heads": -0.0005862160021125051,
          "tosses": 378700
         },
         {
          "dev_num_heads": -218,
          "dev_prop_heads": -0.0005755015839493116,
          "tosses": 378800
         },
         {
          "dev_num_heads": -211,
          "dev_prop_heads": -0.0005568751649511761,
          "tosses": 378900
         },
         {
          "dev_num_heads": -218,
          "dev_prop_heads": -0.0005751978891820331,
          "tosses": 379000
         },
         {
          "dev_num_heads": -228,
          "dev_prop_heads": -0.0006014244262727564,
          "tosses": 379100
         },
         {
          "dev_num_heads": -217,
          "dev_prop_heads": -0.0005722573839662681,
          "tosses": 379200
         },
         {
          "dev_num_heads": -217,
          "dev_prop_heads": -0.0005721065119957958,
          "tosses": 379300
         },
         {
          "dev_num_heads": -218,
          "dev_prop_heads": -0.0005745914602003355,
          "tosses": 379400
         },
         {
          "dev_num_heads": -218,
          "dev_prop_heads": -0.0005744400527009086,
          "tosses": 379500
         },
         {
          "dev_num_heads": -224,
          "dev_prop_heads": -0.000590094836670163,
          "tosses": 379600
         },
         {
          "dev_num_heads": -234,
          "dev_prop_heads": -0.000616276007374239,
          "tosses": 379700
         },
         {
          "dev_num_heads": -240,
          "dev_prop_heads": -0.0006319115323854541,
          "tosses": 379800
         },
         {
          "dev_num_heads": -244,
          "dev_prop_heads": -0.000642274282705968,
          "tosses": 379900
         },
         {
          "dev_num_heads": -246,
          "dev_prop_heads": -0.0006473684210526187,
          "tosses": 380000
         },
         {
          "dev_num_heads": -242,
          "dev_prop_heads": -0.0006366745593264778,
          "tosses": 380100
         },
         {
          "dev_num_heads": -237,
          "dev_prop_heads": -0.0006233561283535138,
          "tosses": 380200
         },
         {
          "dev_num_heads": -239,
          "dev_prop_heads": -0.0006284512227189287,
          "tosses": 380300
         },
         {
          "dev_num_heads": -254,
          "dev_prop_heads": -0.0006677181913775088,
          "tosses": 380400
         },
         {
          "dev_num_heads": -253,
          "dev_prop_heads": -0.000664914586070986,
          "tosses": 380500
         },
         {
          "dev_num_heads": -266,
          "dev_prop_heads": -0.0006988964792433161,
          "tosses": 380600
         },
         {
          "dev_num_heads": -265,
          "dev_prop_heads": -0.0006960861570790566,
          "tosses": 380700
         },
         {
          "dev_num_heads": -261,
          "dev_prop_heads": -0.0006853991596638687,
          "tosses": 380800
         },
         {
          "dev_num_heads": -260,
          "dev_prop_heads": -0.0006825938566553114,
          "tosses": 380900
         },
         {
          "dev_num_heads": -267,
          "dev_prop_heads": -0.0007007874015748095,
          "tosses": 381000
         },
         {
          "dev_num_heads": -277,
          "dev_prop_heads": -0.0007268433482025549,
          "tosses": 381100
         },
         {
          "dev_num_heads": -277,
          "dev_prop_heads": -0.000726652675760775,
          "tosses": 381200
         },
         {
          "dev_num_heads": -278,
          "dev_prop_heads": -0.0007290847102019438,
          "tosses": 381300
         },
         {
          "dev_num_heads": -279,
          "dev_prop_heads": -0.0007315154693235404,
          "tosses": 381400
         },
         {
          "dev_num_heads": -284,
          "dev_prop_heads": -0.0007444298820445394,
          "tosses": 381500
         },
         {
          "dev_num_heads": -285,
          "dev_prop_heads": -0.0007468553459119565,
          "tosses": 381600
         },
         {
          "dev_num_heads": -287,
          "dev_prop_heads": -0.0007518993974325316,
          "tosses": 381700
         },
         {
          "dev_num_heads": -291,
          "dev_prop_heads": -0.0007621791513881537,
          "tosses": 381800
         },
         {
          "dev_num_heads": -295,
          "dev_prop_heads": -0.0007724535218643358,
          "tosses": 381900
         },
         {
          "dev_num_heads": -290,
          "dev_prop_heads": -0.0007591623036649064,
          "tosses": 382000
         },
         {
          "dev_num_heads": -288,
          "dev_prop_heads": -0.0007537293902120101,
          "tosses": 382100
         },
         {
          "dev_num_heads": -288,
          "dev_prop_heads": -0.0007535321821036112,
          "tosses": 382200
         },
         {
          "dev_num_heads": -281,
          "dev_prop_heads": -0.0007350248495945344,
          "tosses": 382300
         },
         {
          "dev_num_heads": -279,
          "dev_prop_heads": -0.0007296025104602255,
          "tosses": 382400
         },
         {
          "dev_num_heads": -279,
          "dev_prop_heads": -0.0007294117647058673,
          "tosses": 382500
         },
         {
          "dev_num_heads": -282,
          "dev_prop_heads": -0.0007370622059592047,
          "tosses": 382600
         },
         {
          "dev_num_heads": -281,
          "dev_prop_heads": -0.0007342565978573079,
          "tosses": 382700
         },
         {
          "dev_num_heads": -284,
          "dev_prop_heads": -0.000741901776384557,
          "tosses": 382800
         },
         {
          "dev_num_heads": -287,
          "dev_prop_heads": -0.0007495429616087845,
          "tosses": 382900
         },
         {
          "dev_num_heads": -296,
          "dev_prop_heads": -0.0007728459530025877,
          "tosses": 383000
         },
         {
          "dev_num_heads": -297,
          "dev_prop_heads": -0.0007752545027407964,
          "tosses": 383100
         },
         {
          "dev_num_heads": -302,
          "dev_prop_heads": -0.0007881002087682942,
          "tosses": 383200
         },
         {
          "dev_num_heads": -307,
          "dev_prop_heads": -0.0008009392121053893,
          "tosses": 383300
         },
         {
          "dev_num_heads": -308,
          "dev_prop_heads": -0.0008033385498174006,
          "tosses": 383400
         },
         {
          "dev_num_heads": -308,
          "dev_prop_heads": -0.0008031290743155117,
          "tosses": 383500
         },
         {
          "dev_num_heads": -302,
          "dev_prop_heads": -0.0007872784150156353,
          "tosses": 383600
         },
         {
          "dev_num_heads": -299,
          "dev_prop_heads": -0.0007792546260099176,
          "tosses": 383700
         },
         {
          "dev_num_heads": -301,
          "dev_prop_heads": -0.0007842626367899896,
          "tosses": 383800
         },
         {
          "dev_num_heads": -305,
          "dev_prop_heads": -0.0007944777285751603,
          "tosses": 383900
         },
         {
          "dev_num_heads": -293,
          "dev_prop_heads": -0.0007630208333333499,
          "tosses": 384000
         },
         {
          "dev_num_heads": -299,
          "dev_prop_heads": -0.0007784431137724535,
          "tosses": 384100
         },
         {
          "dev_num_heads": -299,
          "dev_prop_heads": -0.0007782404997397352,
          "tosses": 384200
         },
         {
          "dev_num_heads": -303,
          "dev_prop_heads": -0.0007884465261514539,
          "tosses": 384300
         },
         {
          "dev_num_heads": -300,
          "dev_prop_heads": -0.0007804370447450637,
          "tosses": 384400
         },
         {
          "dev_num_heads": -305,
          "dev_prop_heads": -0.0007932379713914139,
          "tosses": 384500
         },
         {
          "dev_num_heads": -310,
          "dev_prop_heads": -0.000806032241289667,
          "tosses": 384600
         },
         {
          "dev_num_heads": -304,
          "dev_prop_heads": -0.000790226150246931,
          "tosses": 384700
         },
         {
          "dev_num_heads": -311,
          "dev_prop_heads": -0.0008082120582120766,
          "tosses": 384800
         },
         {
          "dev_num_heads": -306,
          "dev_prop_heads": -0.0007950116913483796,
          "tosses": 384900
         },
         {
          "dev_num_heads": -304,
          "dev_prop_heads": -0.0007896103896103956,
          "tosses": 385000
         },
         {
          "dev_num_heads": -299,
          "dev_prop_heads": -0.0007764217086471126,
          "tosses": 385100
         },
         {
          "dev_num_heads": -297,
          "dev_prop_heads": -0.0007710280373831591,
          "tosses": 385200
         },
         {
          "dev_num_heads": -302,
          "dev_prop_heads": -0.0007838048274071974,
          "tosses": 385300
         },
         {
          "dev_num_heads": -305,
          "dev_prop_heads": -0.0007913855734302255,
          "tosses": 385400
         },
         {
          "dev_num_heads": -297,
          "dev_prop_heads": -0.0007704280155642063,
          "tosses": 385500
         },
         {
          "dev_num_heads": -302,
          "dev_prop_heads": -0.000783195020746863,
          "tosses": 385600
         },
         {
          "dev_num_heads": -300,
          "dev_prop_heads": -0.0007778065854290861,
          "tosses": 385700
         },
         {
          "dev_num_heads": -299,
          "dev_prop_heads": -0.0007750129600829214,
          "tosses": 385800
         },
         {
          "dev_num_heads": -294,
          "dev_prop_heads": -0.000761855402954148,
          "tosses": 385900
         },
         {
          "dev_num_heads": -289,
          "dev_prop_heads": -0.0007487046632124184,
          "tosses": 386000
         },
         {
          "dev_num_heads": -289,
          "dev_prop_heads": -0.0007485107485107334,
          "tosses": 386100
         },
         {
          "dev_num_heads": -283,
          "dev_prop_heads": -0.0007327809425168308,
          "tosses": 386200
         },
         {
          "dev_num_heads": -281,
          "dev_prop_heads": -0.0007274139269997648,
          "tosses": 386300
         },
         {
          "dev_num_heads": -283,
          "dev_prop_heads": -0.0007324016563147184,
          "tosses": 386400
         },
         {
          "dev_num_heads": -284,
          "dev_prop_heads": -0.0007347994825355753,
          "tosses": 386500
         },
         {
          "dev_num_heads": -294,
          "dev_prop_heads": -0.0007604759441283138,
          "tosses": 386600
         },
         {
          "dev_num_heads": -287,
          "dev_prop_heads": -0.0007421773985001323,
          "tosses": 386700
         },
         {
          "dev_num_heads": -293,
          "dev_prop_heads": -0.0007574974146846158,
          "tosses": 386800
         },
         {
          "dev_num_heads": -291,
          "dev_prop_heads": -0.000752132333936395,
          "tosses": 386900
         },
         {
          "dev_num_heads": -291,
          "dev_prop_heads": -0.0007519379844961316,
          "tosses": 387000
         },
         {
          "dev_num_heads": -288,
          "dev_prop_heads": -0.0007439938000516899,
          "tosses": 387100
         },
         {
          "dev_num_heads": -283,
          "dev_prop_heads": -0.0007308884297520524,
          "tosses": 387200
         },
         {
          "dev_num_heads": -274,
          "dev_prop_heads": -0.0007074619158275453,
          "tosses": 387300
         },
         {
          "dev_num_heads": -274,
          "dev_prop_heads": -0.0007072792978833342,
          "tosses": 387400
         },
         {
          "dev_num_heads": -278,
          "dev_prop_heads": -0.0007174193548387109,
          "tosses": 387500
         },
         {
          "dev_num_heads": -278,
          "dev_prop_heads": -0.0007172342621258876,
          "tosses": 387600
         },
         {
          "dev_num_heads": -278,
          "dev_prop_heads": -0.0007170492648955196,
          "tosses": 387700
         },
         {
          "dev_num_heads": -279,
          "dev_prop_heads": -0.0007194430118617756,
          "tosses": 387800
         },
         {
          "dev_num_heads": -279,
          "dev_prop_heads": -0.0007192575406032575,
          "tosses": 387900
         },
         {
          "dev_num_heads": -288,
          "dev_prop_heads": -0.0007422680412371152,
          "tosses": 388000
         },
         {
          "dev_num_heads": -283,
          "dev_prop_heads": -0.0007291935068281519,
          "tosses": 388100
         },
         {
          "dev_num_heads": -283,
          "dev_prop_heads": -0.0007290056671818701,
          "tosses": 388200
         },
         {
          "dev_num_heads": -283,
          "dev_prop_heads": -0.0007288179242853632,
          "tosses": 388300
         },
         {
          "dev_num_heads": -288,
          "dev_prop_heads": -0.0007415036045314016,
          "tosses": 388400
         },
         {
          "dev_num_heads": -289,
          "dev_prop_heads": -0.0007438867438867569,
          "tosses": 388500
         },
         {
          "dev_num_heads": -289,
          "dev_prop_heads": -0.0007436953165208537,
          "tosses": 388600
         },
         {
          "dev_num_heads": -297,
          "dev_prop_heads": -0.0007640854129148389,
          "tosses": 388700
         },
         {
          "dev_num_heads": -295,
          "dev_prop_heads": -0.0007587448559670529,
          "tosses": 388800
         },
         {
          "dev_num_heads": -299,
          "dev_prop_heads": -0.0007688351761378498,
          "tosses": 388900
         },
         {
          "dev_num_heads": -303,
          "dev_prop_heads": -0.0007789203084833107,
          "tosses": 389000
         },
         {
          "dev_num_heads": -307,
          "dev_prop_heads": -0.0007890002570033472,
          "tosses": 389100
         },
         {
          "dev_num_heads": -300,
          "dev_prop_heads": -0.0007708119218910459,
          "tosses": 389200
         },
         {
          "dev_num_heads": -304,
          "dev_prop_heads": -0.0007808887747238757,
          "tosses": 389300
         },
         {
          "dev_num_heads": -309,
          "dev_prop_heads": -0.0007935285053929375,
          "tosses": 389400
         },
         {
          "dev_num_heads": -310,
          "dev_prop_heads": -0.0007958921694480314,
          "tosses": 389500
         },
         {
          "dev_num_heads": -319,
          "dev_prop_heads": -0.0008187885010266793,
          "tosses": 389600
         },
         {
          "dev_num_heads": -317,
          "dev_prop_heads": -0.000813446240697957,
          "tosses": 389700
         },
         {
          "dev_num_heads": -319,
          "dev_prop_heads": -0.0008183683940482522,
          "tosses": 389800
         },
         {
          "dev_num_heads": -322,
          "dev_prop_heads": -0.0008258527827648132,
          "tosses": 389900
         },
         {
          "dev_num_heads": -322,
          "dev_prop_heads": -0.0008256410256410329,
          "tosses": 390000
         },
         {
          "dev_num_heads": -321,
          "dev_prop_heads": -0.0008228659318123555,
          "tosses": 390100
         },
         {
          "dev_num_heads": -311,
          "dev_prop_heads": -0.0007970271655561301,
          "tosses": 390200
         },
         {
          "dev_num_heads": -313,
          "dev_prop_heads": -0.0008019472200870847,
          "tosses": 390300
         },
         {
          "dev_num_heads": -315,
          "dev_prop_heads": -0.0008068647540983576,
          "tosses": 390400
         },
         {
          "dev_num_heads": -308,
          "dev_prop_heads": -0.0007887323943662206,
          "tosses": 390500
         },
         {
          "dev_num_heads": -310,
          "dev_prop_heads": -0.0007936507936507908,
          "tosses": 390600
         },
         {
          "dev_num_heads": -305,
          "dev_prop_heads": -0.0007806501151778611,
          "tosses": 390700
         },
         {
          "dev_num_heads": -307,
          "dev_prop_heads": -0.0007855680655066699,
          "tosses": 390800
         },
         {
          "dev_num_heads": -307,
          "dev_prop_heads": -0.000785367101560519,
          "tosses": 390900
         },
         {
          "dev_num_heads": -304,
          "dev_prop_heads": -0.0007774936061381021,
          "tosses": 391000
         },
         {
          "dev_num_heads": -305,
          "dev_prop_heads": -0.0007798517003324013,
          "tosses": 391100
         },
         {
          "dev_num_heads": -310,
          "dev_prop_heads": -0.0007924335378323155,
          "tosses": 391200
         },
         {
          "dev_num_heads": -304,
          "dev_prop_heads": -0.0007768975210835638,
          "tosses": 391300
         },
         {
          "dev_num_heads": -305,
          "dev_prop_heads": -0.0007792539601430559,
          "tosses": 391400
         },
         {
          "dev_num_heads": -308,
          "dev_prop_heads": -0.0007867177522349889,
          "tosses": 391500
         },
         {
          "dev_num_heads": -306,
          "dev_prop_heads": -0.0007814096016343086,
          "tosses": 391600
         },
         {
          "dev_num_heads": -299,
          "dev_prop_heads": -0.0007633392902731684,
          "tosses": 391700
         },
         {
          "dev_num_heads": -300,
          "dev_prop_heads": -0.0007656967840735107,
          "tosses": 391800
         },
         {
          "dev_num_heads": -309,
          "dev_prop_heads": -0.0007884664455218293,
          "tosses": 391900
         },
         {
          "dev_num_heads": -312,
          "dev_prop_heads": -0.0007959183673469372,
          "tosses": 392000
         },
         {
          "dev_num_heads": -309,
          "dev_prop_heads": -0.0007880642693190443,
          "tosses": 392100
         },
         {
          "dev_num_heads": -320,
          "dev_prop_heads": -0.0008159102498724868,
          "tosses": 392200
         },
         {
          "dev_num_heads": -319,
          "dev_prop_heads": -0.0008131531990823171,
          "tosses": 392300
         },
         {
          "dev_num_heads": -321,
          "dev_prop_heads": -0.000818042813455655,
          "tosses": 392400
         },
         {
          "dev_num_heads": -323,
          "dev_prop_heads": -0.0008229299363057274,
          "tosses": 392500
         },
         {
          "dev_num_heads": -330,
          "dev_prop_heads": -0.0008405501782985381,
          "tosses": 392600
         },
         {
          "dev_num_heads": -331,
          "dev_prop_heads": -0.0008428826075884688,
          "tosses": 392700
         },
         {
          "dev_num_heads": -335,
          "dev_prop_heads": -0.000852851323828896,
          "tosses": 392800
         },
         {
          "dev_num_heads": -331,
          "dev_prop_heads": -0.0008424535505217601,
          "tosses": 392900
         },
         {
          "dev_num_heads": -324,
          "dev_prop_heads": -0.0008244274809160457,
          "tosses": 393000
         },
         {
          "dev_num_heads": -333,
          "dev_prop_heads": -0.000847112693970975,
          "tosses": 393100
         },
         {
          "dev_num_heads": -345,
          "dev_prop_heads": -0.0008774160732451519,
          "tosses": 393200
         },
         {
          "dev_num_heads": -349,
          "dev_prop_heads": -0.0008873633358759125,
          "tosses": 393300
         },
         {
          "dev_num_heads": -343,
          "dev_prop_heads": -0.0008718861209964235,
          "tosses": 393400
         },
         {
          "dev_num_heads": -343,
          "dev_prop_heads": -0.0008716645489199593,
          "tosses": 393500
         },
         {
          "dev_num_heads": -336,
          "dev_prop_heads": -0.0008536585365853666,
          "tosses": 393600
         },
         {
          "dev_num_heads": -334,
          "dev_prop_heads": -0.0008483616967234209,
          "tosses": 393700
         },
         {
          "dev_num_heads": -337,
          "dev_prop_heads": -0.0008557643473844356,
          "tosses": 393800
         },
         {
          "dev_num_heads": -344,
          "dev_prop_heads": -0.0008733181010408542,
          "tosses": 393900
         },
         {
          "dev_num_heads": -331,
          "dev_prop_heads": -0.0008401015228426401,
          "tosses": 394000
         },
         {
          "dev_num_heads": -326,
          "dev_prop_heads": -0.000827201217964979,
          "tosses": 394100
         },
         {
          "dev_num_heads": -328,
          "dev_prop_heads": -0.0008320649416539982,
          "tosses": 394200
         },
         {
          "dev_num_heads": -334,
          "dev_prop_heads": -0.0008470707583058679,
          "tosses": 394300
         },
         {
          "dev_num_heads": -326,
          "dev_prop_heads": -0.0008265720081135908,
          "tosses": 394400
         },
         {
          "dev_num_heads": -323,
          "dev_prop_heads": -0.0008187579214194995,
          "tosses": 394500
         },
         {
          "dev_num_heads": -318,
          "dev_prop_heads": -0.0008058793715154389,
          "tosses": 394600
         },
         {
          "dev_num_heads": -322,
          "dev_prop_heads": -0.0008158094755510437,
          "tosses": 394700
         },
         {
          "dev_num_heads": -323,
          "dev_prop_heads": -0.0008181357649442722,
          "tosses": 394800
         },
         {
          "dev_num_heads": -313,
          "dev_prop_heads": -0.000792605722967854,
          "tosses": 394900
         },
         {
          "dev_num_heads": -313,
          "dev_prop_heads": -0.0007924050632911461,
          "tosses": 395000
         },
         {
          "dev_num_heads": -322,
          "dev_prop_heads": -0.0008149835484687618,
          "tosses": 395100
         },
         {
          "dev_num_heads": -325,
          "dev_prop_heads": -0.000822368421052655,
          "tosses": 395200
         },
         {
          "dev_num_heads": -319,
          "dev_prop_heads": -0.0008069820389577376,
          "tosses": 395300
         },
         {
          "dev_num_heads": -329,
          "dev_prop_heads": -0.0008320687910975955,
          "tosses": 395400
         },
         {
          "dev_num_heads": -338,
          "dev_prop_heads": -0.0008546144121365229,
          "tosses": 395500
         },
         {
          "dev_num_heads": -349,
          "dev_prop_heads": -0.0008822042467138691,
          "tosses": 395600
         },
         {
          "dev_num_heads": -353,
          "dev_prop_heads": -0.0008920899671468474,
          "tosses": 395700
         },
         {
          "dev_num_heads": -358,
          "dev_prop_heads": -0.0009044972208185897,
          "tosses": 395800
         },
         {
          "dev_num_heads": -351,
          "dev_prop_heads": -0.0008865875221015229,
          "tosses": 395900
         },
         {
          "dev_num_heads": -354,
          "dev_prop_heads": -0.0008939393939393914,
          "tosses": 396000
         },
         {
          "dev_num_heads": -359,
          "dev_prop_heads": -0.0009063367836404934,
          "tosses": 396100
         },
         {
          "dev_num_heads": -361,
          "dev_prop_heads": -0.0009111559818273385,
          "tosses": 396200
         },
         {
          "dev_num_heads": -362,
          "dev_prop_heads": -0.0009134494070148769,
          "tosses": 396300
         },
         {
          "dev_num_heads": -362,
          "dev_prop_heads": -0.0009132189707366511,
          "tosses": 396400
         },
         {
          "dev_num_heads": -364,
          "dev_prop_heads": -0.0009180327868852367,
          "tosses": 396500
         },
         {
          "dev_num_heads": -365,
          "dev_prop_heads": -0.0009203227433182137,
          "tosses": 396600
         },
         {
          "dev_num_heads": -366,
          "dev_prop_heads": -0.0009226115452483086,
          "tosses": 396700
         },
         {
          "dev_num_heads": -366,
          "dev_prop_heads": -0.0009223790322580583,
          "tosses": 396800
         },
         {
          "dev_num_heads": -371,
          "dev_prop_heads": -0.000934744268077603,
          "tosses": 396900
         },
         {
          "dev_num_heads": -371,
          "dev_prop_heads": -0.0009345088161208936,
          "tosses": 397000
         },
         {
          "dev_num_heads": -368,
          "dev_prop_heads": -0.0009267187106522523,
          "tosses": 397100
         },
         {
          "dev_num_heads": -365,
          "dev_prop_heads": -0.000918932527693872,
          "tosses": 397200
         },
         {
          "dev_num_heads": -368,
          "dev_prop_heads": -0.0009262522023659736,
          "tosses": 397300
         },
         {
          "dev_num_heads": -360,
          "dev_prop_heads": -0.0009058882737795759,
          "tosses": 397400
         },
         {
          "dev_num_heads": -362,
          "dev_prop_heads": -0.0009106918238993567,
          "tosses": 397500
         },
         {
          "dev_num_heads": -356,
          "dev_prop_heads": -0.0008953722334004155,
          "tosses": 397600
         },
         {
          "dev_num_heads": -355,
          "dev_prop_heads": -0.0008926326376665905,
          "tosses": 397700
         },
         {
          "dev_num_heads": -355,
          "dev_prop_heads": -0.0008924082453494186,
          "tosses": 397800
         },
         {
          "dev_num_heads": -349,
          "dev_prop_heads": -0.000877104800201034,
          "tosses": 397900
         },
         {
          "dev_num_heads": -343,
          "dev_prop_heads": -0.0008618090452261473,
          "tosses": 398000
         },
         {
          "dev_num_heads": -345,
          "dev_prop_heads": -0.0008666164280331512,
          "tosses": 398100
         },
         {
          "dev_num_heads": -334,
          "dev_prop_heads": -0.0008387744851833245,
          "tosses": 398200
         },
         {
          "dev_num_heads": -335,
          "dev_prop_heads": -0.00084107456690935,
          "tosses": 398300
         },
         {
          "dev_num_heads": -333,
          "dev_prop_heads": -0.0008358433734939608,
          "tosses": 398400
         },
         {
          "dev_num_heads": -339,
          "dev_prop_heads": -0.0008506900878293422,
          "tosses": 398500
         },
         {
          "dev_num_heads": -343,
          "dev_prop_heads": -0.0008605117912694471,
          "tosses": 398600
         },
         {
          "dev_num_heads": -344,
          "dev_prop_heads": -0.0008628041133684206,
          "tosses": 398700
         },
         {
          "dev_num_heads": -340,
          "dev_prop_heads": -0.0008525576730190609,
          "tosses": 398800
         },
         {
          "dev_num_heads": -337,
          "dev_prop_heads": -0.0008448232639759468,
          "tosses": 398900
         },
         {
          "dev_num_heads": -341,
          "dev_prop_heads": -0.0008546365914787191,
          "tosses": 399000
         },
         {
          "dev_num_heads": -337,
          "dev_prop_heads": -0.0008443998997744728,
          "tosses": 399100
         },
         {
          "dev_num_heads": -333,
          "dev_prop_heads": -0.0008341683366733244,
          "tosses": 399200
         },
         {
          "dev_num_heads": -339,
          "dev_prop_heads": -0.0008489857250187915,
          "tosses": 399300
         },
         {
          "dev_num_heads": -337,
          "dev_prop_heads": -0.0008437656484727163,
          "tosses": 399400
         },
         {
          "dev_num_heads": -341,
          "dev_prop_heads": -0.0008535669586983707,
          "tosses": 399500
         },
         {
          "dev_num_heads": -339,
          "dev_prop_heads": -0.0008483483483483489,
          "tosses": 399600
         },
         {
          "dev_num_heads": -334,
          "dev_prop_heads": -0.0008356267200400058,
          "tosses": 399700
         },
         {
          "dev_num_heads": -339,
          "dev_prop_heads": -0.0008479239619809675,
          "tosses": 399800
         },
         {
          "dev_num_heads": -340,
          "dev_prop_heads": -0.0008502125531382743,
          "tosses": 399900
         },
         {
          "dev_num_heads": -332,
          "dev_prop_heads": -0.0008299999999999974,
          "tosses": 400000
         }
        ]
       },
       "hconcat": [
        {
         "encoding": {
          "x": {
           "field": "tosses",
           "type": "quantitative"
          },
          "y": {
           "field": "dev_prop_heads",
           "type": "quantitative"
          }
         },
         "mark": "line"
        },
        {
         "encoding": {
          "x": {
           "field": "tosses",
           "type": "quantitative"
          },
          "y": {
           "field": "dev_num_heads",
           "type": "quantitative"
          }
         },
         "mark": "line"
        }
       ]
      },
      "image/png": "[encoded data removed]",
      "text/plain": [
       "<VegaLite 3 object>\n",
       "\n",
       "If you see this message, it means the renderer has not been properly enabled\n",
       "for the frontend that you are using. For more information, see\n",
       "https://altair-viz.github.io/user_guide/troubleshooting.html\n"
      ]
     },
     "execution_count": 116,
     "metadata": {},
     "output_type": "execute_result"
    }
   ],
   "source": [
    "alt_prop_heads = alt.Chart(df_tosses).mark_line().encode(\n",
    "    x='tosses',\n",
    "    y='dev_prop_heads'\n",
    ")\n",
    "\n",
    "alt_dev_heads = alt.Chart(df_tosses).mark_line().encode(\n",
    "    x='tosses',\n",
    "    y='dev_num_heads'\n",
    ")\n",
    "\n",
    "alt_prop_heads | alt_dev_heads"
   ]
  },
  {
   "cell_type": "markdown",
   "metadata": {},
   "source": [
    "1. The overall proportion of heads (minus `1/2`) quickly converges towards `0`.\n",
    "2. The number of heads minus half of the tosses does not. Even at over `300k` tosses, the number is far away from 0. I expect that if we increased the number of tosses that this value would oscillate wider and wider arround a mean of `0`.\n",
    "\n",
    "-----"
   ]
  },
  {
   "cell_type": "markdown",
   "metadata": {
    "jupyter": {
     "outputs_hidden": false
    },
    "pycharm": {
     "is_executing": false,
     "name": "#%%\n"
    }
   },
   "source": [
    "### Exercise 2\n",
    "\n",
    "Modify the program CoinTosses so that it tosses a coin n times and records whether or not the proportion of heads is within `.1` of `.5` (i.e., between `.4` and `.6`). Have your program repeat this experiment `100` times. About how large must `n` be so that approximately `95` out of `100` times the proportion of heads is between `.4` and `.6`?\n",
    "\n"
   ]
  },
  {
   "cell_type": "code",
   "execution_count": 120,
   "metadata": {
    "collapsed": false,
    "jupyter": {
     "outputs_hidden": false
    },
    "pycharm": {
     "name": "#%%\n"
    }
   },
   "outputs": [],
   "source": [
    "def coin_toss_within_range(n):\n",
    "    \"\"\"\n",
    "    Tosses coin n times and returns whether or not proportion of heads is within .1 of 0.5.\n",
    "    :param n: number of tosses\n",
    "    :return: boolean, whether or not proportion of heads is within .1 \n",
    "    \"\"\"\n",
    "    num_heads = 0\n",
    "    for toss in range(1, n + 1):\n",
    "      if random.randint(0, 1) == 1:\n",
    "        num_heads += 1\n",
    "    prop_heads = num_heads / toss\n",
    "    if 0.4 <= prop_heads <= 0.6:\n",
    "      return True\n",
    "    else:\n",
    "      return False"
   ]
  },
  {
   "cell_type": "code",
   "execution_count": 122,
   "metadata": {},
   "outputs": [],
   "source": [
    "# for each n in N, run 100 experiments\n",
    "experiments = 100\n",
    "N = 100\n",
    "np_prop = np.empty(shape=1)\n",
    "np_n = np.arange(0, N + 1)\n",
    "for n in range(1, N + 1):\n",
    "  within_range = 0\n",
    "  for experiment in range(1, experiments + 1):\n",
    "    if coin_toss_within_range(n):\n",
    "       within_range += 1\n",
    "  prop = within_range / experiments\n",
    "  np_prop = np.append(np_prop, prop) \n",
    "df_prop = pd.DataFrame({'n': np_n,\n",
    "                        'prop': np_prop})"
   ]
  },
  {
   "cell_type": "code",
   "execution_count": 132,
   "metadata": {},
   "outputs": [
    {
     "data": {
      "application/vnd.vegalite.v3+json": {
       "$schema": "https://vega.github.io/schema/vega-lite/v3.3.0.json",
       "config": {
        "axis": {
         "labelFontWeight": "bold"
        },
        "axisX": {
         "grid": false
        },
        "mark": {
         "color": "black"
        }
       },
       "data": {
        "name": "data-8231e58449b4cdf06799221f0124642a"
       },
       "datasets": {
        "data-8231e58449b4cdf06799221f0124642a": [
         {
          "n": 0,
          "prop": 0
         },
         {
          "n": 1,
          "prop": 0
         },
         {
          "n": 2,
          "prop": 0.52
         },
         {
          "n": 3,
          "prop": 0
         },
         {
          "n": 4,
          "prop": 0.34
         },
         {
          "n": 5,
          "prop": 0.64
         },
         {
          "n": 6,
          "prop": 0.28
         },
         {
          "n": 7,
          "prop": 0.52
         },
         {
          "n": 8,
          "prop": 0.24
         },
         {
          "n": 9,
          "prop": 0.51
         },
         {
          "n": 10,
          "prop": 0.65
         },
         {
          "n": 11,
          "prop": 0.5
         },
         {
          "n": 12,
          "prop": 0.67
         },
         {
          "n": 13,
          "prop": 0.46
         },
         {
          "n": 14,
          "prop": 0.53
         },
         {
          "n": 15,
          "prop": 0.67
         },
         {
          "n": 16,
          "prop": 0.53
         },
         {
          "n": 17,
          "prop": 0.71
         },
         {
          "n": 18,
          "prop": 0.42
         },
         {
          "n": 19,
          "prop": 0.73
         },
         {
          "n": 20,
          "prop": 0.74
         },
         {
          "n": 21,
          "prop": 0.6
         },
         {
          "n": 22,
          "prop": 0.7
         },
         {
          "n": 23,
          "prop": 0.57
         },
         {
          "n": 24,
          "prop": 0.66
         },
         {
          "n": 25,
          "prop": 0.68
         },
         {
          "n": 26,
          "prop": 0.74
         },
         {
          "n": 27,
          "prop": 0.71
         },
         {
          "n": 28,
          "prop": 0.64
         },
         {
          "n": 29,
          "prop": 0.71
         },
         {
          "n": 30,
          "prop": 0.83
         },
         {
          "n": 31,
          "prop": 0.75
         },
         {
          "n": 32,
          "prop": 0.76
         },
         {
          "n": 33,
          "prop": 0.69
         },
         {
          "n": 34,
          "prop": 0.73
         },
         {
          "n": 35,
          "prop": 0.77
         },
         {
          "n": 36,
          "prop": 0.8
         },
         {
          "n": 37,
          "prop": 0.8
         },
         {
          "n": 38,
          "prop": 0.78
         },
         {
          "n": 39,
          "prop": 0.79
         },
         {
          "n": 40,
          "prop": 0.89
         },
         {
          "n": 41,
          "prop": 0.74
         },
         {
          "n": 42,
          "prop": 0.84
         },
         {
          "n": 43,
          "prop": 0.76
         },
         {
          "n": 44,
          "prop": 0.83
         },
         {
          "n": 45,
          "prop": 0.83
         },
         {
          "n": 46,
          "prop": 0.73
         },
         {
          "n": 47,
          "prop": 0.83
         },
         {
          "n": 48,
          "prop": 0.83
         },
         {
          "n": 49,
          "prop": 0.86
         },
         {
          "n": 50,
          "prop": 0.94
         },
         {
          "n": 51,
          "prop": 0.86
         },
         {
          "n": 52,
          "prop": 0.86
         },
         {
          "n": 53,
          "prop": 0.82
         },
         {
          "n": 54,
          "prop": 0.91
         },
         {
          "n": 55,
          "prop": 0.91
         },
         {
          "n": 56,
          "prop": 0.85
         },
         {
          "n": 57,
          "prop": 0.9
         },
         {
          "n": 58,
          "prop": 0.89
         },
         {
          "n": 59,
          "prop": 0.87
         },
         {
          "n": 60,
          "prop": 0.85
         },
         {
          "n": 61,
          "prop": 0.88
         },
         {
          "n": 62,
          "prop": 0.93
         },
         {
          "n": 63,
          "prop": 0.88
         },
         {
          "n": 64,
          "prop": 0.91
         },
         {
          "n": 65,
          "prop": 0.97
         },
         {
          "n": 66,
          "prop": 0.92
         },
         {
          "n": 67,
          "prop": 0.95
         },
         {
          "n": 68,
          "prop": 0.86
         },
         {
          "n": 69,
          "prop": 0.88
         },
         {
          "n": 70,
          "prop": 0.93
         },
         {
          "n": 71,
          "prop": 0.87
         },
         {
          "n": 72,
          "prop": 0.91
         },
         {
          "n": 73,
          "prop": 0.91
         },
         {
          "n": 74,
          "prop": 0.88
         },
         {
          "n": 75,
          "prop": 0.94
         },
         {
          "n": 76,
          "prop": 0.93
         },
         {
          "n": 77,
          "prop": 0.91
         },
         {
          "n": 78,
          "prop": 0.97
         },
         {
          "n": 79,
          "prop": 0.91
         },
         {
          "n": 80,
          "prop": 0.94
         },
         {
          "n": 81,
          "prop": 0.95
         },
         {
          "n": 82,
          "prop": 0.95
         },
         {
          "n": 83,
          "prop": 0.95
         },
         {
          "n": 84,
          "prop": 0.95
         },
         {
          "n": 85,
          "prop": 0.93
         },
         {
          "n": 86,
          "prop": 0.96
         },
         {
          "n": 87,
          "prop": 0.9
         },
         {
          "n": 88,
          "prop": 0.93
         },
         {
          "n": 89,
          "prop": 0.95
         },
         {
          "n": 90,
          "prop": 0.94
         },
         {
          "n": 91,
          "prop": 0.94
         },
         {
          "n": 92,
          "prop": 0.96
         },
         {
          "n": 93,
          "prop": 0.95
         },
         {
          "n": 94,
          "prop": 0.96
         },
         {
          "n": 95,
          "prop": 0.97
         },
         {
          "n": 96,
          "prop": 0.93
         },
         {
          "n": 97,
          "prop": 0.96
         },
         {
          "n": 98,
          "prop": 0.94
         },
         {
          "n": 99,
          "prop": 0.94
         },
         {
          "n": 100,
          "prop": 0.97
         }
        ]
       },
       "height": 247,
       "layer": [
        {
         "encoding": {
          "x": {
           "field": "n",
           "type": "quantitative"
          },
          "y": {
           "field": "prop",
           "type": "quantitative"
          }
         },
         "mark": "line"
        },
        {
         "encoding": {
          "y": {
           "field": "a",
           "type": "quantitative"
          }
         },
         "mark": "rule"
        }
       ],
       "transform": [
        {
         "as": "a",
         "calculate": ".95"
        }
       ],
       "width": 400
      },
      "image/png": "[encoded data removed]",
      "text/plain": [
       "<VegaLite 3 object>\n",
       "\n",
       "If you see this message, it means the renderer has not been properly enabled\n",
       "for the frontend that you are using. For more information, see\n",
       "https://altair-viz.github.io/user_guide/troubleshooting.html\n"
      ]
     },
     "execution_count": 132,
     "metadata": {},
     "output_type": "execute_result"
    }
   ],
   "source": [
    "line = alt.Chart(df_prop).mark_line().encode(\n",
    "    x='n',\n",
    "    y='prop'\n",
    ")\n",
    "rule = alt.Chart(df_prop).mark_rule(color='red').encode(\n",
    "    y='mean(wheat):Q'\n",
    ")\n",
    "\n",
    "hline = alt.Chart().mark_rule().encode(\n",
    "    y='a:Q'\n",
    ")\n",
    "# adding horizontal line is a pain-point in altair\n",
    "alt.layer(\n",
    "    line, hline,\n",
    "    data=df_prop\n",
    ").transform_calculate(\n",
    "    a=\".95\"\n",
    "# TODO make this part of theme\n",
    ").properties(\n",
    "    width=400,\n",
    "    height=247\n",
    ")"
   ]
  },
  {
   "cell_type": "markdown",
   "metadata": {},
   "source": [
    "#### Answer\n",
    "\n",
    "* `n` between 60-80 is where we consistently find the proportion of heads to be between `0.4` and `0.6` 95% of the time.\n",
    "\n",
    "-----"
   ]
  },
  {
   "cell_type": "markdown",
   "metadata": {},
   "source": [
    "### Exercise 3.\n",
    "\n",
    "In the early 1600s, Galileo was asked to explain the fact that, although the number of triples of integers from 1 to 6 with sum 9 is the same as the number of such triples with sum 10, when three dice are rolled, a 9 seemed to come up less often than a 10—supposedly in the experience of gamblers.\n",
    "\n",
    "(a) Write a program to simulate the roll of three dice a large number of times and keep track of the proportion of times that the sum is 9 and the proportion of times it is 10.\n",
    "\n",
    "(b) Can you conclude from your simulations that the gamblers were correct?"
   ]
  },
  {
   "cell_type": "code",
   "execution_count": 110,
   "metadata": {
    "pycharm": {
     "is_executing": false
    }
   },
   "outputs": [],
   "source": [
    "def roll_three_dice(rolls):\n",
    "  nines = 0\n",
    "  tens = 0\n",
    "  for roll in range(1, rolls + 1):\n",
    "    sum_dice = random.randint(3, 18)\n",
    "    if sum_dice == 9:\n",
    "      nines += 1\n",
    "    elif sum_dice == 10:\n",
    "      tens += 1\n",
    "  print(nines, tens)"
   ]
  },
  {
   "cell_type": "code",
   "execution_count": 111,
   "metadata": {
    "collapsed": false,
    "jupyter": {
     "outputs_hidden": false
    },
    "pycharm": {
     "name": "#%%\n"
    }
   },
   "outputs": [
    {
     "name": "stdout",
     "output_type": "stream",
     "text": [
      "62513 62549\n"
     ]
    }
   ],
   "source": [
    "roll_three_dice(1_000_000)"
   ]
  },
  {
   "cell_type": "markdown",
   "metadata": {},
   "source": [
    "#### Answer\n",
    "\n",
    "The gamblers are incorrect. As `n` grows, the numbers of `9` rolls and `10` rolls converge.\n",
    "\n",
    "-----"
   ]
  },
  {
   "cell_type": "markdown",
   "metadata": {},
   "source": [
    "### Exercise 4"
   ]
  },
  {
   "cell_type": "markdown",
   "metadata": {},
   "source": [
    "In raquetball, a player continues to serve as long as she is winning; a point is scored only when a player is serving and wins the volley. The first player to win 21 points wins the game. Assume that you serve first and have a probability .6 of winning a volley when you serve and probability .5 when your opponent serves. Estimate, by simulation, the probability that you will win a game."
   ]
  },
  {
   "cell_type": "markdown",
   "metadata": {},
   "source": [
    "#### Answer\n",
    "\n",
    "Let's make a class `RaquetMatch` which simulate raquetball matches based on probabilities of a player winning a volley."
   ]
  },
  {
   "cell_type": "code",
   "execution_count": 262,
   "metadata": {},
   "outputs": [],
   "source": [
    "class RaquetMatch:\n",
    "    \"\"\"A raquetball match\"\"\"\n",
    "    points_to_win = 21\n",
    "\n",
    "    def __init__(self, win_volley, win_volley_opp):\n",
    "        self.win_volley = win_volley,\n",
    "        self.win_volley_opp = win_volley_opp\n",
    "        \n",
    "    def simulate_game(self, serving = \"1\"):\n",
    "      playing = True\n",
    "      score_1 = score_2 = 0\n",
    "    \n",
    "      while playing:\n",
    "        win_volley = self.win_volley if serving == \"A\" else self.win_volley_opp\n",
    "        if random.random() <= win_volley:\n",
    "          score_1 += 1\n",
    "          serving = \"1\"\n",
    "        else:\n",
    "          score_2 += 1\n",
    "          serving = \"2\"\n",
    "        playing = (score_1 < 21) and (score_2 < 21)\n",
    "      return score_1, score_2\n",
    "    \n",
    "    def simulate_n_games(self, n=10):\n",
    "      wins_1 = wins_2 = 0 \n",
    "      for i in range(1, n+1):\n",
    "        score_1, score_2 = self.simulate_game()\n",
    "        if score_1 > score_2:\n",
    "          wins_1 += 1\n",
    "        else:\n",
    "          wins_2 += 1\n",
    "      prop_wins_1 = wins_1 / (wins_2 + wins_1)\n",
    "      return prop_wins_1"
   ]
  },
  {
   "cell_type": "code",
   "execution_count": 270,
   "metadata": {},
   "outputs": [
    {
     "data": {
      "text/plain": [
       "0.5045"
      ]
     },
     "execution_count": 270,
     "metadata": {},
     "output_type": "execute_result"
    }
   ],
   "source": [
    "match = RaquetMatch(win_volley=0.6, win_volley_opp=0.5)\n",
    "match.simulate_n_games(10000)"
   ]
  },
  {
   "cell_type": "markdown",
   "metadata": {},
   "source": [
    "After `10k` matches, the probability of the first player winning is `~50%`."
   ]
  },
  {
   "cell_type": "markdown",
   "metadata": {},
   "source": [
    "### Exercise 5"
   ]
  },
  {
   "cell_type": "markdown",
   "metadata": {},
   "source": [
    "Consider the bet that all three dice will turn up sixes at least once in n rolls of three dice. Calculate *f(n)*, the probability of at least one triple-six when three dice are rolled *n* times. Determine the smallest value of *n* necessary for a favorable bet that a triple-six will occur when three dice are rolled *n* times. (DeMoivre would say it should be about `216*log2 = 149.7` and so would answer 150—see Exercise 1.2.17. Do you agree with him?)"
   ]
  },
  {
   "cell_type": "code",
   "execution_count": 271,
   "metadata": {},
   "outputs": [],
   "source": [
    "def roll_three_dice():\n",
    "  sum_dice = random.randint(3, 18)\n",
    "  return sum_dice\n",
    "\n",
    "def check_triple_sixes(rolls):\n",
    "  triple_sixes = 0\n",
    "  for roll in range(1, rolls + 1):\n",
    "    if roll_three_dice() == 18:\n",
    "      return True\n",
    "  return False"
   ]
  },
  {
   "cell_type": "code",
   "execution_count": 272,
   "metadata": {},
   "outputs": [
    {
     "ename": "TypeError",
     "evalue": "'int' object is not iterable",
     "output_type": "error",
     "traceback": [
      "\u001b[0;31m---------------------------------------------------------------------------\u001b[0m",
      "\u001b[0;31mTypeError\u001b[0m                                 Traceback (most recent call last)",
      "\u001b[0;32m<ipython-input-272-8061f996a277>\u001b[0m in \u001b[0;36m<module>\u001b[0;34m\u001b[0m\n\u001b[0;32m----> 1\u001b[0;31m \u001b[0mcheck_triple_sixes\u001b[0m\u001b[0;34m(\u001b[0m\u001b[0;36m100\u001b[0m\u001b[0;34m)\u001b[0m\u001b[0;34m\u001b[0m\u001b[0;34m\u001b[0m\u001b[0m\n\u001b[0m",
      "\u001b[0;32m<ipython-input-271-3540ee4dda8d>\u001b[0m in \u001b[0;36mcheck_triple_sixes\u001b[0;34m(rolls)\u001b[0m\n\u001b[1;32m      5\u001b[0m \u001b[0;32mdef\u001b[0m \u001b[0mcheck_triple_sixes\u001b[0m\u001b[0;34m(\u001b[0m\u001b[0mrolls\u001b[0m\u001b[0;34m)\u001b[0m\u001b[0;34m:\u001b[0m\u001b[0;34m\u001b[0m\u001b[0;34m\u001b[0m\u001b[0m\n\u001b[1;32m      6\u001b[0m   \u001b[0mtriple_sixes\u001b[0m \u001b[0;34m=\u001b[0m \u001b[0;36m0\u001b[0m\u001b[0;34m\u001b[0m\u001b[0;34m\u001b[0m\u001b[0m\n\u001b[0;32m----> 7\u001b[0;31m   \u001b[0;32mfor\u001b[0m \u001b[0mroll\u001b[0m \u001b[0;32min\u001b[0m \u001b[0mrolls\u001b[0m\u001b[0;34m:\u001b[0m\u001b[0;34m\u001b[0m\u001b[0;34m\u001b[0m\u001b[0m\n\u001b[0m\u001b[1;32m      8\u001b[0m     \u001b[0;32mif\u001b[0m \u001b[0mroll_three_dice\u001b[0m\u001b[0;34m(\u001b[0m\u001b[0;34m)\u001b[0m \u001b[0;34m==\u001b[0m \u001b[0;36m18\u001b[0m\u001b[0;34m:\u001b[0m\u001b[0;34m\u001b[0m\u001b[0;34m\u001b[0m\u001b[0m\n\u001b[1;32m      9\u001b[0m       \u001b[0;32mreturn\u001b[0m \u001b[0;32mTrue\u001b[0m\u001b[0;34m\u001b[0m\u001b[0;34m\u001b[0m\u001b[0m\n",
      "\u001b[0;31mTypeError\u001b[0m: 'int' object is not iterable"
     ]
    }
   ],
   "source": [
    "check_triple_sixes(100)"
   ]
  },
  {
   "cell_type": "code",
   "execution_count": null,
   "metadata": {},
   "outputs": [],
   "source": []
  }
 ],
 "metadata": {
  "kernelspec": {
   "display_name": "Python (py372)",
   "language": "python",
   "name": "py372"
  },
  "language_info": {
   "codemirror_mode": {
    "name": "ipython",
    "version": 3
   },
   "file_extension": ".py",
   "mimetype": "text/x-python",
   "name": "python",
   "nbconvert_exporter": "python",
   "pygments_lexer": "ipython3",
   "version": "3.7.2"
  },
  "pycharm": {
   "stem_cell": {
    "cell_type": "raw",
    "metadata": {
     "collapsed": false
    },
    "source": []
   }
  }
 },
 "nbformat": 4,
 "nbformat_minor": 4
}
